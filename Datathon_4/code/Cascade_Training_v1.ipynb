{
 "cells": [
  {
   "cell_type": "markdown",
   "id": "793bf1b4-b290-4bb8-b66f-361995252612",
   "metadata": {
    "id": "793bf1b4-b290-4bb8-b66f-361995252612"
   },
   "source": [
    "## Implementation\n",
    "- Raw Signal features"
   ]
  },
  {
   "cell_type": "code",
   "execution_count": null,
   "id": "440e8b7f-17ce-40c5-9c80-8785b86f5bfb",
   "metadata": {
    "id": "440e8b7f-17ce-40c5-9c80-8785b86f5bfb"
   },
   "outputs": [],
   "source": [
    "import pandas as pd\n",
    "import seaborn as sns\n",
    "import matplotlib.pyplot as plt\n",
    "from sklearn.preprocessing import LabelEncoder\n",
    "import numpy as np\n",
    "from sklearn.model_selection import train_test_split\n",
    "from sklearn.metrics import classification_report, confusion_matrix\n",
    "from sklearn.preprocessing import StandardScaler\n",
    "scaler = StandardScaler()\n",
    "import pandas as pd\n",
    "import numpy as np\n",
    "import torch\n",
    "import torch.nn as nn\n",
    "import torch.optim as optim\n",
    "import torch.nn.functional as F\n",
    "\n",
    "import matplotlib.pyplot as plt"
   ]
  },
  {
   "cell_type": "code",
   "execution_count": null,
   "id": "VqrCEOoYYsaf",
   "metadata": {
    "colab": {
     "base_uri": "https://localhost:8080/",
     "height": 206
    },
    "executionInfo": {
     "elapsed": 7347,
     "status": "ok",
     "timestamp": 1741625757223,
     "user": {
      "displayName": "Nwaynwayaung Lily",
      "userId": "07219691961326149131"
     },
     "user_tz": 240
    },
    "id": "VqrCEOoYYsaf",
    "outputId": "1ac1bc74-e701-4622-b443-1a6395380f79"
   },
   "outputs": [
    {
     "data": {
      "application/vnd.google.colaboratory.intrinsic+json": {
       "type": "dataframe",
       "variable_name": "source_df"
      },
      "text/html": [
       "\n",
       "  <div id=\"df-6ed46562-de26-4697-93df-dacfe44701b3\" class=\"colab-df-container\">\n",
       "    <div>\n",
       "<style scoped>\n",
       "    .dataframe tbody tr th:only-of-type {\n",
       "        vertical-align: middle;\n",
       "    }\n",
       "\n",
       "    .dataframe tbody tr th {\n",
       "        vertical-align: top;\n",
       "    }\n",
       "\n",
       "    .dataframe thead th {\n",
       "        text-align: right;\n",
       "    }\n",
       "</style>\n",
       "<table border=\"1\" class=\"dataframe\">\n",
       "  <thead>\n",
       "    <tr style=\"text-align: right;\">\n",
       "      <th></th>\n",
       "      <th>alx</th>\n",
       "      <th>aly</th>\n",
       "      <th>alz</th>\n",
       "      <th>glx</th>\n",
       "      <th>gly</th>\n",
       "      <th>glz</th>\n",
       "      <th>arx</th>\n",
       "      <th>ary</th>\n",
       "      <th>arz</th>\n",
       "      <th>grx</th>\n",
       "      <th>gry</th>\n",
       "      <th>grz</th>\n",
       "      <th>Activity</th>\n",
       "      <th>subject</th>\n",
       "    </tr>\n",
       "  </thead>\n",
       "  <tbody>\n",
       "    <tr>\n",
       "      <th>0</th>\n",
       "      <td>2.1849</td>\n",
       "      <td>-9.6967</td>\n",
       "      <td>0.63077</td>\n",
       "      <td>0.103900</td>\n",
       "      <td>-0.84053</td>\n",
       "      <td>-0.68762</td>\n",
       "      <td>-8.6499</td>\n",
       "      <td>-4.5781</td>\n",
       "      <td>0.187760</td>\n",
       "      <td>-0.44902</td>\n",
       "      <td>-1.0103</td>\n",
       "      <td>0.034483</td>\n",
       "      <td>0</td>\n",
       "      <td>subject1</td>\n",
       "    </tr>\n",
       "    <tr>\n",
       "      <th>1</th>\n",
       "      <td>2.3876</td>\n",
       "      <td>-9.5080</td>\n",
       "      <td>0.68389</td>\n",
       "      <td>0.085343</td>\n",
       "      <td>-0.83865</td>\n",
       "      <td>-0.68369</td>\n",
       "      <td>-8.6275</td>\n",
       "      <td>-4.3198</td>\n",
       "      <td>0.023595</td>\n",
       "      <td>-0.44902</td>\n",
       "      <td>-1.0103</td>\n",
       "      <td>0.034483</td>\n",
       "      <td>0</td>\n",
       "      <td>subject1</td>\n",
       "    </tr>\n",
       "    <tr>\n",
       "      <th>2</th>\n",
       "      <td>2.4086</td>\n",
       "      <td>-9.5674</td>\n",
       "      <td>0.68113</td>\n",
       "      <td>0.085343</td>\n",
       "      <td>-0.83865</td>\n",
       "      <td>-0.68369</td>\n",
       "      <td>-8.5055</td>\n",
       "      <td>-4.2772</td>\n",
       "      <td>0.275720</td>\n",
       "      <td>-0.44902</td>\n",
       "      <td>-1.0103</td>\n",
       "      <td>0.034483</td>\n",
       "      <td>0</td>\n",
       "      <td>subject1</td>\n",
       "    </tr>\n",
       "    <tr>\n",
       "      <th>3</th>\n",
       "      <td>2.1814</td>\n",
       "      <td>-9.4301</td>\n",
       "      <td>0.55031</td>\n",
       "      <td>0.085343</td>\n",
       "      <td>-0.83865</td>\n",
       "      <td>-0.68369</td>\n",
       "      <td>-8.6279</td>\n",
       "      <td>-4.3163</td>\n",
       "      <td>0.367520</td>\n",
       "      <td>-0.45686</td>\n",
       "      <td>-1.0082</td>\n",
       "      <td>0.025862</td>\n",
       "      <td>0</td>\n",
       "      <td>subject1</td>\n",
       "    </tr>\n",
       "    <tr>\n",
       "      <th>4</th>\n",
       "      <td>2.4173</td>\n",
       "      <td>-9.3889</td>\n",
       "      <td>0.71098</td>\n",
       "      <td>0.085343</td>\n",
       "      <td>-0.83865</td>\n",
       "      <td>-0.68369</td>\n",
       "      <td>-8.7008</td>\n",
       "      <td>-4.1459</td>\n",
       "      <td>0.407290</td>\n",
       "      <td>-0.45686</td>\n",
       "      <td>-1.0082</td>\n",
       "      <td>0.025862</td>\n",
       "      <td>0</td>\n",
       "      <td>subject1</td>\n",
       "    </tr>\n",
       "  </tbody>\n",
       "</table>\n",
       "</div>\n",
       "    <div class=\"colab-df-buttons\">\n",
       "\n",
       "  <div class=\"colab-df-container\">\n",
       "    <button class=\"colab-df-convert\" onclick=\"convertToInteractive('df-6ed46562-de26-4697-93df-dacfe44701b3')\"\n",
       "            title=\"Convert this dataframe to an interactive table.\"\n",
       "            style=\"display:none;\">\n",
       "\n",
       "  <svg xmlns=\"http://www.w3.org/2000/svg\" height=\"24px\" viewBox=\"0 -960 960 960\">\n",
       "    <path d=\"M120-120v-720h720v720H120Zm60-500h600v-160H180v160Zm220 220h160v-160H400v160Zm0 220h160v-160H400v160ZM180-400h160v-160H180v160Zm440 0h160v-160H620v160ZM180-180h160v-160H180v160Zm440 0h160v-160H620v160Z\"/>\n",
       "  </svg>\n",
       "    </button>\n",
       "\n",
       "  <style>\n",
       "    .colab-df-container {\n",
       "      display:flex;\n",
       "      gap: 12px;\n",
       "    }\n",
       "\n",
       "    .colab-df-convert {\n",
       "      background-color: #E8F0FE;\n",
       "      border: none;\n",
       "      border-radius: 50%;\n",
       "      cursor: pointer;\n",
       "      display: none;\n",
       "      fill: #1967D2;\n",
       "      height: 32px;\n",
       "      padding: 0 0 0 0;\n",
       "      width: 32px;\n",
       "    }\n",
       "\n",
       "    .colab-df-convert:hover {\n",
       "      background-color: #E2EBFA;\n",
       "      box-shadow: 0px 1px 2px rgba(60, 64, 67, 0.3), 0px 1px 3px 1px rgba(60, 64, 67, 0.15);\n",
       "      fill: #174EA6;\n",
       "    }\n",
       "\n",
       "    .colab-df-buttons div {\n",
       "      margin-bottom: 4px;\n",
       "    }\n",
       "\n",
       "    [theme=dark] .colab-df-convert {\n",
       "      background-color: #3B4455;\n",
       "      fill: #D2E3FC;\n",
       "    }\n",
       "\n",
       "    [theme=dark] .colab-df-convert:hover {\n",
       "      background-color: #434B5C;\n",
       "      box-shadow: 0px 1px 3px 1px rgba(0, 0, 0, 0.15);\n",
       "      filter: drop-shadow(0px 1px 2px rgba(0, 0, 0, 0.3));\n",
       "      fill: #FFFFFF;\n",
       "    }\n",
       "  </style>\n",
       "\n",
       "    <script>\n",
       "      const buttonEl =\n",
       "        document.querySelector('#df-6ed46562-de26-4697-93df-dacfe44701b3 button.colab-df-convert');\n",
       "      buttonEl.style.display =\n",
       "        google.colab.kernel.accessAllowed ? 'block' : 'none';\n",
       "\n",
       "      async function convertToInteractive(key) {\n",
       "        const element = document.querySelector('#df-6ed46562-de26-4697-93df-dacfe44701b3');\n",
       "        const dataTable =\n",
       "          await google.colab.kernel.invokeFunction('convertToInteractive',\n",
       "                                                    [key], {});\n",
       "        if (!dataTable) return;\n",
       "\n",
       "        const docLinkHtml = 'Like what you see? Visit the ' +\n",
       "          '<a target=\"_blank\" href=https://colab.research.google.com/notebooks/data_table.ipynb>data table notebook</a>'\n",
       "          + ' to learn more about interactive tables.';\n",
       "        element.innerHTML = '';\n",
       "        dataTable['output_type'] = 'display_data';\n",
       "        await google.colab.output.renderOutput(dataTable, element);\n",
       "        const docLink = document.createElement('div');\n",
       "        docLink.innerHTML = docLinkHtml;\n",
       "        element.appendChild(docLink);\n",
       "      }\n",
       "    </script>\n",
       "  </div>\n",
       "\n",
       "\n",
       "<div id=\"df-5ed651bf-f6f1-4b81-ba73-211c35d54326\">\n",
       "  <button class=\"colab-df-quickchart\" onclick=\"quickchart('df-5ed651bf-f6f1-4b81-ba73-211c35d54326')\"\n",
       "            title=\"Suggest charts\"\n",
       "            style=\"display:none;\">\n",
       "\n",
       "<svg xmlns=\"http://www.w3.org/2000/svg\" height=\"24px\"viewBox=\"0 0 24 24\"\n",
       "     width=\"24px\">\n",
       "    <g>\n",
       "        <path d=\"M19 3H5c-1.1 0-2 .9-2 2v14c0 1.1.9 2 2 2h14c1.1 0 2-.9 2-2V5c0-1.1-.9-2-2-2zM9 17H7v-7h2v7zm4 0h-2V7h2v10zm4 0h-2v-4h2v4z\"/>\n",
       "    </g>\n",
       "</svg>\n",
       "  </button>\n",
       "\n",
       "<style>\n",
       "  .colab-df-quickchart {\n",
       "      --bg-color: #E8F0FE;\n",
       "      --fill-color: #1967D2;\n",
       "      --hover-bg-color: #E2EBFA;\n",
       "      --hover-fill-color: #174EA6;\n",
       "      --disabled-fill-color: #AAA;\n",
       "      --disabled-bg-color: #DDD;\n",
       "  }\n",
       "\n",
       "  [theme=dark] .colab-df-quickchart {\n",
       "      --bg-color: #3B4455;\n",
       "      --fill-color: #D2E3FC;\n",
       "      --hover-bg-color: #434B5C;\n",
       "      --hover-fill-color: #FFFFFF;\n",
       "      --disabled-bg-color: #3B4455;\n",
       "      --disabled-fill-color: #666;\n",
       "  }\n",
       "\n",
       "  .colab-df-quickchart {\n",
       "    background-color: var(--bg-color);\n",
       "    border: none;\n",
       "    border-radius: 50%;\n",
       "    cursor: pointer;\n",
       "    display: none;\n",
       "    fill: var(--fill-color);\n",
       "    height: 32px;\n",
       "    padding: 0;\n",
       "    width: 32px;\n",
       "  }\n",
       "\n",
       "  .colab-df-quickchart:hover {\n",
       "    background-color: var(--hover-bg-color);\n",
       "    box-shadow: 0 1px 2px rgba(60, 64, 67, 0.3), 0 1px 3px 1px rgba(60, 64, 67, 0.15);\n",
       "    fill: var(--button-hover-fill-color);\n",
       "  }\n",
       "\n",
       "  .colab-df-quickchart-complete:disabled,\n",
       "  .colab-df-quickchart-complete:disabled:hover {\n",
       "    background-color: var(--disabled-bg-color);\n",
       "    fill: var(--disabled-fill-color);\n",
       "    box-shadow: none;\n",
       "  }\n",
       "\n",
       "  .colab-df-spinner {\n",
       "    border: 2px solid var(--fill-color);\n",
       "    border-color: transparent;\n",
       "    border-bottom-color: var(--fill-color);\n",
       "    animation:\n",
       "      spin 1s steps(1) infinite;\n",
       "  }\n",
       "\n",
       "  @keyframes spin {\n",
       "    0% {\n",
       "      border-color: transparent;\n",
       "      border-bottom-color: var(--fill-color);\n",
       "      border-left-color: var(--fill-color);\n",
       "    }\n",
       "    20% {\n",
       "      border-color: transparent;\n",
       "      border-left-color: var(--fill-color);\n",
       "      border-top-color: var(--fill-color);\n",
       "    }\n",
       "    30% {\n",
       "      border-color: transparent;\n",
       "      border-left-color: var(--fill-color);\n",
       "      border-top-color: var(--fill-color);\n",
       "      border-right-color: var(--fill-color);\n",
       "    }\n",
       "    40% {\n",
       "      border-color: transparent;\n",
       "      border-right-color: var(--fill-color);\n",
       "      border-top-color: var(--fill-color);\n",
       "    }\n",
       "    60% {\n",
       "      border-color: transparent;\n",
       "      border-right-color: var(--fill-color);\n",
       "    }\n",
       "    80% {\n",
       "      border-color: transparent;\n",
       "      border-right-color: var(--fill-color);\n",
       "      border-bottom-color: var(--fill-color);\n",
       "    }\n",
       "    90% {\n",
       "      border-color: transparent;\n",
       "      border-bottom-color: var(--fill-color);\n",
       "    }\n",
       "  }\n",
       "</style>\n",
       "\n",
       "  <script>\n",
       "    async function quickchart(key) {\n",
       "      const quickchartButtonEl =\n",
       "        document.querySelector('#' + key + ' button');\n",
       "      quickchartButtonEl.disabled = true;  // To prevent multiple clicks.\n",
       "      quickchartButtonEl.classList.add('colab-df-spinner');\n",
       "      try {\n",
       "        const charts = await google.colab.kernel.invokeFunction(\n",
       "            'suggestCharts', [key], {});\n",
       "      } catch (error) {\n",
       "        console.error('Error during call to suggestCharts:', error);\n",
       "      }\n",
       "      quickchartButtonEl.classList.remove('colab-df-spinner');\n",
       "      quickchartButtonEl.classList.add('colab-df-quickchart-complete');\n",
       "    }\n",
       "    (() => {\n",
       "      let quickchartButtonEl =\n",
       "        document.querySelector('#df-5ed651bf-f6f1-4b81-ba73-211c35d54326 button');\n",
       "      quickchartButtonEl.style.display =\n",
       "        google.colab.kernel.accessAllowed ? 'block' : 'none';\n",
       "    })();\n",
       "  </script>\n",
       "</div>\n",
       "\n",
       "    </div>\n",
       "  </div>\n"
      ],
      "text/plain": [
       "      alx     aly      alz       glx      gly      glz     arx     ary  \\\n",
       "0  2.1849 -9.6967  0.63077  0.103900 -0.84053 -0.68762 -8.6499 -4.5781   \n",
       "1  2.3876 -9.5080  0.68389  0.085343 -0.83865 -0.68369 -8.6275 -4.3198   \n",
       "2  2.4086 -9.5674  0.68113  0.085343 -0.83865 -0.68369 -8.5055 -4.2772   \n",
       "3  2.1814 -9.4301  0.55031  0.085343 -0.83865 -0.68369 -8.6279 -4.3163   \n",
       "4  2.4173 -9.3889  0.71098  0.085343 -0.83865 -0.68369 -8.7008 -4.1459   \n",
       "\n",
       "        arz      grx     gry       grz  Activity   subject  \n",
       "0  0.187760 -0.44902 -1.0103  0.034483         0  subject1  \n",
       "1  0.023595 -0.44902 -1.0103  0.034483         0  subject1  \n",
       "2  0.275720 -0.44902 -1.0103  0.034483         0  subject1  \n",
       "3  0.367520 -0.45686 -1.0082  0.025862         0  subject1  \n",
       "4  0.407290 -0.45686 -1.0082  0.025862         0  subject1  "
      ]
     },
     "execution_count": 9,
     "metadata": {},
     "output_type": "execute_result"
    }
   ],
   "source": [
    "import os\n",
    "source_df = pd.read_csv('Datathon #4 - mhealth Dataset - HAD7001.csv')\n",
    "source_df.head()\n"
   ]
  },
  {
   "cell_type": "code",
   "execution_count": null,
   "id": "Rxb14vGNYSCO",
   "metadata": {
    "colab": {
     "base_uri": "https://localhost:8080/"
    },
    "executionInfo": {
     "elapsed": 272,
     "status": "ok",
     "timestamp": 1741625757496,
     "user": {
      "displayName": "Nwaynwayaung Lily",
      "userId": "07219691961326149131"
     },
     "user_tz": 240
    },
    "id": "Rxb14vGNYSCO",
    "outputId": "736cb06c-8b99-4082-8e32-2c68536227f1"
   },
   "outputs": [
    {
     "name": "stdout",
     "output_type": "stream",
     "text": [
      "After Renaming\n",
      "Index(['accel_left_x', 'accel_left_y', 'accel_left_z', 'gyro_left_x',\n",
      "       'gyro_left_y', 'gyro_left_z', 'accel_right_x', 'accel_right_y',\n",
      "       'accel_right_z', 'gyro_right_x', 'gyro_right_y', 'gyro_right_z',\n",
      "       'activity', 'subject', 'activity_10_category', 'activity_category'],\n",
      "      dtype='object')\n"
     ]
    }
   ],
   "source": [
    "activity_10_mapping = {\n",
    "    0: \"Resting\", 1: \"Standing still (1 min)\", 2: \"Sitting and relaxing (1 min)\",\n",
    "    3: \"Lying down (1 min)\", 4: \"Walking (1 min)\", 5: \"Climbing stairs (1 min)\",\n",
    "    6: \"Waist bends forward (x20)\", 7: \"Frontal elevation of arms (x20)\",\n",
    "    8: \"Knees bending (crouching) (x20)\", 9: \"Cycling (1 min)\", 10: \"Jogging (1 min)\",\n",
    "    11: \"Running (1 min)\", 12: \"Jump front & back (x20)\" }\n",
    "\n",
    "activity_mapping = {\n",
    "    0: \"Resting\", 1: \"Resting\", 2: \"Resting\", 3: \"Resting\",\n",
    "    4: \"LowIntensityExercise\", 5: \"ModerateIntensityExercise\",\n",
    "    6: \"ModerateIntensityExercise\", 7: \"ModerateIntensityExercise\",\n",
    "    8: \"ModerateIntensityExercise\", 9: \"ModerateIntensityExercise\",\n",
    "    10: \"HighIntensityExercise\", 11: \"HighIntensityExercise\",\n",
    "    12: \"HighIntensityExercise\" }\n",
    "\n",
    "activity_map = {\n",
    "    \"Resting\": 0, \"LowIntensityExercise\": 1, \"ModerateIntensityExercise\": 2, \"HighIntensityExercise\": 3}\n",
    "\n",
    "source_df['activity_10_category'] = source_df['Activity'].map(activity_10_mapping)\n",
    "source_df['activity_category'] = source_df['Activity'].map(activity_mapping)\n",
    "\n",
    "activity_summary = source_df['activity_category'].value_counts()\n",
    "num_subjects = source_df['subject'].nunique()\n",
    "\n",
    "features = [\n",
    "    'accel_left_x', 'accel_left_y', 'accel_left_z', 'gyro_left_x', 'gyro_left_y', 'gyro_left_z',\n",
    "    'accel_right_x', 'accel_right_y', 'accel_right_z', 'gyro_right_x', 'gyro_right_y', 'gyro_right_z' ]\n",
    "\n",
    "column_names = features +  [ \"activity\", \"subject\", \"activity_10_category\", \"activity_category\"]\n",
    "\n",
    "source_df.columns = column_names\n",
    "print(\"After Renaming\")\n",
    "print(source_df.columns)\n",
    "\n",
    "# Drop unnecessay columns ==> just use activity as our first experiment\n",
    "source_df = source_df.drop(columns = ['activity_10_category','activity'])\n",
    "\n",
    "source_df['idx'] = source_df.index\n",
    "result = source_df.groupby([\"subject\", \"activity_category\"])[\"idx\"].agg([\"min\", \"max\"])"
   ]
  },
  {
   "cell_type": "code",
   "execution_count": null,
   "id": "42e5a683-830a-4be0-bf5a-a6108d5dcfd1",
   "metadata": {
    "colab": {
     "base_uri": "https://localhost:8080/",
     "height": 174
    },
    "executionInfo": {
     "elapsed": 51,
     "status": "ok",
     "timestamp": 1741625757545,
     "user": {
      "displayName": "Nwaynwayaung Lily",
      "userId": "07219691961326149131"
     },
     "user_tz": 240
    },
    "id": "42e5a683-830a-4be0-bf5a-a6108d5dcfd1",
    "outputId": "610477f6-cb59-4b05-f9df-8b5eaeacf89d",
    "scrolled": true
   },
   "outputs": [
    {
     "data": {
      "application/vnd.google.colaboratory.intrinsic+json": {
       "type": "dataframe",
       "variable_name": "source_df"
      },
      "text/html": [
       "\n",
       "  <div id=\"df-c8ade3cd-d7b8-4be3-ac0e-325120e12941\" class=\"colab-df-container\">\n",
       "    <div>\n",
       "<style scoped>\n",
       "    .dataframe tbody tr th:only-of-type {\n",
       "        vertical-align: middle;\n",
       "    }\n",
       "\n",
       "    .dataframe tbody tr th {\n",
       "        vertical-align: top;\n",
       "    }\n",
       "\n",
       "    .dataframe thead th {\n",
       "        text-align: right;\n",
       "    }\n",
       "</style>\n",
       "<table border=\"1\" class=\"dataframe\">\n",
       "  <thead>\n",
       "    <tr style=\"text-align: right;\">\n",
       "      <th></th>\n",
       "      <th>accel_left_x</th>\n",
       "      <th>accel_left_y</th>\n",
       "      <th>accel_left_z</th>\n",
       "      <th>gyro_left_x</th>\n",
       "      <th>gyro_left_y</th>\n",
       "      <th>gyro_left_z</th>\n",
       "      <th>accel_right_x</th>\n",
       "      <th>accel_right_y</th>\n",
       "      <th>accel_right_z</th>\n",
       "      <th>gyro_right_x</th>\n",
       "      <th>gyro_right_y</th>\n",
       "      <th>gyro_right_z</th>\n",
       "      <th>subject</th>\n",
       "      <th>activity_category</th>\n",
       "      <th>idx</th>\n",
       "    </tr>\n",
       "  </thead>\n",
       "  <tbody>\n",
       "    <tr>\n",
       "      <th>0</th>\n",
       "      <td>2.1849</td>\n",
       "      <td>-9.6967</td>\n",
       "      <td>0.63077</td>\n",
       "      <td>0.103900</td>\n",
       "      <td>-0.84053</td>\n",
       "      <td>-0.68762</td>\n",
       "      <td>-8.6499</td>\n",
       "      <td>-4.5781</td>\n",
       "      <td>0.187760</td>\n",
       "      <td>-0.44902</td>\n",
       "      <td>-1.0103</td>\n",
       "      <td>0.034483</td>\n",
       "      <td>subject1</td>\n",
       "      <td>Resting</td>\n",
       "      <td>0</td>\n",
       "    </tr>\n",
       "    <tr>\n",
       "      <th>1</th>\n",
       "      <td>2.3876</td>\n",
       "      <td>-9.5080</td>\n",
       "      <td>0.68389</td>\n",
       "      <td>0.085343</td>\n",
       "      <td>-0.83865</td>\n",
       "      <td>-0.68369</td>\n",
       "      <td>-8.6275</td>\n",
       "      <td>-4.3198</td>\n",
       "      <td>0.023595</td>\n",
       "      <td>-0.44902</td>\n",
       "      <td>-1.0103</td>\n",
       "      <td>0.034483</td>\n",
       "      <td>subject1</td>\n",
       "      <td>Resting</td>\n",
       "      <td>1</td>\n",
       "    </tr>\n",
       "    <tr>\n",
       "      <th>2</th>\n",
       "      <td>2.4086</td>\n",
       "      <td>-9.5674</td>\n",
       "      <td>0.68113</td>\n",
       "      <td>0.085343</td>\n",
       "      <td>-0.83865</td>\n",
       "      <td>-0.68369</td>\n",
       "      <td>-8.5055</td>\n",
       "      <td>-4.2772</td>\n",
       "      <td>0.275720</td>\n",
       "      <td>-0.44902</td>\n",
       "      <td>-1.0103</td>\n",
       "      <td>0.034483</td>\n",
       "      <td>subject1</td>\n",
       "      <td>Resting</td>\n",
       "      <td>2</td>\n",
       "    </tr>\n",
       "    <tr>\n",
       "      <th>3</th>\n",
       "      <td>2.1814</td>\n",
       "      <td>-9.4301</td>\n",
       "      <td>0.55031</td>\n",
       "      <td>0.085343</td>\n",
       "      <td>-0.83865</td>\n",
       "      <td>-0.68369</td>\n",
       "      <td>-8.6279</td>\n",
       "      <td>-4.3163</td>\n",
       "      <td>0.367520</td>\n",
       "      <td>-0.45686</td>\n",
       "      <td>-1.0082</td>\n",
       "      <td>0.025862</td>\n",
       "      <td>subject1</td>\n",
       "      <td>Resting</td>\n",
       "      <td>3</td>\n",
       "    </tr>\n",
       "  </tbody>\n",
       "</table>\n",
       "</div>\n",
       "    <div class=\"colab-df-buttons\">\n",
       "\n",
       "  <div class=\"colab-df-container\">\n",
       "    <button class=\"colab-df-convert\" onclick=\"convertToInteractive('df-c8ade3cd-d7b8-4be3-ac0e-325120e12941')\"\n",
       "            title=\"Convert this dataframe to an interactive table.\"\n",
       "            style=\"display:none;\">\n",
       "\n",
       "  <svg xmlns=\"http://www.w3.org/2000/svg\" height=\"24px\" viewBox=\"0 -960 960 960\">\n",
       "    <path d=\"M120-120v-720h720v720H120Zm60-500h600v-160H180v160Zm220 220h160v-160H400v160Zm0 220h160v-160H400v160ZM180-400h160v-160H180v160Zm440 0h160v-160H620v160ZM180-180h160v-160H180v160Zm440 0h160v-160H620v160Z\"/>\n",
       "  </svg>\n",
       "    </button>\n",
       "\n",
       "  <style>\n",
       "    .colab-df-container {\n",
       "      display:flex;\n",
       "      gap: 12px;\n",
       "    }\n",
       "\n",
       "    .colab-df-convert {\n",
       "      background-color: #E8F0FE;\n",
       "      border: none;\n",
       "      border-radius: 50%;\n",
       "      cursor: pointer;\n",
       "      display: none;\n",
       "      fill: #1967D2;\n",
       "      height: 32px;\n",
       "      padding: 0 0 0 0;\n",
       "      width: 32px;\n",
       "    }\n",
       "\n",
       "    .colab-df-convert:hover {\n",
       "      background-color: #E2EBFA;\n",
       "      box-shadow: 0px 1px 2px rgba(60, 64, 67, 0.3), 0px 1px 3px 1px rgba(60, 64, 67, 0.15);\n",
       "      fill: #174EA6;\n",
       "    }\n",
       "\n",
       "    .colab-df-buttons div {\n",
       "      margin-bottom: 4px;\n",
       "    }\n",
       "\n",
       "    [theme=dark] .colab-df-convert {\n",
       "      background-color: #3B4455;\n",
       "      fill: #D2E3FC;\n",
       "    }\n",
       "\n",
       "    [theme=dark] .colab-df-convert:hover {\n",
       "      background-color: #434B5C;\n",
       "      box-shadow: 0px 1px 3px 1px rgba(0, 0, 0, 0.15);\n",
       "      filter: drop-shadow(0px 1px 2px rgba(0, 0, 0, 0.3));\n",
       "      fill: #FFFFFF;\n",
       "    }\n",
       "  </style>\n",
       "\n",
       "    <script>\n",
       "      const buttonEl =\n",
       "        document.querySelector('#df-c8ade3cd-d7b8-4be3-ac0e-325120e12941 button.colab-df-convert');\n",
       "      buttonEl.style.display =\n",
       "        google.colab.kernel.accessAllowed ? 'block' : 'none';\n",
       "\n",
       "      async function convertToInteractive(key) {\n",
       "        const element = document.querySelector('#df-c8ade3cd-d7b8-4be3-ac0e-325120e12941');\n",
       "        const dataTable =\n",
       "          await google.colab.kernel.invokeFunction('convertToInteractive',\n",
       "                                                    [key], {});\n",
       "        if (!dataTable) return;\n",
       "\n",
       "        const docLinkHtml = 'Like what you see? Visit the ' +\n",
       "          '<a target=\"_blank\" href=https://colab.research.google.com/notebooks/data_table.ipynb>data table notebook</a>'\n",
       "          + ' to learn more about interactive tables.';\n",
       "        element.innerHTML = '';\n",
       "        dataTable['output_type'] = 'display_data';\n",
       "        await google.colab.output.renderOutput(dataTable, element);\n",
       "        const docLink = document.createElement('div');\n",
       "        docLink.innerHTML = docLinkHtml;\n",
       "        element.appendChild(docLink);\n",
       "      }\n",
       "    </script>\n",
       "  </div>\n",
       "\n",
       "\n",
       "<div id=\"df-38786775-e584-4bcd-b65a-3cfb61540f9a\">\n",
       "  <button class=\"colab-df-quickchart\" onclick=\"quickchart('df-38786775-e584-4bcd-b65a-3cfb61540f9a')\"\n",
       "            title=\"Suggest charts\"\n",
       "            style=\"display:none;\">\n",
       "\n",
       "<svg xmlns=\"http://www.w3.org/2000/svg\" height=\"24px\"viewBox=\"0 0 24 24\"\n",
       "     width=\"24px\">\n",
       "    <g>\n",
       "        <path d=\"M19 3H5c-1.1 0-2 .9-2 2v14c0 1.1.9 2 2 2h14c1.1 0 2-.9 2-2V5c0-1.1-.9-2-2-2zM9 17H7v-7h2v7zm4 0h-2V7h2v10zm4 0h-2v-4h2v4z\"/>\n",
       "    </g>\n",
       "</svg>\n",
       "  </button>\n",
       "\n",
       "<style>\n",
       "  .colab-df-quickchart {\n",
       "      --bg-color: #E8F0FE;\n",
       "      --fill-color: #1967D2;\n",
       "      --hover-bg-color: #E2EBFA;\n",
       "      --hover-fill-color: #174EA6;\n",
       "      --disabled-fill-color: #AAA;\n",
       "      --disabled-bg-color: #DDD;\n",
       "  }\n",
       "\n",
       "  [theme=dark] .colab-df-quickchart {\n",
       "      --bg-color: #3B4455;\n",
       "      --fill-color: #D2E3FC;\n",
       "      --hover-bg-color: #434B5C;\n",
       "      --hover-fill-color: #FFFFFF;\n",
       "      --disabled-bg-color: #3B4455;\n",
       "      --disabled-fill-color: #666;\n",
       "  }\n",
       "\n",
       "  .colab-df-quickchart {\n",
       "    background-color: var(--bg-color);\n",
       "    border: none;\n",
       "    border-radius: 50%;\n",
       "    cursor: pointer;\n",
       "    display: none;\n",
       "    fill: var(--fill-color);\n",
       "    height: 32px;\n",
       "    padding: 0;\n",
       "    width: 32px;\n",
       "  }\n",
       "\n",
       "  .colab-df-quickchart:hover {\n",
       "    background-color: var(--hover-bg-color);\n",
       "    box-shadow: 0 1px 2px rgba(60, 64, 67, 0.3), 0 1px 3px 1px rgba(60, 64, 67, 0.15);\n",
       "    fill: var(--button-hover-fill-color);\n",
       "  }\n",
       "\n",
       "  .colab-df-quickchart-complete:disabled,\n",
       "  .colab-df-quickchart-complete:disabled:hover {\n",
       "    background-color: var(--disabled-bg-color);\n",
       "    fill: var(--disabled-fill-color);\n",
       "    box-shadow: none;\n",
       "  }\n",
       "\n",
       "  .colab-df-spinner {\n",
       "    border: 2px solid var(--fill-color);\n",
       "    border-color: transparent;\n",
       "    border-bottom-color: var(--fill-color);\n",
       "    animation:\n",
       "      spin 1s steps(1) infinite;\n",
       "  }\n",
       "\n",
       "  @keyframes spin {\n",
       "    0% {\n",
       "      border-color: transparent;\n",
       "      border-bottom-color: var(--fill-color);\n",
       "      border-left-color: var(--fill-color);\n",
       "    }\n",
       "    20% {\n",
       "      border-color: transparent;\n",
       "      border-left-color: var(--fill-color);\n",
       "      border-top-color: var(--fill-color);\n",
       "    }\n",
       "    30% {\n",
       "      border-color: transparent;\n",
       "      border-left-color: var(--fill-color);\n",
       "      border-top-color: var(--fill-color);\n",
       "      border-right-color: var(--fill-color);\n",
       "    }\n",
       "    40% {\n",
       "      border-color: transparent;\n",
       "      border-right-color: var(--fill-color);\n",
       "      border-top-color: var(--fill-color);\n",
       "    }\n",
       "    60% {\n",
       "      border-color: transparent;\n",
       "      border-right-color: var(--fill-color);\n",
       "    }\n",
       "    80% {\n",
       "      border-color: transparent;\n",
       "      border-right-color: var(--fill-color);\n",
       "      border-bottom-color: var(--fill-color);\n",
       "    }\n",
       "    90% {\n",
       "      border-color: transparent;\n",
       "      border-bottom-color: var(--fill-color);\n",
       "    }\n",
       "  }\n",
       "</style>\n",
       "\n",
       "  <script>\n",
       "    async function quickchart(key) {\n",
       "      const quickchartButtonEl =\n",
       "        document.querySelector('#' + key + ' button');\n",
       "      quickchartButtonEl.disabled = true;  // To prevent multiple clicks.\n",
       "      quickchartButtonEl.classList.add('colab-df-spinner');\n",
       "      try {\n",
       "        const charts = await google.colab.kernel.invokeFunction(\n",
       "            'suggestCharts', [key], {});\n",
       "      } catch (error) {\n",
       "        console.error('Error during call to suggestCharts:', error);\n",
       "      }\n",
       "      quickchartButtonEl.classList.remove('colab-df-spinner');\n",
       "      quickchartButtonEl.classList.add('colab-df-quickchart-complete');\n",
       "    }\n",
       "    (() => {\n",
       "      let quickchartButtonEl =\n",
       "        document.querySelector('#df-38786775-e584-4bcd-b65a-3cfb61540f9a button');\n",
       "      quickchartButtonEl.style.display =\n",
       "        google.colab.kernel.accessAllowed ? 'block' : 'none';\n",
       "    })();\n",
       "  </script>\n",
       "</div>\n",
       "\n",
       "    </div>\n",
       "  </div>\n"
      ],
      "text/plain": [
       "   accel_left_x  accel_left_y  accel_left_z  gyro_left_x  gyro_left_y  \\\n",
       "0        2.1849       -9.6967       0.63077     0.103900     -0.84053   \n",
       "1        2.3876       -9.5080       0.68389     0.085343     -0.83865   \n",
       "2        2.4086       -9.5674       0.68113     0.085343     -0.83865   \n",
       "3        2.1814       -9.4301       0.55031     0.085343     -0.83865   \n",
       "\n",
       "   gyro_left_z  accel_right_x  accel_right_y  accel_right_z  gyro_right_x  \\\n",
       "0     -0.68762        -8.6499        -4.5781       0.187760      -0.44902   \n",
       "1     -0.68369        -8.6275        -4.3198       0.023595      -0.44902   \n",
       "2     -0.68369        -8.5055        -4.2772       0.275720      -0.44902   \n",
       "3     -0.68369        -8.6279        -4.3163       0.367520      -0.45686   \n",
       "\n",
       "   gyro_right_y  gyro_right_z   subject activity_category  idx  \n",
       "0       -1.0103      0.034483  subject1           Resting    0  \n",
       "1       -1.0103      0.034483  subject1           Resting    1  \n",
       "2       -1.0103      0.034483  subject1           Resting    2  \n",
       "3       -1.0082      0.025862  subject1           Resting    3  "
      ]
     },
     "execution_count": 11,
     "metadata": {},
     "output_type": "execute_result"
    }
   ],
   "source": [
    "source_df.head(4)"
   ]
  },
  {
   "cell_type": "code",
   "execution_count": null,
   "id": "x87AbEjrgnm-",
   "metadata": {
    "colab": {
     "base_uri": "https://localhost:8080/",
     "height": 241
    },
    "executionInfo": {
     "elapsed": 55,
     "status": "ok",
     "timestamp": 1741625757600,
     "user": {
      "displayName": "Nwaynwayaung Lily",
      "userId": "07219691961326149131"
     },
     "user_tz": 240
    },
    "id": "x87AbEjrgnm-",
    "outputId": "c378d7e4-3175-4e5e-ab4e-458f8094db04"
   },
   "outputs": [
    {
     "data": {
      "text/html": [
       "<div>\n",
       "<style scoped>\n",
       "    .dataframe tbody tr th:only-of-type {\n",
       "        vertical-align: middle;\n",
       "    }\n",
       "\n",
       "    .dataframe tbody tr th {\n",
       "        vertical-align: top;\n",
       "    }\n",
       "\n",
       "    .dataframe thead th {\n",
       "        text-align: right;\n",
       "    }\n",
       "</style>\n",
       "<table border=\"1\" class=\"dataframe\">\n",
       "  <thead>\n",
       "    <tr style=\"text-align: right;\">\n",
       "      <th></th>\n",
       "      <th>count</th>\n",
       "    </tr>\n",
       "    <tr>\n",
       "      <th>activity_category</th>\n",
       "      <th></th>\n",
       "    </tr>\n",
       "  </thead>\n",
       "  <tbody>\n",
       "    <tr>\n",
       "      <th>Resting</th>\n",
       "      <td>798576</td>\n",
       "    </tr>\n",
       "    <tr>\n",
       "      <th>ModerateIntensityExercise</th>\n",
       "      <td>119452</td>\n",
       "    </tr>\n",
       "    <tr>\n",
       "      <th>HighIntensityExercise</th>\n",
       "      <td>57395</td>\n",
       "    </tr>\n",
       "    <tr>\n",
       "      <th>LowIntensityExercise</th>\n",
       "      <td>24576</td>\n",
       "    </tr>\n",
       "  </tbody>\n",
       "</table>\n",
       "</div><br><label><b>dtype:</b> int64</label>"
      ],
      "text/plain": [
       "activity_category\n",
       "Resting                      798576\n",
       "ModerateIntensityExercise    119452\n",
       "HighIntensityExercise         57395\n",
       "LowIntensityExercise          24576\n",
       "Name: count, dtype: int64"
      ]
     },
     "execution_count": 12,
     "metadata": {},
     "output_type": "execute_result"
    }
   ],
   "source": [
    "source_df.activity_category.value_counts()"
   ]
  },
  {
   "cell_type": "code",
   "execution_count": null,
   "id": "XgIszCx0h9lw",
   "metadata": {
    "colab": {
     "base_uri": "https://localhost:8080/",
     "height": 241
    },
    "executionInfo": {
     "elapsed": 63,
     "status": "ok",
     "timestamp": 1741625757664,
     "user": {
      "displayName": "Nwaynwayaung Lily",
      "userId": "07219691961326149131"
     },
     "user_tz": 240
    },
    "id": "XgIszCx0h9lw",
    "outputId": "c718bf13-677f-411e-e6e9-571ec5a91c35"
   },
   "outputs": [
    {
     "data": {
      "text/html": [
       "<div>\n",
       "<style scoped>\n",
       "    .dataframe tbody tr th:only-of-type {\n",
       "        vertical-align: middle;\n",
       "    }\n",
       "\n",
       "    .dataframe tbody tr th {\n",
       "        vertical-align: top;\n",
       "    }\n",
       "\n",
       "    .dataframe thead th {\n",
       "        text-align: right;\n",
       "    }\n",
       "</style>\n",
       "<table border=\"1\" class=\"dataframe\">\n",
       "  <thead>\n",
       "    <tr style=\"text-align: right;\">\n",
       "      <th></th>\n",
       "      <th>count</th>\n",
       "    </tr>\n",
       "    <tr>\n",
       "      <th>activity</th>\n",
       "      <th></th>\n",
       "    </tr>\n",
       "  </thead>\n",
       "  <tbody>\n",
       "    <tr>\n",
       "      <th>0</th>\n",
       "      <td>798576</td>\n",
       "    </tr>\n",
       "    <tr>\n",
       "      <th>2</th>\n",
       "      <td>119452</td>\n",
       "    </tr>\n",
       "    <tr>\n",
       "      <th>3</th>\n",
       "      <td>57395</td>\n",
       "    </tr>\n",
       "    <tr>\n",
       "      <th>1</th>\n",
       "      <td>24576</td>\n",
       "    </tr>\n",
       "  </tbody>\n",
       "</table>\n",
       "</div><br><label><b>dtype:</b> int64</label>"
      ],
      "text/plain": [
       "activity\n",
       "0    798576\n",
       "2    119452\n",
       "3     57395\n",
       "1     24576\n",
       "Name: count, dtype: int64"
      ]
     },
     "execution_count": 13,
     "metadata": {},
     "output_type": "execute_result"
    }
   ],
   "source": [
    "source_df['activity'] = source_df['activity_category'].map(activity_map)\n",
    "source_df.activity.value_counts()"
   ]
  },
  {
   "cell_type": "code",
   "execution_count": null,
   "id": "2b336ab6-8578-4b0f-a16f-97f142870d02",
   "metadata": {
    "colab": {
     "base_uri": "https://localhost:8080/"
    },
    "executionInfo": {
     "elapsed": 13,
     "status": "ok",
     "timestamp": 1741625757678,
     "user": {
      "displayName": "Nwaynwayaung Lily",
      "userId": "07219691961326149131"
     },
     "user_tz": 240
    },
    "id": "2b336ab6-8578-4b0f-a16f-97f142870d02",
    "outputId": "e6209766-80d3-4a72-b7df-56a2cbf1c1a5"
   },
   "outputs": [
    {
     "name": "stdout",
     "output_type": "stream",
     "text": [
      "['subject1' 'subject2' 'subject3' 'subject4' 'subject5' 'subject6'\n",
      " 'subject7' 'subject8' 'subject9']\n"
     ]
    }
   ],
   "source": [
    "#train_df = source_df[~source_df['subject'].isin(['subject5', 'subject6'])]\n",
    "#test_df = source_df[source_df['subject'].isin(['subject5', 'subject6'])]\n",
    "\n",
    "# Get the unique subjects in the dataset\n",
    "unique_subjects = source_df['subject'].unique()\n",
    "print(unique_subjects)\n",
    "\n",
    "#train_ratio = 0.8\n",
    "#val_ratio = 0.1\n",
    "#test_ratio = 0.1\n",
    "\n",
    "#num_train = int(len(unique_subjects) * train_ratio)\n",
    "#num_test = int(len(unique_subjects) * test_ratio)\n",
    "#num_val = int(len(unique_subjects) * val_ratio)\n",
    "#num_train, num_test, num_val\n",
    "\n",
    "def to_tensor(X, y):\n",
    "    return torch.tensor(X, dtype=torch.float32), torch.tensor(y, dtype=torch.long)\n"
   ]
  },
  {
   "cell_type": "markdown",
   "id": "IcZ06yw0ruDr",
   "metadata": {
    "id": "IcZ06yw0ruDr"
   },
   "source": [
    "### We gonna build Cascade Classification\n",
    "\n",
    "- Binaray Classification ( Resting vs Exercises)\n",
    "- Exercies (Low , Moderate, High)"
   ]
  },
  {
   "cell_type": "code",
   "execution_count": null,
   "id": "rMqHl-hxrss6",
   "metadata": {
    "id": "rMqHl-hxrss6"
   },
   "outputs": [],
   "source": [
    "train_subjects = ['subject1', 'subject2', 'subject3', 'subject4', 'subject7', 'subject8' ]\n",
    "val_subjects = ['subject5']\n",
    "test_subjects = ['subject6']\n",
    "\n",
    "def split_bysubs(source_df, train_subjects, val_subjects, test_subjects):\n",
    "    train_df = source_df[source_df['subject'].isin(train_subjects)]\n",
    "    val_df = source_df[source_df['subject'].isin(val_subjects)]\n",
    "    test_df = source_df[source_df['subject'].isin(test_subjects)]\n",
    "    return train_df, val_df, test_df\n",
    "\n",
    "\n",
    "first_step_df = source_df.copy()\n",
    "second_step_df = source_df.copy()\n"
   ]
  },
  {
   "cell_type": "code",
   "execution_count": null,
   "id": "RfTamG_4rmzU",
   "metadata": {
    "colab": {
     "base_uri": "https://localhost:8080/",
     "height": 143
    },
    "executionInfo": {
     "elapsed": 3,
     "status": "ok",
     "timestamp": 1741625757927,
     "user": {
      "displayName": "Nwaynwayaung Lily",
      "userId": "07219691961326149131"
     },
     "user_tz": 240
    },
    "id": "RfTamG_4rmzU",
    "outputId": "fec3dea2-5a50-4ad5-afb0-97a5993aaa00"
   },
   "outputs": [
    {
     "data": {
      "application/vnd.google.colaboratory.intrinsic+json": {
       "type": "dataframe",
       "variable_name": "first_step_df"
      },
      "text/html": [
       "\n",
       "  <div id=\"df-b954fa67-d202-4db5-bce0-672029e0c16d\" class=\"colab-df-container\">\n",
       "    <div>\n",
       "<style scoped>\n",
       "    .dataframe tbody tr th:only-of-type {\n",
       "        vertical-align: middle;\n",
       "    }\n",
       "\n",
       "    .dataframe tbody tr th {\n",
       "        vertical-align: top;\n",
       "    }\n",
       "\n",
       "    .dataframe thead th {\n",
       "        text-align: right;\n",
       "    }\n",
       "</style>\n",
       "<table border=\"1\" class=\"dataframe\">\n",
       "  <thead>\n",
       "    <tr style=\"text-align: right;\">\n",
       "      <th></th>\n",
       "      <th>accel_left_x</th>\n",
       "      <th>accel_left_y</th>\n",
       "      <th>accel_left_z</th>\n",
       "      <th>gyro_left_x</th>\n",
       "      <th>gyro_left_y</th>\n",
       "      <th>gyro_left_z</th>\n",
       "      <th>accel_right_x</th>\n",
       "      <th>accel_right_y</th>\n",
       "      <th>accel_right_z</th>\n",
       "      <th>gyro_right_x</th>\n",
       "      <th>gyro_right_y</th>\n",
       "      <th>gyro_right_z</th>\n",
       "      <th>subject</th>\n",
       "      <th>activity_category</th>\n",
       "      <th>idx</th>\n",
       "      <th>activity</th>\n",
       "    </tr>\n",
       "  </thead>\n",
       "  <tbody>\n",
       "    <tr>\n",
       "      <th>0</th>\n",
       "      <td>2.1849</td>\n",
       "      <td>-9.6967</td>\n",
       "      <td>0.63077</td>\n",
       "      <td>0.103900</td>\n",
       "      <td>-0.84053</td>\n",
       "      <td>-0.68762</td>\n",
       "      <td>-8.6499</td>\n",
       "      <td>-4.5781</td>\n",
       "      <td>0.187760</td>\n",
       "      <td>-0.44902</td>\n",
       "      <td>-1.0103</td>\n",
       "      <td>0.034483</td>\n",
       "      <td>subject1</td>\n",
       "      <td>Resting</td>\n",
       "      <td>0</td>\n",
       "      <td>0</td>\n",
       "    </tr>\n",
       "    <tr>\n",
       "      <th>1</th>\n",
       "      <td>2.3876</td>\n",
       "      <td>-9.5080</td>\n",
       "      <td>0.68389</td>\n",
       "      <td>0.085343</td>\n",
       "      <td>-0.83865</td>\n",
       "      <td>-0.68369</td>\n",
       "      <td>-8.6275</td>\n",
       "      <td>-4.3198</td>\n",
       "      <td>0.023595</td>\n",
       "      <td>-0.44902</td>\n",
       "      <td>-1.0103</td>\n",
       "      <td>0.034483</td>\n",
       "      <td>subject1</td>\n",
       "      <td>Resting</td>\n",
       "      <td>1</td>\n",
       "      <td>0</td>\n",
       "    </tr>\n",
       "    <tr>\n",
       "      <th>2</th>\n",
       "      <td>2.4086</td>\n",
       "      <td>-9.5674</td>\n",
       "      <td>0.68113</td>\n",
       "      <td>0.085343</td>\n",
       "      <td>-0.83865</td>\n",
       "      <td>-0.68369</td>\n",
       "      <td>-8.5055</td>\n",
       "      <td>-4.2772</td>\n",
       "      <td>0.275720</td>\n",
       "      <td>-0.44902</td>\n",
       "      <td>-1.0103</td>\n",
       "      <td>0.034483</td>\n",
       "      <td>subject1</td>\n",
       "      <td>Resting</td>\n",
       "      <td>2</td>\n",
       "      <td>0</td>\n",
       "    </tr>\n",
       "  </tbody>\n",
       "</table>\n",
       "</div>\n",
       "    <div class=\"colab-df-buttons\">\n",
       "\n",
       "  <div class=\"colab-df-container\">\n",
       "    <button class=\"colab-df-convert\" onclick=\"convertToInteractive('df-b954fa67-d202-4db5-bce0-672029e0c16d')\"\n",
       "            title=\"Convert this dataframe to an interactive table.\"\n",
       "            style=\"display:none;\">\n",
       "\n",
       "  <svg xmlns=\"http://www.w3.org/2000/svg\" height=\"24px\" viewBox=\"0 -960 960 960\">\n",
       "    <path d=\"M120-120v-720h720v720H120Zm60-500h600v-160H180v160Zm220 220h160v-160H400v160Zm0 220h160v-160H400v160ZM180-400h160v-160H180v160Zm440 0h160v-160H620v160ZM180-180h160v-160H180v160Zm440 0h160v-160H620v160Z\"/>\n",
       "  </svg>\n",
       "    </button>\n",
       "\n",
       "  <style>\n",
       "    .colab-df-container {\n",
       "      display:flex;\n",
       "      gap: 12px;\n",
       "    }\n",
       "\n",
       "    .colab-df-convert {\n",
       "      background-color: #E8F0FE;\n",
       "      border: none;\n",
       "      border-radius: 50%;\n",
       "      cursor: pointer;\n",
       "      display: none;\n",
       "      fill: #1967D2;\n",
       "      height: 32px;\n",
       "      padding: 0 0 0 0;\n",
       "      width: 32px;\n",
       "    }\n",
       "\n",
       "    .colab-df-convert:hover {\n",
       "      background-color: #E2EBFA;\n",
       "      box-shadow: 0px 1px 2px rgba(60, 64, 67, 0.3), 0px 1px 3px 1px rgba(60, 64, 67, 0.15);\n",
       "      fill: #174EA6;\n",
       "    }\n",
       "\n",
       "    .colab-df-buttons div {\n",
       "      margin-bottom: 4px;\n",
       "    }\n",
       "\n",
       "    [theme=dark] .colab-df-convert {\n",
       "      background-color: #3B4455;\n",
       "      fill: #D2E3FC;\n",
       "    }\n",
       "\n",
       "    [theme=dark] .colab-df-convert:hover {\n",
       "      background-color: #434B5C;\n",
       "      box-shadow: 0px 1px 3px 1px rgba(0, 0, 0, 0.15);\n",
       "      filter: drop-shadow(0px 1px 2px rgba(0, 0, 0, 0.3));\n",
       "      fill: #FFFFFF;\n",
       "    }\n",
       "  </style>\n",
       "\n",
       "    <script>\n",
       "      const buttonEl =\n",
       "        document.querySelector('#df-b954fa67-d202-4db5-bce0-672029e0c16d button.colab-df-convert');\n",
       "      buttonEl.style.display =\n",
       "        google.colab.kernel.accessAllowed ? 'block' : 'none';\n",
       "\n",
       "      async function convertToInteractive(key) {\n",
       "        const element = document.querySelector('#df-b954fa67-d202-4db5-bce0-672029e0c16d');\n",
       "        const dataTable =\n",
       "          await google.colab.kernel.invokeFunction('convertToInteractive',\n",
       "                                                    [key], {});\n",
       "        if (!dataTable) return;\n",
       "\n",
       "        const docLinkHtml = 'Like what you see? Visit the ' +\n",
       "          '<a target=\"_blank\" href=https://colab.research.google.com/notebooks/data_table.ipynb>data table notebook</a>'\n",
       "          + ' to learn more about interactive tables.';\n",
       "        element.innerHTML = '';\n",
       "        dataTable['output_type'] = 'display_data';\n",
       "        await google.colab.output.renderOutput(dataTable, element);\n",
       "        const docLink = document.createElement('div');\n",
       "        docLink.innerHTML = docLinkHtml;\n",
       "        element.appendChild(docLink);\n",
       "      }\n",
       "    </script>\n",
       "  </div>\n",
       "\n",
       "\n",
       "<div id=\"df-5c1f2cb7-f5f3-4cdf-8206-d10e0c727dec\">\n",
       "  <button class=\"colab-df-quickchart\" onclick=\"quickchart('df-5c1f2cb7-f5f3-4cdf-8206-d10e0c727dec')\"\n",
       "            title=\"Suggest charts\"\n",
       "            style=\"display:none;\">\n",
       "\n",
       "<svg xmlns=\"http://www.w3.org/2000/svg\" height=\"24px\"viewBox=\"0 0 24 24\"\n",
       "     width=\"24px\">\n",
       "    <g>\n",
       "        <path d=\"M19 3H5c-1.1 0-2 .9-2 2v14c0 1.1.9 2 2 2h14c1.1 0 2-.9 2-2V5c0-1.1-.9-2-2-2zM9 17H7v-7h2v7zm4 0h-2V7h2v10zm4 0h-2v-4h2v4z\"/>\n",
       "    </g>\n",
       "</svg>\n",
       "  </button>\n",
       "\n",
       "<style>\n",
       "  .colab-df-quickchart {\n",
       "      --bg-color: #E8F0FE;\n",
       "      --fill-color: #1967D2;\n",
       "      --hover-bg-color: #E2EBFA;\n",
       "      --hover-fill-color: #174EA6;\n",
       "      --disabled-fill-color: #AAA;\n",
       "      --disabled-bg-color: #DDD;\n",
       "  }\n",
       "\n",
       "  [theme=dark] .colab-df-quickchart {\n",
       "      --bg-color: #3B4455;\n",
       "      --fill-color: #D2E3FC;\n",
       "      --hover-bg-color: #434B5C;\n",
       "      --hover-fill-color: #FFFFFF;\n",
       "      --disabled-bg-color: #3B4455;\n",
       "      --disabled-fill-color: #666;\n",
       "  }\n",
       "\n",
       "  .colab-df-quickchart {\n",
       "    background-color: var(--bg-color);\n",
       "    border: none;\n",
       "    border-radius: 50%;\n",
       "    cursor: pointer;\n",
       "    display: none;\n",
       "    fill: var(--fill-color);\n",
       "    height: 32px;\n",
       "    padding: 0;\n",
       "    width: 32px;\n",
       "  }\n",
       "\n",
       "  .colab-df-quickchart:hover {\n",
       "    background-color: var(--hover-bg-color);\n",
       "    box-shadow: 0 1px 2px rgba(60, 64, 67, 0.3), 0 1px 3px 1px rgba(60, 64, 67, 0.15);\n",
       "    fill: var(--button-hover-fill-color);\n",
       "  }\n",
       "\n",
       "  .colab-df-quickchart-complete:disabled,\n",
       "  .colab-df-quickchart-complete:disabled:hover {\n",
       "    background-color: var(--disabled-bg-color);\n",
       "    fill: var(--disabled-fill-color);\n",
       "    box-shadow: none;\n",
       "  }\n",
       "\n",
       "  .colab-df-spinner {\n",
       "    border: 2px solid var(--fill-color);\n",
       "    border-color: transparent;\n",
       "    border-bottom-color: var(--fill-color);\n",
       "    animation:\n",
       "      spin 1s steps(1) infinite;\n",
       "  }\n",
       "\n",
       "  @keyframes spin {\n",
       "    0% {\n",
       "      border-color: transparent;\n",
       "      border-bottom-color: var(--fill-color);\n",
       "      border-left-color: var(--fill-color);\n",
       "    }\n",
       "    20% {\n",
       "      border-color: transparent;\n",
       "      border-left-color: var(--fill-color);\n",
       "      border-top-color: var(--fill-color);\n",
       "    }\n",
       "    30% {\n",
       "      border-color: transparent;\n",
       "      border-left-color: var(--fill-color);\n",
       "      border-top-color: var(--fill-color);\n",
       "      border-right-color: var(--fill-color);\n",
       "    }\n",
       "    40% {\n",
       "      border-color: transparent;\n",
       "      border-right-color: var(--fill-color);\n",
       "      border-top-color: var(--fill-color);\n",
       "    }\n",
       "    60% {\n",
       "      border-color: transparent;\n",
       "      border-right-color: var(--fill-color);\n",
       "    }\n",
       "    80% {\n",
       "      border-color: transparent;\n",
       "      border-right-color: var(--fill-color);\n",
       "      border-bottom-color: var(--fill-color);\n",
       "    }\n",
       "    90% {\n",
       "      border-color: transparent;\n",
       "      border-bottom-color: var(--fill-color);\n",
       "    }\n",
       "  }\n",
       "</style>\n",
       "\n",
       "  <script>\n",
       "    async function quickchart(key) {\n",
       "      const quickchartButtonEl =\n",
       "        document.querySelector('#' + key + ' button');\n",
       "      quickchartButtonEl.disabled = true;  // To prevent multiple clicks.\n",
       "      quickchartButtonEl.classList.add('colab-df-spinner');\n",
       "      try {\n",
       "        const charts = await google.colab.kernel.invokeFunction(\n",
       "            'suggestCharts', [key], {});\n",
       "      } catch (error) {\n",
       "        console.error('Error during call to suggestCharts:', error);\n",
       "      }\n",
       "      quickchartButtonEl.classList.remove('colab-df-spinner');\n",
       "      quickchartButtonEl.classList.add('colab-df-quickchart-complete');\n",
       "    }\n",
       "    (() => {\n",
       "      let quickchartButtonEl =\n",
       "        document.querySelector('#df-5c1f2cb7-f5f3-4cdf-8206-d10e0c727dec button');\n",
       "      quickchartButtonEl.style.display =\n",
       "        google.colab.kernel.accessAllowed ? 'block' : 'none';\n",
       "    })();\n",
       "  </script>\n",
       "</div>\n",
       "\n",
       "    </div>\n",
       "  </div>\n"
      ],
      "text/plain": [
       "   accel_left_x  accel_left_y  accel_left_z  gyro_left_x  gyro_left_y  \\\n",
       "0        2.1849       -9.6967       0.63077     0.103900     -0.84053   \n",
       "1        2.3876       -9.5080       0.68389     0.085343     -0.83865   \n",
       "2        2.4086       -9.5674       0.68113     0.085343     -0.83865   \n",
       "\n",
       "   gyro_left_z  accel_right_x  accel_right_y  accel_right_z  gyro_right_x  \\\n",
       "0     -0.68762        -8.6499        -4.5781       0.187760      -0.44902   \n",
       "1     -0.68369        -8.6275        -4.3198       0.023595      -0.44902   \n",
       "2     -0.68369        -8.5055        -4.2772       0.275720      -0.44902   \n",
       "\n",
       "   gyro_right_y  gyro_right_z   subject activity_category  idx  activity  \n",
       "0       -1.0103      0.034483  subject1           Resting    0         0  \n",
       "1       -1.0103      0.034483  subject1           Resting    1         0  \n",
       "2       -1.0103      0.034483  subject1           Resting    2         0  "
      ]
     },
     "execution_count": 16,
     "metadata": {},
     "output_type": "execute_result"
    }
   ],
   "source": [
    "first_step_df.head(3)"
   ]
  },
  {
   "cell_type": "code",
   "execution_count": null,
   "id": "NLK8ncuOub6Z",
   "metadata": {
    "colab": {
     "base_uri": "https://localhost:8080/",
     "height": 241
    },
    "executionInfo": {
     "elapsed": 53,
     "status": "ok",
     "timestamp": 1741625757980,
     "user": {
      "displayName": "Nwaynwayaung Lily",
      "userId": "07219691961326149131"
     },
     "user_tz": 240
    },
    "id": "NLK8ncuOub6Z",
    "outputId": "71a217f4-81c0-4d9b-faa0-e9ec6db289c7"
   },
   "outputs": [
    {
     "data": {
      "text/html": [
       "<div>\n",
       "<style scoped>\n",
       "    .dataframe tbody tr th:only-of-type {\n",
       "        vertical-align: middle;\n",
       "    }\n",
       "\n",
       "    .dataframe tbody tr th {\n",
       "        vertical-align: top;\n",
       "    }\n",
       "\n",
       "    .dataframe thead th {\n",
       "        text-align: right;\n",
       "    }\n",
       "</style>\n",
       "<table border=\"1\" class=\"dataframe\">\n",
       "  <thead>\n",
       "    <tr style=\"text-align: right;\">\n",
       "      <th></th>\n",
       "      <th>count</th>\n",
       "    </tr>\n",
       "    <tr>\n",
       "      <th>activity_category</th>\n",
       "      <th></th>\n",
       "    </tr>\n",
       "  </thead>\n",
       "  <tbody>\n",
       "    <tr>\n",
       "      <th>Resting</th>\n",
       "      <td>798576</td>\n",
       "    </tr>\n",
       "    <tr>\n",
       "      <th>ModerateIntensityExercise</th>\n",
       "      <td>119452</td>\n",
       "    </tr>\n",
       "    <tr>\n",
       "      <th>HighIntensityExercise</th>\n",
       "      <td>57395</td>\n",
       "    </tr>\n",
       "    <tr>\n",
       "      <th>LowIntensityExercise</th>\n",
       "      <td>24576</td>\n",
       "    </tr>\n",
       "  </tbody>\n",
       "</table>\n",
       "</div><br><label><b>dtype:</b> int64</label>"
      ],
      "text/plain": [
       "activity_category\n",
       "Resting                      798576\n",
       "ModerateIntensityExercise    119452\n",
       "HighIntensityExercise         57395\n",
       "LowIntensityExercise          24576\n",
       "Name: count, dtype: int64"
      ]
     },
     "execution_count": 17,
     "metadata": {},
     "output_type": "execute_result"
    }
   ],
   "source": [
    "first_step_df.activity_category.value_counts()"
   ]
  },
  {
   "cell_type": "code",
   "execution_count": null,
   "id": "29NkKA3VuAyv",
   "metadata": {
    "colab": {
     "base_uri": "https://localhost:8080/",
     "height": 410
    },
    "executionInfo": {
     "elapsed": 761,
     "status": "ok",
     "timestamp": 1741625758739,
     "user": {
      "displayName": "Nwaynwayaung Lily",
      "userId": "07219691961326149131"
     },
     "user_tz": 240
    },
    "id": "29NkKA3VuAyv",
    "outputId": "0b03e673-76b6-42a8-d469-2ecb1a3bd87d"
   },
   "outputs": [
    {
     "data": {
      "image/png": "[encoded data removed]",
      "text/plain": [
       "<Figure size 500x400 with 2 Axes>"
      ]
     },
     "metadata": {},
     "output_type": "display_data"
    }
   ],
   "source": [
    "first_step_df['activity'] = first_step_df['activity_category'].apply(lambda x: 0 if x == 'Resting' else 1)\n",
    "count_per_subject1 = first_step_df.groupby([\"subject\", \"activity\"]).size().unstack(fill_value=0)\n",
    "plt.figure(figsize=(5,4))\n",
    "sns.heatmap(count_per_subject1, annot=True, cmap=\"coolwarm\", fmt=\"d\")\n",
    "plt.xlabel(\"Activity Category\")\n",
    "plt.ylabel(\"Subjects\")\n",
    "plt.title(\"Heatmap of Activity Counts per Subject\")\n",
    "plt.show()"
   ]
  },
  {
   "cell_type": "code",
   "execution_count": null,
   "id": "dbc42e57-0078-4451-aa8c-bbbd733d34b0",
   "metadata": {
    "id": "dbc42e57-0078-4451-aa8c-bbbd733d34b0"
   },
   "outputs": [],
   "source": [
    "def stratified_downsample_ordered(df, time_column):\n",
    "    downsampled_df = pd.DataFrame()\n",
    "\n",
    "    for subject, group in df.groupby(\"subject\"):\n",
    "        activity_counts = group[\"activity\"].value_counts()\n",
    "        min_count = activity_counts.min()  # Find the minority class count\n",
    "\n",
    "        sampled_groups = []\n",
    "        for activity in activity_counts.index:\n",
    "            activity_group = group[group[\"activity\"] == activity].sort_values(time_column)  # Ensure temporal order\n",
    "            if len(activity_group) > min_count:\n",
    "                downsampled_group = activity_group.iloc[:min_count]  # Select first `min_count` elements\n",
    "            else:\n",
    "                downsampled_group = activity_group  # Keep as is if already at min count\n",
    "\n",
    "            sampled_groups.append(downsampled_group)\n",
    "\n",
    "        balanced_subject_df = pd.concat(sampled_groups)\n",
    "        downsampled_df = pd.concat([downsampled_df, balanced_subject_df])\n",
    "\n",
    "    return downsampled_df"
   ]
  },
  {
   "cell_type": "markdown",
   "id": "1e08644b-9a65-4633-bb5c-8290740c8456",
   "metadata": {
    "id": "1e08644b-9a65-4633-bb5c-8290740c8456"
   },
   "source": [
    "### Downsample the data"
   ]
  },
  {
   "cell_type": "code",
   "execution_count": null,
   "id": "da918639-799f-4a3d-a9e7-5f070652974e",
   "metadata": {
    "id": "da918639-799f-4a3d-a9e7-5f070652974e"
   },
   "outputs": [],
   "source": [
    "time_column = \"idx\"#assume index is the timestep\n",
    "first_step_sampled_df = stratified_downsample_ordered(first_step_df, time_column=\"idx\")"
   ]
  },
  {
   "cell_type": "code",
   "execution_count": null,
   "id": "96c548ec-3f14-42b2-a118-94f4f0136f0a",
   "metadata": {
    "colab": {
     "base_uri": "https://localhost:8080/",
     "height": 410
    },
    "executionInfo": {
     "elapsed": 300,
     "status": "ok",
     "timestamp": 1741625759367,
     "user": {
      "displayName": "Nwaynwayaung Lily",
      "userId": "07219691961326149131"
     },
     "user_tz": 240
    },
    "id": "96c548ec-3f14-42b2-a118-94f4f0136f0a",
    "outputId": "2286ed40-ac2d-4c3b-e555-b3f4efa50539"
   },
   "outputs": [
    {
     "data": {
      "image/png": "[encoded data removed]",
      "text/plain": [
       "<Figure size 500x400 with 2 Axes>"
      ]
     },
     "metadata": {},
     "output_type": "display_data"
    }
   ],
   "source": [
    "count_per_subject1_ = first_step_sampled_df.groupby([\"subject\", \"activity\"]).size().unstack(fill_value=0)\n",
    "plt.figure(figsize=(5,4))\n",
    "sns.heatmap(count_per_subject1_, annot=True, cmap=\"coolwarm\", fmt=\"d\")\n",
    "plt.xlabel(\"Activity Category\")\n",
    "plt.ylabel(\"Subjects\")\n",
    "plt.title(\"Heatmap of Activity Counts per Subject\")\n",
    "plt.show()"
   ]
  },
  {
   "cell_type": "code",
   "execution_count": null,
   "id": "ogZxC7wJu6vE",
   "metadata": {
    "colab": {
     "base_uri": "https://localhost:8080/",
     "height": 331
    },
    "executionInfo": {
     "elapsed": 118,
     "status": "ok",
     "timestamp": 1741625759514,
     "user": {
      "displayName": "Nwaynwayaung Lily",
      "userId": "07219691961326149131"
     },
     "user_tz": 240
    },
    "id": "ogZxC7wJu6vE",
    "outputId": "c8dd08e2-aa78-4fd5-8327-f865bf961e4c"
   },
   "outputs": [
    {
     "name": "stdout",
     "output_type": "stream",
     "text": [
      "before activity_category\n",
      "Resting                      798576\n",
      "ModerateIntensityExercise    119452\n",
      "HighIntensityExercise         57395\n",
      "LowIntensityExercise          24576\n",
      "Name: count, dtype: int64\n",
      "after\n"
     ]
    },
    {
     "data": {
      "text/html": [
       "<div>\n",
       "<style scoped>\n",
       "    .dataframe tbody tr th:only-of-type {\n",
       "        vertical-align: middle;\n",
       "    }\n",
       "\n",
       "    .dataframe tbody tr th {\n",
       "        vertical-align: top;\n",
       "    }\n",
       "\n",
       "    .dataframe thead th {\n",
       "        text-align: right;\n",
       "    }\n",
       "</style>\n",
       "<table border=\"1\" class=\"dataframe\">\n",
       "  <thead>\n",
       "    <tr style=\"text-align: right;\">\n",
       "      <th></th>\n",
       "      <th>count</th>\n",
       "    </tr>\n",
       "    <tr>\n",
       "      <th>activity_category</th>\n",
       "      <th></th>\n",
       "    </tr>\n",
       "  </thead>\n",
       "  <tbody>\n",
       "    <tr>\n",
       "      <th>ModerateIntensityExercise</th>\n",
       "      <td>119452</td>\n",
       "    </tr>\n",
       "    <tr>\n",
       "      <th>HighIntensityExercise</th>\n",
       "      <td>57395</td>\n",
       "    </tr>\n",
       "    <tr>\n",
       "      <th>LowIntensityExercise</th>\n",
       "      <td>24576</td>\n",
       "    </tr>\n",
       "  </tbody>\n",
       "</table>\n",
       "</div><br><label><b>dtype:</b> int64</label>"
      ],
      "text/plain": [
       "activity_category\n",
       "ModerateIntensityExercise    119452\n",
       "HighIntensityExercise         57395\n",
       "LowIntensityExercise          24576\n",
       "Name: count, dtype: int64"
      ]
     },
     "execution_count": 22,
     "metadata": {},
     "output_type": "execute_result"
    }
   ],
   "source": [
    "print('before', second_step_df['activity_category'].value_counts())\n",
    "second_step_df = second_step_df[~(second_step_df['activity_category'] == 'Resting')]\n",
    "#second_step_df = second_step_df[~(second_step_df['activity_category'].isin(['Resting', 'LowIntensityExercise']))]\n",
    "print('after')\n",
    "second_step_df['activity_category'].value_counts()"
   ]
  },
  {
   "cell_type": "code",
   "execution_count": null,
   "id": "EiHZEFjcDWau",
   "metadata": {
    "colab": {
     "base_uri": "https://localhost:8080/"
    },
    "executionInfo": {
     "elapsed": 4,
     "status": "ok",
     "timestamp": 1741625759525,
     "user": {
      "displayName": "Nwaynwayaung Lily",
      "userId": "07219691961326149131"
     },
     "user_tz": 240
    },
    "id": "EiHZEFjcDWau",
    "outputId": "4b316a27-4888-4d2b-e3f6-e05e60b82f36"
   },
   "outputs": [
    {
     "data": {
      "text/plain": [
       "{'Resting': 0,\n",
       " 'LowIntensityExercise': 1,\n",
       " 'ModerateIntensityExercise': 2,\n",
       " 'HighIntensityExercise': 3}"
      ]
     },
     "execution_count": 23,
     "metadata": {},
     "output_type": "execute_result"
    }
   ],
   "source": [
    "activity_map"
   ]
  },
  {
   "cell_type": "code",
   "execution_count": null,
   "id": "C1uf_lsivtdH",
   "metadata": {
    "id": "C1uf_lsivtdH"
   },
   "outputs": [],
   "source": [
    "second_activity_map = {\n",
    "    \"LowIntensityExercise\": 0, \"ModerateIntensityExercise\": 1, \"HighIntensityExercise\": 2}"
   ]
  },
  {
   "cell_type": "code",
   "execution_count": null,
   "id": "MTwGvIduur18",
   "metadata": {
    "colab": {
     "base_uri": "https://localhost:8080/",
     "height": 209
    },
    "executionInfo": {
     "elapsed": 13,
     "status": "ok",
     "timestamp": 1741625760225,
     "user": {
      "displayName": "Nwaynwayaung Lily",
      "userId": "07219691961326149131"
     },
     "user_tz": 240
    },
    "id": "MTwGvIduur18",
    "outputId": "347cdc19-7615-46fc-82c9-4688c44d044c"
   },
   "outputs": [
    {
     "data": {
      "text/html": [
       "<div>\n",
       "<style scoped>\n",
       "    .dataframe tbody tr th:only-of-type {\n",
       "        vertical-align: middle;\n",
       "    }\n",
       "\n",
       "    .dataframe tbody tr th {\n",
       "        vertical-align: top;\n",
       "    }\n",
       "\n",
       "    .dataframe thead th {\n",
       "        text-align: right;\n",
       "    }\n",
       "</style>\n",
       "<table border=\"1\" class=\"dataframe\">\n",
       "  <thead>\n",
       "    <tr style=\"text-align: right;\">\n",
       "      <th></th>\n",
       "      <th>count</th>\n",
       "    </tr>\n",
       "    <tr>\n",
       "      <th>activity</th>\n",
       "      <th></th>\n",
       "    </tr>\n",
       "  </thead>\n",
       "  <tbody>\n",
       "    <tr>\n",
       "      <th>1</th>\n",
       "      <td>119452</td>\n",
       "    </tr>\n",
       "    <tr>\n",
       "      <th>2</th>\n",
       "      <td>57395</td>\n",
       "    </tr>\n",
       "    <tr>\n",
       "      <th>0</th>\n",
       "      <td>24576</td>\n",
       "    </tr>\n",
       "  </tbody>\n",
       "</table>\n",
       "</div><br><label><b>dtype:</b> int64</label>"
      ],
      "text/plain": [
       "activity\n",
       "1    119452\n",
       "2     57395\n",
       "0     24576\n",
       "Name: count, dtype: int64"
      ]
     },
     "execution_count": 25,
     "metadata": {},
     "output_type": "execute_result"
    }
   ],
   "source": [
    "second_step_df['activity'] = second_step_df['activity_category'].map(second_activity_map) # activity_map\n",
    "second_step_df.activity.value_counts()"
   ]
  },
  {
   "cell_type": "code",
   "execution_count": null,
   "id": "526a2633-9317-4748-8655-d9acb1cce67e",
   "metadata": {
    "colab": {
     "base_uri": "https://localhost:8080/",
     "height": 410
    },
    "executionInfo": {
     "elapsed": 331,
     "status": "ok",
     "timestamp": 1741625761400,
     "user": {
      "displayName": "Nwaynwayaung Lily",
      "userId": "07219691961326149131"
     },
     "user_tz": 240
    },
    "id": "526a2633-9317-4748-8655-d9acb1cce67e",
    "outputId": "90497c32-6472-419b-f0c6-4f3b7a43df5e"
   },
   "outputs": [
    {
     "data": {
      "image/png": "[encoded data removed]",
      "text/plain": [
       "<Figure size 500x400 with 2 Axes>"
      ]
     },
     "metadata": {},
     "output_type": "display_data"
    }
   ],
   "source": [
    "count_per_subject2 = second_step_df.groupby([\"subject\", \"activity\"]).size().unstack(fill_value=0)\n",
    "plt.figure(figsize=(5,4))\n",
    "sns.heatmap(count_per_subject2, annot=True, cmap=\"coolwarm\", fmt=\"d\")\n",
    "plt.xlabel(\"Activity Category\")\n",
    "plt.ylabel(\"Subjects\")\n",
    "plt.title(\"Heatmap of Activity Counts per Subject\")\n",
    "plt.show()"
   ]
  },
  {
   "cell_type": "code",
   "execution_count": null,
   "id": "4beb501f-8d86-4aa1-b700-03f019454bf4",
   "metadata": {
    "colab": {
     "base_uri": "https://localhost:8080/",
     "height": 410
    },
    "executionInfo": {
     "elapsed": 363,
     "status": "ok",
     "timestamp": 1741625762538,
     "user": {
      "displayName": "Nwaynwayaung Lily",
      "userId": "07219691961326149131"
     },
     "user_tz": 240
    },
    "id": "4beb501f-8d86-4aa1-b700-03f019454bf4",
    "outputId": "3c01adf1-7f51-481f-8fe7-a41dbec289f9"
   },
   "outputs": [
    {
     "data": {
      "image/png": "[encoded data removed]",
      "text/plain": [
       "<Figure size 500x400 with 2 Axes>"
      ]
     },
     "metadata": {},
     "output_type": "display_data"
    }
   ],
   "source": [
    "time_column = \"idx\"#assume index is the timestep\n",
    "second_step_sampled_df = stratified_downsample_ordered(second_step_df, time_column=\"idx\")\n",
    "count_per_subject2_ = second_step_sampled_df.groupby([\"subject\", \"activity\"]).size().unstack(fill_value=0)\n",
    "plt.figure(figsize=(5,4))\n",
    "sns.heatmap(count_per_subject2_, annot=True, cmap=\"coolwarm\", fmt=\"d\")\n",
    "plt.xlabel(\"Activity Category\")\n",
    "plt.ylabel(\"Subjects\")\n",
    "plt.title(\"Heatmap of Activity Counts per Subject\")\n",
    "plt.show()"
   ]
  },
  {
   "cell_type": "code",
   "execution_count": null,
   "id": "YVL7LE2vuiUi",
   "metadata": {
    "colab": {
     "base_uri": "https://localhost:8080/"
    },
    "executionInfo": {
     "elapsed": 4,
     "status": "ok",
     "timestamp": 1741625762756,
     "user": {
      "displayName": "Nwaynwayaung Lily",
      "userId": "07219691961326149131"
     },
     "user_tz": 240
    },
    "id": "YVL7LE2vuiUi",
    "outputId": "d10914b8-ea7b-4a37-801f-98df32cbbae5"
   },
   "outputs": [
    {
     "data": {
      "text/plain": [
       "((420572, 16), (73728, 16))"
      ]
     },
     "execution_count": 28,
     "metadata": {},
     "output_type": "execute_result"
    }
   ],
   "source": [
    "first_step_sampled_df.shape, second_step_sampled_df.shape"
   ]
  },
  {
   "cell_type": "code",
   "execution_count": null,
   "id": "hB0nN838vA4i",
   "metadata": {
    "id": "hB0nN838vA4i"
   },
   "outputs": [],
   "source": [
    "#first_train_df, first_val_df, first_test_df = split_bysubs(first_step_df, train_subjects, val_subjects, test_subjects)\n",
    "first_train_df, first_val_df, first_test_df = split_bysubs(first_step_sampled_df, train_subjects, val_subjects, test_subjects)\n",
    "\n",
    "\n",
    "second_train_df, second_val_df, second_test_df = split_bysubs(second_step_df, train_subjects, val_subjects, test_subjects)\n",
    "#second_train_df, second_val_df, second_test_df = split_bysubs(second_step_sampled_df, train_subjects, val_subjects, test_subjects)\n",
    "\n",
    "source_df['activity'] =   source_df['activity_category'].map(activity_map)\n",
    "_, _, test_df = split_bysubs(source_df, train_subjects, val_subjects, test_subjects)"
   ]
  },
  {
   "cell_type": "code",
   "execution_count": null,
   "id": "52e58b2a-775f-4483-b792-ae815f850bef",
   "metadata": {
    "colab": {
     "base_uri": "https://localhost:8080/"
    },
    "executionInfo": {
     "elapsed": 4,
     "status": "ok",
     "timestamp": 1741625764850,
     "user": {
      "displayName": "Nwaynwayaung Lily",
      "userId": "07219691961326149131"
     },
     "user_tz": 240
    },
    "id": "52e58b2a-775f-4483-b792-ae815f850bef",
    "outputId": "94240c94-e9c6-4977-f0aa-4cc5b3c36a15"
   },
   "outputs": [
    {
     "data": {
      "text/plain": [
       "['accel_left_x',\n",
       " 'accel_left_y',\n",
       " 'accel_left_z',\n",
       " 'gyro_left_x',\n",
       " 'gyro_left_y',\n",
       " 'gyro_left_z',\n",
       " 'accel_right_x',\n",
       " 'accel_right_y',\n",
       " 'accel_right_z',\n",
       " 'gyro_right_x',\n",
       " 'gyro_right_y',\n",
       " 'gyro_right_z']"
      ]
     },
     "execution_count": 30,
     "metadata": {},
     "output_type": "execute_result"
    }
   ],
   "source": [
    "features"
   ]
  },
  {
   "cell_type": "code",
   "execution_count": null,
   "id": "4c5a8153-b815-45be-8d18-0bf21858f47d",
   "metadata": {
    "colab": {
     "base_uri": "https://localhost:8080/"
    },
    "executionInfo": {
     "elapsed": 9,
     "status": "ok",
     "timestamp": 1741625765625,
     "user": {
      "displayName": "Nwaynwayaung Lily",
      "userId": "07219691961326149131"
     },
     "user_tz": 240
    },
    "id": "4c5a8153-b815-45be-8d18-0bf21858f47d",
    "outputId": "404cf7ff-34eb-4819-b5a3-74065d2b783e"
   },
   "outputs": [
    {
     "data": {
      "text/plain": [
       "['accel_left_x_median',\n",
       " 'accel_left_y_median',\n",
       " 'accel_left_z_median',\n",
       " 'gyro_left_x_median',\n",
       " 'gyro_left_y_median',\n",
       " 'gyro_left_z_median',\n",
       " 'accel_right_x_median',\n",
       " 'accel_right_y_median',\n",
       " 'accel_right_z_median',\n",
       " 'gyro_right_x_median',\n",
       " 'gyro_right_y_median',\n",
       " 'gyro_right_z_median']"
      ]
     },
     "execution_count": 31,
     "metadata": {},
     "output_type": "execute_result"
    }
   ],
   "source": [
    "features_median = [f\"{feature}_median\" for feature in features]\n",
    "features_median"
   ]
  },
  {
   "cell_type": "code",
   "execution_count": null,
   "id": "71f1fa02-fd3e-4175-8f23-9baf8e6138e1",
   "metadata": {
    "id": "71f1fa02-fd3e-4175-8f23-9baf8e6138e1"
   },
   "outputs": [],
   "source": [
    "features = [\n",
    "    'accel_left_x', 'accel_left_y', 'accel_left_z', 'gyro_left_x', 'gyro_left_y', 'gyro_left_z',\n",
    "    'accel_right_x', 'accel_right_y', 'accel_right_z', 'gyro_right_x', 'gyro_right_y', 'gyro_right_z' ]\n",
    "features_median = [f\"{feature}_median\" for feature in features]\n",
    "norm_features = ['accel_left_norm', 'accel_right_norm', 'gyro_left_norm', 'gyro_right_norm']\n",
    "# X = features , y = activity\n",
    "\n",
    "def create_windows(df, window_size=100, step_size=50):\n",
    "    sequences, labels = [], []\n",
    "\n",
    "    for subj in df['subject'].unique():\n",
    "        print(f'Processing subject {subj}')\n",
    "        subj_df = df[df['subject'] == subj]\n",
    "\n",
    "        for act in subj_df['activity'].unique():\n",
    "            print(f'  Activity: {act}')\n",
    "            act_df = subj_df[subj_df['activity'] == act].copy()\n",
    "            for feature in features:\n",
    "                act_df[f'{feature}_median'] = act_df[feature].rolling(window=3, min_periods=1).median()\n",
    "\n",
    "            act_df = act_df.dropna()\n",
    "\n",
    "            act_df['accel_left_norm'] = np.sqrt(\n",
    "                act_df['accel_left_x_median']**2 + act_df['accel_left_y_median']**2 + act_df['accel_left_z_median']**2 )\n",
    "\n",
    "            act_df['accel_right_norm'] = np.sqrt(\n",
    "                act_df['accel_right_x_median']**2 + act_df['accel_right_y_median']**2 + act_df['accel_right_z_median']**2 )\n",
    "\n",
    "            act_df['gyro_left_norm'] = np.sqrt(\n",
    "                act_df['gyro_left_x_median']**2 + act_df['gyro_left_y_median']**2 + act_df['gyro_left_z_median']**2)\n",
    "\n",
    "            act_df['gyro_right_norm'] = np.sqrt(\n",
    "                act_df['gyro_right_x_median']**2 + act_df['gyro_right_y_median']**2 + act_df['gyro_right_z_median']**2)\n",
    "\n",
    "            for i in range(0, len(act_df) - window_size + 1, step_size):\n",
    "                window = act_df.iloc[i:i+window_size]\n",
    "                sequences.append(window[features].values)  # use both norm and median\n",
    "                #sequences.append(window[features_median + norm_features].values)  # use both norm and median\n",
    "                # sequences.append(window[norm_features].values)  # Dimension reduciton only use Norm\n",
    "\n",
    "                labels.append(act), window\n",
    "    return np.array(sequences), np.array(labels)"
   ]
  },
  {
   "cell_type": "code",
   "execution_count": null,
   "id": "9f5852be-a4fa-4052-91f0-46581b4e3d07",
   "metadata": {
    "id": "9f5852be-a4fa-4052-91f0-46581b4e3d07"
   },
   "outputs": [],
   "source": [
    "#X_train1, y_train1 = create_windows(first_train_df.copy())"
   ]
  },
  {
   "cell_type": "code",
   "execution_count": null,
   "id": "33782b4d-e89b-4c1c-8e25-7d51fdda708c",
   "metadata": {
    "colab": {
     "base_uri": "https://localhost:8080/",
     "height": 497
    },
    "executionInfo": {
     "elapsed": 4746,
     "status": "ok",
     "timestamp": 1741625818489,
     "user": {
      "displayName": "Nwaynwayaung Lily",
      "userId": "07219691961326149131"
     },
     "user_tz": 240
    },
    "id": "33782b4d-e89b-4c1c-8e25-7d51fdda708c",
    "outputId": "dd991bf7-99fc-479b-c86a-5e24da89fa7e",
    "scrolled": true
   },
   "outputs": [
    {
     "name": "stdout",
     "output_type": "stream",
     "text": [
      "Processing subject subject1\n",
      "  Activity: 0\n",
      "  Activity: 1\n",
      "Processing subject subject2\n",
      "  Activity: 0\n",
      "  Activity: 1\n",
      "Processing subject subject3\n",
      "  Activity: 0\n",
      "  Activity: 1\n",
      "Processing subject subject4\n",
      "  Activity: 0\n",
      "  Activity: 1\n",
      "Processing subject subject7\n",
      "  Activity: 0\n",
      "  Activity: 1\n",
      "Processing subject subject8\n",
      "  Activity: 0\n",
      "  Activity: 1\n",
      "Processing subject subject5\n",
      "  Activity: 0\n",
      "  Activity: 1\n",
      "Processing subject subject6\n",
      "  Activity: 0\n",
      "  Activity: 1\n"
     ]
    },
    {
     "data": {
      "application/vnd.google.colaboratory.intrinsic+json": {
       "type": "dataframe",
       "variable_name": "first_train_df"
      },
      "text/html": [
       "\n",
       "  <div id=\"df-070adf9f-4f35-4545-9655-57178c7dc5bb\" class=\"colab-df-container\">\n",
       "    <div>\n",
       "<style scoped>\n",
       "    .dataframe tbody tr th:only-of-type {\n",
       "        vertical-align: middle;\n",
       "    }\n",
       "\n",
       "    .dataframe tbody tr th {\n",
       "        vertical-align: top;\n",
       "    }\n",
       "\n",
       "    .dataframe thead th {\n",
       "        text-align: right;\n",
       "    }\n",
       "</style>\n",
       "<table border=\"1\" class=\"dataframe\">\n",
       "  <thead>\n",
       "    <tr style=\"text-align: right;\">\n",
       "      <th></th>\n",
       "      <th>accel_left_x</th>\n",
       "      <th>accel_left_y</th>\n",
       "      <th>accel_left_z</th>\n",
       "      <th>gyro_left_x</th>\n",
       "      <th>gyro_left_y</th>\n",
       "      <th>gyro_left_z</th>\n",
       "      <th>accel_right_x</th>\n",
       "      <th>accel_right_y</th>\n",
       "      <th>accel_right_z</th>\n",
       "      <th>gyro_right_x</th>\n",
       "      <th>gyro_right_y</th>\n",
       "      <th>gyro_right_z</th>\n",
       "      <th>subject</th>\n",
       "      <th>activity_category</th>\n",
       "      <th>idx</th>\n",
       "      <th>activity</th>\n",
       "    </tr>\n",
       "  </thead>\n",
       "  <tbody>\n",
       "    <tr>\n",
       "      <th>0</th>\n",
       "      <td>2.1849</td>\n",
       "      <td>-9.6967</td>\n",
       "      <td>0.63077</td>\n",
       "      <td>0.1039</td>\n",
       "      <td>-0.84053</td>\n",
       "      <td>-0.68762</td>\n",
       "      <td>-8.6499</td>\n",
       "      <td>-4.5781</td>\n",
       "      <td>0.18776</td>\n",
       "      <td>-0.44902</td>\n",
       "      <td>-1.0103</td>\n",
       "      <td>0.034483</td>\n",
       "      <td>subject1</td>\n",
       "      <td>Resting</td>\n",
       "      <td>0</td>\n",
       "      <td>0</td>\n",
       "    </tr>\n",
       "  </tbody>\n",
       "</table>\n",
       "</div>\n",
       "    <div class=\"colab-df-buttons\">\n",
       "\n",
       "  <div class=\"colab-df-container\">\n",
       "    <button class=\"colab-df-convert\" onclick=\"convertToInteractive('df-070adf9f-4f35-4545-9655-57178c7dc5bb')\"\n",
       "            title=\"Convert this dataframe to an interactive table.\"\n",
       "            style=\"display:none;\">\n",
       "\n",
       "  <svg xmlns=\"http://www.w3.org/2000/svg\" height=\"24px\" viewBox=\"0 -960 960 960\">\n",
       "    <path d=\"M120-120v-720h720v720H120Zm60-500h600v-160H180v160Zm220 220h160v-160H400v160Zm0 220h160v-160H400v160ZM180-400h160v-160H180v160Zm440 0h160v-160H620v160ZM180-180h160v-160H180v160Zm440 0h160v-160H620v160Z\"/>\n",
       "  </svg>\n",
       "    </button>\n",
       "\n",
       "  <style>\n",
       "    .colab-df-container {\n",
       "      display:flex;\n",
       "      gap: 12px;\n",
       "    }\n",
       "\n",
       "    .colab-df-convert {\n",
       "      background-color: #E8F0FE;\n",
       "      border: none;\n",
       "      border-radius: 50%;\n",
       "      cursor: pointer;\n",
       "      display: none;\n",
       "      fill: #1967D2;\n",
       "      height: 32px;\n",
       "      padding: 0 0 0 0;\n",
       "      width: 32px;\n",
       "    }\n",
       "\n",
       "    .colab-df-convert:hover {\n",
       "      background-color: #E2EBFA;\n",
       "      box-shadow: 0px 1px 2px rgba(60, 64, 67, 0.3), 0px 1px 3px 1px rgba(60, 64, 67, 0.15);\n",
       "      fill: #174EA6;\n",
       "    }\n",
       "\n",
       "    .colab-df-buttons div {\n",
       "      margin-bottom: 4px;\n",
       "    }\n",
       "\n",
       "    [theme=dark] .colab-df-convert {\n",
       "      background-color: #3B4455;\n",
       "      fill: #D2E3FC;\n",
       "    }\n",
       "\n",
       "    [theme=dark] .colab-df-convert:hover {\n",
       "      background-color: #434B5C;\n",
       "      box-shadow: 0px 1px 3px 1px rgba(0, 0, 0, 0.15);\n",
       "      filter: drop-shadow(0px 1px 2px rgba(0, 0, 0, 0.3));\n",
       "      fill: #FFFFFF;\n",
       "    }\n",
       "  </style>\n",
       "\n",
       "    <script>\n",
       "      const buttonEl =\n",
       "        document.querySelector('#df-070adf9f-4f35-4545-9655-57178c7dc5bb button.colab-df-convert');\n",
       "      buttonEl.style.display =\n",
       "        google.colab.kernel.accessAllowed ? 'block' : 'none';\n",
       "\n",
       "      async function convertToInteractive(key) {\n",
       "        const element = document.querySelector('#df-070adf9f-4f35-4545-9655-57178c7dc5bb');\n",
       "        const dataTable =\n",
       "          await google.colab.kernel.invokeFunction('convertToInteractive',\n",
       "                                                    [key], {});\n",
       "        if (!dataTable) return;\n",
       "\n",
       "        const docLinkHtml = 'Like what you see? Visit the ' +\n",
       "          '<a target=\"_blank\" href=https://colab.research.google.com/notebooks/data_table.ipynb>data table notebook</a>'\n",
       "          + ' to learn more about interactive tables.';\n",
       "        element.innerHTML = '';\n",
       "        dataTable['output_type'] = 'display_data';\n",
       "        await google.colab.output.renderOutput(dataTable, element);\n",
       "        const docLink = document.createElement('div');\n",
       "        docLink.innerHTML = docLinkHtml;\n",
       "        element.appendChild(docLink);\n",
       "      }\n",
       "    </script>\n",
       "  </div>\n",
       "\n",
       "\n",
       "    </div>\n",
       "  </div>\n"
      ],
      "text/plain": [
       "   accel_left_x  accel_left_y  accel_left_z  gyro_left_x  gyro_left_y  \\\n",
       "0        2.1849       -9.6967       0.63077       0.1039     -0.84053   \n",
       "\n",
       "   gyro_left_z  accel_right_x  accel_right_y  accel_right_z  gyro_right_x  \\\n",
       "0     -0.68762        -8.6499        -4.5781        0.18776      -0.44902   \n",
       "\n",
       "   gyro_right_y  gyro_right_z   subject activity_category  idx  activity  \n",
       "0       -1.0103      0.034483  subject1           Resting    0         0  "
      ]
     },
     "execution_count": 34,
     "metadata": {},
     "output_type": "execute_result"
    }
   ],
   "source": [
    "# Create time windows\n",
    "X_train1, y_train1 = create_windows(first_train_df)\n",
    "X_val1, y_val1 = create_windows(first_val_df)\n",
    "X_test1, y_test1 = create_windows(first_test_df)\n",
    "first_train_df.head(1)"
   ]
  },
  {
   "cell_type": "code",
   "execution_count": null,
   "id": "9a5b8b4e-559e-4281-822d-2ee6b61ce5bc",
   "metadata": {
    "colab": {
     "base_uri": "https://localhost:8080/"
    },
    "executionInfo": {
     "elapsed": 4,
     "status": "ok",
     "timestamp": 1741625823426,
     "user": {
      "displayName": "Nwaynwayaung Lily",
      "userId": "07219691961326149131"
     },
     "user_tz": 240
    },
    "id": "9a5b8b4e-559e-4281-822d-2ee6b61ce5bc",
    "outputId": "350e39b1-66c1-446b-94aa-e9e5814b46d7"
   },
   "outputs": [
    {
     "data": {
      "text/plain": [
       "array([ 2.1849  , -9.6967  ,  0.63077 ,  0.1039  , -0.84053 , -0.68762 ,\n",
       "       -8.6499  , -4.5781  ,  0.18776 , -0.44902 , -1.0103  ,  0.034483])"
      ]
     },
     "execution_count": 35,
     "metadata": {},
     "output_type": "execute_result"
    }
   ],
   "source": [
    "X_train1[0, 0, :]"
   ]
  },
  {
   "cell_type": "code",
   "execution_count": null,
   "id": "a0bcd4d8-0ad9-45e0-b788-ed5cb387c723",
   "metadata": {
    "colab": {
     "base_uri": "https://localhost:8080/"
    },
    "executionInfo": {
     "elapsed": 11,
     "status": "ok",
     "timestamp": 1741625823909,
     "user": {
      "displayName": "Nwaynwayaung Lily",
      "userId": "07219691961326149131"
     },
     "user_tz": 240
    },
    "id": "a0bcd4d8-0ad9-45e0-b788-ed5cb387c723",
    "outputId": "fd2c245f-a227-42e6-91b5-ea760a0c1fa5"
   },
   "outputs": [
    {
     "name": "stdout",
     "output_type": "stream",
     "text": [
      "Shapes: (6132, 100, 12) (6132,) (986, 100, 12) (986,) (916, 100, 12) (916,)\n"
     ]
    }
   ],
   "source": [
    "print(\"Shapes:\", X_train1.shape, y_train1.shape, X_val1.shape, y_val1.shape, X_test1.shape, y_test1.shape)"
   ]
  },
  {
   "cell_type": "code",
   "execution_count": null,
   "id": "F_kxMzm9xazg",
   "metadata": {
    "colab": {
     "base_uri": "https://localhost:8080/",
     "height": 636
    },
    "executionInfo": {
     "elapsed": 2192,
     "status": "ok",
     "timestamp": 1741625828848,
     "user": {
      "displayName": "Nwaynwayaung Lily",
      "userId": "07219691961326149131"
     },
     "user_tz": 240
    },
    "id": "F_kxMzm9xazg",
    "outputId": "148537d7-efdf-4035-d2e7-2230073bb338"
   },
   "outputs": [
    {
     "name": "stdout",
     "output_type": "stream",
     "text": [
      "Processing subject subject1\n",
      "  Activity: 0\n",
      "  Activity: 1\n",
      "  Activity: 2\n",
      "Processing subject subject2\n",
      "  Activity: 1\n",
      "  Activity: 0\n",
      "  Activity: 2\n",
      "Processing subject subject3\n",
      "  Activity: 0\n",
      "  Activity: 1\n",
      "  Activity: 2\n",
      "Processing subject subject4\n",
      "  Activity: 1\n",
      "  Activity: 0\n",
      "  Activity: 2\n",
      "Processing subject subject7\n",
      "  Activity: 1\n",
      "  Activity: 0\n",
      "  Activity: 2\n",
      "Processing subject subject8\n",
      "  Activity: 0\n",
      "  Activity: 1\n",
      "  Activity: 2\n",
      "Processing subject subject5\n",
      "  Activity: 0\n",
      "  Activity: 1\n",
      "  Activity: 2\n",
      "Processing subject subject6\n",
      "  Activity: 0\n",
      "  Activity: 1\n",
      "  Activity: 2\n"
     ]
    },
    {
     "data": {
      "application/vnd.google.colaboratory.intrinsic+json": {
       "type": "dataframe",
       "variable_name": "second_train_df"
      },
      "text/html": [
       "\n",
       "  <div id=\"df-2a573387-507e-41ea-a23d-7c38392e6cd1\" class=\"colab-df-container\">\n",
       "    <div>\n",
       "<style scoped>\n",
       "    .dataframe tbody tr th:only-of-type {\n",
       "        vertical-align: middle;\n",
       "    }\n",
       "\n",
       "    .dataframe tbody tr th {\n",
       "        vertical-align: top;\n",
       "    }\n",
       "\n",
       "    .dataframe thead th {\n",
       "        text-align: right;\n",
       "    }\n",
       "</style>\n",
       "<table border=\"1\" class=\"dataframe\">\n",
       "  <thead>\n",
       "    <tr style=\"text-align: right;\">\n",
       "      <th></th>\n",
       "      <th>accel_left_x</th>\n",
       "      <th>accel_left_y</th>\n",
       "      <th>accel_left_z</th>\n",
       "      <th>gyro_left_x</th>\n",
       "      <th>gyro_left_y</th>\n",
       "      <th>gyro_left_z</th>\n",
       "      <th>accel_right_x</th>\n",
       "      <th>accel_right_y</th>\n",
       "      <th>accel_right_z</th>\n",
       "      <th>gyro_right_x</th>\n",
       "      <th>gyro_right_y</th>\n",
       "      <th>gyro_right_z</th>\n",
       "      <th>subject</th>\n",
       "      <th>activity_category</th>\n",
       "      <th>idx</th>\n",
       "      <th>activity</th>\n",
       "    </tr>\n",
       "  </thead>\n",
       "  <tbody>\n",
       "    <tr>\n",
       "      <th>28160</th>\n",
       "      <td>4.3791</td>\n",
       "      <td>-10.206</td>\n",
       "      <td>0.14805</td>\n",
       "      <td>0.59184</td>\n",
       "      <td>-0.52345</td>\n",
       "      <td>0.48919</td>\n",
       "      <td>-7.0015</td>\n",
       "      <td>-10.089</td>\n",
       "      <td>3.0789</td>\n",
       "      <td>-0.57647</td>\n",
       "      <td>-0.59959</td>\n",
       "      <td>0.75431</td>\n",
       "      <td>subject1</td>\n",
       "      <td>LowIntensityExercise</td>\n",
       "      <td>28160</td>\n",
       "      <td>0</td>\n",
       "    </tr>\n",
       "  </tbody>\n",
       "</table>\n",
       "</div>\n",
       "    <div class=\"colab-df-buttons\">\n",
       "\n",
       "  <div class=\"colab-df-container\">\n",
       "    <button class=\"colab-df-convert\" onclick=\"convertToInteractive('df-2a573387-507e-41ea-a23d-7c38392e6cd1')\"\n",
       "            title=\"Convert this dataframe to an interactive table.\"\n",
       "            style=\"display:none;\">\n",
       "\n",
       "  <svg xmlns=\"http://www.w3.org/2000/svg\" height=\"24px\" viewBox=\"0 -960 960 960\">\n",
       "    <path d=\"M120-120v-720h720v720H120Zm60-500h600v-160H180v160Zm220 220h160v-160H400v160Zm0 220h160v-160H400v160ZM180-400h160v-160H180v160Zm440 0h160v-160H620v160ZM180-180h160v-160H180v160Zm440 0h160v-160H620v160Z\"/>\n",
       "  </svg>\n",
       "    </button>\n",
       "\n",
       "  <style>\n",
       "    .colab-df-container {\n",
       "      display:flex;\n",
       "      gap: 12px;\n",
       "    }\n",
       "\n",
       "    .colab-df-convert {\n",
       "      background-color: #E8F0FE;\n",
       "      border: none;\n",
       "      border-radius: 50%;\n",
       "      cursor: pointer;\n",
       "      display: none;\n",
       "      fill: #1967D2;\n",
       "      height: 32px;\n",
       "      padding: 0 0 0 0;\n",
       "      width: 32px;\n",
       "    }\n",
       "\n",
       "    .colab-df-convert:hover {\n",
       "      background-color: #E2EBFA;\n",
       "      box-shadow: 0px 1px 2px rgba(60, 64, 67, 0.3), 0px 1px 3px 1px rgba(60, 64, 67, 0.15);\n",
       "      fill: #174EA6;\n",
       "    }\n",
       "\n",
       "    .colab-df-buttons div {\n",
       "      margin-bottom: 4px;\n",
       "    }\n",
       "\n",
       "    [theme=dark] .colab-df-convert {\n",
       "      background-color: #3B4455;\n",
       "      fill: #D2E3FC;\n",
       "    }\n",
       "\n",
       "    [theme=dark] .colab-df-convert:hover {\n",
       "      background-color: #434B5C;\n",
       "      box-shadow: 0px 1px 3px 1px rgba(0, 0, 0, 0.15);\n",
       "      filter: drop-shadow(0px 1px 2px rgba(0, 0, 0, 0.3));\n",
       "      fill: #FFFFFF;\n",
       "    }\n",
       "  </style>\n",
       "\n",
       "    <script>\n",
       "      const buttonEl =\n",
       "        document.querySelector('#df-2a573387-507e-41ea-a23d-7c38392e6cd1 button.colab-df-convert');\n",
       "      buttonEl.style.display =\n",
       "        google.colab.kernel.accessAllowed ? 'block' : 'none';\n",
       "\n",
       "      async function convertToInteractive(key) {\n",
       "        const element = document.querySelector('#df-2a573387-507e-41ea-a23d-7c38392e6cd1');\n",
       "        const dataTable =\n",
       "          await google.colab.kernel.invokeFunction('convertToInteractive',\n",
       "                                                    [key], {});\n",
       "        if (!dataTable) return;\n",
       "\n",
       "        const docLinkHtml = 'Like what you see? Visit the ' +\n",
       "          '<a target=\"_blank\" href=https://colab.research.google.com/notebooks/data_table.ipynb>data table notebook</a>'\n",
       "          + ' to learn more about interactive tables.';\n",
       "        element.innerHTML = '';\n",
       "        dataTable['output_type'] = 'display_data';\n",
       "        await google.colab.output.renderOutput(dataTable, element);\n",
       "        const docLink = document.createElement('div');\n",
       "        docLink.innerHTML = docLinkHtml;\n",
       "        element.appendChild(docLink);\n",
       "      }\n",
       "    </script>\n",
       "  </div>\n",
       "\n",
       "\n",
       "    </div>\n",
       "  </div>\n"
      ],
      "text/plain": [
       "       accel_left_x  accel_left_y  accel_left_z  gyro_left_x  gyro_left_y  \\\n",
       "28160        4.3791       -10.206       0.14805      0.59184     -0.52345   \n",
       "\n",
       "       gyro_left_z  accel_right_x  accel_right_y  accel_right_z  gyro_right_x  \\\n",
       "28160      0.48919        -7.0015        -10.089         3.0789      -0.57647   \n",
       "\n",
       "       gyro_right_y  gyro_right_z   subject     activity_category    idx  \\\n",
       "28160      -0.59959       0.75431  subject1  LowIntensityExercise  28160   \n",
       "\n",
       "       activity  \n",
       "28160         0  "
      ]
     },
     "execution_count": 37,
     "metadata": {},
     "output_type": "execute_result"
    }
   ],
   "source": [
    "# Create time windows\n",
    "X_train2, y_train2 = create_windows(second_train_df)\n",
    "X_val2, y_val2 = create_windows(second_val_df)\n",
    "X_test2, y_test2 = create_windows(second_test_df)\n",
    "second_train_df.head(1)"
   ]
  },
  {
   "cell_type": "code",
   "execution_count": null,
   "id": "KW7dziyfxbHB",
   "metadata": {
    "colab": {
     "base_uri": "https://localhost:8080/"
    },
    "executionInfo": {
     "elapsed": 4,
     "status": "ok",
     "timestamp": 1741625828853,
     "user": {
      "displayName": "Nwaynwayaung Lily",
      "userId": "07219691961326149131"
     },
     "user_tz": 240
    },
    "id": "KW7dziyfxbHB",
    "outputId": "80f67a4c-8e6b-4919-cfd2-105743769033"
   },
   "outputs": [
    {
     "data": {
      "text/plain": [
       "array([  4.3791 , -10.206  ,   0.14805,   0.59184,  -0.52345,   0.48919,\n",
       "        -7.0015 , -10.089  ,   3.0789 ,  -0.57647,  -0.59959,   0.75431])"
      ]
     },
     "execution_count": 38,
     "metadata": {},
     "output_type": "execute_result"
    }
   ],
   "source": [
    "# Create time windows\n",
    "X_train2[0, 0, :]"
   ]
  },
  {
   "cell_type": "code",
   "execution_count": null,
   "id": "5e7295fa-06c2-4250-8ee7-d340d527a3bc",
   "metadata": {
    "colab": {
     "base_uri": "https://localhost:8080/"
    },
    "executionInfo": {
     "elapsed": 13,
     "status": "ok",
     "timestamp": 1741625828867,
     "user": {
      "displayName": "Nwaynwayaung Lily",
      "userId": "07219691961326149131"
     },
     "user_tz": 240
    },
    "id": "5e7295fa-06c2-4250-8ee7-d340d527a3bc",
    "outputId": "9c18e754-cac3-4276-b620-a9a32b6a0154"
   },
   "outputs": [
    {
     "name": "stdout",
     "output_type": "stream",
     "text": [
      "Shapes: (3048, 100, 12) (3048,) (490, 100, 12) (490,) (455, 100, 12) (455,)\n"
     ]
    }
   ],
   "source": [
    "print(\"Shapes:\", X_train2.shape, y_train2.shape, X_val2.shape, y_val2.shape, X_test2.shape, y_test2.shape)"
   ]
  },
  {
   "cell_type": "code",
   "execution_count": null,
   "id": "L3c00YMA9mkJ",
   "metadata": {
    "id": "L3c00YMA9mkJ"
   },
   "outputs": [],
   "source": [
    "parcel1 = (X_train1, y_train1, X_val1, y_val1, X_test1, y_test1)\n",
    "parcel2 = (X_train2, y_train2, X_val2, y_val2, X_test2, y_test2)"
   ]
  },
  {
   "cell_type": "code",
   "execution_count": null,
   "id": "8dec995b-2813-4886-ae5b-c8aba396e1f1",
   "metadata": {
    "colab": {
     "base_uri": "https://localhost:8080/",
     "height": 564
    },
    "executionInfo": {
     "elapsed": 426,
     "status": "ok",
     "timestamp": 1741625829297,
     "user": {
      "displayName": "Nwaynwayaung Lily",
      "userId": "07219691961326149131"
     },
     "user_tz": 240
    },
    "id": "8dec995b-2813-4886-ae5b-c8aba396e1f1",
    "outputId": "d7b58dbd-4df4-4ac0-a642-00165339311b"
   },
   "outputs": [
    {
     "data": {
      "image/png": "[encoded data removed]",
      "text/plain": [
       "<Figure size 1200x600 with 1 Axes>"
      ]
     },
     "metadata": {},
     "output_type": "display_data"
    }
   ],
   "source": [
    "plt.figure(figsize=(12, 6))\n",
    "for i, feature in enumerate(features_median):\n",
    "    plt.plot(X_train1[0, :, i], label=feature)  # First sequence, all time steps\n",
    "plt.title(\"First Window of X_train (100 Time Steps)\")\n",
    "plt.xlabel(\"Time Step\")\n",
    "plt.ylabel(\"Sensor Value\")\n",
    "plt.legend()\n",
    "plt.show()"
   ]
  },
  {
   "cell_type": "code",
   "execution_count": null,
   "id": "d136784e",
   "metadata": {},
   "outputs": [],
   "source": [
    "\n",
    "from sklearn.utils.class_weight import compute_class_weight\n",
    "from torch.utils.data import DataLoader, TensorDataset\n",
    "from model import *\n",
    "\n",
    "def get_best_device():\n",
    "    if torch.cuda.is_available():\n",
    "        return torch.device(\"cuda\")\n",
    "    elif torch.backends.mps.is_available():\n",
    "        return torch.device(\"mps\")\n",
    "    else:\n",
    "        return torch.device(\"cpu\")\n",
    "\n",
    "\n",
    "def train_model(parcel , model_type='EnhancedLSTM',\n",
    "                 hidden_size=64, learning_rate=0.001, weight_decay=1e-4, num_epochs=30, patience=7, batch_size=8):\n",
    "    device = get_best_device()\n",
    "    print(f\"Using device: {device}\")\n",
    "    X_train, y_train, X_val, y_val, X_test, y_test = parcel\n",
    "    encoder = LabelEncoder()\n",
    "    y_train_enc = encoder.fit_transform(y_train)\n",
    "    y_val_enc = encoder.transform(y_val)\n",
    "    y_test_enc = encoder.transform(y_test)\n",
    "\n",
    "    scaler = StandardScaler()\n",
    "    X_train = scaler.fit_transform(X_train.reshape(-1, X_train.shape[-1])).reshape(X_train.shape)\n",
    "    X_val = scaler.transform(X_val.reshape(-1, X_val.shape[-1])).reshape(X_val.shape)\n",
    "    X_test = scaler.transform(X_test.reshape(-1, X_test.shape[-1])).reshape(X_test.shape)\n",
    "\n",
    "    X_train_t, y_train_t = to_tensor(X_train, y_train_enc)\n",
    "    X_val_t, y_val_t = to_tensor(X_val, y_val_enc)\n",
    "    X_test_t, y_test_t = to_tensor(X_test, y_test_enc)\n",
    "\n",
    "    # Verify the split\n",
    "    print(f\"Train Subjects: {train_subjects}\")\n",
    "    print(f\"Validation Subjects: {val_subjects}\")\n",
    "    print(f\"Test Subjects: {test_subjects}\")\n",
    "    # (num_samples, window_size, num_features)\n",
    "    print(f\"Train shape: {X_train_t.shape}, Validation shape: {X_val_t.shape}, Test shape: {X_test_t.shape}\")\n",
    "\n",
    "    train_dataset = TensorDataset(X_train_t, y_train_t)\n",
    "    val_dataset = TensorDataset(X_val_t, y_val_t)\n",
    "    test_dataset = TensorDataset(X_test_t, y_test_t)\n",
    "\n",
    "    train_loader = DataLoader(train_dataset, batch_size=batch_size, shuffle=False)#don't suffle timeseries data\n",
    "    val_loader = DataLoader(val_dataset, batch_size=batch_size, shuffle=False)\n",
    "    test_loader = DataLoader(test_dataset, batch_size=batch_size, shuffle=False)\n",
    "\n",
    "    input_size = X_train_t.shape[-1]\n",
    "    num_classes = len(encoder.classes_)\n",
    "\n",
    "    weights = compute_class_weight('balanced', classes=np.unique(y_train_enc), y=y_train_enc)\n",
    "    weights = torch.tensor(weights, dtype=torch.float32)\n",
    "\n",
    "    if model_type == 'EnhancedLSTM':\n",
    "        model = EnhancedLSTMNet(input_size, hidden_size, num_classes)\n",
    "    elif model_type == 'LSTM':\n",
    "        model = LSTMNet(input_size, hidden_size, num_classes)\n",
    "    else:\n",
    "        model = RNNNet(input_size, hidden_size, num_classes)\n",
    "\n",
    "    criterion = nn.CrossEntropyLoss(weight=weights)\n",
    "    optimizer = optim.Adam(model.parameters(), lr=learning_rate, weight_decay=weight_decay)\n",
    "    scheduler = optim.lr_scheduler.ReduceLROnPlateau(optimizer, factor=0.5, patience=2)\n",
    "\n",
    "\n",
    "    train_losses, val_losses, train_accuracies, val_accuracies = [], [], [], []\n",
    "    best_loss = float(\"inf\")\n",
    "    trigger = 0\n",
    "\n",
    "    for epoch in range(num_epochs):\n",
    "      model.train() # trainign\n",
    "      epoch_train_loss , correct_train , total_train = 0, 0, 0\n",
    "\n",
    "\n",
    "      for X_batch, y_batch in train_loader:\n",
    "          optimizer.zero_grad()\n",
    "          outputs = model(X_batch)\n",
    "          loss = criterion(outputs, y_batch)\n",
    "          loss.backward()\n",
    "          optimizer.step()\n",
    "\n",
    "          epoch_train_loss += loss.item()\n",
    "          _, predicted = torch.max(outputs.data, 1)\n",
    "          total_train += y_batch.size(0)\n",
    "          correct_train += (predicted == y_batch).sum().item()\n",
    "\n",
    "      epoch_train_loss /= len(train_loader)\n",
    "      epoch_train_acc = 100 * correct_train / total_train\n",
    "\n",
    "      model.eval() # validation\n",
    "      epoch_val_loss, correct_val, total_val = 0, 0, 0\n",
    "\n",
    "      with torch.no_grad():\n",
    "          for X_batch, y_batch in val_loader:\n",
    "              val_out = model(X_batch)\n",
    "              val_loss = criterion(val_out, y_batch)\n",
    "              epoch_val_loss += val_loss.item()\n",
    "              _, predicted = torch.max(val_out.data, 1)\n",
    "              total_val += y_batch.size(0)\n",
    "              correct_val += (predicted == y_batch).sum().item()\n",
    "\n",
    "      epoch_val_loss /= len(val_loader)\n",
    "      epoch_val_acc = 100 * correct_val / total_val\n",
    "\n",
    "      train_losses.append(epoch_train_loss)\n",
    "      val_losses.append(epoch_val_loss)\n",
    "      train_accuracies.append(epoch_train_acc)\n",
    "      val_accuracies.append(epoch_val_acc)\n",
    "\n",
    "      print(f\"Epoch {epoch+1}: train_loss={epoch_train_loss:.4f}, train_acc={epoch_train_acc:.2f}%, \"\n",
    "          f\"val_loss={epoch_val_loss:.4f}, val_acc={epoch_val_acc:.2f}%, \"\n",
    "          f\"lr={optimizer.param_groups[0]['lr']:.6f}\")\n",
    "\n",
    "      scheduler.step(epoch_val_loss)#scheduler with validation loss\n",
    "\n",
    "      if epoch_val_loss < best_loss: # early stop\n",
    "          best_loss = epoch_val_loss\n",
    "          trigger = 0\n",
    "          torch.save(model.state_dict(), \"best_model.pth\")  # Save best model\n",
    "\n",
    "      else:\n",
    "          trigger += 1\n",
    "          if trigger > patience:\n",
    "              print(f\"Early stopping at epoch {epoch+1}\")\n",
    "              break\n",
    "\n",
    "    model.load_state_dict(torch.load(\"best_model.pth\")) # load the bes t model\n",
    "    model.eval()\n",
    "\n",
    "    all_preds, all_labels = [], []\n",
    "    with torch.no_grad():\n",
    "        for X_batch, y_batch in test_loader:\n",
    "            preds = model(X_batch).argmax(dim=1).cpu().numpy()\n",
    "            labels = y_batch.cpu().numpy()\n",
    "            all_preds.extend(preds)\n",
    "            all_labels.extend(labels)\n",
    "        print(len(all_preds), len(all_preds))\n",
    "\n",
    "\n",
    "    rresult = (test_loader, all_preds, all_labels)\n",
    "\n",
    "    report = classification_report(all_labels, all_preds, target_names=[f\"Class {i}\" for i in range(num_classes)], output_dict=True)\n",
    "    pred_df = pd.DataFrame(report).transpose()\n",
    "\n",
    "    plt.figure(figsize=(10, 8))\n",
    "    sns.heatmap(pred_df.iloc[:-1, :-1], annot=True, cmap=\"YlGnBu\", fmt=\".2f\", vmin=0, vmax=1)\n",
    "    plt.title(\"Classification Report Heatmap\")\n",
    "    plt.show()\n",
    "\n",
    "    results_dict = {\n",
    "    'train_losses': train_losses,\n",
    "    'val_losses': val_losses,\n",
    "    'train_accuracies': train_accuracies,\n",
    "    'val_accuracies': val_accuracies\n",
    "    }\n",
    "    return model, rresult , results_dict, report"
   ]
  },
  {
   "cell_type": "code",
   "execution_count": null,
   "id": "qjv-iLxo9pii",
   "metadata": {
    "colab": {
     "base_uri": "https://localhost:8080/",
     "height": 1000
    },
    "executionInfo": {
     "elapsed": 111557,
     "status": "ok",
     "timestamp": 1741625942604,
     "user": {
      "displayName": "Nwaynwayaung Lily",
      "userId": "07219691961326149131"
     },
     "user_tz": 240
    },
    "id": "qjv-iLxo9pii",
    "outputId": "970d6de3-fd83-49d9-a88e-67289cf8a73d",
    "scrolled": true
   },
   "outputs": [
    {
     "name": "stdout",
     "output_type": "stream",
     "text": [
      "Using device: cuda\n",
      "Train Subjects: ['subject1', 'subject2', 'subject3', 'subject4', 'subject7', 'subject8']\n",
      "Validation Subjects: ['subject5']\n",
      "Test Subjects: ['subject6']\n",
      "Train shape: torch.Size([6132, 100, 12]), Validation shape: torch.Size([986, 100, 12]), Test shape: torch.Size([916, 100, 12])\n",
      "Epoch 1: train_loss=1.0591, train_acc=66.93%, val_loss=0.8273, val_acc=50.00%, lr=0.010000\n",
      "Epoch 2: train_loss=0.7607, train_acc=42.60%, val_loss=0.7206, val_acc=50.00%, lr=0.010000\n",
      "Epoch 3: train_loss=0.7367, train_acc=42.38%, val_loss=3.8186, val_acc=50.00%, lr=0.010000\n",
      "Epoch 4: train_loss=0.8277, train_acc=50.85%, val_loss=0.9248, val_acc=50.00%, lr=0.010000\n",
      "Epoch 5: train_loss=0.8040, train_acc=60.01%, val_loss=2.3769, val_acc=50.00%, lr=0.010000\n",
      "Epoch 6: train_loss=0.8251, train_acc=40.22%, val_loss=0.6276, val_acc=59.13%, lr=0.005000\n",
      "Epoch 7: train_loss=0.7002, train_acc=51.37%, val_loss=0.6147, val_acc=69.27%, lr=0.005000\n",
      "Epoch 8: train_loss=0.6865, train_acc=51.01%, val_loss=0.6217, val_acc=60.85%, lr=0.005000\n",
      "Epoch 9: train_loss=0.6533, train_acc=52.59%, val_loss=0.6277, val_acc=60.85%, lr=0.005000\n",
      "Epoch 10: train_loss=0.6555, train_acc=53.51%, val_loss=0.7251, val_acc=60.95%, lr=0.005000\n",
      "Epoch 11: train_loss=0.6824, train_acc=56.39%, val_loss=0.6285, val_acc=59.03%, lr=0.002500\n",
      "Epoch 12: train_loss=0.6773, train_acc=56.52%, val_loss=0.7824, val_acc=59.03%, lr=0.002500\n",
      "Epoch 13: train_loss=0.6720, train_acc=60.03%, val_loss=0.6453, val_acc=59.03%, lr=0.002500\n",
      "Epoch 14: train_loss=0.6383, train_acc=60.34%, val_loss=0.5324, val_acc=70.49%, lr=0.001250\n",
      "Epoch 15: train_loss=0.6148, train_acc=62.93%, val_loss=0.5516, val_acc=70.59%, lr=0.001250\n",
      "Epoch 16: train_loss=0.6176, train_acc=62.56%, val_loss=0.6464, val_acc=68.05%, lr=0.001250\n",
      "Epoch 17: train_loss=0.6001, train_acc=65.00%, val_loss=0.5559, val_acc=69.47%, lr=0.001250\n",
      "Epoch 18: train_loss=0.5839, train_acc=67.38%, val_loss=0.6809, val_acc=67.44%, lr=0.000625\n",
      "Epoch 19: train_loss=0.5679, train_acc=69.24%, val_loss=0.5783, val_acc=68.97%, lr=0.000625\n",
      "Epoch 20: train_loss=0.5546, train_acc=69.73%, val_loss=0.5468, val_acc=69.78%, lr=0.000625\n",
      "Epoch 21: train_loss=0.5403, train_acc=71.02%, val_loss=0.5531, val_acc=69.78%, lr=0.000313\n",
      "Epoch 22: train_loss=0.5339, train_acc=71.71%, val_loss=0.5426, val_acc=70.18%, lr=0.000313\n",
      "Epoch 23: train_loss=0.5264, train_acc=72.57%, val_loss=0.5381, val_acc=70.08%, lr=0.000313\n",
      "Epoch 24: train_loss=0.5200, train_acc=73.01%, val_loss=0.5449, val_acc=70.08%, lr=0.000156\n",
      "Epoch 25: train_loss=0.5178, train_acc=73.03%, val_loss=0.5562, val_acc=69.88%, lr=0.000156\n",
      "Early stopping at epoch 25\n",
      "916 916\n"
     ]
    },
    {
     "name": "stderr",
     "output_type": "stream",
     "text": [
      "<ipython-input-43-41513692e26f>:126: FutureWarning: You are using `torch.load` with `weights_only=False` (the current default value), which uses the default pickle module implicitly. It is possible to construct malicious pickle data which will execute arbitrary code during unpickling (See https://github.com/pytorch/pytorch/blob/main/SECURITY.md#untrusted-models for more details). In a future release, the default value for `weights_only` will be flipped to `True`. This limits the functions that could be executed during unpickling. Arbitrary objects will no longer be allowed to be loaded via this mode unless they are explicitly allowlisted by the user via `torch.serialization.add_safe_globals`. We recommend you start setting `weights_only=True` for any use case where you don't have full control of the loaded file. Please open an issue on GitHub for any issues related to this experimental feature.\n",
      "  model.load_state_dict(torch.load(\"best_model.pth\")) # load the bes t model\n"
     ]
    },
    {
     "data": {
      "image/png": "[encoded data removed]",
      "text/plain": [
       "<Figure size 1000x800 with 2 Axes>"
      ]
     },
     "metadata": {},
     "output_type": "display_data"
    }
   ],
   "source": [
    "binary_model, result1, results_dict1, report1   = train_model(parcel1, hidden_size=32, learning_rate=0.01, weight_decay=1e-4, num_epochs=300, patience=10, batch_size=8)"
   ]
  },
  {
   "cell_type": "code",
   "execution_count": null,
   "id": "5560048e-8be9-4042-b89b-4f10d2c7b7b4",
   "metadata": {
    "colab": {
     "base_uri": "https://localhost:8080/"
    },
    "executionInfo": {
     "elapsed": 102535,
     "status": "ok",
     "timestamp": 1741626045142,
     "user": {
      "displayName": "Nwaynwayaung Lily",
      "userId": "07219691961326149131"
     },
     "user_tz": 240
    },
    "id": "5560048e-8be9-4042-b89b-4f10d2c7b7b4",
    "outputId": "ccf93be1-eed4-409e-d6ac-3be5d4565f9c"
   },
   "outputs": [
    {
     "name": "stdout",
     "output_type": "stream",
     "text": [
      "Using device: cuda\n",
      "Train Subjects: ['subject1', 'subject2', 'subject3', 'subject4', 'subject7', 'subject8']\n",
      "Validation Subjects: ['subject5']\n",
      "Test Subjects: ['subject6']\n",
      "Train shape: torch.Size([3048, 100, 12]), Validation shape: torch.Size([490, 100, 12]), Test shape: torch.Size([455, 100, 12])\n",
      "Epoch 1: train_loss=0.8818, train_acc=73.72%, val_loss=1.1667, val_acc=52.86%, lr=0.001000\n",
      "Epoch 2: train_loss=0.4363, train_acc=87.01%, val_loss=0.4620, val_acc=87.35%, lr=0.001000\n",
      "Epoch 3: train_loss=0.3852, train_acc=87.37%, val_loss=2.2784, val_acc=52.45%, lr=0.001000\n",
      "Epoch 4: train_loss=0.3445, train_acc=89.27%, val_loss=0.4200, val_acc=84.08%, lr=0.001000\n",
      "Epoch 5: train_loss=0.2129, train_acc=93.86%, val_loss=0.7801, val_acc=81.22%, lr=0.001000\n",
      "Epoch 6: train_loss=0.1278, train_acc=97.11%, val_loss=0.1637, val_acc=94.90%, lr=0.001000\n",
      "Epoch 7: train_loss=0.0616, train_acc=98.59%, val_loss=1.7171, val_acc=82.24%, lr=0.001000\n",
      "Epoch 8: train_loss=0.0347, train_acc=99.41%, val_loss=0.1396, val_acc=96.73%, lr=0.001000\n",
      "Epoch 9: train_loss=0.0177, train_acc=99.74%, val_loss=0.2819, val_acc=94.90%, lr=0.001000\n",
      "Epoch 10: train_loss=0.0141, train_acc=99.87%, val_loss=0.1681, val_acc=96.73%, lr=0.001000\n",
      "Epoch 11: train_loss=0.2424, train_acc=93.70%, val_loss=1.1678, val_acc=78.98%, lr=0.001000\n",
      "Epoch 12: train_loss=0.1081, train_acc=97.38%, val_loss=0.2087, val_acc=95.31%, lr=0.000500\n",
      "Epoch 13: train_loss=0.0277, train_acc=99.31%, val_loss=0.1433, val_acc=96.33%, lr=0.000500\n",
      "Epoch 14: train_loss=0.0092, train_acc=99.87%, val_loss=0.1350, val_acc=96.94%, lr=0.000500\n",
      "Epoch 15: train_loss=0.0051, train_acc=99.90%, val_loss=0.1430, val_acc=97.76%, lr=0.000500\n",
      "Epoch 16: train_loss=0.0032, train_acc=99.97%, val_loss=0.1509, val_acc=97.76%, lr=0.000500\n",
      "Epoch 17: train_loss=0.0023, train_acc=99.93%, val_loss=0.1245, val_acc=98.37%, lr=0.000500\n",
      "Epoch 18: train_loss=0.0023, train_acc=99.97%, val_loss=0.1444, val_acc=98.16%, lr=0.000500\n",
      "Epoch 19: train_loss=0.0009, train_acc=100.00%, val_loss=0.1467, val_acc=98.16%, lr=0.000500\n",
      "Epoch 20: train_loss=0.0009, train_acc=100.00%, val_loss=0.1416, val_acc=98.37%, lr=0.000500\n",
      "Epoch 21: train_loss=0.0009, train_acc=100.00%, val_loss=0.1386, val_acc=98.37%, lr=0.000250\n",
      "Epoch 22: train_loss=0.0006, train_acc=100.00%, val_loss=0.1208, val_acc=98.57%, lr=0.000250\n",
      "Epoch 23: train_loss=0.0009, train_acc=99.97%, val_loss=0.1245, val_acc=98.57%, lr=0.000250\n",
      "Epoch 24: train_loss=0.0005, train_acc=100.00%, val_loss=0.1237, val_acc=98.57%, lr=0.000250\n",
      "Epoch 25: train_loss=0.0007, train_acc=100.00%, val_loss=0.1215, val_acc=98.78%, lr=0.000250\n",
      "Epoch 26: train_loss=0.0006, train_acc=100.00%, val_loss=0.1220, val_acc=98.78%, lr=0.000125\n",
      "Epoch 27: train_loss=0.0005, train_acc=100.00%, val_loss=0.1228, val_acc=98.78%, lr=0.000125\n",
      "Epoch 28: train_loss=0.0005, train_acc=100.00%, val_loss=0.1243, val_acc=98.78%, lr=0.000125\n",
      "Epoch 29: train_loss=0.0005, train_acc=100.00%, val_loss=0.1251, val_acc=98.78%, lr=0.000063\n",
      "Epoch 30: train_loss=0.0004, train_acc=100.00%, val_loss=0.1257, val_acc=98.78%, lr=0.000063\n",
      "Epoch 31: train_loss=0.0004, train_acc=100.00%, val_loss=0.1265, val_acc=98.78%, lr=0.000063\n",
      "Epoch 32: train_loss=0.0009, train_acc=99.97%, val_loss=0.1623, val_acc=98.37%, lr=0.000031\n",
      "Epoch 33: train_loss=0.0006, train_acc=100.00%, val_loss=0.1630, val_acc=98.37%, lr=0.000031\n",
      "Early stopping at epoch 33\n",
      "455 455\n"
     ]
    },
    {
     "name": "stderr",
     "output_type": "stream",
     "text": [
      "<ipython-input-43-41513692e26f>:126: FutureWarning: You are using `torch.load` with `weights_only=False` (the current default value), which uses the default pickle module implicitly. It is possible to construct malicious pickle data which will execute arbitrary code during unpickling (See https://github.com/pytorch/pytorch/blob/main/SECURITY.md#untrusted-models for more details). In a future release, the default value for `weights_only` will be flipped to `True`. This limits the functions that could be executed during unpickling. Arbitrary objects will no longer be allowed to be loaded via this mode unless they are explicitly allowlisted by the user via `torch.serialization.add_safe_globals`. We recommend you start setting `weights_only=True` for any use case where you don't have full control of the loaded file. Please open an issue on GitHub for any issues related to this experimental feature.\n",
      "  model.load_state_dict(torch.load(\"best_model.pth\")) # load the bes t model\n"
     ]
    },
    {
     "data": {
      "image/png": "[encoded data removed]",
      "text/plain": [
       "<Figure size 1000x800 with 2 Axes>"
      ]
     },
     "metadata": {},
     "output_type": "display_data"
    }
   ],
   "source": [
    "multiclass_model,result2,  results_dict2, report2 = train_model(parcel2, hidden_size=64, learning_rate=0.001, weight_decay=1e-4, num_epochs=300, patience=10, batch_size=8)"
   ]
  },
  {
   "cell_type": "code",
   "execution_count": null,
   "id": "_7EkcqWohtPt",
   "metadata": {
    "id": "_7EkcqWohtPt"
   },
   "outputs": [],
   "source": [
    "test_loader1, pred1, label1 = result1\n",
    "test_loader2, pred2, label2 = result2"
   ]
  },
  {
   "cell_type": "code",
   "execution_count": null,
   "id": "UzzvhpVfsab4",
   "metadata": {
    "colab": {
     "base_uri": "https://localhost:8080/"
    },
    "executionInfo": {
     "elapsed": 176,
     "status": "ok",
     "timestamp": 1741626045321,
     "user": {
      "displayName": "Nwaynwayaung Lily",
      "userId": "07219691961326149131"
     },
     "user_tz": 240
    },
    "id": "UzzvhpVfsab4",
    "outputId": "33c056cf-3c66-4d50-cda4-82ca1b9ccfa3"
   },
   "outputs": [
    {
     "name": "stdout",
     "output_type": "stream",
     "text": [
      "916 916\n"
     ]
    }
   ],
   "source": [
    "pred1, label1 = [], []\n",
    "with torch.no_grad():\n",
    "    for X_batch, y_batch in test_loader1:\n",
    "        preds = binary_model(X_batch).argmax(dim=1).cpu().numpy()\n",
    "        labels = y_batch.cpu().numpy()\n",
    "        pred1.extend(preds)\n",
    "        label1.extend(labels)\n",
    "    print(len(pred1), len(label1))\n"
   ]
  },
  {
   "cell_type": "code",
   "execution_count": null,
   "id": "XnjRUXoeszR3",
   "metadata": {
    "colab": {
     "base_uri": "https://localhost:8080/"
    },
    "executionInfo": {
     "elapsed": 97,
     "status": "ok",
     "timestamp": 1741626045419,
     "user": {
      "displayName": "Nwaynwayaung Lily",
      "userId": "07219691961326149131"
     },
     "user_tz": 240
    },
    "id": "XnjRUXoeszR3",
    "outputId": "c1ff693b-7c55-47e2-a0d5-fe010c7acd9d"
   },
   "outputs": [
    {
     "name": "stdout",
     "output_type": "stream",
     "text": [
      "455 455\n"
     ]
    }
   ],
   "source": [
    "pred2, label2 = [], []\n",
    "with torch.no_grad():\n",
    "    for X_batch, y_batch in test_loader2:\n",
    "        preds = multiclass_model(X_batch).argmax(dim=1).cpu().numpy()\n",
    "        labels = y_batch.cpu().numpy()\n",
    "        pred2.extend(preds)\n",
    "        label2.extend(labels)\n",
    "    print(len(pred2), len(label2))"
   ]
  },
  {
   "cell_type": "code",
   "execution_count": null,
   "id": "4zhsdQwntQNZ",
   "metadata": {
    "colab": {
     "base_uri": "https://localhost:8080/"
    },
    "executionInfo": {
     "elapsed": 22,
     "status": "ok",
     "timestamp": 1741626045443,
     "user": {
      "displayName": "Nwaynwayaung Lily",
      "userId": "07219691961326149131"
     },
     "user_tz": 240
    },
    "id": "4zhsdQwntQNZ",
    "outputId": "daab4cb4-c4f3-491c-fd7b-c184b0491df4"
   },
   "outputs": [
    {
     "data": {
      "text/plain": [
       "459"
      ]
     },
     "execution_count": 49,
     "metadata": {},
     "output_type": "execute_result"
    }
   ],
   "source": [
    "r1 = pd.DataFrame([label1, pred1]).T\n",
    "\n",
    "r1.columns = ['y_true', 'y_pred']\n",
    "r2 = pd.DataFrame([label2, pred2]).T\n",
    "r2.columns = ['y_true', 'y_pred']\n",
    "r2 = r2+1 # Add 1 to make label consistant ### 2nd multiclass model label should start with 1 instead of 0\n",
    "\n",
    "r1_0 = r1[r1['y_true']==0]\n",
    "r1_1 = r1[r1['y_true']==1]\n",
    "cascade_diff = r1_1.shape[0] - r2.shape[0] ##offset due to timeseries processing\n",
    "r1_1 = r1_1[:-cascade_diff]\n",
    "r1 = pd.concat([r1_0, r1_1])\n",
    "r1 = r1.reset_index(drop=True)\n",
    "offset = r1[r1.y_true==0].shape[0]+1\n",
    "offset"
   ]
  },
  {
   "cell_type": "code",
   "execution_count": null,
   "id": "dfd0c73c-29e1-4911-af44-73f5872f9e83",
   "metadata": {
    "colab": {
     "base_uri": "https://localhost:8080/",
     "height": 209
    },
    "executionInfo": {
     "elapsed": 58,
     "status": "ok",
     "timestamp": 1741626045503,
     "user": {
      "displayName": "Nwaynwayaung Lily",
      "userId": "07219691961326149131"
     },
     "user_tz": 240
    },
    "id": "dfd0c73c-29e1-4911-af44-73f5872f9e83",
    "outputId": "a4e723c0-a102-4fa7-fa23-a9664be56d1d"
   },
   "outputs": [
    {
     "data": {
      "text/html": [
       "<div>\n",
       "<style scoped>\n",
       "    .dataframe tbody tr th:only-of-type {\n",
       "        vertical-align: middle;\n",
       "    }\n",
       "\n",
       "    .dataframe tbody tr th {\n",
       "        vertical-align: top;\n",
       "    }\n",
       "\n",
       "    .dataframe thead th {\n",
       "        text-align: right;\n",
       "    }\n",
       "</style>\n",
       "<table border=\"1\" class=\"dataframe\">\n",
       "  <thead>\n",
       "    <tr style=\"text-align: right;\">\n",
       "      <th></th>\n",
       "      <th></th>\n",
       "      <th>count</th>\n",
       "    </tr>\n",
       "    <tr>\n",
       "      <th>y_true</th>\n",
       "      <th>y_pred</th>\n",
       "      <th></th>\n",
       "    </tr>\n",
       "  </thead>\n",
       "  <tbody>\n",
       "    <tr>\n",
       "      <th>1</th>\n",
       "      <th>1</th>\n",
       "      <td>455</td>\n",
       "    </tr>\n",
       "    <tr>\n",
       "      <th rowspan=\"2\" valign=\"top\">0</th>\n",
       "      <th>1</th>\n",
       "      <td>275</td>\n",
       "    </tr>\n",
       "    <tr>\n",
       "      <th>0</th>\n",
       "      <td>183</td>\n",
       "    </tr>\n",
       "  </tbody>\n",
       "</table>\n",
       "</div><br><label><b>dtype:</b> int64</label>"
      ],
      "text/plain": [
       "y_true  y_pred\n",
       "1       1         455\n",
       "0       1         275\n",
       "        0         183\n",
       "Name: count, dtype: int64"
      ]
     },
     "execution_count": 50,
     "metadata": {},
     "output_type": "execute_result"
    }
   ],
   "source": [
    "r1.value_counts()"
   ]
  },
  {
   "cell_type": "code",
   "execution_count": null,
   "id": "2ed43ab5-f1b6-4e1b-9f78-5dced6e5b55c",
   "metadata": {
    "colab": {
     "base_uri": "https://localhost:8080/",
     "height": 272
    },
    "executionInfo": {
     "elapsed": 5,
     "status": "ok",
     "timestamp": 1741626045510,
     "user": {
      "displayName": "Nwaynwayaung Lily",
      "userId": "07219691961326149131"
     },
     "user_tz": 240
    },
    "id": "2ed43ab5-f1b6-4e1b-9f78-5dced6e5b55c",
    "outputId": "9c5c5360-52b9-41aa-8512-281b588f3234"
   },
   "outputs": [
    {
     "data": {
      "text/html": [
       "<div>\n",
       "<style scoped>\n",
       "    .dataframe tbody tr th:only-of-type {\n",
       "        vertical-align: middle;\n",
       "    }\n",
       "\n",
       "    .dataframe tbody tr th {\n",
       "        vertical-align: top;\n",
       "    }\n",
       "\n",
       "    .dataframe thead th {\n",
       "        text-align: right;\n",
       "    }\n",
       "</style>\n",
       "<table border=\"1\" class=\"dataframe\">\n",
       "  <thead>\n",
       "    <tr style=\"text-align: right;\">\n",
       "      <th></th>\n",
       "      <th></th>\n",
       "      <th>count</th>\n",
       "    </tr>\n",
       "    <tr>\n",
       "      <th>y_true</th>\n",
       "      <th>y_pred</th>\n",
       "      <th></th>\n",
       "    </tr>\n",
       "  </thead>\n",
       "  <tbody>\n",
       "    <tr>\n",
       "      <th>2</th>\n",
       "      <th>2</th>\n",
       "      <td>247</td>\n",
       "    </tr>\n",
       "    <tr>\n",
       "      <th>3</th>\n",
       "      <th>3</th>\n",
       "      <td>142</td>\n",
       "    </tr>\n",
       "    <tr>\n",
       "      <th>1</th>\n",
       "      <th>1</th>\n",
       "      <td>59</td>\n",
       "    </tr>\n",
       "    <tr>\n",
       "      <th>2</th>\n",
       "      <th>1</th>\n",
       "      <td>6</td>\n",
       "    </tr>\n",
       "    <tr>\n",
       "      <th>1</th>\n",
       "      <th>3</th>\n",
       "      <td>1</td>\n",
       "    </tr>\n",
       "  </tbody>\n",
       "</table>\n",
       "</div><br><label><b>dtype:</b> int64</label>"
      ],
      "text/plain": [
       "y_true  y_pred\n",
       "2       2         247\n",
       "3       3         142\n",
       "1       1          59\n",
       "2       1           6\n",
       "1       3           1\n",
       "Name: count, dtype: int64"
      ]
     },
     "execution_count": 51,
     "metadata": {},
     "output_type": "execute_result"
    }
   ],
   "source": [
    "r2.value_counts()"
   ]
  },
  {
   "cell_type": "code",
   "execution_count": null,
   "id": "9c216ca0-a153-4b53-be48-b5c83833efbe",
   "metadata": {
    "colab": {
     "base_uri": "https://localhost:8080/",
     "height": 178
    },
    "executionInfo": {
     "elapsed": 2,
     "status": "ok",
     "timestamp": 1741626045512,
     "user": {
      "displayName": "Nwaynwayaung Lily",
      "userId": "07219691961326149131"
     },
     "user_tz": 240
    },
    "id": "9c216ca0-a153-4b53-be48-b5c83833efbe",
    "outputId": "09a1b0c5-a125-4581-b8a3-249876d7de6f"
   },
   "outputs": [
    {
     "data": {
      "text/html": [
       "<div>\n",
       "<style scoped>\n",
       "    .dataframe tbody tr th:only-of-type {\n",
       "        vertical-align: middle;\n",
       "    }\n",
       "\n",
       "    .dataframe tbody tr th {\n",
       "        vertical-align: top;\n",
       "    }\n",
       "\n",
       "    .dataframe thead th {\n",
       "        text-align: right;\n",
       "    }\n",
       "</style>\n",
       "<table border=\"1\" class=\"dataframe\">\n",
       "  <thead>\n",
       "    <tr style=\"text-align: right;\">\n",
       "      <th></th>\n",
       "      <th>count</th>\n",
       "    </tr>\n",
       "    <tr>\n",
       "      <th>y_pred</th>\n",
       "      <th></th>\n",
       "    </tr>\n",
       "  </thead>\n",
       "  <tbody>\n",
       "    <tr>\n",
       "      <th>1</th>\n",
       "      <td>730</td>\n",
       "    </tr>\n",
       "    <tr>\n",
       "      <th>0</th>\n",
       "      <td>183</td>\n",
       "    </tr>\n",
       "  </tbody>\n",
       "</table>\n",
       "</div><br><label><b>dtype:</b> int64</label>"
      ],
      "text/plain": [
       "y_pred\n",
       "1    730\n",
       "0    183\n",
       "Name: count, dtype: int64"
      ]
     },
     "execution_count": 52,
     "metadata": {},
     "output_type": "execute_result"
    }
   ],
   "source": [
    "r1.y_pred.value_counts()"
   ]
  },
  {
   "cell_type": "code",
   "execution_count": null,
   "id": "rxp6rMmOWgzg",
   "metadata": {
    "colab": {
     "base_uri": "https://localhost:8080/"
    },
    "executionInfo": {
     "elapsed": 3,
     "status": "ok",
     "timestamp": 1741626045516,
     "user": {
      "displayName": "Nwaynwayaung Lily",
      "userId": "07219691961326149131"
     },
     "user_tz": 240
    },
    "id": "rxp6rMmOWgzg",
    "outputId": "24e5620d-dc9d-4070-eb76-8a65bced7e73"
   },
   "outputs": [
    {
     "name": "stdout",
     "output_type": "stream",
     "text": [
      "   y_true  y_pred\n",
      "1     NaN     NaN\n",
      "2     NaN     NaN\n",
      "3     NaN     NaN\n",
      "4     NaN     NaN\n",
      "5     NaN     NaN\n"
     ]
    }
   ],
   "source": [
    "#create placeholder for multiclass prediction\n",
    "ddd = pd.DataFrame({ 'y_true': np.nan,   'y_pred': np.nan   }, index=np.arange(1,offset ))\n",
    "\n",
    "print(ddd.head())\n",
    "dr2 = pd.concat([ddd,r2])\n",
    "dr2 = dr2.reset_index(drop=True)"
   ]
  },
  {
   "cell_type": "code",
   "execution_count": null,
   "id": "N36vwy4lSyja",
   "metadata": {
    "colab": {
     "base_uri": "https://localhost:8080/"
    },
    "executionInfo": {
     "elapsed": 2,
     "status": "ok",
     "timestamp": 1741626045519,
     "user": {
      "displayName": "Nwaynwayaung Lily",
      "userId": "07219691961326149131"
     },
     "user_tz": 240
    },
    "id": "N36vwy4lSyja",
    "outputId": "7ef6765b-1f0e-41dd-b253-f9707383a4f1"
   },
   "outputs": [
    {
     "data": {
      "text/plain": [
       "((913, 2), (913, 2))"
      ]
     },
     "execution_count": 54,
     "metadata": {},
     "output_type": "execute_result"
    }
   ],
   "source": [
    "r1.shape, dr2.shape"
   ]
  },
  {
   "cell_type": "code",
   "execution_count": null,
   "id": "AdczhTXpTJF5",
   "metadata": {
    "id": "AdczhTXpTJF5"
   },
   "outputs": [],
   "source": [
    "r1.to_csv('r1.csv', index=False)\n",
    "dr2.to_csv('dr2.csv', index=False)"
   ]
  },
  {
   "cell_type": "code",
   "execution_count": null,
   "id": "e4YOs6PMT5qb",
   "metadata": {
    "colab": {
     "base_uri": "https://localhost:8080/"
    },
    "executionInfo": {
     "elapsed": 30,
     "status": "ok",
     "timestamp": 1741626045550,
     "user": {
      "displayName": "Nwaynwayaung Lily",
      "userId": "07219691961326149131"
     },
     "user_tz": 240
    },
    "id": "e4YOs6PMT5qb",
    "outputId": "199f24b9-06d4-4288-d5f8-7384ad8112a7"
   },
   "outputs": [
    {
     "data": {
      "text/plain": [
       "Index([459, 460, 461, 462, 463, 464, 465, 466, 467, 468,\n",
       "       ...\n",
       "       903, 904, 905, 906, 907, 908, 909, 910, 911, 912],\n",
       "      dtype='int64', length=454)"
      ]
     },
     "execution_count": 56,
     "metadata": {},
     "output_type": "execute_result"
    }
   ],
   "source": [
    "indices_pred_1 = r1[(r1['y_pred'] == 1) & (r1.index >= offset)].index\n",
    "indices_pred_2 = r1[(r1['y_pred'] == 1) & (r1.index < offset)].index\n",
    "indices_pred_1"
   ]
  },
  {
   "cell_type": "code",
   "execution_count": null,
   "id": "nfgRbIyuVezk",
   "metadata": {
    "colab": {
     "base_uri": "https://localhost:8080/"
    },
    "executionInfo": {
     "elapsed": 7,
     "status": "ok",
     "timestamp": 1741626045551,
     "user": {
      "displayName": "Nwaynwayaung Lily",
      "userId": "07219691961326149131"
     },
     "user_tz": 240
    },
    "id": "nfgRbIyuVezk",
    "outputId": "a74a51de-cfb2-48e4-a582-066e75c5c664"
   },
   "outputs": [
    {
     "name": "stdout",
     "output_type": "stream",
     "text": [
      "(276,)\n",
      "(276,)\n"
     ]
    }
   ],
   "source": [
    "print(r1.loc[indices_pred_2, 'y_pred'].shape)\n",
    "num_classes = 3\n",
    "num_indices = len(indices_pred_2)\n",
    "assignments = np.tile([1, 2, 3], num_indices // num_classes + 1)[:num_indices]\n",
    "np.random.shuffle(assignments)\n",
    "print(assignments.shape)\n",
    "r1.loc[indices_pred_2, 'y_pred'] = assignments"
   ]
  },
  {
   "cell_type": "code",
   "execution_count": null,
   "id": "4Vmfgr-qUGLL",
   "metadata": {
    "id": "4Vmfgr-qUGLL"
   },
   "outputs": [],
   "source": [
    "r1.loc[indices_pred_1, 'y_pred'] = dr2.loc[indices_pred_1, 'y_pred']\n",
    "r1.loc[indices_pred_1, 'y_true'] = dr2.loc[indices_pred_1, 'y_true']"
   ]
  },
  {
   "cell_type": "code",
   "execution_count": null,
   "id": "31294294-ccd6-499f-ba89-59ca2e5e460c",
   "metadata": {
    "id": "31294294-ccd6-499f-ba89-59ca2e5e460c"
   },
   "outputs": [],
   "source": [
    "r1.to_csv('Cascade_Training_v1_resut.csv',index=False)"
   ]
  },
  {
   "cell_type": "code",
   "execution_count": null,
   "id": "tB7IAtj1CMJX",
   "metadata": {
    "colab": {
     "base_uri": "https://localhost:8080/"
    },
    "executionInfo": {
     "elapsed": 20,
     "status": "ok",
     "timestamp": 1741626045569,
     "user": {
      "displayName": "Nwaynwayaung Lily",
      "userId": "07219691961326149131"
     },
     "user_tz": 240
    },
    "id": "tB7IAtj1CMJX",
    "outputId": "04412830-7f43-474a-ec79-e29c75532038"
   },
   "outputs": [
    {
     "data": {
      "application/vnd.google.colaboratory.intrinsic+json": {
       "summary": "{\n  \"name\": \"report_df\",\n  \"rows\": 7,\n  \"fields\": [\n    {\n      \"column\": \"precision\",\n      \"properties\": {\n        \"dtype\": \"number\",\n        \"std\": 0.19288992247625916,\n        \"min\": 0.3717948717948718,\n        \"max\": 1.0,\n        \"num_unique_values\": 7,\n        \"samples\": [\n          1.0,\n          0.3717948717948718,\n          0.6761659400663353\n        ],\n        \"semantic_type\": \"\",\n        \"description\": \"\"\n      }\n    },\n    {\n      \"column\": \"recall\",\n      \"properties\": {\n        \"dtype\": \"number\",\n        \"std\": 0.2177188606817885,\n        \"min\": 0.39956331877729256,\n        \"max\": 1.0,\n        \"num_unique_values\": 6,\n        \"samples\": [\n          0.39956331877729256,\n          0.9666666666666667,\n          0.8356286426060491\n        ],\n        \"semantic_type\": \"\",\n        \"description\": \"\"\n      }\n    },\n    {\n      \"column\": \"f1-score\",\n      \"properties\": {\n        \"dtype\": \"number\",\n        \"std\": 0.1013751016510794,\n        \"min\": 0.5370370370370371,\n        \"max\": 0.8344594594594594,\n        \"num_unique_values\": 7,\n        \"samples\": [\n          0.5709828393135725,\n          0.5370370370370371,\n          0.6739487464193608\n        ],\n        \"semantic_type\": \"\",\n        \"description\": \"\"\n      }\n    },\n    {\n      \"column\": \"support\",\n      \"properties\": {\n        \"dtype\": \"number\",\n        \"std\": 385.66043714992145,\n        \"min\": 0.6900328587075575,\n        \"max\": 913.0,\n        \"num_unique_values\": 6,\n        \"samples\": [\n          458.0,\n          60.0,\n          913.0\n        ],\n        \"semantic_type\": \"\",\n        \"description\": \"\"\n      }\n    }\n  ]\n}",
       "type": "dataframe",
       "variable_name": "report_df"
      },
      "text/html": [
       "\n",
       "  <div id=\"df-ee48823b-60a7-40f1-9fea-2ccb76ab85ea\" class=\"colab-df-container\">\n",
       "    <div>\n",
       "<style scoped>\n",
       "    .dataframe tbody tr th:only-of-type {\n",
       "        vertical-align: middle;\n",
       "    }\n",
       "\n",
       "    .dataframe tbody tr th {\n",
       "        vertical-align: top;\n",
       "    }\n",
       "\n",
       "    .dataframe thead th {\n",
       "        text-align: right;\n",
       "    }\n",
       "</style>\n",
       "<table border=\"1\" class=\"dataframe\">\n",
       "  <thead>\n",
       "    <tr style=\"text-align: right;\">\n",
       "      <th></th>\n",
       "      <th>precision</th>\n",
       "      <th>recall</th>\n",
       "      <th>f1-score</th>\n",
       "      <th>support</th>\n",
       "    </tr>\n",
       "  </thead>\n",
       "  <tbody>\n",
       "    <tr>\n",
       "      <th>0</th>\n",
       "      <td>1.000000</td>\n",
       "      <td>0.399563</td>\n",
       "      <td>0.570983</td>\n",
       "      <td>458.000000</td>\n",
       "    </tr>\n",
       "    <tr>\n",
       "      <th>1</th>\n",
       "      <td>0.371795</td>\n",
       "      <td>0.966667</td>\n",
       "      <td>0.537037</td>\n",
       "      <td>60.000000</td>\n",
       "    </tr>\n",
       "    <tr>\n",
       "      <th>2</th>\n",
       "      <td>0.728614</td>\n",
       "      <td>0.976285</td>\n",
       "      <td>0.834459</td>\n",
       "      <td>253.000000</td>\n",
       "    </tr>\n",
       "    <tr>\n",
       "      <th>3</th>\n",
       "      <td>0.604255</td>\n",
       "      <td>1.000000</td>\n",
       "      <td>0.753316</td>\n",
       "      <td>142.000000</td>\n",
       "    </tr>\n",
       "    <tr>\n",
       "      <th>accuracy</th>\n",
       "      <td>0.690033</td>\n",
       "      <td>0.690033</td>\n",
       "      <td>0.690033</td>\n",
       "      <td>0.690033</td>\n",
       "    </tr>\n",
       "    <tr>\n",
       "      <th>macro avg</th>\n",
       "      <td>0.676166</td>\n",
       "      <td>0.835629</td>\n",
       "      <td>0.673949</td>\n",
       "      <td>913.000000</td>\n",
       "    </tr>\n",
       "    <tr>\n",
       "      <th>weighted avg</th>\n",
       "      <td>0.821962</td>\n",
       "      <td>0.690033</td>\n",
       "      <td>0.670122</td>\n",
       "      <td>913.000000</td>\n",
       "    </tr>\n",
       "  </tbody>\n",
       "</table>\n",
       "</div>\n",
       "    <div class=\"colab-df-buttons\">\n",
       "\n",
       "  <div class=\"colab-df-container\">\n",
       "    <button class=\"colab-df-convert\" onclick=\"convertToInteractive('df-ee48823b-60a7-40f1-9fea-2ccb76ab85ea')\"\n",
       "            title=\"Convert this dataframe to an interactive table.\"\n",
       "            style=\"display:none;\">\n",
       "\n",
       "  <svg xmlns=\"http://www.w3.org/2000/svg\" height=\"24px\" viewBox=\"0 -960 960 960\">\n",
       "    <path d=\"M120-120v-720h720v720H120Zm60-500h600v-160H180v160Zm220 220h160v-160H400v160Zm0 220h160v-160H400v160ZM180-400h160v-160H180v160Zm440 0h160v-160H620v160ZM180-180h160v-160H180v160Zm440 0h160v-160H620v160Z\"/>\n",
       "  </svg>\n",
       "    </button>\n",
       "\n",
       "  <style>\n",
       "    .colab-df-container {\n",
       "      display:flex;\n",
       "      gap: 12px;\n",
       "    }\n",
       "\n",
       "    .colab-df-convert {\n",
       "      background-color: #E8F0FE;\n",
       "      border: none;\n",
       "      border-radius: 50%;\n",
       "      cursor: pointer;\n",
       "      display: none;\n",
       "      fill: #1967D2;\n",
       "      height: 32px;\n",
       "      padding: 0 0 0 0;\n",
       "      width: 32px;\n",
       "    }\n",
       "\n",
       "    .colab-df-convert:hover {\n",
       "      background-color: #E2EBFA;\n",
       "      box-shadow: 0px 1px 2px rgba(60, 64, 67, 0.3), 0px 1px 3px 1px rgba(60, 64, 67, 0.15);\n",
       "      fill: #174EA6;\n",
       "    }\n",
       "\n",
       "    .colab-df-buttons div {\n",
       "      margin-bottom: 4px;\n",
       "    }\n",
       "\n",
       "    [theme=dark] .colab-df-convert {\n",
       "      background-color: #3B4455;\n",
       "      fill: #D2E3FC;\n",
       "    }\n",
       "\n",
       "    [theme=dark] .colab-df-convert:hover {\n",
       "      background-color: #434B5C;\n",
       "      box-shadow: 0px 1px 3px 1px rgba(0, 0, 0, 0.15);\n",
       "      filter: drop-shadow(0px 1px 2px rgba(0, 0, 0, 0.3));\n",
       "      fill: #FFFFFF;\n",
       "    }\n",
       "  </style>\n",
       "\n",
       "    <script>\n",
       "      const buttonEl =\n",
       "        document.querySelector('#df-ee48823b-60a7-40f1-9fea-2ccb76ab85ea button.colab-df-convert');\n",
       "      buttonEl.style.display =\n",
       "        google.colab.kernel.accessAllowed ? 'block' : 'none';\n",
       "\n",
       "      async function convertToInteractive(key) {\n",
       "        const element = document.querySelector('#df-ee48823b-60a7-40f1-9fea-2ccb76ab85ea');\n",
       "        const dataTable =\n",
       "          await google.colab.kernel.invokeFunction('convertToInteractive',\n",
       "                                                    [key], {});\n",
       "        if (!dataTable) return;\n",
       "\n",
       "        const docLinkHtml = 'Like what you see? Visit the ' +\n",
       "          '<a target=\"_blank\" href=https://colab.research.google.com/notebooks/data_table.ipynb>data table notebook</a>'\n",
       "          + ' to learn more about interactive tables.';\n",
       "        element.innerHTML = '';\n",
       "        dataTable['output_type'] = 'display_data';\n",
       "        await google.colab.output.renderOutput(dataTable, element);\n",
       "        const docLink = document.createElement('div');\n",
       "        docLink.innerHTML = docLinkHtml;\n",
       "        element.appendChild(docLink);\n",
       "      }\n",
       "    </script>\n",
       "  </div>\n",
       "\n",
       "\n",
       "<div id=\"df-15f74578-8eb9-42fa-81d5-704393ee15ae\">\n",
       "  <button class=\"colab-df-quickchart\" onclick=\"quickchart('df-15f74578-8eb9-42fa-81d5-704393ee15ae')\"\n",
       "            title=\"Suggest charts\"\n",
       "            style=\"display:none;\">\n",
       "\n",
       "<svg xmlns=\"http://www.w3.org/2000/svg\" height=\"24px\"viewBox=\"0 0 24 24\"\n",
       "     width=\"24px\">\n",
       "    <g>\n",
       "        <path d=\"M19 3H5c-1.1 0-2 .9-2 2v14c0 1.1.9 2 2 2h14c1.1 0 2-.9 2-2V5c0-1.1-.9-2-2-2zM9 17H7v-7h2v7zm4 0h-2V7h2v10zm4 0h-2v-4h2v4z\"/>\n",
       "    </g>\n",
       "</svg>\n",
       "  </button>\n",
       "\n",
       "<style>\n",
       "  .colab-df-quickchart {\n",
       "      --bg-color: #E8F0FE;\n",
       "      --fill-color: #1967D2;\n",
       "      --hover-bg-color: #E2EBFA;\n",
       "      --hover-fill-color: #174EA6;\n",
       "      --disabled-fill-color: #AAA;\n",
       "      --disabled-bg-color: #DDD;\n",
       "  }\n",
       "\n",
       "  [theme=dark] .colab-df-quickchart {\n",
       "      --bg-color: #3B4455;\n",
       "      --fill-color: #D2E3FC;\n",
       "      --hover-bg-color: #434B5C;\n",
       "      --hover-fill-color: #FFFFFF;\n",
       "      --disabled-bg-color: #3B4455;\n",
       "      --disabled-fill-color: #666;\n",
       "  }\n",
       "\n",
       "  .colab-df-quickchart {\n",
       "    background-color: var(--bg-color);\n",
       "    border: none;\n",
       "    border-radius: 50%;\n",
       "    cursor: pointer;\n",
       "    display: none;\n",
       "    fill: var(--fill-color);\n",
       "    height: 32px;\n",
       "    padding: 0;\n",
       "    width: 32px;\n",
       "  }\n",
       "\n",
       "  .colab-df-quickchart:hover {\n",
       "    background-color: var(--hover-bg-color);\n",
       "    box-shadow: 0 1px 2px rgba(60, 64, 67, 0.3), 0 1px 3px 1px rgba(60, 64, 67, 0.15);\n",
       "    fill: var(--button-hover-fill-color);\n",
       "  }\n",
       "\n",
       "  .colab-df-quickchart-complete:disabled,\n",
       "  .colab-df-quickchart-complete:disabled:hover {\n",
       "    background-color: var(--disabled-bg-color);\n",
       "    fill: var(--disabled-fill-color);\n",
       "    box-shadow: none;\n",
       "  }\n",
       "\n",
       "  .colab-df-spinner {\n",
       "    border: 2px solid var(--fill-color);\n",
       "    border-color: transparent;\n",
       "    border-bottom-color: var(--fill-color);\n",
       "    animation:\n",
       "      spin 1s steps(1) infinite;\n",
       "  }\n",
       "\n",
       "  @keyframes spin {\n",
       "    0% {\n",
       "      border-color: transparent;\n",
       "      border-bottom-color: var(--fill-color);\n",
       "      border-left-color: var(--fill-color);\n",
       "    }\n",
       "    20% {\n",
       "      border-color: transparent;\n",
       "      border-left-color: var(--fill-color);\n",
       "      border-top-color: var(--fill-color);\n",
       "    }\n",
       "    30% {\n",
       "      border-color: transparent;\n",
       "      border-left-color: var(--fill-color);\n",
       "      border-top-color: var(--fill-color);\n",
       "      border-right-color: var(--fill-color);\n",
       "    }\n",
       "    40% {\n",
       "      border-color: transparent;\n",
       "      border-right-color: var(--fill-color);\n",
       "      border-top-color: var(--fill-color);\n",
       "    }\n",
       "    60% {\n",
       "      border-color: transparent;\n",
       "      border-right-color: var(--fill-color);\n",
       "    }\n",
       "    80% {\n",
       "      border-color: transparent;\n",
       "      border-right-color: var(--fill-color);\n",
       "      border-bottom-color: var(--fill-color);\n",
       "    }\n",
       "    90% {\n",
       "      border-color: transparent;\n",
       "      border-bottom-color: var(--fill-color);\n",
       "    }\n",
       "  }\n",
       "</style>\n",
       "\n",
       "  <script>\n",
       "    async function quickchart(key) {\n",
       "      const quickchartButtonEl =\n",
       "        document.querySelector('#' + key + ' button');\n",
       "      quickchartButtonEl.disabled = true;  // To prevent multiple clicks.\n",
       "      quickchartButtonEl.classList.add('colab-df-spinner');\n",
       "      try {\n",
       "        const charts = await google.colab.kernel.invokeFunction(\n",
       "            'suggestCharts', [key], {});\n",
       "      } catch (error) {\n",
       "        console.error('Error during call to suggestCharts:', error);\n",
       "      }\n",
       "      quickchartButtonEl.classList.remove('colab-df-spinner');\n",
       "      quickchartButtonEl.classList.add('colab-df-quickchart-complete');\n",
       "    }\n",
       "    (() => {\n",
       "      let quickchartButtonEl =\n",
       "        document.querySelector('#df-15f74578-8eb9-42fa-81d5-704393ee15ae button');\n",
       "      quickchartButtonEl.style.display =\n",
       "        google.colab.kernel.accessAllowed ? 'block' : 'none';\n",
       "    })();\n",
       "  </script>\n",
       "</div>\n",
       "\n",
       "  <div id=\"id_b326ee34-b30e-425c-bcf4-8ddaa0a83c2e\">\n",
       "    <style>\n",
       "      .colab-df-generate {\n",
       "        background-color: #E8F0FE;\n",
       "        border: none;\n",
       "        border-radius: 50%;\n",
       "        cursor: pointer;\n",
       "        display: none;\n",
       "        fill: #1967D2;\n",
       "        height: 32px;\n",
       "        padding: 0 0 0 0;\n",
       "        width: 32px;\n",
       "      }\n",
       "\n",
       "      .colab-df-generate:hover {\n",
       "        background-color: #E2EBFA;\n",
       "        box-shadow: 0px 1px 2px rgba(60, 64, 67, 0.3), 0px 1px 3px 1px rgba(60, 64, 67, 0.15);\n",
       "        fill: #174EA6;\n",
       "      }\n",
       "\n",
       "      [theme=dark] .colab-df-generate {\n",
       "        background-color: #3B4455;\n",
       "        fill: #D2E3FC;\n",
       "      }\n",
       "\n",
       "      [theme=dark] .colab-df-generate:hover {\n",
       "        background-color: #434B5C;\n",
       "        box-shadow: 0px 1px 3px 1px rgba(0, 0, 0, 0.15);\n",
       "        filter: drop-shadow(0px 1px 2px rgba(0, 0, 0, 0.3));\n",
       "        fill: #FFFFFF;\n",
       "      }\n",
       "    </style>\n",
       "    <button class=\"colab-df-generate\" onclick=\"generateWithVariable('report_df')\"\n",
       "            title=\"Generate code using this dataframe.\"\n",
       "            style=\"display:none;\">\n",
       "\n",
       "  <svg xmlns=\"http://www.w3.org/2000/svg\" height=\"24px\"viewBox=\"0 0 24 24\"\n",
       "       width=\"24px\">\n",
       "    <path d=\"M7,19H8.4L18.45,9,17,7.55,7,17.6ZM5,21V16.75L18.45,3.32a2,2,0,0,1,2.83,0l1.4,1.43a1.91,1.91,0,0,1,.58,1.4,1.91,1.91,0,0,1-.58,1.4L9.25,21ZM18.45,9,17,7.55Zm-12,3A5.31,5.31,0,0,0,4.9,8.1,5.31,5.31,0,0,0,1,6.5,5.31,5.31,0,0,0,4.9,4.9,5.31,5.31,0,0,0,6.5,1,5.31,5.31,0,0,0,8.1,4.9,5.31,5.31,0,0,0,12,6.5,5.46,5.46,0,0,0,6.5,12Z\"/>\n",
       "  </svg>\n",
       "    </button>\n",
       "    <script>\n",
       "      (() => {\n",
       "      const buttonEl =\n",
       "        document.querySelector('#id_b326ee34-b30e-425c-bcf4-8ddaa0a83c2e button.colab-df-generate');\n",
       "      buttonEl.style.display =\n",
       "        google.colab.kernel.accessAllowed ? 'block' : 'none';\n",
       "\n",
       "      buttonEl.onclick = () => {\n",
       "        google.colab.notebook.generateWithVariable('report_df');\n",
       "      }\n",
       "      })();\n",
       "    </script>\n",
       "  </div>\n",
       "\n",
       "    </div>\n",
       "  </div>\n"
      ],
      "text/plain": [
       "              precision    recall  f1-score     support\n",
       "0              1.000000  0.399563  0.570983  458.000000\n",
       "1              0.371795  0.966667  0.537037   60.000000\n",
       "2              0.728614  0.976285  0.834459  253.000000\n",
       "3              0.604255  1.000000  0.753316  142.000000\n",
       "accuracy       0.690033  0.690033  0.690033    0.690033\n",
       "macro avg      0.676166  0.835629  0.673949  913.000000\n",
       "weighted avg   0.821962  0.690033  0.670122  913.000000"
      ]
     },
     "execution_count": 60,
     "metadata": {},
     "output_type": "execute_result"
    }
   ],
   "source": [
    "result_report = classification_report(r1.y_true,r1.y_pred, output_dict=True , digits = 2)\n",
    "report_df = pd.DataFrame(result_report).transpose()\n",
    "report_df"
   ]
  },
  {
   "cell_type": "code",
   "execution_count": null,
   "id": "t1jDsrAnaUSg",
   "metadata": {
    "colab": {
     "base_uri": "https://localhost:8080/"
    },
    "executionInfo": {
     "elapsed": 47,
     "status": "ok",
     "timestamp": 1741626045617,
     "user": {
      "displayName": "Nwaynwayaung Lily",
      "userId": "07219691961326149131"
     },
     "user_tz": 240
    },
    "id": "t1jDsrAnaUSg",
    "outputId": "4423671a-7b83-418e-fe65-739f6d71ee0c"
   },
   "outputs": [
    {
     "data": {
      "application/vnd.google.colaboratory.intrinsic+json": {
       "summary": "{\n  \"name\": \"d\",\n  \"rows\": 6,\n  \"fields\": [\n    {\n      \"column\": \"precision\",\n      \"properties\": {\n        \"dtype\": \"number\",\n        \"std\": 0.0338419867164539,\n        \"min\": 0.9076923076923077,\n        \"max\": 1.0,\n        \"num_unique_values\": 6,\n        \"samples\": [\n          0.9076923076923077,\n          1.0,\n          0.9856451241066626\n        ],\n        \"semantic_type\": \"\",\n        \"description\": \"\"\n      }\n    },\n    {\n      \"column\": \"recall\",\n      \"properties\": {\n        \"dtype\": \"number\",\n        \"std\": 0.007766120594256943,\n        \"min\": 0.9762845849802372,\n        \"max\": 1.0,\n        \"num_unique_values\": 5,\n        \"samples\": [\n          0.9762845849802372,\n          0.9865393061045236,\n          1.0\n        ],\n        \"semantic_type\": \"\",\n        \"description\": \"\"\n      }\n    },\n    {\n      \"column\": \"f1-score\",\n      \"properties\": {\n        \"dtype\": \"number\",\n        \"std\": 0.01836145166018047,\n        \"min\": 0.944,\n        \"max\": 0.9964912280701754,\n        \"num_unique_values\": 6,\n        \"samples\": [\n          0.944,\n          0.988,\n          0.9848478118372855\n        ],\n        \"semantic_type\": \"\",\n        \"description\": \"\"\n      }\n    },\n    {\n      \"column\": \"support\",\n      \"properties\": {\n        \"dtype\": \"number\",\n        \"std\": 195.36545646021784,\n        \"min\": 0.9846153846153847,\n        \"max\": 455.0,\n        \"num_unique_values\": 5,\n        \"samples\": [\n          253.0,\n          455.0,\n          142.0\n        ],\n        \"semantic_type\": \"\",\n        \"description\": \"\"\n      }\n    }\n  ]\n}",
       "type": "dataframe",
       "variable_name": "d"
      },
      "text/html": [
       "\n",
       "  <div id=\"df-74ecf6c6-3eb1-48ea-97e2-da5146c14b62\" class=\"colab-df-container\">\n",
       "    <div>\n",
       "<style scoped>\n",
       "    .dataframe tbody tr th:only-of-type {\n",
       "        vertical-align: middle;\n",
       "    }\n",
       "\n",
       "    .dataframe tbody tr th {\n",
       "        vertical-align: top;\n",
       "    }\n",
       "\n",
       "    .dataframe thead th {\n",
       "        text-align: right;\n",
       "    }\n",
       "</style>\n",
       "<table border=\"1\" class=\"dataframe\">\n",
       "  <thead>\n",
       "    <tr style=\"text-align: right;\">\n",
       "      <th></th>\n",
       "      <th>precision</th>\n",
       "      <th>recall</th>\n",
       "      <th>f1-score</th>\n",
       "      <th>support</th>\n",
       "    </tr>\n",
       "  </thead>\n",
       "  <tbody>\n",
       "    <tr>\n",
       "      <th>1</th>\n",
       "      <td>0.907692</td>\n",
       "      <td>0.983333</td>\n",
       "      <td>0.944000</td>\n",
       "      <td>60.000000</td>\n",
       "    </tr>\n",
       "    <tr>\n",
       "      <th>2</th>\n",
       "      <td>1.000000</td>\n",
       "      <td>0.976285</td>\n",
       "      <td>0.988000</td>\n",
       "      <td>253.000000</td>\n",
       "    </tr>\n",
       "    <tr>\n",
       "      <th>3</th>\n",
       "      <td>0.993007</td>\n",
       "      <td>1.000000</td>\n",
       "      <td>0.996491</td>\n",
       "      <td>142.000000</td>\n",
       "    </tr>\n",
       "    <tr>\n",
       "      <th>accuracy</th>\n",
       "      <td>0.984615</td>\n",
       "      <td>0.984615</td>\n",
       "      <td>0.984615</td>\n",
       "      <td>0.984615</td>\n",
       "    </tr>\n",
       "    <tr>\n",
       "      <th>macro avg</th>\n",
       "      <td>0.966900</td>\n",
       "      <td>0.986539</td>\n",
       "      <td>0.976164</td>\n",
       "      <td>455.000000</td>\n",
       "    </tr>\n",
       "    <tr>\n",
       "      <th>weighted avg</th>\n",
       "      <td>0.985645</td>\n",
       "      <td>0.984615</td>\n",
       "      <td>0.984848</td>\n",
       "      <td>455.000000</td>\n",
       "    </tr>\n",
       "  </tbody>\n",
       "</table>\n",
       "</div>\n",
       "    <div class=\"colab-df-buttons\">\n",
       "\n",
       "  <div class=\"colab-df-container\">\n",
       "    <button class=\"colab-df-convert\" onclick=\"convertToInteractive('df-74ecf6c6-3eb1-48ea-97e2-da5146c14b62')\"\n",
       "            title=\"Convert this dataframe to an interactive table.\"\n",
       "            style=\"display:none;\">\n",
       "\n",
       "  <svg xmlns=\"http://www.w3.org/2000/svg\" height=\"24px\" viewBox=\"0 -960 960 960\">\n",
       "    <path d=\"M120-120v-720h720v720H120Zm60-500h600v-160H180v160Zm220 220h160v-160H400v160Zm0 220h160v-160H400v160ZM180-400h160v-160H180v160Zm440 0h160v-160H620v160ZM180-180h160v-160H180v160Zm440 0h160v-160H620v160Z\"/>\n",
       "  </svg>\n",
       "    </button>\n",
       "\n",
       "  <style>\n",
       "    .colab-df-container {\n",
       "      display:flex;\n",
       "      gap: 12px;\n",
       "    }\n",
       "\n",
       "    .colab-df-convert {\n",
       "      background-color: #E8F0FE;\n",
       "      border: none;\n",
       "      border-radius: 50%;\n",
       "      cursor: pointer;\n",
       "      display: none;\n",
       "      fill: #1967D2;\n",
       "      height: 32px;\n",
       "      padding: 0 0 0 0;\n",
       "      width: 32px;\n",
       "    }\n",
       "\n",
       "    .colab-df-convert:hover {\n",
       "      background-color: #E2EBFA;\n",
       "      box-shadow: 0px 1px 2px rgba(60, 64, 67, 0.3), 0px 1px 3px 1px rgba(60, 64, 67, 0.15);\n",
       "      fill: #174EA6;\n",
       "    }\n",
       "\n",
       "    .colab-df-buttons div {\n",
       "      margin-bottom: 4px;\n",
       "    }\n",
       "\n",
       "    [theme=dark] .colab-df-convert {\n",
       "      background-color: #3B4455;\n",
       "      fill: #D2E3FC;\n",
       "    }\n",
       "\n",
       "    [theme=dark] .colab-df-convert:hover {\n",
       "      background-color: #434B5C;\n",
       "      box-shadow: 0px 1px 3px 1px rgba(0, 0, 0, 0.15);\n",
       "      filter: drop-shadow(0px 1px 2px rgba(0, 0, 0, 0.3));\n",
       "      fill: #FFFFFF;\n",
       "    }\n",
       "  </style>\n",
       "\n",
       "    <script>\n",
       "      const buttonEl =\n",
       "        document.querySelector('#df-74ecf6c6-3eb1-48ea-97e2-da5146c14b62 button.colab-df-convert');\n",
       "      buttonEl.style.display =\n",
       "        google.colab.kernel.accessAllowed ? 'block' : 'none';\n",
       "\n",
       "      async function convertToInteractive(key) {\n",
       "        const element = document.querySelector('#df-74ecf6c6-3eb1-48ea-97e2-da5146c14b62');\n",
       "        const dataTable =\n",
       "          await google.colab.kernel.invokeFunction('convertToInteractive',\n",
       "                                                    [key], {});\n",
       "        if (!dataTable) return;\n",
       "\n",
       "        const docLinkHtml = 'Like what you see? Visit the ' +\n",
       "          '<a target=\"_blank\" href=https://colab.research.google.com/notebooks/data_table.ipynb>data table notebook</a>'\n",
       "          + ' to learn more about interactive tables.';\n",
       "        element.innerHTML = '';\n",
       "        dataTable['output_type'] = 'display_data';\n",
       "        await google.colab.output.renderOutput(dataTable, element);\n",
       "        const docLink = document.createElement('div');\n",
       "        docLink.innerHTML = docLinkHtml;\n",
       "        element.appendChild(docLink);\n",
       "      }\n",
       "    </script>\n",
       "  </div>\n",
       "\n",
       "\n",
       "<div id=\"df-5dab90aa-8508-4c3b-91d4-84d1fded7d4c\">\n",
       "  <button class=\"colab-df-quickchart\" onclick=\"quickchart('df-5dab90aa-8508-4c3b-91d4-84d1fded7d4c')\"\n",
       "            title=\"Suggest charts\"\n",
       "            style=\"display:none;\">\n",
       "\n",
       "<svg xmlns=\"http://www.w3.org/2000/svg\" height=\"24px\"viewBox=\"0 0 24 24\"\n",
       "     width=\"24px\">\n",
       "    <g>\n",
       "        <path d=\"M19 3H5c-1.1 0-2 .9-2 2v14c0 1.1.9 2 2 2h14c1.1 0 2-.9 2-2V5c0-1.1-.9-2-2-2zM9 17H7v-7h2v7zm4 0h-2V7h2v10zm4 0h-2v-4h2v4z\"/>\n",
       "    </g>\n",
       "</svg>\n",
       "  </button>\n",
       "\n",
       "<style>\n",
       "  .colab-df-quickchart {\n",
       "      --bg-color: #E8F0FE;\n",
       "      --fill-color: #1967D2;\n",
       "      --hover-bg-color: #E2EBFA;\n",
       "      --hover-fill-color: #174EA6;\n",
       "      --disabled-fill-color: #AAA;\n",
       "      --disabled-bg-color: #DDD;\n",
       "  }\n",
       "\n",
       "  [theme=dark] .colab-df-quickchart {\n",
       "      --bg-color: #3B4455;\n",
       "      --fill-color: #D2E3FC;\n",
       "      --hover-bg-color: #434B5C;\n",
       "      --hover-fill-color: #FFFFFF;\n",
       "      --disabled-bg-color: #3B4455;\n",
       "      --disabled-fill-color: #666;\n",
       "  }\n",
       "\n",
       "  .colab-df-quickchart {\n",
       "    background-color: var(--bg-color);\n",
       "    border: none;\n",
       "    border-radius: 50%;\n",
       "    cursor: pointer;\n",
       "    display: none;\n",
       "    fill: var(--fill-color);\n",
       "    height: 32px;\n",
       "    padding: 0;\n",
       "    width: 32px;\n",
       "  }\n",
       "\n",
       "  .colab-df-quickchart:hover {\n",
       "    background-color: var(--hover-bg-color);\n",
       "    box-shadow: 0 1px 2px rgba(60, 64, 67, 0.3), 0 1px 3px 1px rgba(60, 64, 67, 0.15);\n",
       "    fill: var(--button-hover-fill-color);\n",
       "  }\n",
       "\n",
       "  .colab-df-quickchart-complete:disabled,\n",
       "  .colab-df-quickchart-complete:disabled:hover {\n",
       "    background-color: var(--disabled-bg-color);\n",
       "    fill: var(--disabled-fill-color);\n",
       "    box-shadow: none;\n",
       "  }\n",
       "\n",
       "  .colab-df-spinner {\n",
       "    border: 2px solid var(--fill-color);\n",
       "    border-color: transparent;\n",
       "    border-bottom-color: var(--fill-color);\n",
       "    animation:\n",
       "      spin 1s steps(1) infinite;\n",
       "  }\n",
       "\n",
       "  @keyframes spin {\n",
       "    0% {\n",
       "      border-color: transparent;\n",
       "      border-bottom-color: var(--fill-color);\n",
       "      border-left-color: var(--fill-color);\n",
       "    }\n",
       "    20% {\n",
       "      border-color: transparent;\n",
       "      border-left-color: var(--fill-color);\n",
       "      border-top-color: var(--fill-color);\n",
       "    }\n",
       "    30% {\n",
       "      border-color: transparent;\n",
       "      border-left-color: var(--fill-color);\n",
       "      border-top-color: var(--fill-color);\n",
       "      border-right-color: var(--fill-color);\n",
       "    }\n",
       "    40% {\n",
       "      border-color: transparent;\n",
       "      border-right-color: var(--fill-color);\n",
       "      border-top-color: var(--fill-color);\n",
       "    }\n",
       "    60% {\n",
       "      border-color: transparent;\n",
       "      border-right-color: var(--fill-color);\n",
       "    }\n",
       "    80% {\n",
       "      border-color: transparent;\n",
       "      border-right-color: var(--fill-color);\n",
       "      border-bottom-color: var(--fill-color);\n",
       "    }\n",
       "    90% {\n",
       "      border-color: transparent;\n",
       "      border-bottom-color: var(--fill-color);\n",
       "    }\n",
       "  }\n",
       "</style>\n",
       "\n",
       "  <script>\n",
       "    async function quickchart(key) {\n",
       "      const quickchartButtonEl =\n",
       "        document.querySelector('#' + key + ' button');\n",
       "      quickchartButtonEl.disabled = true;  // To prevent multiple clicks.\n",
       "      quickchartButtonEl.classList.add('colab-df-spinner');\n",
       "      try {\n",
       "        const charts = await google.colab.kernel.invokeFunction(\n",
       "            'suggestCharts', [key], {});\n",
       "      } catch (error) {\n",
       "        console.error('Error during call to suggestCharts:', error);\n",
       "      }\n",
       "      quickchartButtonEl.classList.remove('colab-df-spinner');\n",
       "      quickchartButtonEl.classList.add('colab-df-quickchart-complete');\n",
       "    }\n",
       "    (() => {\n",
       "      let quickchartButtonEl =\n",
       "        document.querySelector('#df-5dab90aa-8508-4c3b-91d4-84d1fded7d4c button');\n",
       "      quickchartButtonEl.style.display =\n",
       "        google.colab.kernel.accessAllowed ? 'block' : 'none';\n",
       "    })();\n",
       "  </script>\n",
       "</div>\n",
       "\n",
       "  <div id=\"id_b4d8ca2e-790a-4330-ac61-46e73fb2a2dc\">\n",
       "    <style>\n",
       "      .colab-df-generate {\n",
       "        background-color: #E8F0FE;\n",
       "        border: none;\n",
       "        border-radius: 50%;\n",
       "        cursor: pointer;\n",
       "        display: none;\n",
       "        fill: #1967D2;\n",
       "        height: 32px;\n",
       "        padding: 0 0 0 0;\n",
       "        width: 32px;\n",
       "      }\n",
       "\n",
       "      .colab-df-generate:hover {\n",
       "        background-color: #E2EBFA;\n",
       "        box-shadow: 0px 1px 2px rgba(60, 64, 67, 0.3), 0px 1px 3px 1px rgba(60, 64, 67, 0.15);\n",
       "        fill: #174EA6;\n",
       "      }\n",
       "\n",
       "      [theme=dark] .colab-df-generate {\n",
       "        background-color: #3B4455;\n",
       "        fill: #D2E3FC;\n",
       "      }\n",
       "\n",
       "      [theme=dark] .colab-df-generate:hover {\n",
       "        background-color: #434B5C;\n",
       "        box-shadow: 0px 1px 3px 1px rgba(0, 0, 0, 0.15);\n",
       "        filter: drop-shadow(0px 1px 2px rgba(0, 0, 0, 0.3));\n",
       "        fill: #FFFFFF;\n",
       "      }\n",
       "    </style>\n",
       "    <button class=\"colab-df-generate\" onclick=\"generateWithVariable('d')\"\n",
       "            title=\"Generate code using this dataframe.\"\n",
       "            style=\"display:none;\">\n",
       "\n",
       "  <svg xmlns=\"http://www.w3.org/2000/svg\" height=\"24px\"viewBox=\"0 0 24 24\"\n",
       "       width=\"24px\">\n",
       "    <path d=\"M7,19H8.4L18.45,9,17,7.55,7,17.6ZM5,21V16.75L18.45,3.32a2,2,0,0,1,2.83,0l1.4,1.43a1.91,1.91,0,0,1,.58,1.4,1.91,1.91,0,0,1-.58,1.4L9.25,21ZM18.45,9,17,7.55Zm-12,3A5.31,5.31,0,0,0,4.9,8.1,5.31,5.31,0,0,0,1,6.5,5.31,5.31,0,0,0,4.9,4.9,5.31,5.31,0,0,0,6.5,1,5.31,5.31,0,0,0,8.1,4.9,5.31,5.31,0,0,0,12,6.5,5.46,5.46,0,0,0,6.5,12Z\"/>\n",
       "  </svg>\n",
       "    </button>\n",
       "    <script>\n",
       "      (() => {\n",
       "      const buttonEl =\n",
       "        document.querySelector('#id_b4d8ca2e-790a-4330-ac61-46e73fb2a2dc button.colab-df-generate');\n",
       "      buttonEl.style.display =\n",
       "        google.colab.kernel.accessAllowed ? 'block' : 'none';\n",
       "\n",
       "      buttonEl.onclick = () => {\n",
       "        google.colab.notebook.generateWithVariable('d');\n",
       "      }\n",
       "      })();\n",
       "    </script>\n",
       "  </div>\n",
       "\n",
       "    </div>\n",
       "  </div>\n"
      ],
      "text/plain": [
       "              precision    recall  f1-score     support\n",
       "1              0.907692  0.983333  0.944000   60.000000\n",
       "2              1.000000  0.976285  0.988000  253.000000\n",
       "3              0.993007  1.000000  0.996491  142.000000\n",
       "accuracy       0.984615  0.984615  0.984615    0.984615\n",
       "macro avg      0.966900  0.986539  0.976164  455.000000\n",
       "weighted avg   0.985645  0.984615  0.984848  455.000000"
      ]
     },
     "execution_count": 61,
     "metadata": {},
     "output_type": "execute_result"
    }
   ],
   "source": [
    "a = classification_report(r2.y_true,r2.y_pred, output_dict=True , digits = 2)\n",
    "d = pd.DataFrame(a).transpose()\n",
    "d"
   ]
  },
  {
   "cell_type": "code",
   "execution_count": null,
   "id": "sFpWyiWQaysD",
   "metadata": {
    "id": "sFpWyiWQaysD"
   },
   "outputs": [],
   "source": []
  },
  {
   "cell_type": "code",
   "execution_count": null,
   "id": "e2b2c342-2265-4e79-bc99-45da40d84b74",
   "metadata": {
    "id": "e2b2c342-2265-4e79-bc99-45da40d84b74"
   },
   "outputs": [],
   "source": []
  }
 ],
 "metadata": {
  "accelerator": "GPU",
  "colab": {
   "gpuType": "T4",
   "provenance": []
  },
  "kernelspec": {
   "display_name": "Python 3 (ipykernel)",
   "language": "python",
   "name": "python3"
  },
  "language_info": {
   "codemirror_mode": {
    "name": "ipython",
    "version": 3
   },
   "file_extension": ".py",
   "mimetype": "text/x-python",
   "name": "python",
   "nbconvert_exporter": "python",
   "pygments_lexer": "ipython3",
   "version": "3.12.9"
  }
 },
 "nbformat": 4,
 "nbformat_minor": 5
}
