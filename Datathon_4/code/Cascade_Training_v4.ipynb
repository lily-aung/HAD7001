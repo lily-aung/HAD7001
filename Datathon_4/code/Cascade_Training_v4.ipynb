{
 "cells": [
  {
   "cell_type": "markdown",
   "id": "793bf1b4-b290-4bb8-b66f-361995252612",
   "metadata": {
    "id": "793bf1b4-b290-4bb8-b66f-361995252612"
   },
   "source": [
    "## Implementation\n",
    "- Signal Smoothing with Median\n",
    "- Dimension Reduction : Con : Lose directional information\n",
    "  \n",
    "      * Compute Composite Feature : Euclidean Norm (x,y,z) -> 1 ; (acce x,y,x -> acce composite) ; (gry x,y,x -> gry composite)\n",
    "- Slding Windowing : Every 100 windows  (50Hz * 2); stride of 50 => sample every 2 seconds\n",
    "- Cascade Training\n",
    "      - Binary Classifier : Resting vs Exercise (0 vs 1)\n",
    "      - Multi Classifier  : Exercise Intensity (0 , 1, 2)\n",
    "- Evaluation : Classification report\n",
    "\n",
    "## Changes\n",
    "- Implemented Subject-wise actiivty downsampling for Majority Class to be the same as minor class - preserved temporal order\n",
    "- Remove Subject 9"
   ]
  },
  {
   "cell_type": "code",
   "execution_count": null,
   "id": "440e8b7f-17ce-40c5-9c80-8785b86f5bfb",
   "metadata": {
    "id": "440e8b7f-17ce-40c5-9c80-8785b86f5bfb"
   },
   "outputs": [],
   "source": [
    "import pandas as pd\n",
    "import seaborn as sns\n",
    "import matplotlib.pyplot as plt\n",
    "from sklearn.preprocessing import LabelEncoder\n",
    "import numpy as np\n",
    "from sklearn.model_selection import train_test_split\n",
    "from sklearn.metrics import classification_report, confusion_matrix\n",
    "from sklearn.preprocessing import StandardScaler\n",
    "scaler = StandardScaler()\n",
    "import pandas as pd\n",
    "import numpy as np\n",
    "import torch\n",
    "import torch.nn as nn\n",
    "import torch.optim as optim\n",
    "import torch.nn.functional as F\n",
    "\n",
    "import matplotlib.pyplot as plt"
   ]
  },
  {
   "cell_type": "code",
   "execution_count": null,
   "id": "VqrCEOoYYsaf",
   "metadata": {
    "colab": {
     "base_uri": "https://localhost:8080/",
     "height": 204
    },
    "executionInfo": {
     "elapsed": 5149,
     "status": "ok",
     "timestamp": 1741491189850,
     "user": {
      "displayName": "nway-lily nus",
      "userId": "14218199843579225004"
     },
     "user_tz": 300
    },
    "id": "VqrCEOoYYsaf",
    "outputId": "a768ffcf-1dac-4e8c-936c-44fcd0b1aae5"
   },
   "outputs": [
    {
     "data": {
      "text/html": [
       "<div>\n",
       "<style scoped>\n",
       "    .dataframe tbody tr th:only-of-type {\n",
       "        vertical-align: middle;\n",
       "    }\n",
       "\n",
       "    .dataframe tbody tr th {\n",
       "        vertical-align: top;\n",
       "    }\n",
       "\n",
       "    .dataframe thead th {\n",
       "        text-align: right;\n",
       "    }\n",
       "</style>\n",
       "<table border=\"1\" class=\"dataframe\">\n",
       "  <thead>\n",
       "    <tr style=\"text-align: right;\">\n",
       "      <th></th>\n",
       "      <th>alx</th>\n",
       "      <th>aly</th>\n",
       "      <th>alz</th>\n",
       "      <th>glx</th>\n",
       "      <th>gly</th>\n",
       "      <th>glz</th>\n",
       "      <th>arx</th>\n",
       "      <th>ary</th>\n",
       "      <th>arz</th>\n",
       "      <th>grx</th>\n",
       "      <th>gry</th>\n",
       "      <th>grz</th>\n",
       "      <th>Activity</th>\n",
       "      <th>subject</th>\n",
       "    </tr>\n",
       "  </thead>\n",
       "  <tbody>\n",
       "    <tr>\n",
       "      <th>0</th>\n",
       "      <td>2.1849</td>\n",
       "      <td>-9.6967</td>\n",
       "      <td>0.63077</td>\n",
       "      <td>0.103900</td>\n",
       "      <td>-0.84053</td>\n",
       "      <td>-0.68762</td>\n",
       "      <td>-8.6499</td>\n",
       "      <td>-4.5781</td>\n",
       "      <td>0.187760</td>\n",
       "      <td>-0.44902</td>\n",
       "      <td>-1.0103</td>\n",
       "      <td>0.034483</td>\n",
       "      <td>0</td>\n",
       "      <td>subject1</td>\n",
       "    </tr>\n",
       "    <tr>\n",
       "      <th>1</th>\n",
       "      <td>2.3876</td>\n",
       "      <td>-9.5080</td>\n",
       "      <td>0.68389</td>\n",
       "      <td>0.085343</td>\n",
       "      <td>-0.83865</td>\n",
       "      <td>-0.68369</td>\n",
       "      <td>-8.6275</td>\n",
       "      <td>-4.3198</td>\n",
       "      <td>0.023595</td>\n",
       "      <td>-0.44902</td>\n",
       "      <td>-1.0103</td>\n",
       "      <td>0.034483</td>\n",
       "      <td>0</td>\n",
       "      <td>subject1</td>\n",
       "    </tr>\n",
       "    <tr>\n",
       "      <th>2</th>\n",
       "      <td>2.4086</td>\n",
       "      <td>-9.5674</td>\n",
       "      <td>0.68113</td>\n",
       "      <td>0.085343</td>\n",
       "      <td>-0.83865</td>\n",
       "      <td>-0.68369</td>\n",
       "      <td>-8.5055</td>\n",
       "      <td>-4.2772</td>\n",
       "      <td>0.275720</td>\n",
       "      <td>-0.44902</td>\n",
       "      <td>-1.0103</td>\n",
       "      <td>0.034483</td>\n",
       "      <td>0</td>\n",
       "      <td>subject1</td>\n",
       "    </tr>\n",
       "    <tr>\n",
       "      <th>3</th>\n",
       "      <td>2.1814</td>\n",
       "      <td>-9.4301</td>\n",
       "      <td>0.55031</td>\n",
       "      <td>0.085343</td>\n",
       "      <td>-0.83865</td>\n",
       "      <td>-0.68369</td>\n",
       "      <td>-8.6279</td>\n",
       "      <td>-4.3163</td>\n",
       "      <td>0.367520</td>\n",
       "      <td>-0.45686</td>\n",
       "      <td>-1.0082</td>\n",
       "      <td>0.025862</td>\n",
       "      <td>0</td>\n",
       "      <td>subject1</td>\n",
       "    </tr>\n",
       "    <tr>\n",
       "      <th>4</th>\n",
       "      <td>2.4173</td>\n",
       "      <td>-9.3889</td>\n",
       "      <td>0.71098</td>\n",
       "      <td>0.085343</td>\n",
       "      <td>-0.83865</td>\n",
       "      <td>-0.68369</td>\n",
       "      <td>-8.7008</td>\n",
       "      <td>-4.1459</td>\n",
       "      <td>0.407290</td>\n",
       "      <td>-0.45686</td>\n",
       "      <td>-1.0082</td>\n",
       "      <td>0.025862</td>\n",
       "      <td>0</td>\n",
       "      <td>subject1</td>\n",
       "    </tr>\n",
       "  </tbody>\n",
       "</table>\n",
       "</div>"
      ],
      "text/plain": [
       "      alx     aly      alz       glx      gly      glz     arx     ary  \\\n",
       "0  2.1849 -9.6967  0.63077  0.103900 -0.84053 -0.68762 -8.6499 -4.5781   \n",
       "1  2.3876 -9.5080  0.68389  0.085343 -0.83865 -0.68369 -8.6275 -4.3198   \n",
       "2  2.4086 -9.5674  0.68113  0.085343 -0.83865 -0.68369 -8.5055 -4.2772   \n",
       "3  2.1814 -9.4301  0.55031  0.085343 -0.83865 -0.68369 -8.6279 -4.3163   \n",
       "4  2.4173 -9.3889  0.71098  0.085343 -0.83865 -0.68369 -8.7008 -4.1459   \n",
       "\n",
       "        arz      grx     gry       grz  Activity   subject  \n",
       "0  0.187760 -0.44902 -1.0103  0.034483         0  subject1  \n",
       "1  0.023595 -0.44902 -1.0103  0.034483         0  subject1  \n",
       "2  0.275720 -0.44902 -1.0103  0.034483         0  subject1  \n",
       "3  0.367520 -0.45686 -1.0082  0.025862         0  subject1  \n",
       "4  0.407290 -0.45686 -1.0082  0.025862         0  subject1  "
      ]
     },
     "execution_count": 2,
     "metadata": {},
     "output_type": "execute_result"
    }
   ],
   "source": [
    "import os\n",
    "data_path = '/content/drive/My Drive/UofT/AppliedML/Datathon4/dataset/'\n",
    "#source_df = pd.read_csv(data_path + 'Datathon #4 - mhealth Dataset - HAD7001.csv')\n",
    "source_df = pd.read_csv('Datathon #4 - mhealth Dataset - HAD7001.csv')\n",
    "source_df.head()\n"
   ]
  },
  {
   "cell_type": "code",
   "execution_count": null,
   "id": "Rxb14vGNYSCO",
   "metadata": {
    "colab": {
     "base_uri": "https://localhost:8080/"
    },
    "executionInfo": {
     "elapsed": 569,
     "status": "ok",
     "timestamp": 1741491195675,
     "user": {
      "displayName": "nway-lily nus",
      "userId": "14218199843579225004"
     },
     "user_tz": 300
    },
    "id": "Rxb14vGNYSCO",
    "outputId": "e6ed2a0f-3173-49bb-cd69-04242f5d2a15"
   },
   "outputs": [
    {
     "name": "stdout",
     "output_type": "stream",
     "text": [
      "After Renaming\n",
      "Index(['accel_left_x', 'accel_left_y', 'accel_left_z', 'gyro_left_x',\n",
      "       'gyro_left_y', 'gyro_left_z', 'accel_right_x', 'accel_right_y',\n",
      "       'accel_right_z', 'gyro_right_x', 'gyro_right_y', 'gyro_right_z',\n",
      "       'activity', 'subject', 'activity_10_category', 'activity_category'],\n",
      "      dtype='object')\n"
     ]
    }
   ],
   "source": [
    "activity_10_mapping = {\n",
    "    0: \"Resting\", 1: \"Standing still (1 min)\", 2: \"Sitting and relaxing (1 min)\",\n",
    "    3: \"Lying down (1 min)\", 4: \"Walking (1 min)\", 5: \"Climbing stairs (1 min)\",\n",
    "    6: \"Waist bends forward (x20)\", 7: \"Frontal elevation of arms (x20)\",\n",
    "    8: \"Knees bending (crouching) (x20)\", 9: \"Cycling (1 min)\", 10: \"Jogging (1 min)\",\n",
    "    11: \"Running (1 min)\", 12: \"Jump front & back (x20)\" }\n",
    "\n",
    "activity_mapping = {\n",
    "    0: \"Resting\", 1: \"Resting\", 2: \"Resting\", 3: \"Resting\",\n",
    "    4: \"LowIntensityExercise\", 5: \"ModerateIntensityExercise\",\n",
    "    6: \"ModerateIntensityExercise\", 7: \"ModerateIntensityExercise\",\n",
    "    8: \"ModerateIntensityExercise\", 9: \"ModerateIntensityExercise\",\n",
    "    10: \"HighIntensityExercise\", 11: \"HighIntensityExercise\",\n",
    "    12: \"HighIntensityExercise\" }\n",
    "\n",
    "activity_map = {\n",
    "    \"Resting\": 0, \"LowIntensityExercise\": 1, \"ModerateIntensityExercise\": 2, \"HighIntensityExercise\": 3}\n",
    "\n",
    "source_df['activity_10_category'] = source_df['Activity'].map(activity_10_mapping)\n",
    "source_df['activity_category'] = source_df['Activity'].map(activity_mapping)\n",
    "\n",
    "activity_summary = source_df['activity_category'].value_counts()\n",
    "num_subjects = source_df['subject'].nunique()\n",
    "\n",
    "features = [\n",
    "    'accel_left_x', 'accel_left_y', 'accel_left_z', 'gyro_left_x', 'gyro_left_y', 'gyro_left_z',\n",
    "    'accel_right_x', 'accel_right_y', 'accel_right_z', 'gyro_right_x', 'gyro_right_y', 'gyro_right_z' ]\n",
    "\n",
    "column_names = features +  [ \"activity\", \"subject\", \"activity_10_category\", \"activity_category\"]\n",
    "\n",
    "source_df.columns = column_names\n",
    "print(\"After Renaming\")\n",
    "print(source_df.columns)\n",
    "\n",
    "# Drop unnecessay columns ==> just use activity as our first experiment\n",
    "source_df = source_df.drop(columns = ['activity_10_category','activity'])\n",
    "\n",
    "source_df['idx'] = source_df.index\n",
    "result = source_df.groupby([\"subject\", \"activity_category\"])[\"idx\"].agg([\"min\", \"max\"])"
   ]
  },
  {
   "cell_type": "code",
   "execution_count": null,
   "id": "42e5a683-830a-4be0-bf5a-a6108d5dcfd1",
   "metadata": {
    "colab": {
     "base_uri": "https://localhost:8080/",
     "height": 193
    },
    "executionInfo": {
     "elapsed": 63,
     "status": "ok",
     "timestamp": 1741491195745,
     "user": {
      "displayName": "nway-lily nus",
      "userId": "14218199843579225004"
     },
     "user_tz": 300
    },
    "id": "42e5a683-830a-4be0-bf5a-a6108d5dcfd1",
    "outputId": "2d140148-7903-42d9-a08b-22dc8cf90776",
    "scrolled": true
   },
   "outputs": [
    {
     "data": {
      "text/html": [
       "<div>\n",
       "<style scoped>\n",
       "    .dataframe tbody tr th:only-of-type {\n",
       "        vertical-align: middle;\n",
       "    }\n",
       "\n",
       "    .dataframe tbody tr th {\n",
       "        vertical-align: top;\n",
       "    }\n",
       "\n",
       "    .dataframe thead th {\n",
       "        text-align: right;\n",
       "    }\n",
       "</style>\n",
       "<table border=\"1\" class=\"dataframe\">\n",
       "  <thead>\n",
       "    <tr style=\"text-align: right;\">\n",
       "      <th></th>\n",
       "      <th>accel_left_x</th>\n",
       "      <th>accel_left_y</th>\n",
       "      <th>accel_left_z</th>\n",
       "      <th>gyro_left_x</th>\n",
       "      <th>gyro_left_y</th>\n",
       "      <th>gyro_left_z</th>\n",
       "      <th>accel_right_x</th>\n",
       "      <th>accel_right_y</th>\n",
       "      <th>accel_right_z</th>\n",
       "      <th>gyro_right_x</th>\n",
       "      <th>gyro_right_y</th>\n",
       "      <th>gyro_right_z</th>\n",
       "      <th>subject</th>\n",
       "      <th>activity_category</th>\n",
       "      <th>idx</th>\n",
       "    </tr>\n",
       "  </thead>\n",
       "  <tbody>\n",
       "    <tr>\n",
       "      <th>0</th>\n",
       "      <td>2.1849</td>\n",
       "      <td>-9.6967</td>\n",
       "      <td>0.63077</td>\n",
       "      <td>0.103900</td>\n",
       "      <td>-0.84053</td>\n",
       "      <td>-0.68762</td>\n",
       "      <td>-8.6499</td>\n",
       "      <td>-4.5781</td>\n",
       "      <td>0.187760</td>\n",
       "      <td>-0.44902</td>\n",
       "      <td>-1.0103</td>\n",
       "      <td>0.034483</td>\n",
       "      <td>subject1</td>\n",
       "      <td>Resting</td>\n",
       "      <td>0</td>\n",
       "    </tr>\n",
       "    <tr>\n",
       "      <th>1</th>\n",
       "      <td>2.3876</td>\n",
       "      <td>-9.5080</td>\n",
       "      <td>0.68389</td>\n",
       "      <td>0.085343</td>\n",
       "      <td>-0.83865</td>\n",
       "      <td>-0.68369</td>\n",
       "      <td>-8.6275</td>\n",
       "      <td>-4.3198</td>\n",
       "      <td>0.023595</td>\n",
       "      <td>-0.44902</td>\n",
       "      <td>-1.0103</td>\n",
       "      <td>0.034483</td>\n",
       "      <td>subject1</td>\n",
       "      <td>Resting</td>\n",
       "      <td>1</td>\n",
       "    </tr>\n",
       "    <tr>\n",
       "      <th>2</th>\n",
       "      <td>2.4086</td>\n",
       "      <td>-9.5674</td>\n",
       "      <td>0.68113</td>\n",
       "      <td>0.085343</td>\n",
       "      <td>-0.83865</td>\n",
       "      <td>-0.68369</td>\n",
       "      <td>-8.5055</td>\n",
       "      <td>-4.2772</td>\n",
       "      <td>0.275720</td>\n",
       "      <td>-0.44902</td>\n",
       "      <td>-1.0103</td>\n",
       "      <td>0.034483</td>\n",
       "      <td>subject1</td>\n",
       "      <td>Resting</td>\n",
       "      <td>2</td>\n",
       "    </tr>\n",
       "    <tr>\n",
       "      <th>3</th>\n",
       "      <td>2.1814</td>\n",
       "      <td>-9.4301</td>\n",
       "      <td>0.55031</td>\n",
       "      <td>0.085343</td>\n",
       "      <td>-0.83865</td>\n",
       "      <td>-0.68369</td>\n",
       "      <td>-8.6279</td>\n",
       "      <td>-4.3163</td>\n",
       "      <td>0.367520</td>\n",
       "      <td>-0.45686</td>\n",
       "      <td>-1.0082</td>\n",
       "      <td>0.025862</td>\n",
       "      <td>subject1</td>\n",
       "      <td>Resting</td>\n",
       "      <td>3</td>\n",
       "    </tr>\n",
       "  </tbody>\n",
       "</table>\n",
       "</div>"
      ],
      "text/plain": [
       "   accel_left_x  accel_left_y  accel_left_z  gyro_left_x  gyro_left_y  \\\n",
       "0        2.1849       -9.6967       0.63077     0.103900     -0.84053   \n",
       "1        2.3876       -9.5080       0.68389     0.085343     -0.83865   \n",
       "2        2.4086       -9.5674       0.68113     0.085343     -0.83865   \n",
       "3        2.1814       -9.4301       0.55031     0.085343     -0.83865   \n",
       "\n",
       "   gyro_left_z  accel_right_x  accel_right_y  accel_right_z  gyro_right_x  \\\n",
       "0     -0.68762        -8.6499        -4.5781       0.187760      -0.44902   \n",
       "1     -0.68369        -8.6275        -4.3198       0.023595      -0.44902   \n",
       "2     -0.68369        -8.5055        -4.2772       0.275720      -0.44902   \n",
       "3     -0.68369        -8.6279        -4.3163       0.367520      -0.45686   \n",
       "\n",
       "   gyro_right_y  gyro_right_z   subject activity_category  idx  \n",
       "0       -1.0103      0.034483  subject1           Resting    0  \n",
       "1       -1.0103      0.034483  subject1           Resting    1  \n",
       "2       -1.0103      0.034483  subject1           Resting    2  \n",
       "3       -1.0082      0.025862  subject1           Resting    3  "
      ]
     },
     "execution_count": 4,
     "metadata": {},
     "output_type": "execute_result"
    }
   ],
   "source": [
    "source_df.head(4)"
   ]
  },
  {
   "cell_type": "code",
   "execution_count": null,
   "id": "x87AbEjrgnm-",
   "metadata": {
    "colab": {
     "base_uri": "https://localhost:8080/",
     "height": 238
    },
    "executionInfo": {
     "elapsed": 112,
     "status": "ok",
     "timestamp": 1741491195927,
     "user": {
      "displayName": "nway-lily nus",
      "userId": "14218199843579225004"
     },
     "user_tz": 300
    },
    "id": "x87AbEjrgnm-",
    "outputId": "99a910d3-62a4-4c97-e9ce-6ed4cf44a8e2"
   },
   "outputs": [
    {
     "data": {
      "text/plain": [
       "activity_category\n",
       "Resting                      798576\n",
       "ModerateIntensityExercise    119452\n",
       "HighIntensityExercise         57395\n",
       "LowIntensityExercise          24576\n",
       "Name: count, dtype: int64"
      ]
     },
     "execution_count": 5,
     "metadata": {},
     "output_type": "execute_result"
    }
   ],
   "source": [
    "source_df.activity_category.value_counts()"
   ]
  },
  {
   "cell_type": "code",
   "execution_count": null,
   "id": "XgIszCx0h9lw",
   "metadata": {
    "colab": {
     "base_uri": "https://localhost:8080/",
     "height": 238
    },
    "executionInfo": {
     "elapsed": 45,
     "status": "ok",
     "timestamp": 1741491197412,
     "user": {
      "displayName": "nway-lily nus",
      "userId": "14218199843579225004"
     },
     "user_tz": 300
    },
    "id": "XgIszCx0h9lw",
    "outputId": "86965269-f7b0-4d5c-f7de-012f3e923e79"
   },
   "outputs": [
    {
     "data": {
      "text/plain": [
       "activity\n",
       "0    798576\n",
       "2    119452\n",
       "3     57395\n",
       "1     24576\n",
       "Name: count, dtype: int64"
      ]
     },
     "execution_count": 6,
     "metadata": {},
     "output_type": "execute_result"
    }
   ],
   "source": [
    "source_df['activity'] = source_df['activity_category'].map(activity_map)\n",
    "source_df.activity.value_counts()"
   ]
  },
  {
   "cell_type": "code",
   "execution_count": null,
   "id": "2b336ab6-8578-4b0f-a16f-97f142870d02",
   "metadata": {
    "colab": {
     "base_uri": "https://localhost:8080/"
    },
    "executionInfo": {
     "elapsed": 37,
     "status": "ok",
     "timestamp": 1741491198268,
     "user": {
      "displayName": "nway-lily nus",
      "userId": "14218199843579225004"
     },
     "user_tz": 300
    },
    "id": "2b336ab6-8578-4b0f-a16f-97f142870d02",
    "outputId": "f7e6f513-6775-45fb-fcc4-4222deea785a"
   },
   "outputs": [
    {
     "name": "stdout",
     "output_type": "stream",
     "text": [
      "['subject1' 'subject2' 'subject3' 'subject4' 'subject5' 'subject6'\n",
      " 'subject7' 'subject8' 'subject9']\n"
     ]
    }
   ],
   "source": [
    "#train_df = source_df[~source_df['subject'].isin(['subject5', 'subject6'])]\n",
    "#test_df = source_df[source_df['subject'].isin(['subject5', 'subject6'])]\n",
    "\n",
    "# Get the unique subjects in the dataset\n",
    "unique_subjects = source_df['subject'].unique()\n",
    "print(unique_subjects)\n",
    "\n",
    "#train_ratio = 0.8\n",
    "#val_ratio = 0.1\n",
    "#test_ratio = 0.1\n",
    "\n",
    "#num_train = int(len(unique_subjects) * train_ratio)\n",
    "#num_test = int(len(unique_subjects) * test_ratio)\n",
    "#num_val = int(len(unique_subjects) * val_ratio)\n",
    "#num_train, num_test, num_val\n",
    "\n",
    "def to_tensor(X, y):\n",
    "    return torch.tensor(X, dtype=torch.float32), torch.tensor(y, dtype=torch.long)\n"
   ]
  },
  {
   "cell_type": "markdown",
   "id": "IcZ06yw0ruDr",
   "metadata": {
    "id": "IcZ06yw0ruDr"
   },
   "source": [
    "### We gonna build Cascade Classification\n",
    "\n",
    "- Binaray Classification ( Resting vs Exercises)\n",
    "- Exercies (Low , Moderate, High)"
   ]
  },
  {
   "cell_type": "code",
   "execution_count": null,
   "id": "rMqHl-hxrss6",
   "metadata": {
    "id": "rMqHl-hxrss6"
   },
   "outputs": [],
   "source": [
    "train_subjects = ['subject1', 'subject2', 'subject3', 'subject4', 'subject7', 'subject8' ]\n",
    "val_subjects = ['subject5']\n",
    "test_subjects = ['subject6']\n",
    "\n",
    "def split_bysubs(source_df, train_subjects, val_subjects, test_subjects):\n",
    "    train_df = source_df[source_df['subject'].isin(train_subjects)]\n",
    "    val_df = source_df[source_df['subject'].isin(val_subjects)]\n",
    "    test_df = source_df[source_df['subject'].isin(test_subjects)]\n",
    "    return train_df, val_df, test_df\n",
    "\n",
    "\n",
    "first_step_df = source_df.copy()\n",
    "second_step_df = source_df.copy()\n"
   ]
  },
  {
   "cell_type": "code",
   "execution_count": null,
   "id": "RfTamG_4rmzU",
   "metadata": {
    "colab": {
     "base_uri": "https://localhost:8080/",
     "height": 162
    },
    "executionInfo": {
     "elapsed": 48,
     "status": "ok",
     "timestamp": 1741491199760,
     "user": {
      "displayName": "nway-lily nus",
      "userId": "14218199843579225004"
     },
     "user_tz": 300
    },
    "id": "RfTamG_4rmzU",
    "outputId": "8d4dbd84-c2ac-4d96-f36d-9b63616821db"
   },
   "outputs": [
    {
     "data": {
      "text/html": [
       "<div>\n",
       "<style scoped>\n",
       "    .dataframe tbody tr th:only-of-type {\n",
       "        vertical-align: middle;\n",
       "    }\n",
       "\n",
       "    .dataframe tbody tr th {\n",
       "        vertical-align: top;\n",
       "    }\n",
       "\n",
       "    .dataframe thead th {\n",
       "        text-align: right;\n",
       "    }\n",
       "</style>\n",
       "<table border=\"1\" class=\"dataframe\">\n",
       "  <thead>\n",
       "    <tr style=\"text-align: right;\">\n",
       "      <th></th>\n",
       "      <th>accel_left_x</th>\n",
       "      <th>accel_left_y</th>\n",
       "      <th>accel_left_z</th>\n",
       "      <th>gyro_left_x</th>\n",
       "      <th>gyro_left_y</th>\n",
       "      <th>gyro_left_z</th>\n",
       "      <th>accel_right_x</th>\n",
       "      <th>accel_right_y</th>\n",
       "      <th>accel_right_z</th>\n",
       "      <th>gyro_right_x</th>\n",
       "      <th>gyro_right_y</th>\n",
       "      <th>gyro_right_z</th>\n",
       "      <th>subject</th>\n",
       "      <th>activity_category</th>\n",
       "      <th>idx</th>\n",
       "      <th>activity</th>\n",
       "    </tr>\n",
       "  </thead>\n",
       "  <tbody>\n",
       "    <tr>\n",
       "      <th>0</th>\n",
       "      <td>2.1849</td>\n",
       "      <td>-9.6967</td>\n",
       "      <td>0.63077</td>\n",
       "      <td>0.103900</td>\n",
       "      <td>-0.84053</td>\n",
       "      <td>-0.68762</td>\n",
       "      <td>-8.6499</td>\n",
       "      <td>-4.5781</td>\n",
       "      <td>0.187760</td>\n",
       "      <td>-0.44902</td>\n",
       "      <td>-1.0103</td>\n",
       "      <td>0.034483</td>\n",
       "      <td>subject1</td>\n",
       "      <td>Resting</td>\n",
       "      <td>0</td>\n",
       "      <td>0</td>\n",
       "    </tr>\n",
       "    <tr>\n",
       "      <th>1</th>\n",
       "      <td>2.3876</td>\n",
       "      <td>-9.5080</td>\n",
       "      <td>0.68389</td>\n",
       "      <td>0.085343</td>\n",
       "      <td>-0.83865</td>\n",
       "      <td>-0.68369</td>\n",
       "      <td>-8.6275</td>\n",
       "      <td>-4.3198</td>\n",
       "      <td>0.023595</td>\n",
       "      <td>-0.44902</td>\n",
       "      <td>-1.0103</td>\n",
       "      <td>0.034483</td>\n",
       "      <td>subject1</td>\n",
       "      <td>Resting</td>\n",
       "      <td>1</td>\n",
       "      <td>0</td>\n",
       "    </tr>\n",
       "    <tr>\n",
       "      <th>2</th>\n",
       "      <td>2.4086</td>\n",
       "      <td>-9.5674</td>\n",
       "      <td>0.68113</td>\n",
       "      <td>0.085343</td>\n",
       "      <td>-0.83865</td>\n",
       "      <td>-0.68369</td>\n",
       "      <td>-8.5055</td>\n",
       "      <td>-4.2772</td>\n",
       "      <td>0.275720</td>\n",
       "      <td>-0.44902</td>\n",
       "      <td>-1.0103</td>\n",
       "      <td>0.034483</td>\n",
       "      <td>subject1</td>\n",
       "      <td>Resting</td>\n",
       "      <td>2</td>\n",
       "      <td>0</td>\n",
       "    </tr>\n",
       "  </tbody>\n",
       "</table>\n",
       "</div>"
      ],
      "text/plain": [
       "   accel_left_x  accel_left_y  accel_left_z  gyro_left_x  gyro_left_y  \\\n",
       "0        2.1849       -9.6967       0.63077     0.103900     -0.84053   \n",
       "1        2.3876       -9.5080       0.68389     0.085343     -0.83865   \n",
       "2        2.4086       -9.5674       0.68113     0.085343     -0.83865   \n",
       "\n",
       "   gyro_left_z  accel_right_x  accel_right_y  accel_right_z  gyro_right_x  \\\n",
       "0     -0.68762        -8.6499        -4.5781       0.187760      -0.44902   \n",
       "1     -0.68369        -8.6275        -4.3198       0.023595      -0.44902   \n",
       "2     -0.68369        -8.5055        -4.2772       0.275720      -0.44902   \n",
       "\n",
       "   gyro_right_y  gyro_right_z   subject activity_category  idx  activity  \n",
       "0       -1.0103      0.034483  subject1           Resting    0         0  \n",
       "1       -1.0103      0.034483  subject1           Resting    1         0  \n",
       "2       -1.0103      0.034483  subject1           Resting    2         0  "
      ]
     },
     "execution_count": 9,
     "metadata": {},
     "output_type": "execute_result"
    }
   ],
   "source": [
    "first_step_df.head(3)"
   ]
  },
  {
   "cell_type": "code",
   "execution_count": null,
   "id": "NLK8ncuOub6Z",
   "metadata": {
    "colab": {
     "base_uri": "https://localhost:8080/",
     "height": 238
    },
    "executionInfo": {
     "elapsed": 68,
     "status": "ok",
     "timestamp": 1741491200396,
     "user": {
      "displayName": "nway-lily nus",
      "userId": "14218199843579225004"
     },
     "user_tz": 300
    },
    "id": "NLK8ncuOub6Z",
    "outputId": "d7cb1504-d3ef-489b-e81b-717c5fd32250"
   },
   "outputs": [
    {
     "data": {
      "text/plain": [
       "activity_category\n",
       "Resting                      798576\n",
       "ModerateIntensityExercise    119452\n",
       "HighIntensityExercise         57395\n",
       "LowIntensityExercise          24576\n",
       "Name: count, dtype: int64"
      ]
     },
     "execution_count": 10,
     "metadata": {},
     "output_type": "execute_result"
    }
   ],
   "source": [
    "first_step_df.activity_category.value_counts()"
   ]
  },
  {
   "cell_type": "code",
   "execution_count": null,
   "id": "29NkKA3VuAyv",
   "metadata": {
    "colab": {
     "base_uri": "https://localhost:8080/",
     "height": 176
    },
    "executionInfo": {
     "elapsed": 295,
     "status": "ok",
     "timestamp": 1741491201093,
     "user": {
      "displayName": "nway-lily nus",
      "userId": "14218199843579225004"
     },
     "user_tz": 300
    },
    "id": "29NkKA3VuAyv",
    "outputId": "da95e78f-3f2a-477e-a51a-976ade45a5de"
   },
   "outputs": [
    {
     "data": {
      "image/png": "[encoded data removed]",
      "text/plain": [
       "<Figure size 500x400 with 2 Axes>"
      ]
     },
     "metadata": {},
     "output_type": "display_data"
    }
   ],
   "source": [
    "first_step_df['activity'] = first_step_df['activity_category'].apply(lambda x: 0 if x == 'Resting' else 1)\n",
    "count_per_subject1 = first_step_df.groupby([\"subject\", \"activity\"]).size().unstack(fill_value=0)\n",
    "plt.figure(figsize=(5,4))\n",
    "sns.heatmap(count_per_subject1, annot=True, cmap=\"coolwarm\", fmt=\"d\")\n",
    "plt.xlabel(\"Activity Category\")\n",
    "plt.ylabel(\"Subjects\")\n",
    "plt.title(\"Heatmap of Activity Counts per Subject\")\n",
    "plt.show()"
   ]
  },
  {
   "cell_type": "code",
   "execution_count": null,
   "id": "dbc42e57-0078-4451-aa8c-bbbd733d34b0",
   "metadata": {
    "id": "dbc42e57-0078-4451-aa8c-bbbd733d34b0"
   },
   "outputs": [],
   "source": [
    "def stratified_downsample_ordered(df, time_column):\n",
    "    downsampled_df = pd.DataFrame()\n",
    "\n",
    "    for subject, group in df.groupby(\"subject\"):\n",
    "        activity_counts = group[\"activity\"].value_counts()\n",
    "        min_count = activity_counts.min()  # Find the minority class count\n",
    "\n",
    "        sampled_groups = []\n",
    "        for activity in activity_counts.index:\n",
    "            activity_group = group[group[\"activity\"] == activity].sort_values(time_column)  # Ensure temporal order\n",
    "            if len(activity_group) > min_count:\n",
    "                downsampled_group = activity_group.iloc[:min_count]  # Select first `min_count` elements\n",
    "            else:\n",
    "                downsampled_group = activity_group  # Keep as is if already at min count\n",
    "\n",
    "            sampled_groups.append(downsampled_group)\n",
    "\n",
    "        balanced_subject_df = pd.concat(sampled_groups)\n",
    "        downsampled_df = pd.concat([downsampled_df, balanced_subject_df])\n",
    "\n",
    "    return downsampled_df\n"
   ]
  },
  {
   "cell_type": "markdown",
   "id": "1e08644b-9a65-4633-bb5c-8290740c8456",
   "metadata": {
    "id": "1e08644b-9a65-4633-bb5c-8290740c8456"
   },
   "source": [
    "### Downsample the data"
   ]
  },
  {
   "cell_type": "code",
   "execution_count": null,
   "id": "da918639-799f-4a3d-a9e7-5f070652974e",
   "metadata": {
    "id": "da918639-799f-4a3d-a9e7-5f070652974e"
   },
   "outputs": [],
   "source": [
    "time_column = \"idx\"#assume index is the timestep\n",
    "first_step_sampled_df = stratified_downsample_ordered(first_step_df, time_column=\"idx\")\n"
   ]
  },
  {
   "cell_type": "code",
   "execution_count": null,
   "id": "96c548ec-3f14-42b2-a118-94f4f0136f0a",
   "metadata": {
    "id": "96c548ec-3f14-42b2-a118-94f4f0136f0a",
    "outputId": "ef4b8dc1-eb7c-45af-ecb8-1a63a1ddd4e2"
   },
   "outputs": [
    {
     "data": {
      "image/png": "[encoded data removed]",
      "text/plain": [
       "<Figure size 500x400 with 2 Axes>"
      ]
     },
     "metadata": {},
     "output_type": "display_data"
    }
   ],
   "source": [
    "count_per_subject1_ = first_step_sampled_df.groupby([\"subject\", \"activity\"]).size().unstack(fill_value=0)\n",
    "plt.figure(figsize=(5,4))\n",
    "sns.heatmap(count_per_subject1_, annot=True, cmap=\"coolwarm\", fmt=\"d\")\n",
    "plt.xlabel(\"Activity Category\")\n",
    "plt.ylabel(\"Subjects\")\n",
    "plt.title(\"Heatmap of Activity Counts per Subject\")\n",
    "plt.show()"
   ]
  },
  {
   "cell_type": "code",
   "execution_count": null,
   "id": "ogZxC7wJu6vE",
   "metadata": {
    "colab": {
     "base_uri": "https://localhost:8080/",
     "height": 326
    },
    "executionInfo": {
     "elapsed": 185,
     "status": "ok",
     "timestamp": 1741491201490,
     "user": {
      "displayName": "nway-lily nus",
      "userId": "14218199843579225004"
     },
     "user_tz": 300
    },
    "id": "ogZxC7wJu6vE",
    "outputId": "95f5280e-ce6d-4607-c228-e4d5a1fc848b"
   },
   "outputs": [
    {
     "name": "stdout",
     "output_type": "stream",
     "text": [
      "before activity_category\n",
      "Resting                      798576\n",
      "ModerateIntensityExercise    119452\n",
      "HighIntensityExercise         57395\n",
      "LowIntensityExercise          24576\n",
      "Name: count, dtype: int64\n",
      "after\n"
     ]
    },
    {
     "data": {
      "text/plain": [
       "activity_category\n",
       "ModerateIntensityExercise    119452\n",
       "HighIntensityExercise         57395\n",
       "LowIntensityExercise          24576\n",
       "Name: count, dtype: int64"
      ]
     },
     "execution_count": 15,
     "metadata": {},
     "output_type": "execute_result"
    }
   ],
   "source": [
    "print('before', second_step_df['activity_category'].value_counts())\n",
    "second_step_df = second_step_df[~(second_step_df['activity_category'] == 'Resting')]\n",
    "#second_step_df = second_step_df[~(second_step_df['activity_category'].isin(['Resting', 'LowIntensityExercise']))]\n",
    "print('after')\n",
    "second_step_df['activity_category'].value_counts()"
   ]
  },
  {
   "cell_type": "code",
   "execution_count": null,
   "id": "EiHZEFjcDWau",
   "metadata": {
    "colab": {
     "base_uri": "https://localhost:8080/"
    },
    "executionInfo": {
     "elapsed": 8,
     "status": "ok",
     "timestamp": 1741491202365,
     "user": {
      "displayName": "nway-lily nus",
      "userId": "14218199843579225004"
     },
     "user_tz": 300
    },
    "id": "EiHZEFjcDWau",
    "outputId": "8ffe4b55-1dc5-4cfd-9970-9a004865ac99"
   },
   "outputs": [
    {
     "data": {
      "text/plain": [
       "{'Resting': 0,\n",
       " 'LowIntensityExercise': 1,\n",
       " 'ModerateIntensityExercise': 2,\n",
       " 'HighIntensityExercise': 3}"
      ]
     },
     "execution_count": 16,
     "metadata": {},
     "output_type": "execute_result"
    }
   ],
   "source": [
    "activity_map"
   ]
  },
  {
   "cell_type": "code",
   "execution_count": null,
   "id": "C1uf_lsivtdH",
   "metadata": {
    "id": "C1uf_lsivtdH"
   },
   "outputs": [],
   "source": [
    "second_activity_map = {\n",
    "    \"LowIntensityExercise\": 0, \"ModerateIntensityExercise\": 1, \"HighIntensityExercise\": 2}"
   ]
  },
  {
   "cell_type": "code",
   "execution_count": null,
   "id": "MTwGvIduur18",
   "metadata": {
    "colab": {
     "base_uri": "https://localhost:8080/",
     "height": 207
    },
    "executionInfo": {
     "elapsed": 14,
     "status": "ok",
     "timestamp": 1741491203281,
     "user": {
      "displayName": "nway-lily nus",
      "userId": "14218199843579225004"
     },
     "user_tz": 300
    },
    "id": "MTwGvIduur18",
    "outputId": "35e09d3a-97d9-4b1e-8602-c02e505577fe"
   },
   "outputs": [
    {
     "data": {
      "text/plain": [
       "activity\n",
       "1    119452\n",
       "2     57395\n",
       "0     24576\n",
       "Name: count, dtype: int64"
      ]
     },
     "execution_count": 18,
     "metadata": {},
     "output_type": "execute_result"
    }
   ],
   "source": [
    "second_step_df['activity'] = second_step_df['activity_category'].map(second_activity_map) # activity_map\n",
    "second_step_df.activity.value_counts()"
   ]
  },
  {
   "cell_type": "code",
   "execution_count": null,
   "id": "526a2633-9317-4748-8655-d9acb1cce67e",
   "metadata": {
    "id": "526a2633-9317-4748-8655-d9acb1cce67e",
    "outputId": "e446ef4a-f1fb-4b25-c2e4-7b57c1b3d382"
   },
   "outputs": [
    {
     "data": {
      "image/png": "[encoded data removed]",
      "text/plain": [
       "<Figure size 500x400 with 2 Axes>"
      ]
     },
     "metadata": {},
     "output_type": "display_data"
    }
   ],
   "source": [
    "count_per_subject2 = second_step_df.groupby([\"subject\", \"activity\"]).size().unstack(fill_value=0)\n",
    "plt.figure(figsize=(5,4))\n",
    "sns.heatmap(count_per_subject2, annot=True, cmap=\"coolwarm\", fmt=\"d\")\n",
    "plt.xlabel(\"Activity Category\")\n",
    "plt.ylabel(\"Subjects\")\n",
    "plt.title(\"Heatmap of Activity Counts per Subject\")\n",
    "plt.show()"
   ]
  },
  {
   "cell_type": "code",
   "execution_count": null,
   "id": "4beb501f-8d86-4aa1-b700-03f019454bf4",
   "metadata": {
    "id": "4beb501f-8d86-4aa1-b700-03f019454bf4",
    "outputId": "6c4293c0-07ab-484a-b0af-f207ef52d7cf"
   },
   "outputs": [
    {
     "data": {
      "image/png": "[encoded data removed]",
      "text/plain": [
       "<Figure size 500x400 with 2 Axes>"
      ]
     },
     "metadata": {},
     "output_type": "display_data"
    }
   ],
   "source": [
    "time_column = \"idx\"#assume index is the timestep\n",
    "second_step_sampled_df = stratified_downsample_ordered(second_step_df, time_column=\"idx\")\n",
    "count_per_subject2_ = second_step_sampled_df.groupby([\"subject\", \"activity\"]).size().unstack(fill_value=0)\n",
    "plt.figure(figsize=(5,4))\n",
    "sns.heatmap(count_per_subject2_, annot=True, cmap=\"coolwarm\", fmt=\"d\")\n",
    "plt.xlabel(\"Activity Category\")\n",
    "plt.ylabel(\"Subjects\")\n",
    "plt.title(\"Heatmap of Activity Counts per Subject\")\n",
    "plt.show()"
   ]
  },
  {
   "cell_type": "code",
   "execution_count": null,
   "id": "YVL7LE2vuiUi",
   "metadata": {
    "colab": {
     "base_uri": "https://localhost:8080/"
    },
    "executionInfo": {
     "elapsed": 4,
     "status": "ok",
     "timestamp": 1741491203901,
     "user": {
      "displayName": "nway-lily nus",
      "userId": "14218199843579225004"
     },
     "user_tz": 300
    },
    "id": "YVL7LE2vuiUi",
    "outputId": "8d9a327b-4df1-47ea-9703-b2587fe2f444"
   },
   "outputs": [
    {
     "data": {
      "text/plain": [
       "((420572, 16), (73728, 16))"
      ]
     },
     "execution_count": 21,
     "metadata": {},
     "output_type": "execute_result"
    }
   ],
   "source": [
    "first_step_sampled_df.shape, second_step_sampled_df.shape"
   ]
  },
  {
   "cell_type": "code",
   "execution_count": null,
   "id": "hB0nN838vA4i",
   "metadata": {
    "id": "hB0nN838vA4i"
   },
   "outputs": [],
   "source": [
    "#first_train_df, first_val_df, first_test_df = split_bysubs(first_step_df, train_subjects, val_subjects, test_subjects)\n",
    "first_train_df, first_val_df, first_test_df = split_bysubs(first_step_sampled_df, train_subjects, val_subjects, test_subjects)\n",
    "\n",
    "\n",
    "second_train_df, second_val_df, second_test_df = split_bysubs(second_step_df, train_subjects, val_subjects, test_subjects)\n",
    "#second_train_df, second_val_df, second_test_df = split_bysubs(second_step_sampled_df, train_subjects, val_subjects, test_subjects)\n",
    "\n",
    "source_df['activity'] =   source_df['activity_category'].map(activity_map)\n",
    "_, _, test_df = split_bysubs(source_df, train_subjects, val_subjects, test_subjects)"
   ]
  },
  {
   "cell_type": "code",
   "execution_count": null,
   "id": "52e58b2a-775f-4483-b792-ae815f850bef",
   "metadata": {
    "id": "52e58b2a-775f-4483-b792-ae815f850bef",
    "outputId": "6f18e18a-25dc-4245-ba6b-dcbc19ad245b"
   },
   "outputs": [
    {
     "data": {
      "text/plain": [
       "['accel_left_x',\n",
       " 'accel_left_y',\n",
       " 'accel_left_z',\n",
       " 'gyro_left_x',\n",
       " 'gyro_left_y',\n",
       " 'gyro_left_z',\n",
       " 'accel_right_x',\n",
       " 'accel_right_y',\n",
       " 'accel_right_z',\n",
       " 'gyro_right_x',\n",
       " 'gyro_right_y',\n",
       " 'gyro_right_z']"
      ]
     },
     "execution_count": 23,
     "metadata": {},
     "output_type": "execute_result"
    }
   ],
   "source": [
    "features"
   ]
  },
  {
   "cell_type": "code",
   "execution_count": null,
   "id": "4c5a8153-b815-45be-8d18-0bf21858f47d",
   "metadata": {
    "id": "4c5a8153-b815-45be-8d18-0bf21858f47d",
    "outputId": "3c240471-5822-4957-afd7-61cdcf929def"
   },
   "outputs": [
    {
     "data": {
      "text/plain": [
       "['accel_left_x_median',\n",
       " 'accel_left_y_median',\n",
       " 'accel_left_z_median',\n",
       " 'gyro_left_x_median',\n",
       " 'gyro_left_y_median',\n",
       " 'gyro_left_z_median',\n",
       " 'accel_right_x_median',\n",
       " 'accel_right_y_median',\n",
       " 'accel_right_z_median',\n",
       " 'gyro_right_x_median',\n",
       " 'gyro_right_y_median',\n",
       " 'gyro_right_z_median']"
      ]
     },
     "execution_count": 24,
     "metadata": {},
     "output_type": "execute_result"
    }
   ],
   "source": [
    "features_median = [f\"{feature}_median\" for feature in features]\n",
    "features_median"
   ]
  },
  {
   "cell_type": "code",
   "execution_count": null,
   "id": "71f1fa02-fd3e-4175-8f23-9baf8e6138e1",
   "metadata": {
    "id": "71f1fa02-fd3e-4175-8f23-9baf8e6138e1"
   },
   "outputs": [],
   "source": [
    "features = [\n",
    "    'accel_left_x', 'accel_left_y', 'accel_left_z', 'gyro_left_x', 'gyro_left_y', 'gyro_left_z',\n",
    "    'accel_right_x', 'accel_right_y', 'accel_right_z', 'gyro_right_x', 'gyro_right_y', 'gyro_right_z' ]\n",
    "features_median = [f\"{feature}_median\" for feature in features]\n",
    "norm_features = ['accel_left_norm', 'accel_right_norm', 'gyro_left_norm', 'gyro_right_norm']\n",
    "# X = features , y = activity\n",
    "def create_windows1(df, window_size=100, step_size=50):\n",
    "    sequences, labels = [], []\n",
    "\n",
    "    for subj in df['subject'].unique():\n",
    "        print('sub ', subj)\n",
    "        subj_df = df[df['subject'] == subj]\n",
    "        for act in subj_df['activity'].unique():\n",
    "            act_df = subj_df[subj_df['activity'] == act]\n",
    "            display(act_df.head(2))\n",
    "\n",
    "            for i in range(0, len(act_df) - window_size, step_size):\n",
    "                window = act_df.iloc[i:i+window_size]\n",
    "                sequences.append(window[features].values)  # Only use selected features\n",
    "                labels.append(act)\n",
    "\n",
    "    return np.array(sequences), np.array(labels)\n",
    "\n",
    "\n",
    "def create_windows2(df, window_size=100, step_size=50):\n",
    "    sequences, labels = [], []\n",
    "\n",
    "    for subj in df['subject'].unique():\n",
    "        print(f'Processing subject {subj}')\n",
    "        subj_df = df[df['subject'] == subj]\n",
    "\n",
    "        for act in subj_df['activity'].unique():\n",
    "            print(f'  Activity: {act}')\n",
    "\n",
    "            act_df = subj_df[subj_df['activity'] == act].copy()\n",
    "            #print('before')\n",
    "            display(act_df.head(2))\n",
    "            for feature in features:\n",
    "                act_df[f'{feature}_median'] = act_df[feature].rolling(window=3, min_periods=1).median()\n",
    "            #print('after')\n",
    "            #display(act_df.head(2))\n",
    "            # Drop NaN values created by rolling operation\n",
    "            act_df = act_df.dropna()\n",
    "\n",
    "            # Create overlapping windows\n",
    "            for i in range(0, len(act_df) - window_size + 1, step_size):\n",
    "                window = act_df.iloc[i:i+window_size]\n",
    "                #display(window[features_median].head(2))\n",
    "\n",
    "                sequences.append(window[features_median].values)\n",
    "                labels.append(act)\n",
    "\n",
    "    return np.array(sequences), np.array(labels), window\n",
    "\n",
    "\n",
    "def create_windows(df, window_size=100, step_size=50):\n",
    "    sequences, labels = [], []\n",
    "\n",
    "    for subj in df['subject'].unique():\n",
    "        print(f'Processing subject {subj}')\n",
    "        subj_df = df[df['subject'] == subj]\n",
    "\n",
    "        for act in subj_df['activity'].unique():\n",
    "            print(f'  Activity: {act}')\n",
    "            act_df = subj_df[subj_df['activity'] == act].copy()  # Copy to avoid SettingWithCopyWarning\n",
    "\n",
    "            for feature in features:\n",
    "                act_df[f'{feature}_median'] = act_df[feature].rolling(window=3, min_periods=1).median()\n",
    "\n",
    "            act_df = act_df.dropna()\n",
    "\n",
    "            act_df['accel_left_norm'] = np.sqrt(\n",
    "                act_df['accel_left_x_median']**2 + act_df['accel_left_y_median']**2 + act_df['accel_left_z_median']**2 )\n",
    "\n",
    "            act_df['accel_right_norm'] = np.sqrt(\n",
    "                act_df['accel_right_x_median']**2 + act_df['accel_right_y_median']**2 + act_df['accel_right_z_median']**2 )\n",
    "\n",
    "            act_df['gyro_left_norm'] = np.sqrt(\n",
    "                act_df['gyro_left_x_median']**2 + act_df['gyro_left_y_median']**2 + act_df['gyro_left_z_median']**2)\n",
    "\n",
    "            act_df['gyro_right_norm'] = np.sqrt(\n",
    "                act_df['gyro_right_x_median']**2 + act_df['gyro_right_y_median']**2 + act_df['gyro_right_z_median']**2)\n",
    "\n",
    "            for i in range(0, len(act_df) - window_size + 1, step_size):\n",
    "                window = act_df.iloc[i:i+window_size]\n",
    "                #sequences.append(window[features_median + norm_features].values)\n",
    "                sequences.append(window[norm_features].values)  # Dimension reduciton only use Norm\n",
    "\n",
    "                labels.append(act), window\n",
    "    return np.array(sequences), np.array(labels)"
   ]
  },
  {
   "cell_type": "code",
   "execution_count": null,
   "id": "9f5852be-a4fa-4052-91f0-46581b4e3d07",
   "metadata": {
    "id": "9f5852be-a4fa-4052-91f0-46581b4e3d07"
   },
   "outputs": [],
   "source": [
    "#X_train1, y_train1 = create_windows(first_train_df.copy())"
   ]
  },
  {
   "cell_type": "code",
   "execution_count": null,
   "id": "33782b4d-e89b-4c1c-8e25-7d51fdda708c",
   "metadata": {
    "colab": {
     "base_uri": "https://localhost:8080/",
     "height": 100
    },
    "executionInfo": {
     "elapsed": 9238,
     "status": "ok",
     "timestamp": 1741491214243,
     "user": {
      "displayName": "nway-lily nus",
      "userId": "14218199843579225004"
     },
     "user_tz": 300
    },
    "id": "33782b4d-e89b-4c1c-8e25-7d51fdda708c",
    "outputId": "7d13f71e-7a08-4cc4-9980-78284d3a680d",
    "scrolled": true
   },
   "outputs": [
    {
     "name": "stdout",
     "output_type": "stream",
     "text": [
      "Processing subject subject1\n",
      "  Activity: 0\n",
      "  Activity: 1\n",
      "Processing subject subject2\n",
      "  Activity: 0\n",
      "  Activity: 1\n",
      "Processing subject subject3\n",
      "  Activity: 0\n",
      "  Activity: 1\n",
      "Processing subject subject4\n",
      "  Activity: 0\n",
      "  Activity: 1\n",
      "Processing subject subject7\n",
      "  Activity: 0\n",
      "  Activity: 1\n",
      "Processing subject subject8\n",
      "  Activity: 0\n",
      "  Activity: 1\n",
      "Processing subject subject5\n",
      "  Activity: 0\n",
      "  Activity: 1\n",
      "Processing subject subject6\n",
      "  Activity: 0\n",
      "  Activity: 1\n"
     ]
    },
    {
     "data": {
      "text/html": [
       "<div>\n",
       "<style scoped>\n",
       "    .dataframe tbody tr th:only-of-type {\n",
       "        vertical-align: middle;\n",
       "    }\n",
       "\n",
       "    .dataframe tbody tr th {\n",
       "        vertical-align: top;\n",
       "    }\n",
       "\n",
       "    .dataframe thead th {\n",
       "        text-align: right;\n",
       "    }\n",
       "</style>\n",
       "<table border=\"1\" class=\"dataframe\">\n",
       "  <thead>\n",
       "    <tr style=\"text-align: right;\">\n",
       "      <th></th>\n",
       "      <th>accel_left_x</th>\n",
       "      <th>accel_left_y</th>\n",
       "      <th>accel_left_z</th>\n",
       "      <th>gyro_left_x</th>\n",
       "      <th>gyro_left_y</th>\n",
       "      <th>gyro_left_z</th>\n",
       "      <th>accel_right_x</th>\n",
       "      <th>accel_right_y</th>\n",
       "      <th>accel_right_z</th>\n",
       "      <th>gyro_right_x</th>\n",
       "      <th>gyro_right_y</th>\n",
       "      <th>gyro_right_z</th>\n",
       "      <th>subject</th>\n",
       "      <th>activity_category</th>\n",
       "      <th>idx</th>\n",
       "      <th>activity</th>\n",
       "    </tr>\n",
       "  </thead>\n",
       "  <tbody>\n",
       "    <tr>\n",
       "      <th>0</th>\n",
       "      <td>2.1849</td>\n",
       "      <td>-9.6967</td>\n",
       "      <td>0.63077</td>\n",
       "      <td>0.1039</td>\n",
       "      <td>-0.84053</td>\n",
       "      <td>-0.68762</td>\n",
       "      <td>-8.6499</td>\n",
       "      <td>-4.5781</td>\n",
       "      <td>0.18776</td>\n",
       "      <td>-0.44902</td>\n",
       "      <td>-1.0103</td>\n",
       "      <td>0.034483</td>\n",
       "      <td>subject1</td>\n",
       "      <td>Resting</td>\n",
       "      <td>0</td>\n",
       "      <td>0</td>\n",
       "    </tr>\n",
       "  </tbody>\n",
       "</table>\n",
       "</div>"
      ],
      "text/plain": [
       "   accel_left_x  accel_left_y  accel_left_z  gyro_left_x  gyro_left_y  \\\n",
       "0        2.1849       -9.6967       0.63077       0.1039     -0.84053   \n",
       "\n",
       "   gyro_left_z  accel_right_x  accel_right_y  accel_right_z  gyro_right_x  \\\n",
       "0     -0.68762        -8.6499        -4.5781        0.18776      -0.44902   \n",
       "\n",
       "   gyro_right_y  gyro_right_z   subject activity_category  idx  activity  \n",
       "0       -1.0103      0.034483  subject1           Resting    0         0  "
      ]
     },
     "execution_count": 27,
     "metadata": {},
     "output_type": "execute_result"
    }
   ],
   "source": [
    "# Create time windows\n",
    "X_train1, y_train1 = create_windows(first_train_df)\n",
    "X_val1, y_val1 = create_windows(first_val_df)\n",
    "X_test1, y_test1 = create_windows(first_test_df)\n",
    "first_train_df.head(1)"
   ]
  },
  {
   "cell_type": "code",
   "execution_count": null,
   "id": "9a5b8b4e-559e-4281-822d-2ee6b61ce5bc",
   "metadata": {
    "colab": {
     "base_uri": "https://localhost:8080/"
    },
    "executionInfo": {
     "elapsed": 4,
     "status": "ok",
     "timestamp": 1741491214248,
     "user": {
      "displayName": "nway-lily nus",
      "userId": "14218199843579225004"
     },
     "user_tz": 300
    },
    "id": "9a5b8b4e-559e-4281-822d-2ee6b61ce5bc",
    "outputId": "421b91fa-4367-4186-8ab9-a276b3c4bb9f"
   },
   "outputs": [
    {
     "data": {
      "text/plain": [
       "array([9.95980169, 9.78851487, 1.09092032, 1.10612573])"
      ]
     },
     "execution_count": 28,
     "metadata": {},
     "output_type": "execute_result"
    }
   ],
   "source": [
    "X_train1[0, 0, :]"
   ]
  },
  {
   "cell_type": "code",
   "execution_count": null,
   "id": "a0bcd4d8-0ad9-45e0-b788-ed5cb387c723",
   "metadata": {
    "id": "a0bcd4d8-0ad9-45e0-b788-ed5cb387c723",
    "outputId": "1f0cba28-0419-4541-ca67-397ef64162a4"
   },
   "outputs": [
    {
     "name": "stdout",
     "output_type": "stream",
     "text": [
      "Shapes: (6132, 100, 4) (6132,) (986, 100, 4) (986,) (916, 100, 4) (916,)\n"
     ]
    }
   ],
   "source": [
    "print(\"Shapes:\", X_train1.shape, y_train1.shape, X_val1.shape, y_val1.shape, X_test1.shape, y_test1.shape)"
   ]
  },
  {
   "cell_type": "code",
   "execution_count": null,
   "id": "F_kxMzm9xazg",
   "metadata": {
    "colab": {
     "base_uri": "https://localhost:8080/",
     "height": 100
    },
    "executionInfo": {
     "elapsed": 1564,
     "status": "ok",
     "timestamp": 1741491215824,
     "user": {
      "displayName": "nway-lily nus",
      "userId": "14218199843579225004"
     },
     "user_tz": 300
    },
    "id": "F_kxMzm9xazg",
    "outputId": "f229d33d-f1ff-48b0-b01b-ab45178e7aa0"
   },
   "outputs": [
    {
     "name": "stdout",
     "output_type": "stream",
     "text": [
      "Processing subject subject1\n",
      "  Activity: 0\n",
      "  Activity: 1\n",
      "  Activity: 2\n",
      "Processing subject subject2\n",
      "  Activity: 1\n",
      "  Activity: 0\n",
      "  Activity: 2\n",
      "Processing subject subject3\n",
      "  Activity: 0\n",
      "  Activity: 1\n",
      "  Activity: 2\n",
      "Processing subject subject4\n",
      "  Activity: 1\n",
      "  Activity: 0\n",
      "  Activity: 2\n",
      "Processing subject subject7\n",
      "  Activity: 1\n",
      "  Activity: 0\n",
      "  Activity: 2\n",
      "Processing subject subject8\n",
      "  Activity: 0\n",
      "  Activity: 1\n",
      "  Activity: 2\n",
      "Processing subject subject5\n",
      "  Activity: 0\n",
      "  Activity: 1\n",
      "  Activity: 2\n",
      "Processing subject subject6\n",
      "  Activity: 0\n",
      "  Activity: 1\n",
      "  Activity: 2\n"
     ]
    },
    {
     "data": {
      "text/html": [
       "<div>\n",
       "<style scoped>\n",
       "    .dataframe tbody tr th:only-of-type {\n",
       "        vertical-align: middle;\n",
       "    }\n",
       "\n",
       "    .dataframe tbody tr th {\n",
       "        vertical-align: top;\n",
       "    }\n",
       "\n",
       "    .dataframe thead th {\n",
       "        text-align: right;\n",
       "    }\n",
       "</style>\n",
       "<table border=\"1\" class=\"dataframe\">\n",
       "  <thead>\n",
       "    <tr style=\"text-align: right;\">\n",
       "      <th></th>\n",
       "      <th>accel_left_x</th>\n",
       "      <th>accel_left_y</th>\n",
       "      <th>accel_left_z</th>\n",
       "      <th>gyro_left_x</th>\n",
       "      <th>gyro_left_y</th>\n",
       "      <th>gyro_left_z</th>\n",
       "      <th>accel_right_x</th>\n",
       "      <th>accel_right_y</th>\n",
       "      <th>accel_right_z</th>\n",
       "      <th>gyro_right_x</th>\n",
       "      <th>gyro_right_y</th>\n",
       "      <th>gyro_right_z</th>\n",
       "      <th>subject</th>\n",
       "      <th>activity_category</th>\n",
       "      <th>idx</th>\n",
       "      <th>activity</th>\n",
       "    </tr>\n",
       "  </thead>\n",
       "  <tbody>\n",
       "    <tr>\n",
       "      <th>28160</th>\n",
       "      <td>4.3791</td>\n",
       "      <td>-10.206</td>\n",
       "      <td>0.14805</td>\n",
       "      <td>0.59184</td>\n",
       "      <td>-0.52345</td>\n",
       "      <td>0.48919</td>\n",
       "      <td>-7.0015</td>\n",
       "      <td>-10.089</td>\n",
       "      <td>3.0789</td>\n",
       "      <td>-0.57647</td>\n",
       "      <td>-0.59959</td>\n",
       "      <td>0.75431</td>\n",
       "      <td>subject1</td>\n",
       "      <td>LowIntensityExercise</td>\n",
       "      <td>28160</td>\n",
       "      <td>0</td>\n",
       "    </tr>\n",
       "  </tbody>\n",
       "</table>\n",
       "</div>"
      ],
      "text/plain": [
       "       accel_left_x  accel_left_y  accel_left_z  gyro_left_x  gyro_left_y  \\\n",
       "28160        4.3791       -10.206       0.14805      0.59184     -0.52345   \n",
       "\n",
       "       gyro_left_z  accel_right_x  accel_right_y  accel_right_z  gyro_right_x  \\\n",
       "28160      0.48919        -7.0015        -10.089         3.0789      -0.57647   \n",
       "\n",
       "       gyro_right_y  gyro_right_z   subject     activity_category    idx  \\\n",
       "28160      -0.59959       0.75431  subject1  LowIntensityExercise  28160   \n",
       "\n",
       "       activity  \n",
       "28160         0  "
      ]
     },
     "execution_count": 30,
     "metadata": {},
     "output_type": "execute_result"
    }
   ],
   "source": [
    "# Create time windows\n",
    "X_train2, y_train2 = create_windows(second_train_df)\n",
    "X_val2, y_val2 = create_windows(second_val_df)\n",
    "X_test2, y_test2 = create_windows(second_test_df)\n",
    "second_train_df.head(1)"
   ]
  },
  {
   "cell_type": "code",
   "execution_count": null,
   "id": "KW7dziyfxbHB",
   "metadata": {
    "colab": {
     "base_uri": "https://localhost:8080/"
    },
    "executionInfo": {
     "elapsed": 6,
     "status": "ok",
     "timestamp": 1741491215825,
     "user": {
      "displayName": "nway-lily nus",
      "userId": "14218199843579225004"
     },
     "user_tz": 300
    },
    "id": "KW7dziyfxbHB",
    "outputId": "48c2d20a-c2d4-4b0b-a98e-69b0310406f3"
   },
   "outputs": [
    {
     "data": {
      "text/plain": [
       "array([11.10679394, 12.66051138,  0.92929077,  1.1228577 ])"
      ]
     },
     "execution_count": 31,
     "metadata": {},
     "output_type": "execute_result"
    }
   ],
   "source": [
    "# Create time windows\n",
    "X_train2[0, 0, :]"
   ]
  },
  {
   "cell_type": "code",
   "execution_count": null,
   "id": "5e7295fa-06c2-4250-8ee7-d340d527a3bc",
   "metadata": {
    "id": "5e7295fa-06c2-4250-8ee7-d340d527a3bc",
    "outputId": "b3db0944-73ba-4ed3-efd8-c5b24f5db16d"
   },
   "outputs": [
    {
     "name": "stdout",
     "output_type": "stream",
     "text": [
      "Shapes: (3048, 100, 4) (3048,) (490, 100, 4) (490,) (455, 100, 4) (455,)\n"
     ]
    }
   ],
   "source": [
    "print(\"Shapes:\", X_train2.shape, y_train2.shape, X_val2.shape, y_val2.shape, X_test2.shape, y_test2.shape)"
   ]
  },
  {
   "cell_type": "code",
   "execution_count": null,
   "id": "L3c00YMA9mkJ",
   "metadata": {
    "id": "L3c00YMA9mkJ"
   },
   "outputs": [],
   "source": [
    "parcel1 = (X_train1, y_train1, X_val1, y_val1, X_test1, y_test1)\n",
    "parcel2 = (X_train2, y_train2, X_val2, y_val2, X_test2, y_test2)"
   ]
  },
  {
   "cell_type": "code",
   "execution_count": null,
   "id": "8dec995b-2813-4886-ae5b-c8aba396e1f1",
   "metadata": {
    "colab": {
     "base_uri": "https://localhost:8080/",
     "height": 564
    },
    "executionInfo": {
     "elapsed": 821,
     "status": "ok",
     "timestamp": 1741491216645,
     "user": {
      "displayName": "nway-lily nus",
      "userId": "14218199843579225004"
     },
     "user_tz": 300
    },
    "id": "8dec995b-2813-4886-ae5b-c8aba396e1f1",
    "outputId": "ca008649-7b7b-4644-a946-2951dfa2b1bc"
   },
   "outputs": [
    {
     "data": {
      "image/png": "[encoded data removed]",
      "text/plain": [
       "<Figure size 1200x600 with 1 Axes>"
      ]
     },
     "metadata": {},
     "output_type": "display_data"
    }
   ],
   "source": [
    "plt.figure(figsize=(12, 6))\n",
    "for i, feature in enumerate(norm_features):\n",
    "    plt.plot(X_train1[0, :, i], label=feature)  # First sequence, all time steps\n",
    "plt.title(\"First Window of X_train (100 Time Steps)\")\n",
    "plt.xlabel(\"Time Step\")\n",
    "plt.ylabel(\"Sensor Value\")\n",
    "plt.legend()\n",
    "plt.show()"
   ]
  },
  {
   "cell_type": "code",
   "execution_count": null,
   "id": "s0j-U5tq40-f",
   "metadata": {
    "id": "s0j-U5tq40-f"
   },
   "outputs": [],
   "source": []
  },
  {
   "cell_type": "code",
   "execution_count": null,
   "id": "yRYhAdnn4tf0",
   "metadata": {
    "id": "yRYhAdnn4tf0"
   },
   "outputs": [],
   "source": [
    "\n",
    "from sklearn.utils.class_weight import compute_class_weight\n",
    "from torch.utils.data import DataLoader, TensorDataset\n",
    "from model import *\n",
    "\n",
    "def get_best_device():\n",
    "    if torch.cuda.is_available():\n",
    "        return torch.device(\"cuda\")\n",
    "    elif torch.backends.mps.is_available():\n",
    "        return torch.device(\"mps\")\n",
    "    else:\n",
    "        return torch.device(\"cpu\")\n",
    "\n",
    "\n",
    "def train_model(parcel , model_type='EnhancedLSTM',\n",
    "                 hidden_size=64, learning_rate=0.001, weight_decay=1e-4, num_epochs=30, patience=7, batch_size=8):\n",
    "    device = get_best_device()\n",
    "    print(f\"Using device: {device}\")\n",
    "    X_train, y_train, X_val, y_val, X_test, y_test = parcel\n",
    "    encoder = LabelEncoder()\n",
    "    y_train_enc = encoder.fit_transform(y_train)\n",
    "    y_val_enc = encoder.transform(y_val)\n",
    "    y_test_enc = encoder.transform(y_test)\n",
    "\n",
    "    scaler = StandardScaler()\n",
    "    X_train = scaler.fit_transform(X_train.reshape(-1, X_train.shape[-1])).reshape(X_train.shape)\n",
    "    X_val = scaler.transform(X_val.reshape(-1, X_val.shape[-1])).reshape(X_val.shape)\n",
    "    X_test = scaler.transform(X_test.reshape(-1, X_test.shape[-1])).reshape(X_test.shape)\n",
    "\n",
    "    X_train_t, y_train_t = to_tensor(X_train, y_train_enc)\n",
    "    X_val_t, y_val_t = to_tensor(X_val, y_val_enc)\n",
    "    X_test_t, y_test_t = to_tensor(X_test, y_test_enc)\n",
    "\n",
    "    # Verify the split\n",
    "    print(f\"Train Subjects: {train_subjects}\")\n",
    "    print(f\"Validation Subjects: {val_subjects}\")\n",
    "    print(f\"Test Subjects: {test_subjects}\")\n",
    "    # (num_samples, window_size, num_features)\n",
    "    print(f\"Train shape: {X_train_t.shape}, Validation shape: {X_val_t.shape}, Test shape: {X_test_t.shape}\")\n",
    "\n",
    "    train_dataset = TensorDataset(X_train_t, y_train_t)\n",
    "    val_dataset = TensorDataset(X_val_t, y_val_t)\n",
    "    test_dataset = TensorDataset(X_test_t, y_test_t)\n",
    "\n",
    "    train_loader = DataLoader(train_dataset, batch_size=batch_size, shuffle=False)#don't suffle timeseries data\n",
    "    val_loader = DataLoader(val_dataset, batch_size=batch_size, shuffle=False)\n",
    "    test_loader = DataLoader(test_dataset, batch_size=batch_size, shuffle=False)\n",
    "\n",
    "    input_size = X_train_t.shape[-1]\n",
    "    num_classes = len(encoder.classes_)\n",
    "\n",
    "    weights = compute_class_weight('balanced', classes=np.unique(y_train_enc), y=y_train_enc)\n",
    "    weights = torch.tensor(weights, dtype=torch.float32)\n",
    "\n",
    "    if model_type == 'EnhancedLSTM':\n",
    "        model = EnhancedLSTMNet(input_size, hidden_size, num_classes)\n",
    "    elif model_type == 'LSTM':\n",
    "        model = LSTMNet(input_size, hidden_size, num_classes)\n",
    "    else:\n",
    "        model = RNNNet(input_size, hidden_size, num_classes)\n",
    "\n",
    "    criterion = nn.CrossEntropyLoss(weight=weights)\n",
    "    optimizer = optim.Adam(model.parameters(), lr=learning_rate, weight_decay=weight_decay)\n",
    "    scheduler = optim.lr_scheduler.ReduceLROnPlateau(optimizer, factor=0.5, patience=2)\n",
    "\n",
    "\n",
    "    train_losses, val_losses, train_accuracies, val_accuracies = [], [], [], []\n",
    "    best_loss = float(\"inf\")\n",
    "    trigger = 0\n",
    "\n",
    "    for epoch in range(num_epochs):\n",
    "      model.train() # trainign\n",
    "      epoch_train_loss , correct_train , total_train = 0, 0, 0\n",
    "\n",
    "\n",
    "      for X_batch, y_batch in train_loader:\n",
    "          optimizer.zero_grad()\n",
    "          outputs = model(X_batch)\n",
    "          loss = criterion(outputs, y_batch)\n",
    "          loss.backward()\n",
    "          optimizer.step()\n",
    "\n",
    "          epoch_train_loss += loss.item()\n",
    "          _, predicted = torch.max(outputs.data, 1)\n",
    "          total_train += y_batch.size(0)\n",
    "          correct_train += (predicted == y_batch).sum().item()\n",
    "\n",
    "      epoch_train_loss /= len(train_loader)\n",
    "      epoch_train_acc = 100 * correct_train / total_train\n",
    "\n",
    "      model.eval() # validation\n",
    "      epoch_val_loss, correct_val, total_val = 0, 0, 0\n",
    "\n",
    "      with torch.no_grad():\n",
    "          for X_batch, y_batch in val_loader:\n",
    "              val_out = model(X_batch)\n",
    "              val_loss = criterion(val_out, y_batch)\n",
    "              epoch_val_loss += val_loss.item()\n",
    "              _, predicted = torch.max(val_out.data, 1)\n",
    "              total_val += y_batch.size(0)\n",
    "              correct_val += (predicted == y_batch).sum().item()\n",
    "\n",
    "      epoch_val_loss /= len(val_loader)\n",
    "      epoch_val_acc = 100 * correct_val / total_val\n",
    "\n",
    "      train_losses.append(epoch_train_loss)\n",
    "      val_losses.append(epoch_val_loss)\n",
    "      train_accuracies.append(epoch_train_acc)\n",
    "      val_accuracies.append(epoch_val_acc)\n",
    "\n",
    "      print(f\"Epoch {epoch+1}: train_loss={epoch_train_loss:.4f}, train_acc={epoch_train_acc:.2f}%, \"\n",
    "          f\"val_loss={epoch_val_loss:.4f}, val_acc={epoch_val_acc:.2f}%, \"\n",
    "          f\"lr={optimizer.param_groups[0]['lr']:.6f}\")\n",
    "\n",
    "      scheduler.step(epoch_val_loss)#scheduler with validation loss\n",
    "\n",
    "      if epoch_val_loss < best_loss: # early stop\n",
    "          best_loss = epoch_val_loss\n",
    "          trigger = 0\n",
    "          torch.save(model.state_dict(), \"best_model.pth\")  # Save best model\n",
    "\n",
    "      else:\n",
    "          trigger += 1\n",
    "          if trigger > patience:\n",
    "              print(f\"Early stopping at epoch {epoch+1}\")\n",
    "              break\n",
    "\n",
    "    model.load_state_dict(torch.load(\"best_model.pth\")) # load the bes t model\n",
    "    model.eval()\n",
    "\n",
    "    all_preds, all_labels = [], []\n",
    "    with torch.no_grad():\n",
    "        for X_batch, y_batch in test_loader:\n",
    "            preds = model(X_batch).argmax(dim=1).cpu().numpy()\n",
    "            labels = y_batch.cpu().numpy()\n",
    "            all_preds.extend(preds)\n",
    "            all_labels.extend(labels)\n",
    "        print(len(all_preds), len(all_preds))\n",
    "\n",
    "\n",
    "    rresult = (test_loader, all_preds, all_labels)\n",
    "\n",
    "    report = classification_report(all_labels, all_preds, target_names=[f\"Class {i}\" for i in range(num_classes)], output_dict=True)\n",
    "    pred_df = pd.DataFrame(report).transpose()\n",
    "\n",
    "    plt.figure(figsize=(10, 8))\n",
    "    sns.heatmap(pred_df.iloc[:-1, :-1], annot=True, cmap=\"YlGnBu\", fmt=\".2f\", vmin=0, vmax=1)\n",
    "    plt.title(\"Classification Report Heatmap\")\n",
    "    plt.show()\n",
    "\n",
    "    results_dict = {\n",
    "    'train_losses': train_losses,\n",
    "    'val_losses': val_losses,\n",
    "    'train_accuracies': train_accuracies,\n",
    "    'val_accuracies': val_accuracies\n",
    "    }\n",
    "    return model, rresult , results_dict, report"
   ]
  },
  {
   "cell_type": "code",
   "execution_count": null,
   "id": "qjv-iLxo9pii",
   "metadata": {
    "colab": {
     "base_uri": "https://localhost:8080/",
     "height": 1000
    },
    "executionInfo": {
     "elapsed": 532578,
     "status": "ok",
     "timestamp": 1741491749234,
     "user": {
      "displayName": "nway-lily nus",
      "userId": "14218199843579225004"
     },
     "user_tz": 300
    },
    "id": "qjv-iLxo9pii",
    "outputId": "fa09109a-cd68-4c75-8ee0-8e0cd7c9e38b",
    "scrolled": true
   },
   "outputs": [
    {
     "name": "stdout",
     "output_type": "stream",
     "text": [
      "Using device: mps\n",
      "Train Subjects: ['subject1', 'subject2', 'subject3', 'subject4', 'subject7', 'subject8']\n",
      "Validation Subjects: ['subject5']\n",
      "Test Subjects: ['subject6']\n",
      "Train shape: torch.Size([6132, 100, 4]), Validation shape: torch.Size([986, 100, 4]), Test shape: torch.Size([916, 100, 4])\n",
      "Epoch 1: train_loss=0.9856, train_acc=66.86%, val_loss=0.7436, val_acc=50.00%, lr=0.010000\n",
      "Epoch 2: train_loss=0.8397, train_acc=45.55%, val_loss=0.7361, val_acc=50.00%, lr=0.010000\n",
      "Epoch 3: train_loss=0.7556, train_acc=41.52%, val_loss=0.7202, val_acc=50.00%, lr=0.010000\n",
      "Epoch 4: train_loss=0.8584, train_acc=54.19%, val_loss=7.1731, val_acc=50.00%, lr=0.010000\n",
      "Epoch 5: train_loss=0.9086, train_acc=54.63%, val_loss=3.4009, val_acc=50.00%, lr=0.010000\n",
      "Epoch 6: train_loss=0.8335, train_acc=53.80%, val_loss=0.7196, val_acc=50.00%, lr=0.010000\n",
      "Epoch 7: train_loss=0.7518, train_acc=45.83%, val_loss=0.7212, val_acc=50.00%, lr=0.010000\n",
      "Epoch 8: train_loss=0.7526, train_acc=41.78%, val_loss=0.7198, val_acc=50.00%, lr=0.010000\n",
      "Epoch 9: train_loss=0.7517, train_acc=41.78%, val_loss=0.7193, val_acc=50.00%, lr=0.010000\n",
      "Epoch 10: train_loss=0.7513, train_acc=41.78%, val_loss=0.7191, val_acc=50.00%, lr=0.010000\n",
      "Epoch 11: train_loss=1.1013, train_acc=56.87%, val_loss=0.7079, val_acc=50.00%, lr=0.010000\n",
      "Epoch 12: train_loss=0.7506, train_acc=42.30%, val_loss=0.7205, val_acc=50.00%, lr=0.010000\n",
      "Epoch 13: train_loss=0.7521, train_acc=41.78%, val_loss=0.7196, val_acc=50.00%, lr=0.010000\n",
      "Epoch 14: train_loss=0.7515, train_acc=41.78%, val_loss=0.7193, val_acc=50.00%, lr=0.010000\n",
      "Epoch 15: train_loss=0.7302, train_acc=37.61%, val_loss=0.6995, val_acc=50.00%, lr=0.005000\n",
      "Epoch 16: train_loss=0.7244, train_acc=38.65%, val_loss=0.6992, val_acc=50.00%, lr=0.005000\n",
      "Epoch 17: train_loss=0.7244, train_acc=38.52%, val_loss=0.6993, val_acc=50.00%, lr=0.005000\n",
      "Epoch 18: train_loss=0.7245, train_acc=38.52%, val_loss=0.6993, val_acc=50.00%, lr=0.005000\n",
      "Epoch 19: train_loss=1.1498, train_acc=62.75%, val_loss=0.6934, val_acc=50.00%, lr=0.005000\n",
      "Epoch 20: train_loss=0.7677, train_acc=45.14%, val_loss=0.6894, val_acc=50.00%, lr=0.005000\n",
      "Epoch 21: train_loss=1.0188, train_acc=59.83%, val_loss=0.6988, val_acc=50.00%, lr=0.005000\n",
      "Epoch 22: train_loss=0.8610, train_acc=58.20%, val_loss=0.6867, val_acc=50.00%, lr=0.005000\n",
      "Epoch 23: train_loss=0.7804, train_acc=46.97%, val_loss=1.4707, val_acc=50.00%, lr=0.005000\n",
      "Epoch 24: train_loss=0.8348, train_acc=52.48%, val_loss=0.6970, val_acc=50.00%, lr=0.005000\n",
      "Epoch 25: train_loss=0.8057, train_acc=44.08%, val_loss=0.6940, val_acc=50.00%, lr=0.005000\n",
      "Epoch 26: train_loss=0.7017, train_acc=37.43%, val_loss=0.6229, val_acc=50.00%, lr=0.002500\n",
      "Epoch 27: train_loss=0.7441, train_acc=50.88%, val_loss=0.6550, val_acc=50.00%, lr=0.002500\n",
      "Epoch 28: train_loss=0.6862, train_acc=44.57%, val_loss=0.6764, val_acc=50.00%, lr=0.002500\n",
      "Epoch 29: train_loss=0.6734, train_acc=43.92%, val_loss=0.6527, val_acc=50.00%, lr=0.002500\n",
      "Epoch 30: train_loss=0.6595, train_acc=49.87%, val_loss=0.6529, val_acc=55.78%, lr=0.001250\n",
      "Epoch 31: train_loss=0.6622, train_acc=55.76%, val_loss=0.6542, val_acc=55.58%, lr=0.001250\n",
      "Epoch 32: train_loss=0.6601, train_acc=56.18%, val_loss=0.6401, val_acc=57.71%, lr=0.001250\n",
      "Epoch 33: train_loss=0.6191, train_acc=62.02%, val_loss=1.6785, val_acc=50.00%, lr=0.000625\n",
      "Epoch 34: train_loss=0.6297, train_acc=60.76%, val_loss=0.6048, val_acc=48.68%, lr=0.000625\n",
      "Epoch 35: train_loss=0.6212, train_acc=60.73%, val_loss=0.5935, val_acc=66.33%, lr=0.000625\n",
      "Epoch 36: train_loss=0.6035, train_acc=62.79%, val_loss=0.5937, val_acc=67.95%, lr=0.000625\n",
      "Epoch 37: train_loss=0.6024, train_acc=62.65%, val_loss=0.5850, val_acc=66.63%, lr=0.000625\n",
      "Epoch 38: train_loss=0.5910, train_acc=63.62%, val_loss=0.5815, val_acc=70.59%, lr=0.000625\n",
      "Epoch 39: train_loss=0.5882, train_acc=63.96%, val_loss=0.6801, val_acc=50.00%, lr=0.000625\n",
      "Epoch 40: train_loss=0.5939, train_acc=62.35%, val_loss=0.5815, val_acc=65.62%, lr=0.000625\n",
      "Epoch 41: train_loss=0.6046, train_acc=63.75%, val_loss=0.5830, val_acc=63.39%, lr=0.000625\n",
      "Epoch 42: train_loss=0.5884, train_acc=62.95%, val_loss=0.5781, val_acc=66.13%, lr=0.000313\n",
      "Epoch 43: train_loss=0.5832, train_acc=63.68%, val_loss=0.5876, val_acc=65.92%, lr=0.000313\n",
      "Epoch 44: train_loss=0.5837, train_acc=63.75%, val_loss=0.5675, val_acc=72.41%, lr=0.000313\n",
      "Epoch 45: train_loss=0.5822, train_acc=63.80%, val_loss=0.5728, val_acc=67.04%, lr=0.000313\n",
      "Epoch 46: train_loss=0.5791, train_acc=64.16%, val_loss=0.5785, val_acc=65.82%, lr=0.000313\n",
      "Epoch 47: train_loss=0.5801, train_acc=64.14%, val_loss=0.5722, val_acc=66.94%, lr=0.000313\n",
      "Epoch 48: train_loss=0.5725, train_acc=64.61%, val_loss=0.5677, val_acc=69.78%, lr=0.000156\n",
      "Epoch 49: train_loss=0.5729, train_acc=64.74%, val_loss=0.5687, val_acc=68.97%, lr=0.000156\n",
      "Epoch 50: train_loss=0.5728, train_acc=64.74%, val_loss=0.5694, val_acc=68.56%, lr=0.000156\n",
      "Epoch 51: train_loss=0.5691, train_acc=65.83%, val_loss=0.5638, val_acc=70.08%, lr=0.000078\n",
      "Epoch 52: train_loss=0.5686, train_acc=65.79%, val_loss=0.5677, val_acc=69.17%, lr=0.000078\n",
      "Epoch 53: train_loss=0.5694, train_acc=65.80%, val_loss=0.5663, val_acc=69.57%, lr=0.000078\n",
      "Epoch 54: train_loss=0.5678, train_acc=66.14%, val_loss=0.5617, val_acc=70.18%, lr=0.000078\n",
      "Epoch 55: train_loss=0.5663, train_acc=65.92%, val_loss=0.5607, val_acc=70.28%, lr=0.000078\n",
      "Epoch 56: train_loss=0.5672, train_acc=65.88%, val_loss=0.5624, val_acc=69.98%, lr=0.000078\n",
      "Epoch 57: train_loss=0.5669, train_acc=66.34%, val_loss=0.5592, val_acc=70.39%, lr=0.000078\n",
      "Epoch 58: train_loss=0.5656, train_acc=66.29%, val_loss=0.5577, val_acc=70.49%, lr=0.000078\n",
      "Epoch 59: train_loss=0.5628, train_acc=66.42%, val_loss=0.5532, val_acc=71.20%, lr=0.000078\n",
      "Epoch 60: train_loss=0.5652, train_acc=66.62%, val_loss=0.5525, val_acc=71.30%, lr=0.000078\n",
      "Epoch 61: train_loss=0.5617, train_acc=66.78%, val_loss=0.5473, val_acc=71.81%, lr=0.000078\n",
      "Epoch 62: train_loss=0.5563, train_acc=67.19%, val_loss=0.5417, val_acc=72.92%, lr=0.000078\n",
      "Epoch 63: train_loss=0.5536, train_acc=67.34%, val_loss=0.5451, val_acc=73.73%, lr=0.000078\n",
      "Epoch 64: train_loss=0.5433, train_acc=68.02%, val_loss=0.5478, val_acc=66.84%, lr=0.000078\n",
      "Epoch 65: train_loss=0.5344, train_acc=68.57%, val_loss=0.5568, val_acc=67.14%, lr=0.000078\n",
      "Epoch 66: train_loss=0.5201, train_acc=69.55%, val_loss=0.5555, val_acc=69.47%, lr=0.000039\n",
      "Epoch 67: train_loss=0.5168, train_acc=70.47%, val_loss=0.5591, val_acc=70.28%, lr=0.000039\n",
      "Epoch 68: train_loss=0.5076, train_acc=71.62%, val_loss=0.5636, val_acc=69.07%, lr=0.000039\n",
      "Epoch 69: train_loss=0.5027, train_acc=72.57%, val_loss=0.5628, val_acc=70.79%, lr=0.000020\n",
      "Epoch 70: train_loss=0.5028, train_acc=72.72%, val_loss=0.5597, val_acc=70.69%, lr=0.000020\n",
      "Early stopping at epoch 70\n",
      "916 916\n"
     ]
    },
    {
     "data": {
      "image/png": "[encoded data removed]",
      "text/plain": [
       "<Figure size 1000x800 with 2 Axes>"
      ]
     },
     "metadata": {},
     "output_type": "display_data"
    }
   ],
   "source": [
    "binary_model, result1, results_dict1, report1   = train_model(parcel1, hidden_size=64, learning_rate=0.01, weight_decay=1e-4, num_epochs=300, patience=7, batch_size=8)"
   ]
  },
  {
   "cell_type": "code",
   "execution_count": null,
   "id": "5560048e-8be9-4042-b89b-4f10d2c7b7b4",
   "metadata": {
    "colab": {
     "base_uri": "https://localhost:8080/",
     "height": 923
    },
    "executionInfo": {
     "elapsed": 15933,
     "status": "ok",
     "timestamp": 1741491765179,
     "user": {
      "displayName": "nway-lily nus",
      "userId": "14218199843579225004"
     },
     "user_tz": 300
    },
    "id": "5560048e-8be9-4042-b89b-4f10d2c7b7b4",
    "outputId": "6ac7eaa2-9edc-4106-be57-fbd94819e1f8"
   },
   "outputs": [
    {
     "name": "stdout",
     "output_type": "stream",
     "text": [
      "Using device: mps\n",
      "Train Subjects: ['subject1', 'subject2', 'subject3', 'subject4', 'subject7', 'subject8']\n",
      "Validation Subjects: ['subject5']\n",
      "Test Subjects: ['subject6']\n",
      "Train shape: torch.Size([3048, 100, 4]), Validation shape: torch.Size([490, 100, 4]), Test shape: torch.Size([455, 100, 4])\n",
      "Epoch 1: train_loss=0.7980, train_acc=78.67%, val_loss=0.8611, val_acc=71.63%, lr=0.001000\n",
      "Epoch 2: train_loss=0.6030, train_acc=82.12%, val_loss=0.5329, val_acc=82.04%, lr=0.001000\n",
      "Epoch 3: train_loss=0.4898, train_acc=84.35%, val_loss=0.5472, val_acc=76.94%, lr=0.001000\n",
      "Epoch 4: train_loss=0.4531, train_acc=83.46%, val_loss=0.5594, val_acc=75.31%, lr=0.001000\n",
      "Epoch 5: train_loss=0.4655, train_acc=82.09%, val_loss=0.4973, val_acc=78.98%, lr=0.001000\n",
      "Epoch 6: train_loss=0.5634, train_acc=82.68%, val_loss=0.4655, val_acc=85.10%, lr=0.001000\n",
      "Epoch 7: train_loss=0.4097, train_acc=85.56%, val_loss=0.4402, val_acc=82.24%, lr=0.001000\n",
      "Epoch 8: train_loss=0.3887, train_acc=85.53%, val_loss=0.4337, val_acc=82.45%, lr=0.001000\n",
      "Epoch 9: train_loss=0.3860, train_acc=85.50%, val_loss=0.4786, val_acc=79.80%, lr=0.001000\n",
      "Epoch 10: train_loss=0.4063, train_acc=85.30%, val_loss=0.3721, val_acc=85.31%, lr=0.001000\n",
      "Epoch 11: train_loss=0.4514, train_acc=85.40%, val_loss=1.0949, val_acc=30.61%, lr=0.001000\n",
      "Epoch 12: train_loss=0.5016, train_acc=79.20%, val_loss=0.5088, val_acc=82.86%, lr=0.001000\n",
      "Epoch 13: train_loss=0.4280, train_acc=84.81%, val_loss=0.3867, val_acc=84.49%, lr=0.001000\n",
      "Epoch 14: train_loss=0.3194, train_acc=86.71%, val_loss=0.3111, val_acc=85.10%, lr=0.000500\n",
      "Epoch 15: train_loss=0.2757, train_acc=88.25%, val_loss=0.6287, val_acc=88.78%, lr=0.000500\n",
      "Epoch 16: train_loss=0.2883, train_acc=93.57%, val_loss=0.2611, val_acc=94.29%, lr=0.000500\n",
      "Epoch 17: train_loss=0.1921, train_acc=96.16%, val_loss=0.2126, val_acc=92.04%, lr=0.000500\n",
      "Epoch 18: train_loss=0.0928, train_acc=98.29%, val_loss=0.1566, val_acc=94.90%, lr=0.000500\n",
      "Epoch 19: train_loss=0.0514, train_acc=98.69%, val_loss=0.2591, val_acc=93.06%, lr=0.000500\n",
      "Epoch 20: train_loss=0.0825, train_acc=97.67%, val_loss=0.0831, val_acc=96.73%, lr=0.000500\n",
      "Epoch 21: train_loss=0.0379, train_acc=99.21%, val_loss=0.0275, val_acc=99.39%, lr=0.000500\n",
      "Epoch 22: train_loss=0.0413, train_acc=98.92%, val_loss=0.1117, val_acc=96.94%, lr=0.000500\n",
      "Epoch 23: train_loss=0.0469, train_acc=98.85%, val_loss=0.2248, val_acc=90.61%, lr=0.000500\n",
      "Epoch 24: train_loss=0.0471, train_acc=98.56%, val_loss=0.0447, val_acc=98.37%, lr=0.000500\n",
      "Epoch 25: train_loss=0.0267, train_acc=99.48%, val_loss=0.0449, val_acc=98.57%, lr=0.000250\n",
      "Epoch 26: train_loss=0.0610, train_acc=98.95%, val_loss=0.0329, val_acc=99.39%, lr=0.000250\n",
      "Epoch 27: train_loss=0.0228, train_acc=99.64%, val_loss=0.0338, val_acc=99.39%, lr=0.000250\n",
      "Epoch 28: train_loss=0.0209, train_acc=99.67%, val_loss=0.0337, val_acc=99.39%, lr=0.000125\n",
      "Epoch 29: train_loss=0.0204, train_acc=99.67%, val_loss=0.0353, val_acc=99.39%, lr=0.000125\n",
      "Early stopping at epoch 29\n",
      "455 455\n"
     ]
    },
    {
     "data": {
      "image/png": "[encoded data removed]",
      "text/plain": [
       "<Figure size 1000x800 with 2 Axes>"
      ]
     },
     "metadata": {},
     "output_type": "display_data"
    }
   ],
   "source": [
    "multiclass_model,result2,  results_dict2, report2 = train_model(parcel2, hidden_size=64, learning_rate=0.001, weight_decay=1e-4, num_epochs=300, patience=7, batch_size=8)"
   ]
  },
  {
   "cell_type": "code",
   "execution_count": null,
   "id": "_7EkcqWohtPt",
   "metadata": {
    "id": "_7EkcqWohtPt"
   },
   "outputs": [],
   "source": [
    "test_loader1, pred1, label1 = result1\n",
    "test_loader2, pred2, label2 = result2"
   ]
  },
  {
   "cell_type": "code",
   "execution_count": null,
   "id": "UzzvhpVfsab4",
   "metadata": {
    "colab": {
     "base_uri": "https://localhost:8080/"
    },
    "executionInfo": {
     "elapsed": 519,
     "status": "ok",
     "timestamp": 1741498509217,
     "user": {
      "displayName": "nway-lily nus",
      "userId": "14218199843579225004"
     },
     "user_tz": 300
    },
    "id": "UzzvhpVfsab4",
    "outputId": "a7e05a0c-f820-4fb1-ef16-9f65e050c5db"
   },
   "outputs": [
    {
     "name": "stdout",
     "output_type": "stream",
     "text": [
      "916 916\n"
     ]
    }
   ],
   "source": [
    "pred1, label1 = [], []\n",
    "with torch.no_grad():\n",
    "    for X_batch, y_batch in test_loader1:\n",
    "        preds = binary_model(X_batch).argmax(dim=1).cpu().numpy()\n",
    "        labels = y_batch.cpu().numpy()\n",
    "        pred1.extend(preds)\n",
    "        label1.extend(labels)\n",
    "    print(len(pred1), len(label1))\n"
   ]
  },
  {
   "cell_type": "code",
   "execution_count": null,
   "id": "XnjRUXoeszR3",
   "metadata": {
    "colab": {
     "base_uri": "https://localhost:8080/"
    },
    "executionInfo": {
     "elapsed": 121,
     "status": "ok",
     "timestamp": 1741498509722,
     "user": {
      "displayName": "nway-lily nus",
      "userId": "14218199843579225004"
     },
     "user_tz": 300
    },
    "id": "XnjRUXoeszR3",
    "outputId": "b4856a02-e893-4efd-ad40-9f90485aa999"
   },
   "outputs": [
    {
     "name": "stdout",
     "output_type": "stream",
     "text": [
      "455 455\n"
     ]
    }
   ],
   "source": [
    "pred2, label2 = [], []\n",
    "with torch.no_grad():\n",
    "    for X_batch, y_batch in test_loader2:\n",
    "        preds = multiclass_model(X_batch).argmax(dim=1).cpu().numpy()\n",
    "        labels = y_batch.cpu().numpy()\n",
    "        pred2.extend(preds)\n",
    "        label2.extend(labels)\n",
    "    print(len(pred2), len(label2))"
   ]
  },
  {
   "cell_type": "code",
   "execution_count": null,
   "id": "4zhsdQwntQNZ",
   "metadata": {
    "colab": {
     "base_uri": "https://localhost:8080/"
    },
    "executionInfo": {
     "elapsed": 32,
     "status": "ok",
     "timestamp": 1741498670451,
     "user": {
      "displayName": "nway-lily nus",
      "userId": "14218199843579225004"
     },
     "user_tz": 300
    },
    "id": "4zhsdQwntQNZ",
    "outputId": "bd4c4f18-4399-4bba-a3e2-ba66f94ba2ed"
   },
   "outputs": [
    {
     "data": {
      "text/plain": [
       "459"
      ]
     },
     "execution_count": 42,
     "metadata": {},
     "output_type": "execute_result"
    }
   ],
   "source": [
    "r1 = pd.DataFrame([label1, pred1]).T\n",
    "\n",
    "r1.columns = ['y_true', 'y_pred']\n",
    "r2 = pd.DataFrame([label2, pred2]).T\n",
    "r2.columns = ['y_true', 'y_pred']\n",
    "r2 = r2+1 # Add 1 to make label consistant ### 2nd multiclass model label should start with 1 instead of 0\n",
    "\n",
    "r1_0 = r1[r1['y_true']==0]\n",
    "r1_1 = r1[r1['y_true']==1]\n",
    "cascade_diff = r1_1.shape[0] - r2.shape[0] ##offset due to timeseries processing\n",
    "r1_1 = r1_1[:-cascade_diff]\n",
    "r1 = pd.concat([r1_0, r1_1])\n",
    "r1 = r1.reset_index(drop=True)\n",
    "offset = r1[r1.y_true==0].shape[0]+1\n",
    "offset"
   ]
  },
  {
   "cell_type": "code",
   "execution_count": null,
   "id": "dfd0c73c-29e1-4911-af44-73f5872f9e83",
   "metadata": {
    "id": "dfd0c73c-29e1-4911-af44-73f5872f9e83",
    "outputId": "001c725d-2056-4242-9652-3645442b093b"
   },
   "outputs": [
    {
     "data": {
      "text/plain": [
       "y_true  y_pred\n",
       "0       0         434\n",
       "1       0         281\n",
       "        1         174\n",
       "0       1          24\n",
       "Name: count, dtype: int64"
      ]
     },
     "execution_count": 43,
     "metadata": {},
     "output_type": "execute_result"
    }
   ],
   "source": [
    "r1.value_counts()"
   ]
  },
  {
   "cell_type": "code",
   "execution_count": null,
   "id": "2ed43ab5-f1b6-4e1b-9f78-5dced6e5b55c",
   "metadata": {
    "id": "2ed43ab5-f1b6-4e1b-9f78-5dced6e5b55c",
    "outputId": "8244149a-fe80-44a9-a277-c68a3658ff8a"
   },
   "outputs": [
    {
     "data": {
      "text/plain": [
       "y_true  y_pred\n",
       "2       2         246\n",
       "3       3         142\n",
       "1       1          60\n",
       "2       1           7\n",
       "Name: count, dtype: int64"
      ]
     },
     "execution_count": 44,
     "metadata": {},
     "output_type": "execute_result"
    }
   ],
   "source": [
    "r2.value_counts()"
   ]
  },
  {
   "cell_type": "code",
   "execution_count": null,
   "id": "9c216ca0-a153-4b53-be48-b5c83833efbe",
   "metadata": {
    "id": "9c216ca0-a153-4b53-be48-b5c83833efbe",
    "outputId": "b6299656-5003-410d-a4fb-f6829d920750"
   },
   "outputs": [
    {
     "data": {
      "text/plain": [
       "y_pred\n",
       "0    715\n",
       "1    198\n",
       "Name: count, dtype: int64"
      ]
     },
     "execution_count": 45,
     "metadata": {},
     "output_type": "execute_result"
    }
   ],
   "source": [
    "r1.y_pred.value_counts()"
   ]
  },
  {
   "cell_type": "code",
   "execution_count": null,
   "id": "rxp6rMmOWgzg",
   "metadata": {
    "colab": {
     "base_uri": "https://localhost:8080/"
    },
    "executionInfo": {
     "elapsed": 24,
     "status": "ok",
     "timestamp": 1741498674777,
     "user": {
      "displayName": "nway-lily nus",
      "userId": "14218199843579225004"
     },
     "user_tz": 300
    },
    "id": "rxp6rMmOWgzg",
    "outputId": "52f1877c-a4c8-47f8-cdf2-05c950d3b2d2"
   },
   "outputs": [
    {
     "name": "stdout",
     "output_type": "stream",
     "text": [
      "   y_true  y_pred\n",
      "1     NaN     NaN\n",
      "2     NaN     NaN\n",
      "3     NaN     NaN\n",
      "4     NaN     NaN\n",
      "5     NaN     NaN\n"
     ]
    }
   ],
   "source": [
    "#create placeholder for multiclass prediction\n",
    "ddd = pd.DataFrame({ 'y_true': np.nan,   'y_pred': np.nan   }, index=np.arange(1,offset ))\n",
    "\n",
    "print(ddd.head())\n",
    "dr2 = pd.concat([ddd,r2])\n",
    "dr2 = dr2.reset_index(drop=True)"
   ]
  },
  {
   "cell_type": "code",
   "execution_count": null,
   "id": "N36vwy4lSyja",
   "metadata": {
    "colab": {
     "base_uri": "https://localhost:8080/"
    },
    "executionInfo": {
     "elapsed": 6,
     "status": "ok",
     "timestamp": 1741498676911,
     "user": {
      "displayName": "nway-lily nus",
      "userId": "14218199843579225004"
     },
     "user_tz": 300
    },
    "id": "N36vwy4lSyja",
    "outputId": "8ba46f67-d851-436d-87d5-a640e80808de"
   },
   "outputs": [
    {
     "data": {
      "text/plain": [
       "((913, 2), (913, 2))"
      ]
     },
     "execution_count": 47,
     "metadata": {},
     "output_type": "execute_result"
    }
   ],
   "source": [
    "r1.shape, dr2.shape"
   ]
  },
  {
   "cell_type": "code",
   "execution_count": null,
   "id": "AdczhTXpTJF5",
   "metadata": {
    "id": "AdczhTXpTJF5"
   },
   "outputs": [],
   "source": [
    "r1.to_csv('r1.csv', index=False)\n",
    "dr2.to_csv('dr2.csv', index=False)"
   ]
  },
  {
   "cell_type": "code",
   "execution_count": null,
   "id": "e4YOs6PMT5qb",
   "metadata": {
    "colab": {
     "base_uri": "https://localhost:8080/"
    },
    "executionInfo": {
     "elapsed": 5,
     "status": "ok",
     "timestamp": 1741498682873,
     "user": {
      "displayName": "nway-lily nus",
      "userId": "14218199843579225004"
     },
     "user_tz": 300
    },
    "id": "e4YOs6PMT5qb",
    "outputId": "14f056c4-6013-482d-f275-0e05b5deb40c"
   },
   "outputs": [
    {
     "data": {
      "text/plain": [
       "Index([460, 465, 471, 472, 474, 478, 479, 481, 485, 488,\n",
       "       ...\n",
       "       850, 851, 852, 853, 854, 863, 887, 899, 908, 912],\n",
       "      dtype='int64', length=174)"
      ]
     },
     "execution_count": 49,
     "metadata": {},
     "output_type": "execute_result"
    }
   ],
   "source": [
    "indices_pred_1 = r1[(r1['y_pred'] == 1) & (r1.index >= offset)].index\n",
    "indices_pred_2 = r1[(r1['y_pred'] == 1) & (r1.index < offset)].index\n",
    "indices_pred_1"
   ]
  },
  {
   "cell_type": "code",
   "execution_count": null,
   "id": "nfgRbIyuVezk",
   "metadata": {
    "colab": {
     "base_uri": "https://localhost:8080/"
    },
    "executionInfo": {
     "elapsed": 42,
     "status": "ok",
     "timestamp": 1741498685451,
     "user": {
      "displayName": "nway-lily nus",
      "userId": "14218199843579225004"
     },
     "user_tz": 300
    },
    "id": "nfgRbIyuVezk",
    "outputId": "ea138ee2-0895-4ba9-a101-6482595b567d"
   },
   "outputs": [
    {
     "name": "stdout",
     "output_type": "stream",
     "text": [
      "(24,)\n",
      "(24,)\n"
     ]
    }
   ],
   "source": [
    "print(r1.loc[indices_pred_2, 'y_pred'].shape)\n",
    "num_classes = 3\n",
    "num_indices = len(indices_pred_2)\n",
    "assignments = np.tile([1, 2, 3], num_indices // num_classes + 1)[:num_indices]\n",
    "np.random.shuffle(assignments)\n",
    "print(assignments.shape)\n",
    "r1.loc[indices_pred_2, 'y_pred'] = assignments"
   ]
  },
  {
   "cell_type": "code",
   "execution_count": null,
   "id": "4Vmfgr-qUGLL",
   "metadata": {
    "id": "4Vmfgr-qUGLL"
   },
   "outputs": [],
   "source": [
    "r1.loc[indices_pred_1, 'y_pred'] = dr2.loc[indices_pred_1, 'y_pred']\n",
    "r1.loc[indices_pred_1, 'y_true'] = dr2.loc[indices_pred_1, 'y_true']"
   ]
  },
  {
   "cell_type": "code",
   "execution_count": null,
   "id": "31294294-ccd6-499f-ba89-59ca2e5e460c",
   "metadata": {
    "id": "31294294-ccd6-499f-ba89-59ca2e5e460c"
   },
   "outputs": [],
   "source": [
    "r1.to_csv('Cascade_Training_v4_resut.csv',index=False)"
   ]
  },
  {
   "cell_type": "code",
   "execution_count": null,
   "id": "tB7IAtj1CMJX",
   "metadata": {
    "colab": {
     "base_uri": "https://localhost:8080/",
     "height": 266
    },
    "executionInfo": {
     "elapsed": 21,
     "status": "ok",
     "timestamp": 1741498947742,
     "user": {
      "displayName": "nway-lily nus",
      "userId": "14218199843579225004"
     },
     "user_tz": 300
    },
    "id": "tB7IAtj1CMJX",
    "outputId": "ca34c5e1-d09f-4258-a1f0-5bd0d8629c2e"
   },
   "outputs": [
    {
     "data": {
      "text/html": [
       "<div>\n",
       "<style scoped>\n",
       "    .dataframe tbody tr th:only-of-type {\n",
       "        vertical-align: middle;\n",
       "    }\n",
       "\n",
       "    .dataframe tbody tr th {\n",
       "        vertical-align: top;\n",
       "    }\n",
       "\n",
       "    .dataframe thead th {\n",
       "        text-align: right;\n",
       "    }\n",
       "</style>\n",
       "<table border=\"1\" class=\"dataframe\">\n",
       "  <thead>\n",
       "    <tr style=\"text-align: right;\">\n",
       "      <th></th>\n",
       "      <th>precision</th>\n",
       "      <th>recall</th>\n",
       "      <th>f1-score</th>\n",
       "      <th>support</th>\n",
       "    </tr>\n",
       "  </thead>\n",
       "  <tbody>\n",
       "    <tr>\n",
       "      <th>0</th>\n",
       "      <td>0.606993</td>\n",
       "      <td>0.947598</td>\n",
       "      <td>0.739983</td>\n",
       "      <td>458.000000</td>\n",
       "    </tr>\n",
       "    <tr>\n",
       "      <th>1</th>\n",
       "      <td>0.642857</td>\n",
       "      <td>0.060201</td>\n",
       "      <td>0.110092</td>\n",
       "      <td>299.000000</td>\n",
       "    </tr>\n",
       "    <tr>\n",
       "      <th>2</th>\n",
       "      <td>0.890411</td>\n",
       "      <td>0.970149</td>\n",
       "      <td>0.928571</td>\n",
       "      <td>67.000000</td>\n",
       "    </tr>\n",
       "    <tr>\n",
       "      <th>3</th>\n",
       "      <td>0.917526</td>\n",
       "      <td>1.000000</td>\n",
       "      <td>0.956989</td>\n",
       "      <td>89.000000</td>\n",
       "    </tr>\n",
       "    <tr>\n",
       "      <th>accuracy</th>\n",
       "      <td>0.663746</td>\n",
       "      <td>0.663746</td>\n",
       "      <td>0.663746</td>\n",
       "      <td>0.663746</td>\n",
       "    </tr>\n",
       "    <tr>\n",
       "      <th>macro avg</th>\n",
       "      <td>0.764447</td>\n",
       "      <td>0.744487</td>\n",
       "      <td>0.683909</td>\n",
       "      <td>913.000000</td>\n",
       "    </tr>\n",
       "    <tr>\n",
       "      <th>weighted avg</th>\n",
       "      <td>0.669808</td>\n",
       "      <td>0.663746</td>\n",
       "      <td>0.568692</td>\n",
       "      <td>913.000000</td>\n",
       "    </tr>\n",
       "  </tbody>\n",
       "</table>\n",
       "</div>"
      ],
      "text/plain": [
       "              precision    recall  f1-score     support\n",
       "0              0.606993  0.947598  0.739983  458.000000\n",
       "1              0.642857  0.060201  0.110092  299.000000\n",
       "2              0.890411  0.970149  0.928571   67.000000\n",
       "3              0.917526  1.000000  0.956989   89.000000\n",
       "accuracy       0.663746  0.663746  0.663746    0.663746\n",
       "macro avg      0.764447  0.744487  0.683909  913.000000\n",
       "weighted avg   0.669808  0.663746  0.568692  913.000000"
      ]
     },
     "execution_count": 53,
     "metadata": {},
     "output_type": "execute_result"
    }
   ],
   "source": [
    "result_report = classification_report(r1.y_true,r1.y_pred, output_dict=True , digits = 2)\n",
    "report_df = pd.DataFrame(result_report).transpose()\n",
    "report_df"
   ]
  },
  {
   "cell_type": "code",
   "execution_count": null,
   "id": "t1jDsrAnaUSg",
   "metadata": {
    "colab": {
     "base_uri": "https://localhost:8080/",
     "height": 235
    },
    "executionInfo": {
     "elapsed": 33,
     "status": "ok",
     "timestamp": 1741498882701,
     "user": {
      "displayName": "nway-lily nus",
      "userId": "14218199843579225004"
     },
     "user_tz": 300
    },
    "id": "t1jDsrAnaUSg",
    "outputId": "b7c8d563-e3a9-4aef-f9f8-22a27f866983"
   },
   "outputs": [
    {
     "data": {
      "text/html": [
       "<div>\n",
       "<style scoped>\n",
       "    .dataframe tbody tr th:only-of-type {\n",
       "        vertical-align: middle;\n",
       "    }\n",
       "\n",
       "    .dataframe tbody tr th {\n",
       "        vertical-align: top;\n",
       "    }\n",
       "\n",
       "    .dataframe thead th {\n",
       "        text-align: right;\n",
       "    }\n",
       "</style>\n",
       "<table border=\"1\" class=\"dataframe\">\n",
       "  <thead>\n",
       "    <tr style=\"text-align: right;\">\n",
       "      <th></th>\n",
       "      <th>precision</th>\n",
       "      <th>recall</th>\n",
       "      <th>f1-score</th>\n",
       "      <th>support</th>\n",
       "    </tr>\n",
       "  </thead>\n",
       "  <tbody>\n",
       "    <tr>\n",
       "      <th>1</th>\n",
       "      <td>0.895522</td>\n",
       "      <td>1.000000</td>\n",
       "      <td>0.944882</td>\n",
       "      <td>60.000000</td>\n",
       "    </tr>\n",
       "    <tr>\n",
       "      <th>2</th>\n",
       "      <td>1.000000</td>\n",
       "      <td>0.972332</td>\n",
       "      <td>0.985972</td>\n",
       "      <td>253.000000</td>\n",
       "    </tr>\n",
       "    <tr>\n",
       "      <th>3</th>\n",
       "      <td>1.000000</td>\n",
       "      <td>1.000000</td>\n",
       "      <td>1.000000</td>\n",
       "      <td>142.000000</td>\n",
       "    </tr>\n",
       "    <tr>\n",
       "      <th>accuracy</th>\n",
       "      <td>0.984615</td>\n",
       "      <td>0.984615</td>\n",
       "      <td>0.984615</td>\n",
       "      <td>0.984615</td>\n",
       "    </tr>\n",
       "    <tr>\n",
       "      <th>macro avg</th>\n",
       "      <td>0.965174</td>\n",
       "      <td>0.990777</td>\n",
       "      <td>0.976951</td>\n",
       "      <td>455.000000</td>\n",
       "    </tr>\n",
       "    <tr>\n",
       "      <th>weighted avg</th>\n",
       "      <td>0.986223</td>\n",
       "      <td>0.984615</td>\n",
       "      <td>0.984931</td>\n",
       "      <td>455.000000</td>\n",
       "    </tr>\n",
       "  </tbody>\n",
       "</table>\n",
       "</div>"
      ],
      "text/plain": [
       "              precision    recall  f1-score     support\n",
       "1              0.895522  1.000000  0.944882   60.000000\n",
       "2              1.000000  0.972332  0.985972  253.000000\n",
       "3              1.000000  1.000000  1.000000  142.000000\n",
       "accuracy       0.984615  0.984615  0.984615    0.984615\n",
       "macro avg      0.965174  0.990777  0.976951  455.000000\n",
       "weighted avg   0.986223  0.984615  0.984931  455.000000"
      ]
     },
     "execution_count": 54,
     "metadata": {},
     "output_type": "execute_result"
    }
   ],
   "source": [
    "a = classification_report(r2.y_true,r2.y_pred, output_dict=True , digits = 2)\n",
    "d = pd.DataFrame(a).transpose()\n",
    "d"
   ]
  },
  {
   "cell_type": "code",
   "execution_count": null,
   "id": "sFpWyiWQaysD",
   "metadata": {
    "id": "sFpWyiWQaysD"
   },
   "outputs": [],
   "source": []
  },
  {
   "cell_type": "code",
   "execution_count": null,
   "id": "e2b2c342-2265-4e79-bc99-45da40d84b74",
   "metadata": {
    "id": "e2b2c342-2265-4e79-bc99-45da40d84b74"
   },
   "outputs": [],
   "source": []
  }
 ],
 "metadata": {
  "accelerator": "GPU",
  "colab": {
   "gpuType": "T4",
   "provenance": []
  },
  "kernelspec": {
   "display_name": "Python 3 (ipykernel)",
   "language": "python",
   "name": "python3"
  },
  "language_info": {
   "codemirror_mode": {
    "name": "ipython",
    "version": 3
   },
   "file_extension": ".py",
   "mimetype": "text/x-python",
   "name": "python",
   "nbconvert_exporter": "python",
   "pygments_lexer": "ipython3",
   "version": "3.12.9"
  }
 },
 "nbformat": 4,
 "nbformat_minor": 5
}
