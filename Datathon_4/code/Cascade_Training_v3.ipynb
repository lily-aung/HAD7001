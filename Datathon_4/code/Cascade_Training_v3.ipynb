{
 "cells": [
  {
   "cell_type": "markdown",
   "id": "793bf1b4-b290-4bb8-b66f-361995252612",
   "metadata": {
    "id": "793bf1b4-b290-4bb8-b66f-361995252612"
   },
   "source": [
    "## Implementation\n",
    "- Signal Smoothing with Median\n",
    "- Use both Median and Norm Feature\n",
    "  \n",
    "      * Norm: Compute Composite Feature : Euclidean Norm (x,y,z) -> 1 ; (acce x,y,x -> acce composite) ; (gry x,y,x -> gry composite)\n",
    "  \n",
    "- Slding Windowing : Every 100 windows  (50Hz * 2); stride of 50 => sample every 2 seconds\n",
    "- Cascade Training\n",
    "      - Binary Classifier : Resting vs Exercise (0 vs 1)\n",
    "      - Multi Classifier  : Exercise Intensity (0 , 1, 2)\n",
    "- Evaluation : Classification report\n",
    "\n",
    "## Changes\n",
    "- Implemented Subject-wise actiivty downsampling for Majority Class to be the same as minor class - preserved temporal order\n",
    "- Remove Subject 9"
   ]
  },
  {
   "cell_type": "code",
   "execution_count": null,
   "id": "440e8b7f-17ce-40c5-9c80-8785b86f5bfb",
   "metadata": {
    "id": "440e8b7f-17ce-40c5-9c80-8785b86f5bfb"
   },
   "outputs": [],
   "source": [
    "import pandas as pd\n",
    "import seaborn as sns\n",
    "import matplotlib.pyplot as plt\n",
    "from sklearn.preprocessing import LabelEncoder\n",
    "import numpy as np\n",
    "from sklearn.model_selection import train_test_split\n",
    "from sklearn.metrics import classification_report, confusion_matrix\n",
    "from sklearn.preprocessing import StandardScaler\n",
    "scaler = StandardScaler()\n",
    "import pandas as pd\n",
    "import numpy as np\n",
    "import torch\n",
    "import torch.nn as nn\n",
    "import torch.optim as optim\n",
    "import torch.nn.functional as F\n",
    "\n",
    "import matplotlib.pyplot as plt"
   ]
  },
  {
   "cell_type": "code",
   "execution_count": null,
   "id": "VqrCEOoYYsaf",
   "metadata": {
    "colab": {
     "base_uri": "https://localhost:8080/",
     "height": 204
    },
    "executionInfo": {
     "elapsed": 5149,
     "status": "ok",
     "timestamp": 1741491189850,
     "user": {
      "displayName": "nway-lily nus",
      "userId": "14218199843579225004"
     },
     "user_tz": 300
    },
    "id": "VqrCEOoYYsaf",
    "outputId": "a768ffcf-1dac-4e8c-936c-44fcd0b1aae5"
   },
   "outputs": [
    {
     "data": {
      "text/html": [
       "<div>\n",
       "<style scoped>\n",
       "    .dataframe tbody tr th:only-of-type {\n",
       "        vertical-align: middle;\n",
       "    }\n",
       "\n",
       "    .dataframe tbody tr th {\n",
       "        vertical-align: top;\n",
       "    }\n",
       "\n",
       "    .dataframe thead th {\n",
       "        text-align: right;\n",
       "    }\n",
       "</style>\n",
       "<table border=\"1\" class=\"dataframe\">\n",
       "  <thead>\n",
       "    <tr style=\"text-align: right;\">\n",
       "      <th></th>\n",
       "      <th>alx</th>\n",
       "      <th>aly</th>\n",
       "      <th>alz</th>\n",
       "      <th>glx</th>\n",
       "      <th>gly</th>\n",
       "      <th>glz</th>\n",
       "      <th>arx</th>\n",
       "      <th>ary</th>\n",
       "      <th>arz</th>\n",
       "      <th>grx</th>\n",
       "      <th>gry</th>\n",
       "      <th>grz</th>\n",
       "      <th>Activity</th>\n",
       "      <th>subject</th>\n",
       "    </tr>\n",
       "  </thead>\n",
       "  <tbody>\n",
       "    <tr>\n",
       "      <th>0</th>\n",
       "      <td>2.1849</td>\n",
       "      <td>-9.6967</td>\n",
       "      <td>0.63077</td>\n",
       "      <td>0.103900</td>\n",
       "      <td>-0.84053</td>\n",
       "      <td>-0.68762</td>\n",
       "      <td>-8.6499</td>\n",
       "      <td>-4.5781</td>\n",
       "      <td>0.187760</td>\n",
       "      <td>-0.44902</td>\n",
       "      <td>-1.0103</td>\n",
       "      <td>0.034483</td>\n",
       "      <td>0</td>\n",
       "      <td>subject1</td>\n",
       "    </tr>\n",
       "    <tr>\n",
       "      <th>1</th>\n",
       "      <td>2.3876</td>\n",
       "      <td>-9.5080</td>\n",
       "      <td>0.68389</td>\n",
       "      <td>0.085343</td>\n",
       "      <td>-0.83865</td>\n",
       "      <td>-0.68369</td>\n",
       "      <td>-8.6275</td>\n",
       "      <td>-4.3198</td>\n",
       "      <td>0.023595</td>\n",
       "      <td>-0.44902</td>\n",
       "      <td>-1.0103</td>\n",
       "      <td>0.034483</td>\n",
       "      <td>0</td>\n",
       "      <td>subject1</td>\n",
       "    </tr>\n",
       "    <tr>\n",
       "      <th>2</th>\n",
       "      <td>2.4086</td>\n",
       "      <td>-9.5674</td>\n",
       "      <td>0.68113</td>\n",
       "      <td>0.085343</td>\n",
       "      <td>-0.83865</td>\n",
       "      <td>-0.68369</td>\n",
       "      <td>-8.5055</td>\n",
       "      <td>-4.2772</td>\n",
       "      <td>0.275720</td>\n",
       "      <td>-0.44902</td>\n",
       "      <td>-1.0103</td>\n",
       "      <td>0.034483</td>\n",
       "      <td>0</td>\n",
       "      <td>subject1</td>\n",
       "    </tr>\n",
       "    <tr>\n",
       "      <th>3</th>\n",
       "      <td>2.1814</td>\n",
       "      <td>-9.4301</td>\n",
       "      <td>0.55031</td>\n",
       "      <td>0.085343</td>\n",
       "      <td>-0.83865</td>\n",
       "      <td>-0.68369</td>\n",
       "      <td>-8.6279</td>\n",
       "      <td>-4.3163</td>\n",
       "      <td>0.367520</td>\n",
       "      <td>-0.45686</td>\n",
       "      <td>-1.0082</td>\n",
       "      <td>0.025862</td>\n",
       "      <td>0</td>\n",
       "      <td>subject1</td>\n",
       "    </tr>\n",
       "    <tr>\n",
       "      <th>4</th>\n",
       "      <td>2.4173</td>\n",
       "      <td>-9.3889</td>\n",
       "      <td>0.71098</td>\n",
       "      <td>0.085343</td>\n",
       "      <td>-0.83865</td>\n",
       "      <td>-0.68369</td>\n",
       "      <td>-8.7008</td>\n",
       "      <td>-4.1459</td>\n",
       "      <td>0.407290</td>\n",
       "      <td>-0.45686</td>\n",
       "      <td>-1.0082</td>\n",
       "      <td>0.025862</td>\n",
       "      <td>0</td>\n",
       "      <td>subject1</td>\n",
       "    </tr>\n",
       "  </tbody>\n",
       "</table>\n",
       "</div>"
      ],
      "text/plain": [
       "      alx     aly      alz       glx      gly      glz     arx     ary  \\\n",
       "0  2.1849 -9.6967  0.63077  0.103900 -0.84053 -0.68762 -8.6499 -4.5781   \n",
       "1  2.3876 -9.5080  0.68389  0.085343 -0.83865 -0.68369 -8.6275 -4.3198   \n",
       "2  2.4086 -9.5674  0.68113  0.085343 -0.83865 -0.68369 -8.5055 -4.2772   \n",
       "3  2.1814 -9.4301  0.55031  0.085343 -0.83865 -0.68369 -8.6279 -4.3163   \n",
       "4  2.4173 -9.3889  0.71098  0.085343 -0.83865 -0.68369 -8.7008 -4.1459   \n",
       "\n",
       "        arz      grx     gry       grz  Activity   subject  \n",
       "0  0.187760 -0.44902 -1.0103  0.034483         0  subject1  \n",
       "1  0.023595 -0.44902 -1.0103  0.034483         0  subject1  \n",
       "2  0.275720 -0.44902 -1.0103  0.034483         0  subject1  \n",
       "3  0.367520 -0.45686 -1.0082  0.025862         0  subject1  \n",
       "4  0.407290 -0.45686 -1.0082  0.025862         0  subject1  "
      ]
     },
     "execution_count": 2,
     "metadata": {},
     "output_type": "execute_result"
    }
   ],
   "source": [
    "import os\n",
    "data_path = '/content/drive/My Drive/UofT/AppliedML/Datathon4/dataset/'\n",
    "#source_df = pd.read_csv(data_path + 'Datathon #4 - mhealth Dataset - HAD7001.csv')\n",
    "source_df = pd.read_csv('Datathon #4 - mhealth Dataset - HAD7001.csv')\n",
    "source_df.head()\n"
   ]
  },
  {
   "cell_type": "code",
   "execution_count": null,
   "id": "Rxb14vGNYSCO",
   "metadata": {
    "colab": {
     "base_uri": "https://localhost:8080/"
    },
    "executionInfo": {
     "elapsed": 569,
     "status": "ok",
     "timestamp": 1741491195675,
     "user": {
      "displayName": "nway-lily nus",
      "userId": "14218199843579225004"
     },
     "user_tz": 300
    },
    "id": "Rxb14vGNYSCO",
    "outputId": "e6ed2a0f-3173-49bb-cd69-04242f5d2a15"
   },
   "outputs": [
    {
     "name": "stdout",
     "output_type": "stream",
     "text": [
      "After Renaming\n",
      "Index(['accel_left_x', 'accel_left_y', 'accel_left_z', 'gyro_left_x',\n",
      "       'gyro_left_y', 'gyro_left_z', 'accel_right_x', 'accel_right_y',\n",
      "       'accel_right_z', 'gyro_right_x', 'gyro_right_y', 'gyro_right_z',\n",
      "       'activity', 'subject', 'activity_10_category', 'activity_category'],\n",
      "      dtype='object')\n"
     ]
    }
   ],
   "source": [
    "activity_10_mapping = {\n",
    "    0: \"Resting\", 1: \"Standing still (1 min)\", 2: \"Sitting and relaxing (1 min)\",\n",
    "    3: \"Lying down (1 min)\", 4: \"Walking (1 min)\", 5: \"Climbing stairs (1 min)\",\n",
    "    6: \"Waist bends forward (x20)\", 7: \"Frontal elevation of arms (x20)\",\n",
    "    8: \"Knees bending (crouching) (x20)\", 9: \"Cycling (1 min)\", 10: \"Jogging (1 min)\",\n",
    "    11: \"Running (1 min)\", 12: \"Jump front & back (x20)\" }\n",
    "\n",
    "activity_mapping = {\n",
    "    0: \"Resting\", 1: \"Resting\", 2: \"Resting\", 3: \"Resting\",\n",
    "    4: \"LowIntensityExercise\", 5: \"ModerateIntensityExercise\",\n",
    "    6: \"ModerateIntensityExercise\", 7: \"ModerateIntensityExercise\",\n",
    "    8: \"ModerateIntensityExercise\", 9: \"ModerateIntensityExercise\",\n",
    "    10: \"HighIntensityExercise\", 11: \"HighIntensityExercise\",\n",
    "    12: \"HighIntensityExercise\" }\n",
    "\n",
    "activity_map = {\n",
    "    \"Resting\": 0, \"LowIntensityExercise\": 1, \"ModerateIntensityExercise\": 2, \"HighIntensityExercise\": 3}\n",
    "\n",
    "source_df['activity_10_category'] = source_df['Activity'].map(activity_10_mapping)\n",
    "source_df['activity_category'] = source_df['Activity'].map(activity_mapping)\n",
    "\n",
    "activity_summary = source_df['activity_category'].value_counts()\n",
    "num_subjects = source_df['subject'].nunique()\n",
    "\n",
    "features = [\n",
    "    'accel_left_x', 'accel_left_y', 'accel_left_z', 'gyro_left_x', 'gyro_left_y', 'gyro_left_z',\n",
    "    'accel_right_x', 'accel_right_y', 'accel_right_z', 'gyro_right_x', 'gyro_right_y', 'gyro_right_z' ]\n",
    "\n",
    "column_names = features +  [ \"activity\", \"subject\", \"activity_10_category\", \"activity_category\"]\n",
    "\n",
    "source_df.columns = column_names\n",
    "print(\"After Renaming\")\n",
    "print(source_df.columns)\n",
    "\n",
    "# Drop unnecessay columns ==> just use activity as our first experiment\n",
    "source_df = source_df.drop(columns = ['activity_10_category','activity'])\n",
    "\n",
    "source_df['idx'] = source_df.index\n",
    "result = source_df.groupby([\"subject\", \"activity_category\"])[\"idx\"].agg([\"min\", \"max\"])"
   ]
  },
  {
   "cell_type": "code",
   "execution_count": null,
   "id": "42e5a683-830a-4be0-bf5a-a6108d5dcfd1",
   "metadata": {
    "colab": {
     "base_uri": "https://localhost:8080/",
     "height": 193
    },
    "executionInfo": {
     "elapsed": 63,
     "status": "ok",
     "timestamp": 1741491195745,
     "user": {
      "displayName": "nway-lily nus",
      "userId": "14218199843579225004"
     },
     "user_tz": 300
    },
    "id": "42e5a683-830a-4be0-bf5a-a6108d5dcfd1",
    "outputId": "2d140148-7903-42d9-a08b-22dc8cf90776",
    "scrolled": true
   },
   "outputs": [
    {
     "data": {
      "text/html": [
       "<div>\n",
       "<style scoped>\n",
       "    .dataframe tbody tr th:only-of-type {\n",
       "        vertical-align: middle;\n",
       "    }\n",
       "\n",
       "    .dataframe tbody tr th {\n",
       "        vertical-align: top;\n",
       "    }\n",
       "\n",
       "    .dataframe thead th {\n",
       "        text-align: right;\n",
       "    }\n",
       "</style>\n",
       "<table border=\"1\" class=\"dataframe\">\n",
       "  <thead>\n",
       "    <tr style=\"text-align: right;\">\n",
       "      <th></th>\n",
       "      <th>accel_left_x</th>\n",
       "      <th>accel_left_y</th>\n",
       "      <th>accel_left_z</th>\n",
       "      <th>gyro_left_x</th>\n",
       "      <th>gyro_left_y</th>\n",
       "      <th>gyro_left_z</th>\n",
       "      <th>accel_right_x</th>\n",
       "      <th>accel_right_y</th>\n",
       "      <th>accel_right_z</th>\n",
       "      <th>gyro_right_x</th>\n",
       "      <th>gyro_right_y</th>\n",
       "      <th>gyro_right_z</th>\n",
       "      <th>subject</th>\n",
       "      <th>activity_category</th>\n",
       "      <th>idx</th>\n",
       "    </tr>\n",
       "  </thead>\n",
       "  <tbody>\n",
       "    <tr>\n",
       "      <th>0</th>\n",
       "      <td>2.1849</td>\n",
       "      <td>-9.6967</td>\n",
       "      <td>0.63077</td>\n",
       "      <td>0.103900</td>\n",
       "      <td>-0.84053</td>\n",
       "      <td>-0.68762</td>\n",
       "      <td>-8.6499</td>\n",
       "      <td>-4.5781</td>\n",
       "      <td>0.187760</td>\n",
       "      <td>-0.44902</td>\n",
       "      <td>-1.0103</td>\n",
       "      <td>0.034483</td>\n",
       "      <td>subject1</td>\n",
       "      <td>Resting</td>\n",
       "      <td>0</td>\n",
       "    </tr>\n",
       "    <tr>\n",
       "      <th>1</th>\n",
       "      <td>2.3876</td>\n",
       "      <td>-9.5080</td>\n",
       "      <td>0.68389</td>\n",
       "      <td>0.085343</td>\n",
       "      <td>-0.83865</td>\n",
       "      <td>-0.68369</td>\n",
       "      <td>-8.6275</td>\n",
       "      <td>-4.3198</td>\n",
       "      <td>0.023595</td>\n",
       "      <td>-0.44902</td>\n",
       "      <td>-1.0103</td>\n",
       "      <td>0.034483</td>\n",
       "      <td>subject1</td>\n",
       "      <td>Resting</td>\n",
       "      <td>1</td>\n",
       "    </tr>\n",
       "    <tr>\n",
       "      <th>2</th>\n",
       "      <td>2.4086</td>\n",
       "      <td>-9.5674</td>\n",
       "      <td>0.68113</td>\n",
       "      <td>0.085343</td>\n",
       "      <td>-0.83865</td>\n",
       "      <td>-0.68369</td>\n",
       "      <td>-8.5055</td>\n",
       "      <td>-4.2772</td>\n",
       "      <td>0.275720</td>\n",
       "      <td>-0.44902</td>\n",
       "      <td>-1.0103</td>\n",
       "      <td>0.034483</td>\n",
       "      <td>subject1</td>\n",
       "      <td>Resting</td>\n",
       "      <td>2</td>\n",
       "    </tr>\n",
       "    <tr>\n",
       "      <th>3</th>\n",
       "      <td>2.1814</td>\n",
       "      <td>-9.4301</td>\n",
       "      <td>0.55031</td>\n",
       "      <td>0.085343</td>\n",
       "      <td>-0.83865</td>\n",
       "      <td>-0.68369</td>\n",
       "      <td>-8.6279</td>\n",
       "      <td>-4.3163</td>\n",
       "      <td>0.367520</td>\n",
       "      <td>-0.45686</td>\n",
       "      <td>-1.0082</td>\n",
       "      <td>0.025862</td>\n",
       "      <td>subject1</td>\n",
       "      <td>Resting</td>\n",
       "      <td>3</td>\n",
       "    </tr>\n",
       "  </tbody>\n",
       "</table>\n",
       "</div>"
      ],
      "text/plain": [
       "   accel_left_x  accel_left_y  accel_left_z  gyro_left_x  gyro_left_y  \\\n",
       "0        2.1849       -9.6967       0.63077     0.103900     -0.84053   \n",
       "1        2.3876       -9.5080       0.68389     0.085343     -0.83865   \n",
       "2        2.4086       -9.5674       0.68113     0.085343     -0.83865   \n",
       "3        2.1814       -9.4301       0.55031     0.085343     -0.83865   \n",
       "\n",
       "   gyro_left_z  accel_right_x  accel_right_y  accel_right_z  gyro_right_x  \\\n",
       "0     -0.68762        -8.6499        -4.5781       0.187760      -0.44902   \n",
       "1     -0.68369        -8.6275        -4.3198       0.023595      -0.44902   \n",
       "2     -0.68369        -8.5055        -4.2772       0.275720      -0.44902   \n",
       "3     -0.68369        -8.6279        -4.3163       0.367520      -0.45686   \n",
       "\n",
       "   gyro_right_y  gyro_right_z   subject activity_category  idx  \n",
       "0       -1.0103      0.034483  subject1           Resting    0  \n",
       "1       -1.0103      0.034483  subject1           Resting    1  \n",
       "2       -1.0103      0.034483  subject1           Resting    2  \n",
       "3       -1.0082      0.025862  subject1           Resting    3  "
      ]
     },
     "execution_count": 4,
     "metadata": {},
     "output_type": "execute_result"
    }
   ],
   "source": [
    "source_df.head(4)"
   ]
  },
  {
   "cell_type": "code",
   "execution_count": null,
   "id": "x87AbEjrgnm-",
   "metadata": {
    "colab": {
     "base_uri": "https://localhost:8080/",
     "height": 238
    },
    "executionInfo": {
     "elapsed": 112,
     "status": "ok",
     "timestamp": 1741491195927,
     "user": {
      "displayName": "nway-lily nus",
      "userId": "14218199843579225004"
     },
     "user_tz": 300
    },
    "id": "x87AbEjrgnm-",
    "outputId": "99a910d3-62a4-4c97-e9ce-6ed4cf44a8e2"
   },
   "outputs": [
    {
     "data": {
      "text/plain": [
       "activity_category\n",
       "Resting                      798576\n",
       "ModerateIntensityExercise    119452\n",
       "HighIntensityExercise         57395\n",
       "LowIntensityExercise          24576\n",
       "Name: count, dtype: int64"
      ]
     },
     "execution_count": 5,
     "metadata": {},
     "output_type": "execute_result"
    }
   ],
   "source": [
    "source_df.activity_category.value_counts()"
   ]
  },
  {
   "cell_type": "code",
   "execution_count": null,
   "id": "XgIszCx0h9lw",
   "metadata": {
    "colab": {
     "base_uri": "https://localhost:8080/",
     "height": 238
    },
    "executionInfo": {
     "elapsed": 45,
     "status": "ok",
     "timestamp": 1741491197412,
     "user": {
      "displayName": "nway-lily nus",
      "userId": "14218199843579225004"
     },
     "user_tz": 300
    },
    "id": "XgIszCx0h9lw",
    "outputId": "86965269-f7b0-4d5c-f7de-012f3e923e79"
   },
   "outputs": [
    {
     "data": {
      "text/plain": [
       "activity\n",
       "0    798576\n",
       "2    119452\n",
       "3     57395\n",
       "1     24576\n",
       "Name: count, dtype: int64"
      ]
     },
     "execution_count": 6,
     "metadata": {},
     "output_type": "execute_result"
    }
   ],
   "source": [
    "source_df['activity'] = source_df['activity_category'].map(activity_map)\n",
    "source_df.activity.value_counts()"
   ]
  },
  {
   "cell_type": "code",
   "execution_count": null,
   "id": "2b336ab6-8578-4b0f-a16f-97f142870d02",
   "metadata": {
    "colab": {
     "base_uri": "https://localhost:8080/"
    },
    "executionInfo": {
     "elapsed": 37,
     "status": "ok",
     "timestamp": 1741491198268,
     "user": {
      "displayName": "nway-lily nus",
      "userId": "14218199843579225004"
     },
     "user_tz": 300
    },
    "id": "2b336ab6-8578-4b0f-a16f-97f142870d02",
    "outputId": "f7e6f513-6775-45fb-fcc4-4222deea785a"
   },
   "outputs": [
    {
     "name": "stdout",
     "output_type": "stream",
     "text": [
      "['subject1' 'subject2' 'subject3' 'subject4' 'subject5' 'subject6'\n",
      " 'subject7' 'subject8' 'subject9']\n"
     ]
    }
   ],
   "source": [
    "#train_df = source_df[~source_df['subject'].isin(['subject5', 'subject6'])]\n",
    "#test_df = source_df[source_df['subject'].isin(['subject5', 'subject6'])]\n",
    "\n",
    "# Get the unique subjects in the dataset\n",
    "unique_subjects = source_df['subject'].unique()\n",
    "print(unique_subjects)\n",
    "\n",
    "#train_ratio = 0.8\n",
    "#val_ratio = 0.1\n",
    "#test_ratio = 0.1\n",
    "\n",
    "#num_train = int(len(unique_subjects) * train_ratio)\n",
    "#num_test = int(len(unique_subjects) * test_ratio)\n",
    "#num_val = int(len(unique_subjects) * val_ratio)\n",
    "#num_train, num_test, num_val\n",
    "\n",
    "def to_tensor(X, y):\n",
    "    return torch.tensor(X, dtype=torch.float32), torch.tensor(y, dtype=torch.long)\n"
   ]
  },
  {
   "cell_type": "markdown",
   "id": "IcZ06yw0ruDr",
   "metadata": {
    "id": "IcZ06yw0ruDr"
   },
   "source": [
    "### We gonna build Cascade Classification\n",
    "\n",
    "- Binaray Classification ( Resting vs Exercises)\n",
    "- Exercies (Low , Moderate, High)"
   ]
  },
  {
   "cell_type": "code",
   "execution_count": null,
   "id": "rMqHl-hxrss6",
   "metadata": {
    "id": "rMqHl-hxrss6"
   },
   "outputs": [],
   "source": [
    "train_subjects = ['subject1', 'subject2', 'subject3', 'subject4', 'subject7', 'subject8' ]\n",
    "val_subjects = ['subject5']\n",
    "test_subjects = ['subject6']\n",
    "\n",
    "def split_bysubs(source_df, train_subjects, val_subjects, test_subjects):\n",
    "    train_df = source_df[source_df['subject'].isin(train_subjects)]\n",
    "    val_df = source_df[source_df['subject'].isin(val_subjects)]\n",
    "    test_df = source_df[source_df['subject'].isin(test_subjects)]\n",
    "    return train_df, val_df, test_df\n",
    "\n",
    "\n",
    "first_step_df = source_df.copy()\n",
    "second_step_df = source_df.copy()\n"
   ]
  },
  {
   "cell_type": "code",
   "execution_count": null,
   "id": "RfTamG_4rmzU",
   "metadata": {
    "colab": {
     "base_uri": "https://localhost:8080/",
     "height": 162
    },
    "executionInfo": {
     "elapsed": 48,
     "status": "ok",
     "timestamp": 1741491199760,
     "user": {
      "displayName": "nway-lily nus",
      "userId": "14218199843579225004"
     },
     "user_tz": 300
    },
    "id": "RfTamG_4rmzU",
    "outputId": "8d4dbd84-c2ac-4d96-f36d-9b63616821db"
   },
   "outputs": [
    {
     "data": {
      "text/html": [
       "<div>\n",
       "<style scoped>\n",
       "    .dataframe tbody tr th:only-of-type {\n",
       "        vertical-align: middle;\n",
       "    }\n",
       "\n",
       "    .dataframe tbody tr th {\n",
       "        vertical-align: top;\n",
       "    }\n",
       "\n",
       "    .dataframe thead th {\n",
       "        text-align: right;\n",
       "    }\n",
       "</style>\n",
       "<table border=\"1\" class=\"dataframe\">\n",
       "  <thead>\n",
       "    <tr style=\"text-align: right;\">\n",
       "      <th></th>\n",
       "      <th>accel_left_x</th>\n",
       "      <th>accel_left_y</th>\n",
       "      <th>accel_left_z</th>\n",
       "      <th>gyro_left_x</th>\n",
       "      <th>gyro_left_y</th>\n",
       "      <th>gyro_left_z</th>\n",
       "      <th>accel_right_x</th>\n",
       "      <th>accel_right_y</th>\n",
       "      <th>accel_right_z</th>\n",
       "      <th>gyro_right_x</th>\n",
       "      <th>gyro_right_y</th>\n",
       "      <th>gyro_right_z</th>\n",
       "      <th>subject</th>\n",
       "      <th>activity_category</th>\n",
       "      <th>idx</th>\n",
       "      <th>activity</th>\n",
       "    </tr>\n",
       "  </thead>\n",
       "  <tbody>\n",
       "    <tr>\n",
       "      <th>0</th>\n",
       "      <td>2.1849</td>\n",
       "      <td>-9.6967</td>\n",
       "      <td>0.63077</td>\n",
       "      <td>0.103900</td>\n",
       "      <td>-0.84053</td>\n",
       "      <td>-0.68762</td>\n",
       "      <td>-8.6499</td>\n",
       "      <td>-4.5781</td>\n",
       "      <td>0.187760</td>\n",
       "      <td>-0.44902</td>\n",
       "      <td>-1.0103</td>\n",
       "      <td>0.034483</td>\n",
       "      <td>subject1</td>\n",
       "      <td>Resting</td>\n",
       "      <td>0</td>\n",
       "      <td>0</td>\n",
       "    </tr>\n",
       "    <tr>\n",
       "      <th>1</th>\n",
       "      <td>2.3876</td>\n",
       "      <td>-9.5080</td>\n",
       "      <td>0.68389</td>\n",
       "      <td>0.085343</td>\n",
       "      <td>-0.83865</td>\n",
       "      <td>-0.68369</td>\n",
       "      <td>-8.6275</td>\n",
       "      <td>-4.3198</td>\n",
       "      <td>0.023595</td>\n",
       "      <td>-0.44902</td>\n",
       "      <td>-1.0103</td>\n",
       "      <td>0.034483</td>\n",
       "      <td>subject1</td>\n",
       "      <td>Resting</td>\n",
       "      <td>1</td>\n",
       "      <td>0</td>\n",
       "    </tr>\n",
       "    <tr>\n",
       "      <th>2</th>\n",
       "      <td>2.4086</td>\n",
       "      <td>-9.5674</td>\n",
       "      <td>0.68113</td>\n",
       "      <td>0.085343</td>\n",
       "      <td>-0.83865</td>\n",
       "      <td>-0.68369</td>\n",
       "      <td>-8.5055</td>\n",
       "      <td>-4.2772</td>\n",
       "      <td>0.275720</td>\n",
       "      <td>-0.44902</td>\n",
       "      <td>-1.0103</td>\n",
       "      <td>0.034483</td>\n",
       "      <td>subject1</td>\n",
       "      <td>Resting</td>\n",
       "      <td>2</td>\n",
       "      <td>0</td>\n",
       "    </tr>\n",
       "  </tbody>\n",
       "</table>\n",
       "</div>"
      ],
      "text/plain": [
       "   accel_left_x  accel_left_y  accel_left_z  gyro_left_x  gyro_left_y  \\\n",
       "0        2.1849       -9.6967       0.63077     0.103900     -0.84053   \n",
       "1        2.3876       -9.5080       0.68389     0.085343     -0.83865   \n",
       "2        2.4086       -9.5674       0.68113     0.085343     -0.83865   \n",
       "\n",
       "   gyro_left_z  accel_right_x  accel_right_y  accel_right_z  gyro_right_x  \\\n",
       "0     -0.68762        -8.6499        -4.5781       0.187760      -0.44902   \n",
       "1     -0.68369        -8.6275        -4.3198       0.023595      -0.44902   \n",
       "2     -0.68369        -8.5055        -4.2772       0.275720      -0.44902   \n",
       "\n",
       "   gyro_right_y  gyro_right_z   subject activity_category  idx  activity  \n",
       "0       -1.0103      0.034483  subject1           Resting    0         0  \n",
       "1       -1.0103      0.034483  subject1           Resting    1         0  \n",
       "2       -1.0103      0.034483  subject1           Resting    2         0  "
      ]
     },
     "execution_count": 9,
     "metadata": {},
     "output_type": "execute_result"
    }
   ],
   "source": [
    "first_step_df.head(3)"
   ]
  },
  {
   "cell_type": "code",
   "execution_count": null,
   "id": "NLK8ncuOub6Z",
   "metadata": {
    "colab": {
     "base_uri": "https://localhost:8080/",
     "height": 238
    },
    "executionInfo": {
     "elapsed": 68,
     "status": "ok",
     "timestamp": 1741491200396,
     "user": {
      "displayName": "nway-lily nus",
      "userId": "14218199843579225004"
     },
     "user_tz": 300
    },
    "id": "NLK8ncuOub6Z",
    "outputId": "d7cb1504-d3ef-489b-e81b-717c5fd32250"
   },
   "outputs": [
    {
     "data": {
      "text/plain": [
       "activity_category\n",
       "Resting                      798576\n",
       "ModerateIntensityExercise    119452\n",
       "HighIntensityExercise         57395\n",
       "LowIntensityExercise          24576\n",
       "Name: count, dtype: int64"
      ]
     },
     "execution_count": 10,
     "metadata": {},
     "output_type": "execute_result"
    }
   ],
   "source": [
    "first_step_df.activity_category.value_counts()"
   ]
  },
  {
   "cell_type": "code",
   "execution_count": null,
   "id": "29NkKA3VuAyv",
   "metadata": {
    "colab": {
     "base_uri": "https://localhost:8080/",
     "height": 176
    },
    "executionInfo": {
     "elapsed": 295,
     "status": "ok",
     "timestamp": 1741491201093,
     "user": {
      "displayName": "nway-lily nus",
      "userId": "14218199843579225004"
     },
     "user_tz": 300
    },
    "id": "29NkKA3VuAyv",
    "outputId": "da95e78f-3f2a-477e-a51a-976ade45a5de"
   },
   "outputs": [
    {
     "data": {
      "image/png": "[encoded data removed]",
      "text/plain": [
       "<Figure size 500x400 with 2 Axes>"
      ]
     },
     "metadata": {},
     "output_type": "display_data"
    }
   ],
   "source": [
    "first_step_df['activity'] = first_step_df['activity_category'].apply(lambda x: 0 if x == 'Resting' else 1)\n",
    "count_per_subject1 = first_step_df.groupby([\"subject\", \"activity\"]).size().unstack(fill_value=0)\n",
    "plt.figure(figsize=(5,4))\n",
    "sns.heatmap(count_per_subject1, annot=True, cmap=\"coolwarm\", fmt=\"d\")\n",
    "plt.xlabel(\"Activity Category\")\n",
    "plt.ylabel(\"Subjects\")\n",
    "plt.title(\"Heatmap of Activity Counts per Subject\")\n",
    "plt.show()"
   ]
  },
  {
   "cell_type": "code",
   "execution_count": null,
   "id": "dbc42e57-0078-4451-aa8c-bbbd733d34b0",
   "metadata": {
    "id": "dbc42e57-0078-4451-aa8c-bbbd733d34b0"
   },
   "outputs": [],
   "source": [
    "def stratified_downsample_ordered(df, time_column):\n",
    "    downsampled_df = pd.DataFrame()\n",
    "\n",
    "    for subject, group in df.groupby(\"subject\"):\n",
    "        activity_counts = group[\"activity\"].value_counts()\n",
    "        min_count = activity_counts.min()  # Find the minority class count\n",
    "\n",
    "        sampled_groups = []\n",
    "        for activity in activity_counts.index:\n",
    "            activity_group = group[group[\"activity\"] == activity].sort_values(time_column)  # Ensure temporal order\n",
    "            if len(activity_group) > min_count:\n",
    "                downsampled_group = activity_group.iloc[:min_count]  # Select first `min_count` elements\n",
    "            else:\n",
    "                downsampled_group = activity_group  # Keep as is if already at min count\n",
    "\n",
    "            sampled_groups.append(downsampled_group)\n",
    "\n",
    "        balanced_subject_df = pd.concat(sampled_groups)\n",
    "        downsampled_df = pd.concat([downsampled_df, balanced_subject_df])\n",
    "\n",
    "    return downsampled_df"
   ]
  },
  {
   "cell_type": "markdown",
   "id": "1e08644b-9a65-4633-bb5c-8290740c8456",
   "metadata": {
    "id": "1e08644b-9a65-4633-bb5c-8290740c8456"
   },
   "source": [
    "### Downsample the data"
   ]
  },
  {
   "cell_type": "code",
   "execution_count": null,
   "id": "da918639-799f-4a3d-a9e7-5f070652974e",
   "metadata": {
    "id": "da918639-799f-4a3d-a9e7-5f070652974e"
   },
   "outputs": [],
   "source": [
    "time_column = \"idx\"#assume index is the timestep\n",
    "first_step_sampled_df = stratified_downsample_ordered(first_step_df, time_column=\"idx\")"
   ]
  },
  {
   "cell_type": "code",
   "execution_count": null,
   "id": "96c548ec-3f14-42b2-a118-94f4f0136f0a",
   "metadata": {
    "id": "96c548ec-3f14-42b2-a118-94f4f0136f0a",
    "outputId": "e93defcc-f6cf-4b3b-9522-a559b64f2aae"
   },
   "outputs": [
    {
     "data": {
      "image/png": "[encoded data removed]",
      "text/plain": [
       "<Figure size 500x400 with 2 Axes>"
      ]
     },
     "metadata": {},
     "output_type": "display_data"
    }
   ],
   "source": [
    "count_per_subject1_ = first_step_sampled_df.groupby([\"subject\", \"activity\"]).size().unstack(fill_value=0)\n",
    "plt.figure(figsize=(5,4))\n",
    "sns.heatmap(count_per_subject1_, annot=True, cmap=\"coolwarm\", fmt=\"d\")\n",
    "plt.xlabel(\"Activity Category\")\n",
    "plt.ylabel(\"Subjects\")\n",
    "plt.title(\"Heatmap of Activity Counts per Subject\")\n",
    "plt.show()"
   ]
  },
  {
   "cell_type": "code",
   "execution_count": null,
   "id": "ogZxC7wJu6vE",
   "metadata": {
    "colab": {
     "base_uri": "https://localhost:8080/",
     "height": 326
    },
    "executionInfo": {
     "elapsed": 185,
     "status": "ok",
     "timestamp": 1741491201490,
     "user": {
      "displayName": "nway-lily nus",
      "userId": "14218199843579225004"
     },
     "user_tz": 300
    },
    "id": "ogZxC7wJu6vE",
    "outputId": "95f5280e-ce6d-4607-c228-e4d5a1fc848b"
   },
   "outputs": [
    {
     "name": "stdout",
     "output_type": "stream",
     "text": [
      "before activity_category\n",
      "Resting                      798576\n",
      "ModerateIntensityExercise    119452\n",
      "HighIntensityExercise         57395\n",
      "LowIntensityExercise          24576\n",
      "Name: count, dtype: int64\n",
      "after\n"
     ]
    },
    {
     "data": {
      "text/plain": [
       "activity_category\n",
       "ModerateIntensityExercise    119452\n",
       "HighIntensityExercise         57395\n",
       "LowIntensityExercise          24576\n",
       "Name: count, dtype: int64"
      ]
     },
     "execution_count": 15,
     "metadata": {},
     "output_type": "execute_result"
    }
   ],
   "source": [
    "print('before', second_step_df['activity_category'].value_counts())\n",
    "second_step_df = second_step_df[~(second_step_df['activity_category'] == 'Resting')]\n",
    "#second_step_df = second_step_df[~(second_step_df['activity_category'].isin(['Resting', 'LowIntensityExercise']))]\n",
    "print('after')\n",
    "second_step_df['activity_category'].value_counts()"
   ]
  },
  {
   "cell_type": "code",
   "execution_count": null,
   "id": "EiHZEFjcDWau",
   "metadata": {
    "colab": {
     "base_uri": "https://localhost:8080/"
    },
    "executionInfo": {
     "elapsed": 8,
     "status": "ok",
     "timestamp": 1741491202365,
     "user": {
      "displayName": "nway-lily nus",
      "userId": "14218199843579225004"
     },
     "user_tz": 300
    },
    "id": "EiHZEFjcDWau",
    "outputId": "8ffe4b55-1dc5-4cfd-9970-9a004865ac99"
   },
   "outputs": [
    {
     "data": {
      "text/plain": [
       "{'Resting': 0,\n",
       " 'LowIntensityExercise': 1,\n",
       " 'ModerateIntensityExercise': 2,\n",
       " 'HighIntensityExercise': 3}"
      ]
     },
     "execution_count": 16,
     "metadata": {},
     "output_type": "execute_result"
    }
   ],
   "source": [
    "activity_map"
   ]
  },
  {
   "cell_type": "code",
   "execution_count": null,
   "id": "C1uf_lsivtdH",
   "metadata": {
    "id": "C1uf_lsivtdH"
   },
   "outputs": [],
   "source": [
    "second_activity_map = {\n",
    "    \"LowIntensityExercise\": 0, \"ModerateIntensityExercise\": 1, \"HighIntensityExercise\": 2}"
   ]
  },
  {
   "cell_type": "code",
   "execution_count": null,
   "id": "MTwGvIduur18",
   "metadata": {
    "colab": {
     "base_uri": "https://localhost:8080/",
     "height": 207
    },
    "executionInfo": {
     "elapsed": 14,
     "status": "ok",
     "timestamp": 1741491203281,
     "user": {
      "displayName": "nway-lily nus",
      "userId": "14218199843579225004"
     },
     "user_tz": 300
    },
    "id": "MTwGvIduur18",
    "outputId": "35e09d3a-97d9-4b1e-8602-c02e505577fe"
   },
   "outputs": [
    {
     "data": {
      "text/plain": [
       "activity\n",
       "1    119452\n",
       "2     57395\n",
       "0     24576\n",
       "Name: count, dtype: int64"
      ]
     },
     "execution_count": 18,
     "metadata": {},
     "output_type": "execute_result"
    }
   ],
   "source": [
    "second_step_df['activity'] = second_step_df['activity_category'].map(second_activity_map) # activity_map\n",
    "second_step_df.activity.value_counts()"
   ]
  },
  {
   "cell_type": "code",
   "execution_count": null,
   "id": "526a2633-9317-4748-8655-d9acb1cce67e",
   "metadata": {
    "id": "526a2633-9317-4748-8655-d9acb1cce67e",
    "outputId": "5bc18884-52d4-4757-fcb4-0497983c6cdc"
   },
   "outputs": [
    {
     "data": {
      "image/png": "[encoded data removed]",
      "text/plain": [
       "<Figure size 500x400 with 2 Axes>"
      ]
     },
     "metadata": {},
     "output_type": "display_data"
    }
   ],
   "source": [
    "count_per_subject2 = second_step_df.groupby([\"subject\", \"activity\"]).size().unstack(fill_value=0)\n",
    "plt.figure(figsize=(5,4))\n",
    "sns.heatmap(count_per_subject2, annot=True, cmap=\"coolwarm\", fmt=\"d\")\n",
    "plt.xlabel(\"Activity Category\")\n",
    "plt.ylabel(\"Subjects\")\n",
    "plt.title(\"Heatmap of Activity Counts per Subject\")\n",
    "plt.show()"
   ]
  },
  {
   "cell_type": "code",
   "execution_count": null,
   "id": "4beb501f-8d86-4aa1-b700-03f019454bf4",
   "metadata": {
    "id": "4beb501f-8d86-4aa1-b700-03f019454bf4",
    "outputId": "30a2eb25-8a27-4436-82af-e5f43798626c"
   },
   "outputs": [
    {
     "data": {
      "image/png": "[encoded data removed]",
      "text/plain": [
       "<Figure size 500x400 with 2 Axes>"
      ]
     },
     "metadata": {},
     "output_type": "display_data"
    }
   ],
   "source": [
    "time_column = \"idx\"#assume index is the timestep\n",
    "second_step_sampled_df = stratified_downsample_ordered(second_step_df, time_column=\"idx\")\n",
    "count_per_subject2_ = second_step_sampled_df.groupby([\"subject\", \"activity\"]).size().unstack(fill_value=0)\n",
    "plt.figure(figsize=(5,4))\n",
    "sns.heatmap(count_per_subject2_, annot=True, cmap=\"coolwarm\", fmt=\"d\")\n",
    "plt.xlabel(\"Activity Category\")\n",
    "plt.ylabel(\"Subjects\")\n",
    "plt.title(\"Heatmap of Activity Counts per Subject\")\n",
    "plt.show()"
   ]
  },
  {
   "cell_type": "code",
   "execution_count": null,
   "id": "YVL7LE2vuiUi",
   "metadata": {
    "colab": {
     "base_uri": "https://localhost:8080/"
    },
    "executionInfo": {
     "elapsed": 4,
     "status": "ok",
     "timestamp": 1741491203901,
     "user": {
      "displayName": "nway-lily nus",
      "userId": "14218199843579225004"
     },
     "user_tz": 300
    },
    "id": "YVL7LE2vuiUi",
    "outputId": "8d9a327b-4df1-47ea-9703-b2587fe2f444"
   },
   "outputs": [
    {
     "data": {
      "text/plain": [
       "((420572, 16), (73728, 16))"
      ]
     },
     "execution_count": 21,
     "metadata": {},
     "output_type": "execute_result"
    }
   ],
   "source": [
    "first_step_sampled_df.shape, second_step_sampled_df.shape"
   ]
  },
  {
   "cell_type": "code",
   "execution_count": null,
   "id": "hB0nN838vA4i",
   "metadata": {
    "id": "hB0nN838vA4i"
   },
   "outputs": [],
   "source": [
    "#first_train_df, first_val_df, first_test_df = split_bysubs(first_step_df, train_subjects, val_subjects, test_subjects)\n",
    "first_train_df, first_val_df, first_test_df = split_bysubs(first_step_sampled_df, train_subjects, val_subjects, test_subjects)\n",
    "\n",
    "\n",
    "second_train_df, second_val_df, second_test_df = split_bysubs(second_step_df, train_subjects, val_subjects, test_subjects)\n",
    "#second_train_df, second_val_df, second_test_df = split_bysubs(second_step_sampled_df, train_subjects, val_subjects, test_subjects)\n",
    "\n",
    "source_df['activity'] =   source_df['activity_category'].map(activity_map)\n",
    "_, _, test_df = split_bysubs(source_df, train_subjects, val_subjects, test_subjects)"
   ]
  },
  {
   "cell_type": "code",
   "execution_count": null,
   "id": "52e58b2a-775f-4483-b792-ae815f850bef",
   "metadata": {
    "id": "52e58b2a-775f-4483-b792-ae815f850bef",
    "outputId": "41ea8393-59dd-4165-e1f2-c39b152ff9f0"
   },
   "outputs": [
    {
     "data": {
      "text/plain": [
       "['accel_left_x',\n",
       " 'accel_left_y',\n",
       " 'accel_left_z',\n",
       " 'gyro_left_x',\n",
       " 'gyro_left_y',\n",
       " 'gyro_left_z',\n",
       " 'accel_right_x',\n",
       " 'accel_right_y',\n",
       " 'accel_right_z',\n",
       " 'gyro_right_x',\n",
       " 'gyro_right_y',\n",
       " 'gyro_right_z']"
      ]
     },
     "execution_count": 23,
     "metadata": {},
     "output_type": "execute_result"
    }
   ],
   "source": [
    "features"
   ]
  },
  {
   "cell_type": "code",
   "execution_count": null,
   "id": "4c5a8153-b815-45be-8d18-0bf21858f47d",
   "metadata": {
    "id": "4c5a8153-b815-45be-8d18-0bf21858f47d",
    "outputId": "59fb485b-99f0-4dff-94ee-0dae82f4c420"
   },
   "outputs": [
    {
     "data": {
      "text/plain": [
       "['accel_left_x_median',\n",
       " 'accel_left_y_median',\n",
       " 'accel_left_z_median',\n",
       " 'gyro_left_x_median',\n",
       " 'gyro_left_y_median',\n",
       " 'gyro_left_z_median',\n",
       " 'accel_right_x_median',\n",
       " 'accel_right_y_median',\n",
       " 'accel_right_z_median',\n",
       " 'gyro_right_x_median',\n",
       " 'gyro_right_y_median',\n",
       " 'gyro_right_z_median']"
      ]
     },
     "execution_count": 24,
     "metadata": {},
     "output_type": "execute_result"
    }
   ],
   "source": [
    "features_median = [f\"{feature}_median\" for feature in features]\n",
    "features_median"
   ]
  },
  {
   "cell_type": "code",
   "execution_count": null,
   "id": "71f1fa02-fd3e-4175-8f23-9baf8e6138e1",
   "metadata": {
    "id": "71f1fa02-fd3e-4175-8f23-9baf8e6138e1"
   },
   "outputs": [],
   "source": [
    "features = [\n",
    "    'accel_left_x', 'accel_left_y', 'accel_left_z', 'gyro_left_x', 'gyro_left_y', 'gyro_left_z',\n",
    "    'accel_right_x', 'accel_right_y', 'accel_right_z', 'gyro_right_x', 'gyro_right_y', 'gyro_right_z' ]\n",
    "features_median = [f\"{feature}_median\" for feature in features]\n",
    "norm_features = ['accel_left_norm', 'accel_right_norm', 'gyro_left_norm', 'gyro_right_norm']\n",
    "# X = features , y = activity\n",
    "\n",
    "def create_windows(df, window_size=100, step_size=50):\n",
    "    sequences, labels = [], []\n",
    "\n",
    "    for subj in df['subject'].unique():\n",
    "        print(f'Processing subject {subj}')\n",
    "        subj_df = df[df['subject'] == subj]\n",
    "\n",
    "        for act in subj_df['activity'].unique():\n",
    "            print(f'  Activity: {act}')\n",
    "            act_df = subj_df[subj_df['activity'] == act].copy()\n",
    "            for feature in features:\n",
    "                act_df[f'{feature}_median'] = act_df[feature].rolling(window=3, min_periods=1).median()\n",
    "\n",
    "            act_df = act_df.dropna()\n",
    "\n",
    "            act_df['accel_left_norm'] = np.sqrt(\n",
    "                act_df['accel_left_x_median']**2 + act_df['accel_left_y_median']**2 + act_df['accel_left_z_median']**2 )\n",
    "\n",
    "            act_df['accel_right_norm'] = np.sqrt(\n",
    "                act_df['accel_right_x_median']**2 + act_df['accel_right_y_median']**2 + act_df['accel_right_z_median']**2 )\n",
    "\n",
    "            act_df['gyro_left_norm'] = np.sqrt(\n",
    "                act_df['gyro_left_x_median']**2 + act_df['gyro_left_y_median']**2 + act_df['gyro_left_z_median']**2)\n",
    "\n",
    "            act_df['gyro_right_norm'] = np.sqrt(\n",
    "                act_df['gyro_right_x_median']**2 + act_df['gyro_right_y_median']**2 + act_df['gyro_right_z_median']**2)\n",
    "\n",
    "            for i in range(0, len(act_df) - window_size + 1, step_size):\n",
    "                window = act_df.iloc[i:i+window_size]\n",
    "                sequences.append(window[features_median + norm_features].values)  # use both norm and median\n",
    "                # sequences.append(window[norm_features].values)  # Dimension reduciton only use Norm\n",
    "\n",
    "                labels.append(act), window\n",
    "    return np.array(sequences), np.array(labels)"
   ]
  },
  {
   "cell_type": "code",
   "execution_count": null,
   "id": "9f5852be-a4fa-4052-91f0-46581b4e3d07",
   "metadata": {
    "id": "9f5852be-a4fa-4052-91f0-46581b4e3d07"
   },
   "outputs": [],
   "source": [
    "#X_train1, y_train1 = create_windows(first_train_df.copy())"
   ]
  },
  {
   "cell_type": "code",
   "execution_count": null,
   "id": "33782b4d-e89b-4c1c-8e25-7d51fdda708c",
   "metadata": {
    "colab": {
     "base_uri": "https://localhost:8080/",
     "height": 100
    },
    "executionInfo": {
     "elapsed": 9238,
     "status": "ok",
     "timestamp": 1741491214243,
     "user": {
      "displayName": "nway-lily nus",
      "userId": "14218199843579225004"
     },
     "user_tz": 300
    },
    "id": "33782b4d-e89b-4c1c-8e25-7d51fdda708c",
    "outputId": "7d13f71e-7a08-4cc4-9980-78284d3a680d",
    "scrolled": true
   },
   "outputs": [
    {
     "name": "stdout",
     "output_type": "stream",
     "text": [
      "Processing subject subject1\n",
      "  Activity: 0\n",
      "  Activity: 1\n",
      "Processing subject subject2\n",
      "  Activity: 0\n",
      "  Activity: 1\n",
      "Processing subject subject3\n",
      "  Activity: 0\n",
      "  Activity: 1\n",
      "Processing subject subject4\n",
      "  Activity: 0\n",
      "  Activity: 1\n",
      "Processing subject subject7\n",
      "  Activity: 0\n",
      "  Activity: 1\n",
      "Processing subject subject8\n",
      "  Activity: 0\n",
      "  Activity: 1\n",
      "Processing subject subject5\n",
      "  Activity: 0\n",
      "  Activity: 1\n",
      "Processing subject subject6\n",
      "  Activity: 0\n",
      "  Activity: 1\n"
     ]
    },
    {
     "data": {
      "text/html": [
       "<div>\n",
       "<style scoped>\n",
       "    .dataframe tbody tr th:only-of-type {\n",
       "        vertical-align: middle;\n",
       "    }\n",
       "\n",
       "    .dataframe tbody tr th {\n",
       "        vertical-align: top;\n",
       "    }\n",
       "\n",
       "    .dataframe thead th {\n",
       "        text-align: right;\n",
       "    }\n",
       "</style>\n",
       "<table border=\"1\" class=\"dataframe\">\n",
       "  <thead>\n",
       "    <tr style=\"text-align: right;\">\n",
       "      <th></th>\n",
       "      <th>accel_left_x</th>\n",
       "      <th>accel_left_y</th>\n",
       "      <th>accel_left_z</th>\n",
       "      <th>gyro_left_x</th>\n",
       "      <th>gyro_left_y</th>\n",
       "      <th>gyro_left_z</th>\n",
       "      <th>accel_right_x</th>\n",
       "      <th>accel_right_y</th>\n",
       "      <th>accel_right_z</th>\n",
       "      <th>gyro_right_x</th>\n",
       "      <th>gyro_right_y</th>\n",
       "      <th>gyro_right_z</th>\n",
       "      <th>subject</th>\n",
       "      <th>activity_category</th>\n",
       "      <th>idx</th>\n",
       "      <th>activity</th>\n",
       "    </tr>\n",
       "  </thead>\n",
       "  <tbody>\n",
       "    <tr>\n",
       "      <th>0</th>\n",
       "      <td>2.1849</td>\n",
       "      <td>-9.6967</td>\n",
       "      <td>0.63077</td>\n",
       "      <td>0.1039</td>\n",
       "      <td>-0.84053</td>\n",
       "      <td>-0.68762</td>\n",
       "      <td>-8.6499</td>\n",
       "      <td>-4.5781</td>\n",
       "      <td>0.18776</td>\n",
       "      <td>-0.44902</td>\n",
       "      <td>-1.0103</td>\n",
       "      <td>0.034483</td>\n",
       "      <td>subject1</td>\n",
       "      <td>Resting</td>\n",
       "      <td>0</td>\n",
       "      <td>0</td>\n",
       "    </tr>\n",
       "  </tbody>\n",
       "</table>\n",
       "</div>"
      ],
      "text/plain": [
       "   accel_left_x  accel_left_y  accel_left_z  gyro_left_x  gyro_left_y  \\\n",
       "0        2.1849       -9.6967       0.63077       0.1039     -0.84053   \n",
       "\n",
       "   gyro_left_z  accel_right_x  accel_right_y  accel_right_z  gyro_right_x  \\\n",
       "0     -0.68762        -8.6499        -4.5781        0.18776      -0.44902   \n",
       "\n",
       "   gyro_right_y  gyro_right_z   subject activity_category  idx  activity  \n",
       "0       -1.0103      0.034483  subject1           Resting    0         0  "
      ]
     },
     "execution_count": 27,
     "metadata": {},
     "output_type": "execute_result"
    }
   ],
   "source": [
    "# Create time windows\n",
    "X_train1, y_train1 = create_windows(first_train_df)\n",
    "X_val1, y_val1 = create_windows(first_val_df)\n",
    "X_test1, y_test1 = create_windows(first_test_df)\n",
    "first_train_df.head(1)"
   ]
  },
  {
   "cell_type": "code",
   "execution_count": null,
   "id": "9a5b8b4e-559e-4281-822d-2ee6b61ce5bc",
   "metadata": {
    "colab": {
     "base_uri": "https://localhost:8080/"
    },
    "executionInfo": {
     "elapsed": 4,
     "status": "ok",
     "timestamp": 1741491214248,
     "user": {
      "displayName": "nway-lily nus",
      "userId": "14218199843579225004"
     },
     "user_tz": 300
    },
    "id": "9a5b8b4e-559e-4281-822d-2ee6b61ce5bc",
    "outputId": "421b91fa-4367-4186-8ab9-a276b3c4bb9f"
   },
   "outputs": [
    {
     "data": {
      "text/plain": [
       "array([ 2.1849    , -9.6967    ,  0.63077   ,  0.1039    , -0.84053   ,\n",
       "       -0.68762   , -8.6499    , -4.5781    ,  0.18776   , -0.44902   ,\n",
       "       -1.0103    ,  0.034483  ,  9.95980169,  9.78851487,  1.09092032,\n",
       "        1.10612573])"
      ]
     },
     "execution_count": 28,
     "metadata": {},
     "output_type": "execute_result"
    }
   ],
   "source": [
    "X_train1[0, 0, :]"
   ]
  },
  {
   "cell_type": "code",
   "execution_count": null,
   "id": "a0bcd4d8-0ad9-45e0-b788-ed5cb387c723",
   "metadata": {
    "id": "a0bcd4d8-0ad9-45e0-b788-ed5cb387c723",
    "outputId": "6ff6afa7-8bd6-4db5-e685-5c66d24ad54b"
   },
   "outputs": [
    {
     "name": "stdout",
     "output_type": "stream",
     "text": [
      "Shapes: (6132, 100, 16) (6132,) (986, 100, 16) (986,) (916, 100, 16) (916,)\n"
     ]
    }
   ],
   "source": [
    "print(\"Shapes:\", X_train1.shape, y_train1.shape, X_val1.shape, y_val1.shape, X_test1.shape, y_test1.shape)"
   ]
  },
  {
   "cell_type": "code",
   "execution_count": null,
   "id": "F_kxMzm9xazg",
   "metadata": {
    "colab": {
     "base_uri": "https://localhost:8080/",
     "height": 100
    },
    "executionInfo": {
     "elapsed": 1564,
     "status": "ok",
     "timestamp": 1741491215824,
     "user": {
      "displayName": "nway-lily nus",
      "userId": "14218199843579225004"
     },
     "user_tz": 300
    },
    "id": "F_kxMzm9xazg",
    "outputId": "f229d33d-f1ff-48b0-b01b-ab45178e7aa0"
   },
   "outputs": [
    {
     "name": "stdout",
     "output_type": "stream",
     "text": [
      "Processing subject subject1\n",
      "  Activity: 0\n",
      "  Activity: 1\n",
      "  Activity: 2\n",
      "Processing subject subject2\n",
      "  Activity: 1\n",
      "  Activity: 0\n",
      "  Activity: 2\n",
      "Processing subject subject3\n",
      "  Activity: 0\n",
      "  Activity: 1\n",
      "  Activity: 2\n",
      "Processing subject subject4\n",
      "  Activity: 1\n",
      "  Activity: 0\n",
      "  Activity: 2\n",
      "Processing subject subject7\n",
      "  Activity: 1\n",
      "  Activity: 0\n",
      "  Activity: 2\n",
      "Processing subject subject8\n",
      "  Activity: 0\n",
      "  Activity: 1\n",
      "  Activity: 2\n",
      "Processing subject subject5\n",
      "  Activity: 0\n",
      "  Activity: 1\n",
      "  Activity: 2\n",
      "Processing subject subject6\n",
      "  Activity: 0\n",
      "  Activity: 1\n",
      "  Activity: 2\n"
     ]
    },
    {
     "data": {
      "text/html": [
       "<div>\n",
       "<style scoped>\n",
       "    .dataframe tbody tr th:only-of-type {\n",
       "        vertical-align: middle;\n",
       "    }\n",
       "\n",
       "    .dataframe tbody tr th {\n",
       "        vertical-align: top;\n",
       "    }\n",
       "\n",
       "    .dataframe thead th {\n",
       "        text-align: right;\n",
       "    }\n",
       "</style>\n",
       "<table border=\"1\" class=\"dataframe\">\n",
       "  <thead>\n",
       "    <tr style=\"text-align: right;\">\n",
       "      <th></th>\n",
       "      <th>accel_left_x</th>\n",
       "      <th>accel_left_y</th>\n",
       "      <th>accel_left_z</th>\n",
       "      <th>gyro_left_x</th>\n",
       "      <th>gyro_left_y</th>\n",
       "      <th>gyro_left_z</th>\n",
       "      <th>accel_right_x</th>\n",
       "      <th>accel_right_y</th>\n",
       "      <th>accel_right_z</th>\n",
       "      <th>gyro_right_x</th>\n",
       "      <th>gyro_right_y</th>\n",
       "      <th>gyro_right_z</th>\n",
       "      <th>subject</th>\n",
       "      <th>activity_category</th>\n",
       "      <th>idx</th>\n",
       "      <th>activity</th>\n",
       "    </tr>\n",
       "  </thead>\n",
       "  <tbody>\n",
       "    <tr>\n",
       "      <th>28160</th>\n",
       "      <td>4.3791</td>\n",
       "      <td>-10.206</td>\n",
       "      <td>0.14805</td>\n",
       "      <td>0.59184</td>\n",
       "      <td>-0.52345</td>\n",
       "      <td>0.48919</td>\n",
       "      <td>-7.0015</td>\n",
       "      <td>-10.089</td>\n",
       "      <td>3.0789</td>\n",
       "      <td>-0.57647</td>\n",
       "      <td>-0.59959</td>\n",
       "      <td>0.75431</td>\n",
       "      <td>subject1</td>\n",
       "      <td>LowIntensityExercise</td>\n",
       "      <td>28160</td>\n",
       "      <td>0</td>\n",
       "    </tr>\n",
       "  </tbody>\n",
       "</table>\n",
       "</div>"
      ],
      "text/plain": [
       "       accel_left_x  accel_left_y  accel_left_z  gyro_left_x  gyro_left_y  \\\n",
       "28160        4.3791       -10.206       0.14805      0.59184     -0.52345   \n",
       "\n",
       "       gyro_left_z  accel_right_x  accel_right_y  accel_right_z  gyro_right_x  \\\n",
       "28160      0.48919        -7.0015        -10.089         3.0789      -0.57647   \n",
       "\n",
       "       gyro_right_y  gyro_right_z   subject     activity_category    idx  \\\n",
       "28160      -0.59959       0.75431  subject1  LowIntensityExercise  28160   \n",
       "\n",
       "       activity  \n",
       "28160         0  "
      ]
     },
     "execution_count": 30,
     "metadata": {},
     "output_type": "execute_result"
    }
   ],
   "source": [
    "# Create time windows\n",
    "X_train2, y_train2 = create_windows(second_train_df)\n",
    "X_val2, y_val2 = create_windows(second_val_df)\n",
    "X_test2, y_test2 = create_windows(second_test_df)\n",
    "second_train_df.head(1)"
   ]
  },
  {
   "cell_type": "code",
   "execution_count": null,
   "id": "KW7dziyfxbHB",
   "metadata": {
    "colab": {
     "base_uri": "https://localhost:8080/"
    },
    "executionInfo": {
     "elapsed": 6,
     "status": "ok",
     "timestamp": 1741491215825,
     "user": {
      "displayName": "nway-lily nus",
      "userId": "14218199843579225004"
     },
     "user_tz": 300
    },
    "id": "KW7dziyfxbHB",
    "outputId": "48c2d20a-c2d4-4b0b-a98e-69b0310406f3"
   },
   "outputs": [
    {
     "data": {
      "text/plain": [
       "array([  4.3791    , -10.206     ,   0.14805   ,   0.59184   ,\n",
       "        -0.52345   ,   0.48919   ,  -7.0015    , -10.089     ,\n",
       "         3.0789    ,  -0.57647   ,  -0.59959   ,   0.75431   ,\n",
       "        11.10679394,  12.66051138,   0.92929077,   1.1228577 ])"
      ]
     },
     "execution_count": 31,
     "metadata": {},
     "output_type": "execute_result"
    }
   ],
   "source": [
    "# Create time windows\n",
    "X_train2[0, 0, :]"
   ]
  },
  {
   "cell_type": "code",
   "execution_count": null,
   "id": "5e7295fa-06c2-4250-8ee7-d340d527a3bc",
   "metadata": {
    "id": "5e7295fa-06c2-4250-8ee7-d340d527a3bc",
    "outputId": "60cdb66a-b898-4a83-c8df-837e225f98fb"
   },
   "outputs": [
    {
     "name": "stdout",
     "output_type": "stream",
     "text": [
      "Shapes: (3048, 100, 16) (3048,) (490, 100, 16) (490,) (455, 100, 16) (455,)\n"
     ]
    }
   ],
   "source": [
    "print(\"Shapes:\", X_train2.shape, y_train2.shape, X_val2.shape, y_val2.shape, X_test2.shape, y_test2.shape)"
   ]
  },
  {
   "cell_type": "code",
   "execution_count": null,
   "id": "L3c00YMA9mkJ",
   "metadata": {
    "id": "L3c00YMA9mkJ"
   },
   "outputs": [],
   "source": [
    "parcel1 = (X_train1, y_train1, X_val1, y_val1, X_test1, y_test1)\n",
    "parcel2 = (X_train2, y_train2, X_val2, y_val2, X_test2, y_test2)"
   ]
  },
  {
   "cell_type": "code",
   "execution_count": null,
   "id": "8dec995b-2813-4886-ae5b-c8aba396e1f1",
   "metadata": {
    "colab": {
     "base_uri": "https://localhost:8080/",
     "height": 564
    },
    "executionInfo": {
     "elapsed": 821,
     "status": "ok",
     "timestamp": 1741491216645,
     "user": {
      "displayName": "nway-lily nus",
      "userId": "14218199843579225004"
     },
     "user_tz": 300
    },
    "id": "8dec995b-2813-4886-ae5b-c8aba396e1f1",
    "outputId": "ca008649-7b7b-4644-a946-2951dfa2b1bc"
   },
   "outputs": [
    {
     "data": {
      "image/png": "[encoded data removed]",
      "text/plain": [
       "<Figure size 1200x600 with 1 Axes>"
      ]
     },
     "metadata": {},
     "output_type": "display_data"
    }
   ],
   "source": [
    "plt.figure(figsize=(12, 6))\n",
    "for i, feature in enumerate(features_median):\n",
    "    plt.plot(X_train1[0, :, i], label=feature)  # First sequence, all time steps\n",
    "plt.title(\"First Window of X_train (100 Time Steps)\")\n",
    "plt.xlabel(\"Time Step\")\n",
    "plt.ylabel(\"Sensor Value\")\n",
    "plt.legend()\n",
    "plt.show()"
   ]
  },
  {
   "cell_type": "code",
   "execution_count": null,
   "id": "yRYhAdnn4tf0",
   "metadata": {
    "id": "yRYhAdnn4tf0"
   },
   "outputs": [],
   "source": [
    "\n",
    "from sklearn.utils.class_weight import compute_class_weight\n",
    "from torch.utils.data import DataLoader, TensorDataset\n",
    "from model import *\n",
    "\n",
    "def get_best_device():\n",
    "    if torch.cuda.is_available():\n",
    "        return torch.device(\"cuda\")\n",
    "    elif torch.backends.mps.is_available():\n",
    "        return torch.device(\"mps\")\n",
    "    else:\n",
    "        return torch.device(\"cpu\")\n",
    "\n",
    "\n",
    "def train_model(parcel , model_type='EnhancedLSTM',\n",
    "                 hidden_size=64, learning_rate=0.001, weight_decay=1e-4, num_epochs=30, patience=7, batch_size=8):\n",
    "    device = get_best_device()\n",
    "    print(f\"Using device: {device}\")\n",
    "    X_train, y_train, X_val, y_val, X_test, y_test = parcel\n",
    "    encoder = LabelEncoder()\n",
    "    y_train_enc = encoder.fit_transform(y_train)\n",
    "    y_val_enc = encoder.transform(y_val)\n",
    "    y_test_enc = encoder.transform(y_test)\n",
    "\n",
    "    scaler = StandardScaler()\n",
    "    X_train = scaler.fit_transform(X_train.reshape(-1, X_train.shape[-1])).reshape(X_train.shape)\n",
    "    X_val = scaler.transform(X_val.reshape(-1, X_val.shape[-1])).reshape(X_val.shape)\n",
    "    X_test = scaler.transform(X_test.reshape(-1, X_test.shape[-1])).reshape(X_test.shape)\n",
    "\n",
    "    X_train_t, y_train_t = to_tensor(X_train, y_train_enc)\n",
    "    X_val_t, y_val_t = to_tensor(X_val, y_val_enc)\n",
    "    X_test_t, y_test_t = to_tensor(X_test, y_test_enc)\n",
    "\n",
    "    # Verify the split\n",
    "    print(f\"Train Subjects: {train_subjects}\")\n",
    "    print(f\"Validation Subjects: {val_subjects}\")\n",
    "    print(f\"Test Subjects: {test_subjects}\")\n",
    "    # (num_samples, window_size, num_features)\n",
    "    print(f\"Train shape: {X_train_t.shape}, Validation shape: {X_val_t.shape}, Test shape: {X_test_t.shape}\")\n",
    "\n",
    "    train_dataset = TensorDataset(X_train_t, y_train_t)\n",
    "    val_dataset = TensorDataset(X_val_t, y_val_t)\n",
    "    test_dataset = TensorDataset(X_test_t, y_test_t)\n",
    "\n",
    "    train_loader = DataLoader(train_dataset, batch_size=batch_size, shuffle=False)#don't suffle timeseries data\n",
    "    val_loader = DataLoader(val_dataset, batch_size=batch_size, shuffle=False)\n",
    "    test_loader = DataLoader(test_dataset, batch_size=batch_size, shuffle=False)\n",
    "\n",
    "    input_size = X_train_t.shape[-1]\n",
    "    num_classes = len(encoder.classes_)\n",
    "\n",
    "    weights = compute_class_weight('balanced', classes=np.unique(y_train_enc), y=y_train_enc)\n",
    "    weights = torch.tensor(weights, dtype=torch.float32)\n",
    "\n",
    "    if model_type == 'EnhancedLSTM':\n",
    "        model = EnhancedLSTMNet(input_size, hidden_size, num_classes)\n",
    "    elif model_type == 'LSTM':\n",
    "        model = LSTMNet(input_size, hidden_size, num_classes)\n",
    "    else:\n",
    "        model = RNNNet(input_size, hidden_size, num_classes)\n",
    "\n",
    "    criterion = nn.CrossEntropyLoss(weight=weights)\n",
    "    optimizer = optim.Adam(model.parameters(), lr=learning_rate, weight_decay=weight_decay)\n",
    "    scheduler = optim.lr_scheduler.ReduceLROnPlateau(optimizer, factor=0.5, patience=2)\n",
    "\n",
    "\n",
    "    train_losses, val_losses, train_accuracies, val_accuracies = [], [], [], []\n",
    "    best_loss = float(\"inf\")\n",
    "    trigger = 0\n",
    "\n",
    "    for epoch in range(num_epochs):\n",
    "      model.train() # trainign\n",
    "      epoch_train_loss , correct_train , total_train = 0, 0, 0\n",
    "\n",
    "\n",
    "      for X_batch, y_batch in train_loader:\n",
    "          optimizer.zero_grad()\n",
    "          outputs = model(X_batch)\n",
    "          loss = criterion(outputs, y_batch)\n",
    "          loss.backward()\n",
    "          optimizer.step()\n",
    "\n",
    "          epoch_train_loss += loss.item()\n",
    "          _, predicted = torch.max(outputs.data, 1)\n",
    "          total_train += y_batch.size(0)\n",
    "          correct_train += (predicted == y_batch).sum().item()\n",
    "\n",
    "      epoch_train_loss /= len(train_loader)\n",
    "      epoch_train_acc = 100 * correct_train / total_train\n",
    "\n",
    "      model.eval() # validation\n",
    "      epoch_val_loss, correct_val, total_val = 0, 0, 0\n",
    "\n",
    "      with torch.no_grad():\n",
    "          for X_batch, y_batch in val_loader:\n",
    "              val_out = model(X_batch)\n",
    "              val_loss = criterion(val_out, y_batch)\n",
    "              epoch_val_loss += val_loss.item()\n",
    "              _, predicted = torch.max(val_out.data, 1)\n",
    "              total_val += y_batch.size(0)\n",
    "              correct_val += (predicted == y_batch).sum().item()\n",
    "\n",
    "      epoch_val_loss /= len(val_loader)\n",
    "      epoch_val_acc = 100 * correct_val / total_val\n",
    "\n",
    "      train_losses.append(epoch_train_loss)\n",
    "      val_losses.append(epoch_val_loss)\n",
    "      train_accuracies.append(epoch_train_acc)\n",
    "      val_accuracies.append(epoch_val_acc)\n",
    "\n",
    "      print(f\"Epoch {epoch+1}: train_loss={epoch_train_loss:.4f}, train_acc={epoch_train_acc:.2f}%, \"\n",
    "          f\"val_loss={epoch_val_loss:.4f}, val_acc={epoch_val_acc:.2f}%, \"\n",
    "          f\"lr={optimizer.param_groups[0]['lr']:.6f}\")\n",
    "\n",
    "      scheduler.step(epoch_val_loss)#scheduler with validation loss\n",
    "\n",
    "      if epoch_val_loss < best_loss: # early stop\n",
    "          best_loss = epoch_val_loss\n",
    "          trigger = 0\n",
    "          torch.save(model.state_dict(), \"best_model.pth\")  # Save best model\n",
    "\n",
    "      else:\n",
    "          trigger += 1\n",
    "          if trigger > patience:\n",
    "              print(f\"Early stopping at epoch {epoch+1}\")\n",
    "              break\n",
    "\n",
    "    model.load_state_dict(torch.load(\"best_model.pth\")) # load the bes t model\n",
    "    model.eval()\n",
    "\n",
    "    all_preds, all_labels = [], []\n",
    "    with torch.no_grad():\n",
    "        for X_batch, y_batch in test_loader:\n",
    "            preds = model(X_batch).argmax(dim=1).cpu().numpy()\n",
    "            labels = y_batch.cpu().numpy()\n",
    "            all_preds.extend(preds)\n",
    "            all_labels.extend(labels)\n",
    "        print(len(all_preds), len(all_preds))\n",
    "\n",
    "\n",
    "    rresult = (test_loader, all_preds, all_labels)\n",
    "\n",
    "    report = classification_report(all_labels, all_preds, target_names=[f\"Class {i}\" for i in range(num_classes)], output_dict=True)\n",
    "    pred_df = pd.DataFrame(report).transpose()\n",
    "\n",
    "    plt.figure(figsize=(10, 8))\n",
    "    sns.heatmap(pred_df.iloc[:-1, :-1], annot=True, cmap=\"YlGnBu\", fmt=\".2f\", vmin=0, vmax=1)\n",
    "    plt.title(\"Classification Report Heatmap\")\n",
    "    plt.show()\n",
    "\n",
    "    results_dict = {\n",
    "    'train_losses': train_losses,\n",
    "    'val_losses': val_losses,\n",
    "    'train_accuracies': train_accuracies,\n",
    "    'val_accuracies': val_accuracies\n",
    "    }\n",
    "    return model, rresult , results_dict, report"
   ]
  },
  {
   "cell_type": "code",
   "execution_count": null,
   "id": "qjv-iLxo9pii",
   "metadata": {
    "colab": {
     "base_uri": "https://localhost:8080/",
     "height": 1000
    },
    "executionInfo": {
     "elapsed": 532578,
     "status": "ok",
     "timestamp": 1741491749234,
     "user": {
      "displayName": "nway-lily nus",
      "userId": "14218199843579225004"
     },
     "user_tz": 300
    },
    "id": "qjv-iLxo9pii",
    "outputId": "fa09109a-cd68-4c75-8ee0-8e0cd7c9e38b",
    "scrolled": true
   },
   "outputs": [
    {
     "name": "stdout",
     "output_type": "stream",
     "text": [
      "Using device: mps\n",
      "Train Subjects: ['subject1', 'subject2', 'subject3', 'subject4', 'subject7', 'subject8']\n",
      "Validation Subjects: ['subject5']\n",
      "Test Subjects: ['subject6']\n",
      "Train shape: torch.Size([6132, 100, 16]), Validation shape: torch.Size([986, 100, 16]), Test shape: torch.Size([916, 100, 16])\n",
      "Epoch 1: train_loss=0.9288, train_acc=60.08%, val_loss=0.7223, val_acc=50.00%, lr=0.010000\n",
      "Epoch 2: train_loss=0.7475, train_acc=41.83%, val_loss=2.0077, val_acc=50.00%, lr=0.010000\n",
      "Epoch 3: train_loss=0.7831, train_acc=54.24%, val_loss=0.7212, val_acc=50.00%, lr=0.010000\n",
      "Epoch 4: train_loss=1.0182, train_acc=57.44%, val_loss=0.9380, val_acc=59.13%, lr=0.010000\n",
      "Epoch 5: train_loss=0.7975, train_acc=47.93%, val_loss=0.8781, val_acc=50.00%, lr=0.010000\n",
      "Epoch 6: train_loss=0.7857, train_acc=44.77%, val_loss=0.7715, val_acc=50.00%, lr=0.010000\n",
      "Epoch 7: train_loss=0.7237, train_acc=39.50%, val_loss=0.6198, val_acc=50.00%, lr=0.005000\n",
      "Epoch 8: train_loss=0.6413, train_acc=51.78%, val_loss=0.5991, val_acc=63.69%, lr=0.005000\n",
      "Epoch 9: train_loss=0.6740, train_acc=64.33%, val_loss=0.5963, val_acc=63.89%, lr=0.005000\n",
      "Epoch 10: train_loss=0.6432, train_acc=58.77%, val_loss=0.6016, val_acc=63.39%, lr=0.005000\n",
      "Epoch 11: train_loss=0.6777, train_acc=56.26%, val_loss=0.6147, val_acc=50.10%, lr=0.005000\n",
      "Epoch 12: train_loss=0.6161, train_acc=51.21%, val_loss=0.5914, val_acc=59.03%, lr=0.005000\n",
      "Epoch 13: train_loss=0.5856, train_acc=54.88%, val_loss=0.5353, val_acc=60.95%, lr=0.005000\n",
      "Epoch 14: train_loss=0.6019, train_acc=58.02%, val_loss=1.6660, val_acc=67.44%, lr=0.005000\n",
      "Epoch 15: train_loss=0.6028, train_acc=61.92%, val_loss=0.5325, val_acc=59.03%, lr=0.005000\n",
      "Epoch 16: train_loss=0.5698, train_acc=67.79%, val_loss=5.0252, val_acc=68.56%, lr=0.005000\n",
      "Epoch 17: train_loss=0.6837, train_acc=60.09%, val_loss=0.5622, val_acc=61.05%, lr=0.005000\n",
      "Epoch 18: train_loss=0.6024, train_acc=49.01%, val_loss=0.5231, val_acc=61.66%, lr=0.005000\n",
      "Epoch 19: train_loss=0.5705, train_acc=56.54%, val_loss=0.6093, val_acc=59.43%, lr=0.005000\n",
      "Epoch 20: train_loss=0.6918, train_acc=55.32%, val_loss=0.5635, val_acc=70.79%, lr=0.005000\n",
      "Epoch 21: train_loss=0.6274, train_acc=60.05%, val_loss=0.5367, val_acc=70.89%, lr=0.005000\n",
      "Epoch 22: train_loss=0.5695, train_acc=57.39%, val_loss=0.4458, val_acc=71.40%, lr=0.002500\n",
      "Epoch 23: train_loss=0.5042, train_acc=62.65%, val_loss=0.4474, val_acc=71.60%, lr=0.002500\n",
      "Epoch 24: train_loss=0.4874, train_acc=68.17%, val_loss=0.4590, val_acc=71.91%, lr=0.002500\n",
      "Epoch 25: train_loss=0.4679, train_acc=71.36%, val_loss=0.5111, val_acc=72.31%, lr=0.002500\n",
      "Epoch 26: train_loss=0.4618, train_acc=73.01%, val_loss=0.4871, val_acc=72.62%, lr=0.001250\n",
      "Epoch 27: train_loss=0.4464, train_acc=74.72%, val_loss=0.4651, val_acc=73.02%, lr=0.001250\n",
      "Epoch 28: train_loss=0.4402, train_acc=75.33%, val_loss=0.4838, val_acc=73.12%, lr=0.001250\n",
      "Epoch 29: train_loss=0.4290, train_acc=76.44%, val_loss=0.4576, val_acc=72.72%, lr=0.000625\n",
      "Epoch 30: train_loss=0.4214, train_acc=76.47%, val_loss=0.4467, val_acc=72.52%, lr=0.000625\n",
      "Epoch 31: train_loss=0.4198, train_acc=76.86%, val_loss=0.4397, val_acc=72.72%, lr=0.000625\n",
      "Epoch 32: train_loss=0.3993, train_acc=77.17%, val_loss=0.4459, val_acc=72.72%, lr=0.000625\n",
      "Epoch 33: train_loss=0.3841, train_acc=76.97%, val_loss=0.4908, val_acc=71.91%, lr=0.000625\n",
      "Epoch 34: train_loss=0.3802, train_acc=77.10%, val_loss=0.3912, val_acc=72.41%, lr=0.000625\n",
      "Epoch 35: train_loss=0.3631, train_acc=78.44%, val_loss=0.4031, val_acc=71.91%, lr=0.000625\n",
      "Epoch 36: train_loss=0.3651, train_acc=78.62%, val_loss=0.3885, val_acc=70.89%, lr=0.000625\n",
      "Epoch 37: train_loss=0.3534, train_acc=79.48%, val_loss=0.3680, val_acc=71.20%, lr=0.000625\n",
      "Epoch 38: train_loss=0.3325, train_acc=81.47%, val_loss=0.3646, val_acc=71.50%, lr=0.000625\n",
      "Epoch 39: train_loss=0.3229, train_acc=82.94%, val_loss=0.3601, val_acc=82.05%, lr=0.000625\n",
      "Epoch 40: train_loss=0.3156, train_acc=83.77%, val_loss=0.3544, val_acc=81.95%, lr=0.000625\n",
      "Epoch 41: train_loss=0.3036, train_acc=84.54%, val_loss=0.3406, val_acc=83.27%, lr=0.000625\n",
      "Epoch 42: train_loss=0.2931, train_acc=86.30%, val_loss=0.3675, val_acc=83.67%, lr=0.000625\n",
      "Epoch 43: train_loss=0.2870, train_acc=86.74%, val_loss=0.3561, val_acc=83.87%, lr=0.000625\n",
      "Epoch 44: train_loss=0.2633, train_acc=88.50%, val_loss=0.3988, val_acc=83.47%, lr=0.000625\n",
      "Epoch 45: train_loss=0.2437, train_acc=90.35%, val_loss=0.3500, val_acc=84.69%, lr=0.000313\n",
      "Epoch 46: train_loss=0.2214, train_acc=91.76%, val_loss=0.3702, val_acc=84.58%, lr=0.000313\n",
      "Epoch 47: train_loss=0.2087, train_acc=92.16%, val_loss=0.3754, val_acc=85.60%, lr=0.000313\n",
      "Epoch 48: train_loss=0.1913, train_acc=92.92%, val_loss=0.3806, val_acc=83.67%, lr=0.000156\n",
      "Epoch 49: train_loss=0.1763, train_acc=93.43%, val_loss=0.3914, val_acc=82.96%, lr=0.000156\n",
      "Epoch 50: train_loss=0.1710, train_acc=93.53%, val_loss=0.4442, val_acc=82.56%, lr=0.000156\n",
      "Epoch 51: train_loss=0.1618, train_acc=94.32%, val_loss=0.4767, val_acc=82.66%, lr=0.000078\n",
      "Epoch 52: train_loss=0.1496, train_acc=94.75%, val_loss=0.5019, val_acc=83.06%, lr=0.000078\n",
      "Early stopping at epoch 52\n",
      "916 916\n"
     ]
    },
    {
     "data": {
      "image/png": "[encoded data removed]",
      "text/plain": [
       "<Figure size 1000x800 with 2 Axes>"
      ]
     },
     "metadata": {},
     "output_type": "display_data"
    }
   ],
   "source": [
    "binary_model, result1, results_dict1, report1   = train_model(parcel1, hidden_size=32, learning_rate=0.01, weight_decay=1e-4, num_epochs=300, patience=10, batch_size=8)"
   ]
  },
  {
   "cell_type": "code",
   "execution_count": null,
   "id": "5560048e-8be9-4042-b89b-4f10d2c7b7b4",
   "metadata": {
    "colab": {
     "base_uri": "https://localhost:8080/",
     "height": 923
    },
    "executionInfo": {
     "elapsed": 15933,
     "status": "ok",
     "timestamp": 1741491765179,
     "user": {
      "displayName": "nway-lily nus",
      "userId": "14218199843579225004"
     },
     "user_tz": 300
    },
    "id": "5560048e-8be9-4042-b89b-4f10d2c7b7b4",
    "outputId": "6ac7eaa2-9edc-4106-be57-fbd94819e1f8"
   },
   "outputs": [
    {
     "name": "stdout",
     "output_type": "stream",
     "text": [
      "Using device: mps\n",
      "Train Subjects: ['subject1', 'subject2', 'subject3', 'subject4', 'subject7', 'subject8']\n",
      "Validation Subjects: ['subject5']\n",
      "Test Subjects: ['subject6']\n",
      "Train shape: torch.Size([3048, 100, 16]), Validation shape: torch.Size([490, 100, 16]), Test shape: torch.Size([455, 100, 16])\n",
      "Epoch 1: train_loss=0.7450, train_acc=78.38%, val_loss=0.5344, val_acc=83.47%, lr=0.001000\n",
      "Epoch 2: train_loss=0.3392, train_acc=85.47%, val_loss=0.1952, val_acc=87.76%, lr=0.001000\n",
      "Epoch 3: train_loss=0.2246, train_acc=90.12%, val_loss=0.1942, val_acc=88.57%, lr=0.001000\n",
      "Epoch 4: train_loss=0.2002, train_acc=95.41%, val_loss=0.1500, val_acc=95.31%, lr=0.001000\n",
      "Epoch 5: train_loss=0.1624, train_acc=96.26%, val_loss=0.0811, val_acc=98.16%, lr=0.001000\n",
      "Epoch 6: train_loss=0.0543, train_acc=99.11%, val_loss=0.0286, val_acc=99.80%, lr=0.001000\n",
      "Epoch 7: train_loss=0.0722, train_acc=98.65%, val_loss=0.2405, val_acc=96.12%, lr=0.001000\n",
      "Epoch 8: train_loss=0.1389, train_acc=97.54%, val_loss=0.0511, val_acc=98.78%, lr=0.001000\n",
      "Epoch 9: train_loss=0.0501, train_acc=99.31%, val_loss=0.0202, val_acc=99.59%, lr=0.001000\n",
      "Epoch 10: train_loss=0.0339, train_acc=99.54%, val_loss=0.0117, val_acc=99.80%, lr=0.001000\n",
      "Epoch 11: train_loss=0.0266, train_acc=99.67%, val_loss=0.0015, val_acc=100.00%, lr=0.001000\n",
      "Epoch 12: train_loss=0.0243, train_acc=99.70%, val_loss=0.0944, val_acc=96.53%, lr=0.001000\n",
      "Epoch 13: train_loss=0.0728, train_acc=98.46%, val_loss=0.2417, val_acc=92.45%, lr=0.001000\n",
      "Epoch 14: train_loss=0.2529, train_acc=93.11%, val_loss=0.4709, val_acc=65.92%, lr=0.001000\n",
      "Epoch 15: train_loss=0.1837, train_acc=94.95%, val_loss=0.2707, val_acc=93.47%, lr=0.000500\n",
      "Epoch 16: train_loss=0.0371, train_acc=100.00%, val_loss=0.2953, val_acc=93.67%, lr=0.000500\n",
      "Epoch 17: train_loss=0.0236, train_acc=99.97%, val_loss=0.3135, val_acc=93.88%, lr=0.000500\n",
      "Epoch 18: train_loss=0.0178, train_acc=100.00%, val_loss=0.3265, val_acc=94.08%, lr=0.000250\n",
      "Epoch 19: train_loss=0.0161, train_acc=100.00%, val_loss=0.3336, val_acc=94.08%, lr=0.000250\n",
      "Epoch 20: train_loss=0.0161, train_acc=100.00%, val_loss=0.3337, val_acc=94.49%, lr=0.000250\n",
      "Epoch 21: train_loss=0.0140, train_acc=100.00%, val_loss=0.3336, val_acc=94.29%, lr=0.000125\n",
      "Epoch 22: train_loss=0.0153, train_acc=100.00%, val_loss=0.3302, val_acc=94.49%, lr=0.000125\n",
      "Early stopping at epoch 22\n",
      "455 455\n"
     ]
    },
    {
     "data": {
      "image/png": "[encoded data removed]",
      "text/plain": [
       "<Figure size 1000x800 with 2 Axes>"
      ]
     },
     "metadata": {},
     "output_type": "display_data"
    }
   ],
   "source": [
    "multiclass_model,result2,  results_dict2, report2 = train_model(parcel2, hidden_size=64, learning_rate=0.001, weight_decay=1e-4, num_epochs=300, patience=10, batch_size=8)"
   ]
  },
  {
   "cell_type": "code",
   "execution_count": null,
   "id": "_7EkcqWohtPt",
   "metadata": {
    "id": "_7EkcqWohtPt"
   },
   "outputs": [],
   "source": [
    "test_loader1, pred1, label1 = result1\n",
    "test_loader2, pred2, label2 = result2"
   ]
  },
  {
   "cell_type": "code",
   "execution_count": null,
   "id": "UzzvhpVfsab4",
   "metadata": {
    "colab": {
     "base_uri": "https://localhost:8080/"
    },
    "executionInfo": {
     "elapsed": 519,
     "status": "ok",
     "timestamp": 1741498509217,
     "user": {
      "displayName": "nway-lily nus",
      "userId": "14218199843579225004"
     },
     "user_tz": 300
    },
    "id": "UzzvhpVfsab4",
    "outputId": "a7e05a0c-f820-4fb1-ef16-9f65e050c5db"
   },
   "outputs": [
    {
     "name": "stdout",
     "output_type": "stream",
     "text": [
      "916 916\n"
     ]
    }
   ],
   "source": [
    "pred1, label1 = [], []\n",
    "with torch.no_grad():\n",
    "    for X_batch, y_batch in test_loader1:\n",
    "        preds = binary_model(X_batch).argmax(dim=1).cpu().numpy()\n",
    "        labels = y_batch.cpu().numpy()\n",
    "        pred1.extend(preds)\n",
    "        label1.extend(labels)\n",
    "    print(len(pred1), len(label1))\n"
   ]
  },
  {
   "cell_type": "code",
   "execution_count": null,
   "id": "XnjRUXoeszR3",
   "metadata": {
    "colab": {
     "base_uri": "https://localhost:8080/"
    },
    "executionInfo": {
     "elapsed": 121,
     "status": "ok",
     "timestamp": 1741498509722,
     "user": {
      "displayName": "nway-lily nus",
      "userId": "14218199843579225004"
     },
     "user_tz": 300
    },
    "id": "XnjRUXoeszR3",
    "outputId": "b4856a02-e893-4efd-ad40-9f90485aa999"
   },
   "outputs": [
    {
     "name": "stdout",
     "output_type": "stream",
     "text": [
      "455 455\n"
     ]
    }
   ],
   "source": [
    "pred2, label2 = [], []\n",
    "with torch.no_grad():\n",
    "    for X_batch, y_batch in test_loader2:\n",
    "        preds = multiclass_model(X_batch).argmax(dim=1).cpu().numpy()\n",
    "        labels = y_batch.cpu().numpy()\n",
    "        pred2.extend(preds)\n",
    "        label2.extend(labels)\n",
    "    print(len(pred2), len(label2))"
   ]
  },
  {
   "cell_type": "code",
   "execution_count": null,
   "id": "4zhsdQwntQNZ",
   "metadata": {
    "colab": {
     "base_uri": "https://localhost:8080/"
    },
    "executionInfo": {
     "elapsed": 32,
     "status": "ok",
     "timestamp": 1741498670451,
     "user": {
      "displayName": "nway-lily nus",
      "userId": "14218199843579225004"
     },
     "user_tz": 300
    },
    "id": "4zhsdQwntQNZ",
    "outputId": "bd4c4f18-4399-4bba-a3e2-ba66f94ba2ed"
   },
   "outputs": [
    {
     "data": {
      "text/plain": [
       "459"
      ]
     },
     "execution_count": 42,
     "metadata": {},
     "output_type": "execute_result"
    }
   ],
   "source": [
    "r1 = pd.DataFrame([label1, pred1]).T\n",
    "\n",
    "r1.columns = ['y_true', 'y_pred']\n",
    "r2 = pd.DataFrame([label2, pred2]).T\n",
    "r2.columns = ['y_true', 'y_pred']\n",
    "r2 = r2+1 # Add 1 to make label consistant ### 2nd multiclass model label should start with 1 instead of 0\n",
    "\n",
    "r1_0 = r1[r1['y_true']==0]\n",
    "r1_1 = r1[r1['y_true']==1]\n",
    "cascade_diff = r1_1.shape[0] - r2.shape[0] ##offset due to timeseries processing\n",
    "r1_1 = r1_1[:-cascade_diff]\n",
    "r1 = pd.concat([r1_0, r1_1])\n",
    "r1 = r1.reset_index(drop=True)\n",
    "offset = r1[r1.y_true==0].shape[0]+1\n",
    "offset"
   ]
  },
  {
   "cell_type": "code",
   "execution_count": null,
   "id": "dfd0c73c-29e1-4911-af44-73f5872f9e83",
   "metadata": {
    "id": "dfd0c73c-29e1-4911-af44-73f5872f9e83",
    "outputId": "2babf63c-3d7d-401c-dadd-51dc6da22aab"
   },
   "outputs": [
    {
     "data": {
      "text/plain": [
       "y_true  y_pred\n",
       "0       0         308\n",
       "1       1         299\n",
       "        0         156\n",
       "0       1         150\n",
       "Name: count, dtype: int64"
      ]
     },
     "execution_count": 43,
     "metadata": {},
     "output_type": "execute_result"
    }
   ],
   "source": [
    "r1.value_counts()"
   ]
  },
  {
   "cell_type": "code",
   "execution_count": null,
   "id": "2ed43ab5-f1b6-4e1b-9f78-5dced6e5b55c",
   "metadata": {
    "id": "2ed43ab5-f1b6-4e1b-9f78-5dced6e5b55c",
    "outputId": "dccb3d15-337b-4f71-ca15-5659b5282159"
   },
   "outputs": [
    {
     "data": {
      "text/plain": [
       "y_true  y_pred\n",
       "2       2         215\n",
       "3       3         142\n",
       "1       1          60\n",
       "2       1          38\n",
       "Name: count, dtype: int64"
      ]
     },
     "execution_count": 44,
     "metadata": {},
     "output_type": "execute_result"
    }
   ],
   "source": [
    "r2.value_counts()"
   ]
  },
  {
   "cell_type": "code",
   "execution_count": null,
   "id": "9c216ca0-a153-4b53-be48-b5c83833efbe",
   "metadata": {
    "id": "9c216ca0-a153-4b53-be48-b5c83833efbe",
    "outputId": "6cb319f9-f2bf-4295-edf0-39a11bb89fbe"
   },
   "outputs": [
    {
     "data": {
      "text/plain": [
       "y_pred\n",
       "0    464\n",
       "1    449\n",
       "Name: count, dtype: int64"
      ]
     },
     "execution_count": 45,
     "metadata": {},
     "output_type": "execute_result"
    }
   ],
   "source": [
    "r1.y_pred.value_counts()"
   ]
  },
  {
   "cell_type": "code",
   "execution_count": null,
   "id": "rxp6rMmOWgzg",
   "metadata": {
    "colab": {
     "base_uri": "https://localhost:8080/"
    },
    "executionInfo": {
     "elapsed": 24,
     "status": "ok",
     "timestamp": 1741498674777,
     "user": {
      "displayName": "nway-lily nus",
      "userId": "14218199843579225004"
     },
     "user_tz": 300
    },
    "id": "rxp6rMmOWgzg",
    "outputId": "52f1877c-a4c8-47f8-cdf2-05c950d3b2d2"
   },
   "outputs": [
    {
     "name": "stdout",
     "output_type": "stream",
     "text": [
      "   y_true  y_pred\n",
      "1     NaN     NaN\n",
      "2     NaN     NaN\n",
      "3     NaN     NaN\n",
      "4     NaN     NaN\n",
      "5     NaN     NaN\n"
     ]
    }
   ],
   "source": [
    "#create placeholder for multiclass prediction\n",
    "ddd = pd.DataFrame({ 'y_true': np.nan,   'y_pred': np.nan   }, index=np.arange(1,offset ))\n",
    "\n",
    "print(ddd.head())\n",
    "dr2 = pd.concat([ddd,r2])\n",
    "dr2 = dr2.reset_index(drop=True)"
   ]
  },
  {
   "cell_type": "code",
   "execution_count": null,
   "id": "N36vwy4lSyja",
   "metadata": {
    "colab": {
     "base_uri": "https://localhost:8080/"
    },
    "executionInfo": {
     "elapsed": 6,
     "status": "ok",
     "timestamp": 1741498676911,
     "user": {
      "displayName": "nway-lily nus",
      "userId": "14218199843579225004"
     },
     "user_tz": 300
    },
    "id": "N36vwy4lSyja",
    "outputId": "8ba46f67-d851-436d-87d5-a640e80808de"
   },
   "outputs": [
    {
     "data": {
      "text/plain": [
       "((913, 2), (913, 2))"
      ]
     },
     "execution_count": 47,
     "metadata": {},
     "output_type": "execute_result"
    }
   ],
   "source": [
    "r1.shape, dr2.shape"
   ]
  },
  {
   "cell_type": "code",
   "execution_count": null,
   "id": "AdczhTXpTJF5",
   "metadata": {
    "id": "AdczhTXpTJF5"
   },
   "outputs": [],
   "source": [
    "r1.to_csv('r1.csv', index=False)\n",
    "dr2.to_csv('dr2.csv', index=False)"
   ]
  },
  {
   "cell_type": "code",
   "execution_count": null,
   "id": "e4YOs6PMT5qb",
   "metadata": {
    "colab": {
     "base_uri": "https://localhost:8080/"
    },
    "executionInfo": {
     "elapsed": 5,
     "status": "ok",
     "timestamp": 1741498682873,
     "user": {
      "displayName": "nway-lily nus",
      "userId": "14218199843579225004"
     },
     "user_tz": 300
    },
    "id": "e4YOs6PMT5qb",
    "outputId": "14f056c4-6013-482d-f275-0e05b5deb40c"
   },
   "outputs": [
    {
     "data": {
      "text/plain": [
       "Index([459, 465, 466, 467, 473, 480, 486, 487, 489, 490,\n",
       "       ...\n",
       "       903, 904, 905, 906, 907, 908, 909, 910, 911, 912],\n",
       "      dtype='int64', length=299)"
      ]
     },
     "execution_count": 49,
     "metadata": {},
     "output_type": "execute_result"
    }
   ],
   "source": [
    "indices_pred_1 = r1[(r1['y_pred'] == 1) & (r1.index >= offset)].index\n",
    "indices_pred_2 = r1[(r1['y_pred'] == 1) & (r1.index < offset)].index\n",
    "indices_pred_1"
   ]
  },
  {
   "cell_type": "code",
   "execution_count": null,
   "id": "nfgRbIyuVezk",
   "metadata": {
    "colab": {
     "base_uri": "https://localhost:8080/"
    },
    "executionInfo": {
     "elapsed": 42,
     "status": "ok",
     "timestamp": 1741498685451,
     "user": {
      "displayName": "nway-lily nus",
      "userId": "14218199843579225004"
     },
     "user_tz": 300
    },
    "id": "nfgRbIyuVezk",
    "outputId": "ea138ee2-0895-4ba9-a101-6482595b567d"
   },
   "outputs": [
    {
     "name": "stdout",
     "output_type": "stream",
     "text": [
      "(150,)\n",
      "(150,)\n"
     ]
    }
   ],
   "source": [
    "print(r1.loc[indices_pred_2, 'y_pred'].shape)\n",
    "num_classes = 3\n",
    "num_indices = len(indices_pred_2)\n",
    "assignments = np.tile([1, 2, 3], num_indices // num_classes + 1)[:num_indices]\n",
    "np.random.shuffle(assignments)\n",
    "print(assignments.shape)\n",
    "r1.loc[indices_pred_2, 'y_pred'] = assignments"
   ]
  },
  {
   "cell_type": "code",
   "execution_count": null,
   "id": "4Vmfgr-qUGLL",
   "metadata": {
    "id": "4Vmfgr-qUGLL"
   },
   "outputs": [],
   "source": [
    "r1.loc[indices_pred_1, 'y_pred'] = dr2.loc[indices_pred_1, 'y_pred']\n",
    "r1.loc[indices_pred_1, 'y_true'] = dr2.loc[indices_pred_1, 'y_true']"
   ]
  },
  {
   "cell_type": "code",
   "execution_count": null,
   "id": "31294294-ccd6-499f-ba89-59ca2e5e460c",
   "metadata": {
    "id": "31294294-ccd6-499f-ba89-59ca2e5e460c"
   },
   "outputs": [],
   "source": [
    "r1.to_csv('Cascade_Training_v3_resut.csv',index=False)"
   ]
  },
  {
   "cell_type": "code",
   "execution_count": null,
   "id": "tB7IAtj1CMJX",
   "metadata": {
    "colab": {
     "base_uri": "https://localhost:8080/",
     "height": 266
    },
    "executionInfo": {
     "elapsed": 21,
     "status": "ok",
     "timestamp": 1741498947742,
     "user": {
      "displayName": "nway-lily nus",
      "userId": "14218199843579225004"
     },
     "user_tz": 300
    },
    "id": "tB7IAtj1CMJX",
    "outputId": "ca34c5e1-d09f-4258-a1f0-5bd0d8629c2e"
   },
   "outputs": [
    {
     "data": {
      "text/html": [
       "<div>\n",
       "<style scoped>\n",
       "    .dataframe tbody tr th:only-of-type {\n",
       "        vertical-align: middle;\n",
       "    }\n",
       "\n",
       "    .dataframe tbody tr th {\n",
       "        vertical-align: top;\n",
       "    }\n",
       "\n",
       "    .dataframe thead th {\n",
       "        text-align: right;\n",
       "    }\n",
       "</style>\n",
       "<table border=\"1\" class=\"dataframe\">\n",
       "  <thead>\n",
       "    <tr style=\"text-align: right;\">\n",
       "      <th></th>\n",
       "      <th>precision</th>\n",
       "      <th>recall</th>\n",
       "      <th>f1-score</th>\n",
       "      <th>support</th>\n",
       "    </tr>\n",
       "  </thead>\n",
       "  <tbody>\n",
       "    <tr>\n",
       "      <th>0</th>\n",
       "      <td>0.663793</td>\n",
       "      <td>0.672489</td>\n",
       "      <td>0.668113</td>\n",
       "      <td>458.000000</td>\n",
       "    </tr>\n",
       "    <tr>\n",
       "      <th>1</th>\n",
       "      <td>0.174757</td>\n",
       "      <td>0.103448</td>\n",
       "      <td>0.129964</td>\n",
       "      <td>174.000000</td>\n",
       "    </tr>\n",
       "    <tr>\n",
       "      <th>2</th>\n",
       "      <td>0.696970</td>\n",
       "      <td>0.766667</td>\n",
       "      <td>0.730159</td>\n",
       "      <td>150.000000</td>\n",
       "    </tr>\n",
       "    <tr>\n",
       "      <th>3</th>\n",
       "      <td>0.723757</td>\n",
       "      <td>1.000000</td>\n",
       "      <td>0.839744</td>\n",
       "      <td>131.000000</td>\n",
       "    </tr>\n",
       "    <tr>\n",
       "      <th>accuracy</th>\n",
       "      <td>0.626506</td>\n",
       "      <td>0.626506</td>\n",
       "      <td>0.626506</td>\n",
       "      <td>0.626506</td>\n",
       "    </tr>\n",
       "    <tr>\n",
       "      <th>macro avg</th>\n",
       "      <td>0.564819</td>\n",
       "      <td>0.635651</td>\n",
       "      <td>0.591995</td>\n",
       "      <td>913.000000</td>\n",
       "    </tr>\n",
       "    <tr>\n",
       "      <th>weighted avg</th>\n",
       "      <td>0.584647</td>\n",
       "      <td>0.626506</td>\n",
       "      <td>0.600372</td>\n",
       "      <td>913.000000</td>\n",
       "    </tr>\n",
       "  </tbody>\n",
       "</table>\n",
       "</div>"
      ],
      "text/plain": [
       "              precision    recall  f1-score     support\n",
       "0              0.663793  0.672489  0.668113  458.000000\n",
       "1              0.174757  0.103448  0.129964  174.000000\n",
       "2              0.696970  0.766667  0.730159  150.000000\n",
       "3              0.723757  1.000000  0.839744  131.000000\n",
       "accuracy       0.626506  0.626506  0.626506    0.626506\n",
       "macro avg      0.564819  0.635651  0.591995  913.000000\n",
       "weighted avg   0.584647  0.626506  0.600372  913.000000"
      ]
     },
     "execution_count": 53,
     "metadata": {},
     "output_type": "execute_result"
    }
   ],
   "source": [
    "result_report = classification_report(r1.y_true,r1.y_pred, output_dict=True , digits = 2)\n",
    "report_df = pd.DataFrame(result_report).transpose()\n",
    "report_df"
   ]
  },
  {
   "cell_type": "code",
   "execution_count": null,
   "id": "t1jDsrAnaUSg",
   "metadata": {
    "colab": {
     "base_uri": "https://localhost:8080/",
     "height": 235
    },
    "executionInfo": {
     "elapsed": 33,
     "status": "ok",
     "timestamp": 1741498882701,
     "user": {
      "displayName": "nway-lily nus",
      "userId": "14218199843579225004"
     },
     "user_tz": 300
    },
    "id": "t1jDsrAnaUSg",
    "outputId": "b7c8d563-e3a9-4aef-f9f8-22a27f866983"
   },
   "outputs": [
    {
     "data": {
      "text/html": [
       "<div>\n",
       "<style scoped>\n",
       "    .dataframe tbody tr th:only-of-type {\n",
       "        vertical-align: middle;\n",
       "    }\n",
       "\n",
       "    .dataframe tbody tr th {\n",
       "        vertical-align: top;\n",
       "    }\n",
       "\n",
       "    .dataframe thead th {\n",
       "        text-align: right;\n",
       "    }\n",
       "</style>\n",
       "<table border=\"1\" class=\"dataframe\">\n",
       "  <thead>\n",
       "    <tr style=\"text-align: right;\">\n",
       "      <th></th>\n",
       "      <th>precision</th>\n",
       "      <th>recall</th>\n",
       "      <th>f1-score</th>\n",
       "      <th>support</th>\n",
       "    </tr>\n",
       "  </thead>\n",
       "  <tbody>\n",
       "    <tr>\n",
       "      <th>1</th>\n",
       "      <td>0.612245</td>\n",
       "      <td>1.000000</td>\n",
       "      <td>0.759494</td>\n",
       "      <td>60.000000</td>\n",
       "    </tr>\n",
       "    <tr>\n",
       "      <th>2</th>\n",
       "      <td>1.000000</td>\n",
       "      <td>0.849802</td>\n",
       "      <td>0.918803</td>\n",
       "      <td>253.000000</td>\n",
       "    </tr>\n",
       "    <tr>\n",
       "      <th>3</th>\n",
       "      <td>1.000000</td>\n",
       "      <td>1.000000</td>\n",
       "      <td>1.000000</td>\n",
       "      <td>142.000000</td>\n",
       "    </tr>\n",
       "    <tr>\n",
       "      <th>accuracy</th>\n",
       "      <td>0.916484</td>\n",
       "      <td>0.916484</td>\n",
       "      <td>0.916484</td>\n",
       "      <td>0.916484</td>\n",
       "    </tr>\n",
       "    <tr>\n",
       "      <th>macro avg</th>\n",
       "      <td>0.870748</td>\n",
       "      <td>0.949934</td>\n",
       "      <td>0.892766</td>\n",
       "      <td>455.000000</td>\n",
       "    </tr>\n",
       "    <tr>\n",
       "      <th>weighted avg</th>\n",
       "      <td>0.948867</td>\n",
       "      <td>0.916484</td>\n",
       "      <td>0.923136</td>\n",
       "      <td>455.000000</td>\n",
       "    </tr>\n",
       "  </tbody>\n",
       "</table>\n",
       "</div>"
      ],
      "text/plain": [
       "              precision    recall  f1-score     support\n",
       "1              0.612245  1.000000  0.759494   60.000000\n",
       "2              1.000000  0.849802  0.918803  253.000000\n",
       "3              1.000000  1.000000  1.000000  142.000000\n",
       "accuracy       0.916484  0.916484  0.916484    0.916484\n",
       "macro avg      0.870748  0.949934  0.892766  455.000000\n",
       "weighted avg   0.948867  0.916484  0.923136  455.000000"
      ]
     },
     "execution_count": 54,
     "metadata": {},
     "output_type": "execute_result"
    }
   ],
   "source": [
    "a = classification_report(r2.y_true,r2.y_pred, output_dict=True , digits = 2)\n",
    "d = pd.DataFrame(a).transpose()\n",
    "d"
   ]
  },
  {
   "cell_type": "code",
   "execution_count": null,
   "id": "sFpWyiWQaysD",
   "metadata": {
    "id": "sFpWyiWQaysD"
   },
   "outputs": [],
   "source": []
  },
  {
   "cell_type": "code",
   "execution_count": null,
   "id": "e2b2c342-2265-4e79-bc99-45da40d84b74",
   "metadata": {
    "id": "e2b2c342-2265-4e79-bc99-45da40d84b74"
   },
   "outputs": [],
   "source": []
  }
 ],
 "metadata": {
  "accelerator": "GPU",
  "colab": {
   "gpuType": "T4",
   "provenance": []
  },
  "kernelspec": {
   "display_name": "Python 3 (ipykernel)",
   "language": "python",
   "name": "python3"
  },
  "language_info": {
   "codemirror_mode": {
    "name": "ipython",
    "version": 3
   },
   "file_extension": ".py",
   "mimetype": "text/x-python",
   "name": "python",
   "nbconvert_exporter": "python",
   "pygments_lexer": "ipython3",
   "version": "3.12.9"
  }
 },
 "nbformat": 4,
 "nbformat_minor": 5
}
